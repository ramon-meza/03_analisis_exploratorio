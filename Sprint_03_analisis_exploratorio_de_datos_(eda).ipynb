{
  "cells": [
    {
      "cell_type": "markdown",
      "metadata": {
        "id": "sZd4J-slQ35i"
      },
      "source": [
        "# ¿Qué vende un coche?\n",
        "\n",
        "Eres un analista en Crankshaft List. Cientos de anuncios gratuitos de vehículos se publican en tu sitio web cada día. Necesitas estudiar los datos recopilados durante los últimos años y determinar qué factores influyen en el precio de un vehículo. \n",
        "\n",
        "Se usan herramientas como matrices de dispersión, matrices de correlación, diagramas de dispersió, histogramas, diccionarios. "
      ]
    },
    {
      "cell_type": "markdown",
      "metadata": {
        "id": "jhOvsSvHQ35j"
      },
      "source": [
        "## Inicialización"
      ]
    },
    {
      "cell_type": "code",
      "execution_count": null,
      "metadata": {
        "id": "qkeGxTRLQ35k"
      },
      "outputs": [],
      "source": [
        "# Cargar todas las librerías\n",
        "import pandas as pd\n",
        "import numpy as np\n",
        "import matplotlib.pyplot as plt \n"
      ]
    },
    {
      "cell_type": "markdown",
      "metadata": {
        "id": "DD6BuwBYQ35l"
      },
      "source": [
        "### Cargar datos"
      ]
    },
    {
      "cell_type": "code",
      "execution_count": null,
      "metadata": {
        "id": "HyuTXEDbQ35l"
      },
      "outputs": [],
      "source": [
        "# Carga el archivo de datos en un DataFrame\n",
        "\n",
        "data= pd.read_csv('/datasets/vehicles_us.csv')"
      ]
    },
    {
      "cell_type": "markdown",
      "metadata": {
        "id": "4ZOZ6gqCQ35m"
      },
      "source": [
        "### Explorar datos iniciales"
      ]
    },
    {
      "cell_type": "markdown",
      "metadata": {
        "id": "XIaobQ4rQ35m"
      },
      "source": [
        "El dataset contiene los siguientes campos:\n",
        "- `price`\n",
        "- `model_year`\n",
        "- `model`\n",
        "- `condition`\n",
        "- `cylinders`\n",
        "- `fuel` — gasolina, diesel, etc.\n",
        "- `odometer` — el millaje del vehículo cuando el anuncio fue publicado\n",
        "- `transmission`\n",
        "- `paint_color`\n",
        "- `is_4wd` — si el vehículo tiene tracción a las 4 ruedas (tipo Booleano)\n",
        "- `date_posted` — la fecha en la que el anuncio fue publicado\n",
        "- `days_listed` — desde la publicación hasta que se elimina\n",
        "\n"
      ]
    },
    {
      "cell_type": "code",
      "execution_count": null,
      "metadata": {
        "id": "LEWRZw2XQ35n",
        "outputId": "aba3a1d6-e631-408e-93c4-00ff60a92c4c"
      },
      "outputs": [
        {
          "name": "stdout",
          "output_type": "stream",
          "text": [
            "<class 'pandas.core.frame.DataFrame'>\n",
            "RangeIndex: 51525 entries, 0 to 51524\n",
            "Data columns (total 13 columns):\n",
            " #   Column        Non-Null Count  Dtype  \n",
            "---  ------        --------------  -----  \n",
            " 0   price         51525 non-null  int64  \n",
            " 1   model_year    47906 non-null  float64\n",
            " 2   model         51525 non-null  object \n",
            " 3   condition     51525 non-null  object \n",
            " 4   cylinders     46265 non-null  float64\n",
            " 5   fuel          51525 non-null  object \n",
            " 6   odometer      43633 non-null  float64\n",
            " 7   transmission  51525 non-null  object \n",
            " 8   type          51525 non-null  object \n",
            " 9   paint_color   42258 non-null  object \n",
            " 10  is_4wd        25572 non-null  float64\n",
            " 11  date_posted   51525 non-null  object \n",
            " 12  days_listed   51525 non-null  int64  \n",
            "dtypes: float64(4), int64(2), object(7)\n",
            "memory usage: 5.1+ MB\n"
          ]
        }
      ],
      "source": [
        "# imprime la información general/resumida sobre el DataFrame\n",
        "\n",
        "data.info()"
      ]
    },
    {
      "cell_type": "code",
      "execution_count": null,
      "metadata": {
        "id": "G9SdNUXxQ35n",
        "outputId": "091b00ab-9de9-4323-afb3-6d5f22f004cb"
      },
      "outputs": [
        {
          "data": {
            "text/html": [
              "<div>\n",
              "<style scoped>\n",
              "    .dataframe tbody tr th:only-of-type {\n",
              "        vertical-align: middle;\n",
              "    }\n",
              "\n",
              "    .dataframe tbody tr th {\n",
              "        vertical-align: top;\n",
              "    }\n",
              "\n",
              "    .dataframe thead th {\n",
              "        text-align: right;\n",
              "    }\n",
              "</style>\n",
              "<table border=\"1\" class=\"dataframe\">\n",
              "  <thead>\n",
              "    <tr style=\"text-align: right;\">\n",
              "      <th></th>\n",
              "      <th>price</th>\n",
              "      <th>model_year</th>\n",
              "      <th>model</th>\n",
              "      <th>condition</th>\n",
              "      <th>cylinders</th>\n",
              "      <th>fuel</th>\n",
              "      <th>odometer</th>\n",
              "      <th>transmission</th>\n",
              "      <th>type</th>\n",
              "      <th>paint_color</th>\n",
              "      <th>is_4wd</th>\n",
              "      <th>date_posted</th>\n",
              "      <th>days_listed</th>\n",
              "    </tr>\n",
              "  </thead>\n",
              "  <tbody>\n",
              "    <tr>\n",
              "      <th>0</th>\n",
              "      <td>9400</td>\n",
              "      <td>2011.0</td>\n",
              "      <td>bmw x5</td>\n",
              "      <td>good</td>\n",
              "      <td>6.0</td>\n",
              "      <td>gas</td>\n",
              "      <td>145000.0</td>\n",
              "      <td>automatic</td>\n",
              "      <td>SUV</td>\n",
              "      <td>NaN</td>\n",
              "      <td>1.0</td>\n",
              "      <td>2018-06-23</td>\n",
              "      <td>19</td>\n",
              "    </tr>\n",
              "    <tr>\n",
              "      <th>1</th>\n",
              "      <td>25500</td>\n",
              "      <td>NaN</td>\n",
              "      <td>ford f-150</td>\n",
              "      <td>good</td>\n",
              "      <td>6.0</td>\n",
              "      <td>gas</td>\n",
              "      <td>88705.0</td>\n",
              "      <td>automatic</td>\n",
              "      <td>pickup</td>\n",
              "      <td>white</td>\n",
              "      <td>1.0</td>\n",
              "      <td>2018-10-19</td>\n",
              "      <td>50</td>\n",
              "    </tr>\n",
              "    <tr>\n",
              "      <th>2</th>\n",
              "      <td>5500</td>\n",
              "      <td>2013.0</td>\n",
              "      <td>hyundai sonata</td>\n",
              "      <td>like new</td>\n",
              "      <td>4.0</td>\n",
              "      <td>gas</td>\n",
              "      <td>110000.0</td>\n",
              "      <td>automatic</td>\n",
              "      <td>sedan</td>\n",
              "      <td>red</td>\n",
              "      <td>NaN</td>\n",
              "      <td>2019-02-07</td>\n",
              "      <td>79</td>\n",
              "    </tr>\n",
              "    <tr>\n",
              "      <th>3</th>\n",
              "      <td>1500</td>\n",
              "      <td>2003.0</td>\n",
              "      <td>ford f-150</td>\n",
              "      <td>fair</td>\n",
              "      <td>8.0</td>\n",
              "      <td>gas</td>\n",
              "      <td>NaN</td>\n",
              "      <td>automatic</td>\n",
              "      <td>pickup</td>\n",
              "      <td>NaN</td>\n",
              "      <td>NaN</td>\n",
              "      <td>2019-03-22</td>\n",
              "      <td>9</td>\n",
              "    </tr>\n",
              "    <tr>\n",
              "      <th>4</th>\n",
              "      <td>14900</td>\n",
              "      <td>2017.0</td>\n",
              "      <td>chrysler 200</td>\n",
              "      <td>excellent</td>\n",
              "      <td>4.0</td>\n",
              "      <td>gas</td>\n",
              "      <td>80903.0</td>\n",
              "      <td>automatic</td>\n",
              "      <td>sedan</td>\n",
              "      <td>black</td>\n",
              "      <td>NaN</td>\n",
              "      <td>2019-04-02</td>\n",
              "      <td>28</td>\n",
              "    </tr>\n",
              "  </tbody>\n",
              "</table>\n",
              "</div>"
            ],
            "text/plain": [
              "   price  model_year           model  condition  cylinders fuel  odometer  \\\n",
              "0   9400      2011.0          bmw x5       good        6.0  gas  145000.0   \n",
              "1  25500         NaN      ford f-150       good        6.0  gas   88705.0   \n",
              "2   5500      2013.0  hyundai sonata   like new        4.0  gas  110000.0   \n",
              "3   1500      2003.0      ford f-150       fair        8.0  gas       NaN   \n",
              "4  14900      2017.0    chrysler 200  excellent        4.0  gas   80903.0   \n",
              "\n",
              "  transmission    type paint_color  is_4wd date_posted  days_listed  \n",
              "0    automatic     SUV         NaN     1.0  2018-06-23           19  \n",
              "1    automatic  pickup       white     1.0  2018-10-19           50  \n",
              "2    automatic   sedan         red     NaN  2019-02-07           79  \n",
              "3    automatic  pickup         NaN     NaN  2019-03-22            9  \n",
              "4    automatic   sedan       black     NaN  2019-04-02           28  "
            ]
          },
          "execution_count": 4,
          "metadata": {},
          "output_type": "execute_result"
        }
      ],
      "source": [
        "# imprimir una muestra de datos\n",
        "data.head()\n"
      ]
    },
    {
      "cell_type": "markdown",
      "metadata": {
        "id": "Hh08fT4QQ35o"
      },
      "source": [
        "Hay 5 columnas donde existen valores ausentes. Se deben tratar para ver si son aleatorios o siguen algun patron."
      ]
    },
    {
      "cell_type": "markdown",
      "metadata": {
        "id": "qBJjzEABQ35o"
      },
      "source": [
        "Las columnas model_year, cylinders y is_4wd tienen valores tipo float cuando deberían ser int y date_posted debe ser cambiado de object a tipo fecha. "
      ]
    },
    {
      "cell_type": "markdown",
      "metadata": {
        "id": "07D2Ca1qQ35o"
      },
      "source": [
        "La columna con mas valores ausentes es la de is_4wd que se refiere a si tiene tracción en las 4 ruedas. "
      ]
    },
    {
      "cell_type": "code",
      "execution_count": null,
      "metadata": {
        "id": "IzJu7G5pQ35o",
        "outputId": "276d0fb3-5736-4a8a-951c-1ff72c5809c4"
      },
      "outputs": [
        {
          "data": {
            "text/plain": [
              "price               0\n",
              "model_year       3619\n",
              "model               0\n",
              "condition           0\n",
              "cylinders        5260\n",
              "fuel                0\n",
              "odometer         7892\n",
              "transmission        0\n",
              "type                0\n",
              "paint_color      9267\n",
              "is_4wd          25953\n",
              "date_posted         0\n",
              "days_listed         0\n",
              "dtype: int64"
            ]
          },
          "execution_count": 5,
          "metadata": {},
          "output_type": "execute_result"
        }
      ],
      "source": [
        "data.isna().sum()"
      ]
    },
    {
      "cell_type": "markdown",
      "metadata": {
        "id": "AGQlGNtfQ35p"
      },
      "source": [
        "\n",
        "<div class=\"alert alert-success\">\n",
        "<b>✔️ Comentario del revisor:</b>\n",
        "    \n",
        "Correcto\n",
        "</div> "
      ]
    },
    {
      "cell_type": "markdown",
      "metadata": {
        "id": "nkmjcCRXQ35p"
      },
      "source": [
        "### Conclusiones y siguientes pasos\n",
        "\n",
        "Empezaré a analizar los datos de la columna is_4wd ya que solo son dos valores los que puede tomar: 1 o 0. Después veré si existe algún patron en las demás columnas que contienen valores ausentes. "
      ]
    },
    {
      "cell_type": "markdown",
      "metadata": {
        "id": "d6WORz8tQ35p"
      },
      "source": [
        "## Tratar los valores ausentes (si hay)"
      ]
    },
    {
      "cell_type": "markdown",
      "metadata": {
        "id": "tW1bG7NMQ35p"
      },
      "source": [
        "**Valores ausentes de la columna is_4wd**"
      ]
    },
    {
      "cell_type": "code",
      "execution_count": null,
      "metadata": {
        "id": "OJl1eawPQ35p",
        "outputId": "769d6660-a68d-4778-affb-364cf77f2618"
      },
      "outputs": [
        {
          "data": {
            "text/plain": [
              "1.0    25572\n",
              "Name: is_4wd, dtype: int64"
            ]
          },
          "execution_count": 6,
          "metadata": {},
          "output_type": "execute_result"
        }
      ],
      "source": [
        "data['is_4wd'].value_counts()"
      ]
    },
    {
      "cell_type": "markdown",
      "metadata": {
        "id": "LfRv2gnbQ35p"
      },
      "source": [
        "Todos los valores no nulos de esta columna son 1, cambiaré los valores ausentes por 0."
      ]
    },
    {
      "cell_type": "code",
      "execution_count": null,
      "metadata": {
        "id": "ZPPEtcT7Q35q"
      },
      "outputs": [],
      "source": [
        "#Se rellenan todos los valores ausentes con 0\n",
        "data['is_4wd']=data['is_4wd'].fillna(0)"
      ]
    },
    {
      "cell_type": "code",
      "execution_count": null,
      "metadata": {
        "id": "dpgbmg48Q35q",
        "outputId": "a15693f4-0c86-4b7c-f9a2-54b8d65e433a"
      },
      "outputs": [
        {
          "data": {
            "text/plain": [
              "dtype('int64')"
            ]
          },
          "execution_count": 8,
          "metadata": {},
          "output_type": "execute_result"
        }
      ],
      "source": [
        "#Se convierten a enteros\n",
        "data['is_4wd']=data['is_4wd'].astype(int)\n",
        "data['is_4wd'].dtypes"
      ]
    },
    {
      "cell_type": "code",
      "execution_count": null,
      "metadata": {
        "id": "CzE-a6LFQ35q",
        "outputId": "68a028ab-95ac-4287-98b4-f7b20f9a7ac2"
      },
      "outputs": [
        {
          "data": {
            "text/plain": [
              "array([1, 0])"
            ]
          },
          "execution_count": 9,
          "metadata": {},
          "output_type": "execute_result"
        }
      ],
      "source": [
        "#Se comprueban los valores\n",
        "data['is_4wd'].unique()"
      ]
    },
    {
      "cell_type": "code",
      "execution_count": null,
      "metadata": {
        "id": "wUtPK_GTQ35q",
        "outputId": "44cc8731-aced-4718-f0d0-92c31d82df6f"
      },
      "outputs": [
        {
          "data": {
            "text/plain": [
              "0"
            ]
          },
          "execution_count": 10,
          "metadata": {},
          "output_type": "execute_result"
        }
      ],
      "source": [
        "#Se comprueba que ya no existan valores ausentes\n",
        "data['is_4wd'].isna().sum()"
      ]
    },
    {
      "cell_type": "markdown",
      "metadata": {
        "id": "iy14nLZzQ35q"
      },
      "source": [
        "**Ahora trabajaré con los valores ausentes de la columna model_year**"
      ]
    },
    {
      "cell_type": "code",
      "execution_count": null,
      "metadata": {
        "id": "iVfbEnRmQ35r",
        "outputId": "70a17a44-d8db-4c64-8c4c-6099a0231f72"
      },
      "outputs": [
        {
          "data": {
            "text/html": [
              "<div>\n",
              "<style scoped>\n",
              "    .dataframe tbody tr th:only-of-type {\n",
              "        vertical-align: middle;\n",
              "    }\n",
              "\n",
              "    .dataframe tbody tr th {\n",
              "        vertical-align: top;\n",
              "    }\n",
              "\n",
              "    .dataframe thead th {\n",
              "        text-align: right;\n",
              "    }\n",
              "</style>\n",
              "<table border=\"1\" class=\"dataframe\">\n",
              "  <thead>\n",
              "    <tr style=\"text-align: right;\">\n",
              "      <th></th>\n",
              "      <th>model_year</th>\n",
              "    </tr>\n",
              "    <tr>\n",
              "      <th>model</th>\n",
              "      <th></th>\n",
              "    </tr>\n",
              "  </thead>\n",
              "  <tbody>\n",
              "    <tr>\n",
              "      <th>acura tl</th>\n",
              "      <td>2007</td>\n",
              "    </tr>\n",
              "    <tr>\n",
              "      <th>bmw x5</th>\n",
              "      <td>2010</td>\n",
              "    </tr>\n",
              "    <tr>\n",
              "      <th>buick enclave</th>\n",
              "      <td>2012</td>\n",
              "    </tr>\n",
              "    <tr>\n",
              "      <th>cadillac escalade</th>\n",
              "      <td>2009</td>\n",
              "    </tr>\n",
              "    <tr>\n",
              "      <th>chevrolet camaro</th>\n",
              "      <td>2013</td>\n",
              "    </tr>\n",
              "    <tr>\n",
              "      <th>...</th>\n",
              "      <td>...</td>\n",
              "    </tr>\n",
              "    <tr>\n",
              "      <th>toyota sienna</th>\n",
              "      <td>2008</td>\n",
              "    </tr>\n",
              "    <tr>\n",
              "      <th>toyota tacoma</th>\n",
              "      <td>2010</td>\n",
              "    </tr>\n",
              "    <tr>\n",
              "      <th>toyota tundra</th>\n",
              "      <td>2009</td>\n",
              "    </tr>\n",
              "    <tr>\n",
              "      <th>volkswagen jetta</th>\n",
              "      <td>2012</td>\n",
              "    </tr>\n",
              "    <tr>\n",
              "      <th>volkswagen passat</th>\n",
              "      <td>2013</td>\n",
              "    </tr>\n",
              "  </tbody>\n",
              "</table>\n",
              "<p>100 rows × 1 columns</p>\n",
              "</div>"
            ],
            "text/plain": [
              "                   model_year\n",
              "model                        \n",
              "acura tl                 2007\n",
              "bmw x5                   2010\n",
              "buick enclave            2012\n",
              "cadillac escalade        2009\n",
              "chevrolet camaro         2013\n",
              "...                       ...\n",
              "toyota sienna            2008\n",
              "toyota tacoma            2010\n",
              "toyota tundra            2009\n",
              "volkswagen jetta         2012\n",
              "volkswagen passat        2013\n",
              "\n",
              "[100 rows x 1 columns]"
            ]
          },
          "execution_count": 11,
          "metadata": {},
          "output_type": "execute_result"
        }
      ],
      "source": [
        "#Voy a sacar la media del año de cada modelo. Transformaré los datos en enteros ya que el año del modelo no puede estar en decimal.\n",
        "\n",
        "datos_model_pivot=data.pivot_table(index='model', values='model_year', aggfunc='median').astype(int)\n",
        "datos_model_pivot"
      ]
    },
    {
      "cell_type": "code",
      "execution_count": null,
      "metadata": {
        "id": "hTcb2GODQ35r"
      },
      "outputs": [],
      "source": [
        "# Creando una función para rellenar los valores ausentes\n",
        "\n",
        "def model_year(row):\n",
        "    model = row['model']\n",
        "    model_year = row['model_year']\n",
        "    \n",
        "    if pd.isna(model_year):\n",
        "        return datos_model_pivot['model_year'][model]\n",
        "    return model_year"
      ]
    },
    {
      "cell_type": "code",
      "execution_count": null,
      "metadata": {
        "id": "N26t7OP9Q35r",
        "outputId": "9a369bab-974c-4fe5-e9a6-6f2a5754ff30"
      },
      "outputs": [
        {
          "data": {
            "text/plain": [
              "2010"
            ]
          },
          "execution_count": 13,
          "metadata": {},
          "output_type": "execute_result"
        }
      ],
      "source": [
        "#Vamos a probar si funciona la función\n",
        "\n",
        "row_values = [np.nan, \"bmw x5\"]\n",
        "row_columns = ['model_year', 'model']\n",
        "row = pd.Series(data=row_values, index=row_columns)\n",
        "model_year(row) "
      ]
    },
    {
      "cell_type": "code",
      "execution_count": null,
      "metadata": {
        "id": "yiA3bh4EQ35r"
      },
      "outputs": [],
      "source": [
        "#Aplicandolo a cada fila\n",
        "\n",
        "data['model_year'] = data.apply(model_year, axis=1)"
      ]
    },
    {
      "cell_type": "code",
      "execution_count": null,
      "metadata": {
        "id": "uwxO4YFSQ35s",
        "outputId": "1025ca16-28f6-480a-d59a-d71c66e751bd"
      },
      "outputs": [
        {
          "data": {
            "text/plain": [
              "0"
            ]
          },
          "execution_count": 15,
          "metadata": {},
          "output_type": "execute_result"
        }
      ],
      "source": [
        "#Comprobando que ya no haya valores ausentes\n",
        "\n",
        "data['model_year'].isna().sum()"
      ]
    },
    {
      "cell_type": "code",
      "execution_count": null,
      "metadata": {
        "id": "7Tr0CSfgQ35s"
      },
      "outputs": [],
      "source": [
        "#Transformamos todos los valores de la columna en enteros\n",
        "data['model_year']=data['model_year'].astype(int)"
      ]
    },
    {
      "cell_type": "code",
      "execution_count": null,
      "metadata": {
        "id": "mp-ZMvCdQ35s",
        "outputId": "bf5ce32c-2b40-469d-e62f-68bc3b614be6"
      },
      "outputs": [
        {
          "data": {
            "text/html": [
              "<div>\n",
              "<style scoped>\n",
              "    .dataframe tbody tr th:only-of-type {\n",
              "        vertical-align: middle;\n",
              "    }\n",
              "\n",
              "    .dataframe tbody tr th {\n",
              "        vertical-align: top;\n",
              "    }\n",
              "\n",
              "    .dataframe thead th {\n",
              "        text-align: right;\n",
              "    }\n",
              "</style>\n",
              "<table border=\"1\" class=\"dataframe\">\n",
              "  <thead>\n",
              "    <tr style=\"text-align: right;\">\n",
              "      <th></th>\n",
              "      <th>price</th>\n",
              "      <th>model_year</th>\n",
              "      <th>model</th>\n",
              "      <th>condition</th>\n",
              "      <th>cylinders</th>\n",
              "      <th>fuel</th>\n",
              "      <th>odometer</th>\n",
              "      <th>transmission</th>\n",
              "      <th>type</th>\n",
              "      <th>paint_color</th>\n",
              "      <th>is_4wd</th>\n",
              "      <th>date_posted</th>\n",
              "      <th>days_listed</th>\n",
              "    </tr>\n",
              "  </thead>\n",
              "  <tbody>\n",
              "    <tr>\n",
              "      <th>0</th>\n",
              "      <td>9400</td>\n",
              "      <td>2011</td>\n",
              "      <td>bmw x5</td>\n",
              "      <td>good</td>\n",
              "      <td>6.0</td>\n",
              "      <td>gas</td>\n",
              "      <td>145000.0</td>\n",
              "      <td>automatic</td>\n",
              "      <td>SUV</td>\n",
              "      <td>NaN</td>\n",
              "      <td>1</td>\n",
              "      <td>2018-06-23</td>\n",
              "      <td>19</td>\n",
              "    </tr>\n",
              "    <tr>\n",
              "      <th>1</th>\n",
              "      <td>25500</td>\n",
              "      <td>2011</td>\n",
              "      <td>ford f-150</td>\n",
              "      <td>good</td>\n",
              "      <td>6.0</td>\n",
              "      <td>gas</td>\n",
              "      <td>88705.0</td>\n",
              "      <td>automatic</td>\n",
              "      <td>pickup</td>\n",
              "      <td>white</td>\n",
              "      <td>1</td>\n",
              "      <td>2018-10-19</td>\n",
              "      <td>50</td>\n",
              "    </tr>\n",
              "    <tr>\n",
              "      <th>2</th>\n",
              "      <td>5500</td>\n",
              "      <td>2013</td>\n",
              "      <td>hyundai sonata</td>\n",
              "      <td>like new</td>\n",
              "      <td>4.0</td>\n",
              "      <td>gas</td>\n",
              "      <td>110000.0</td>\n",
              "      <td>automatic</td>\n",
              "      <td>sedan</td>\n",
              "      <td>red</td>\n",
              "      <td>0</td>\n",
              "      <td>2019-02-07</td>\n",
              "      <td>79</td>\n",
              "    </tr>\n",
              "    <tr>\n",
              "      <th>3</th>\n",
              "      <td>1500</td>\n",
              "      <td>2003</td>\n",
              "      <td>ford f-150</td>\n",
              "      <td>fair</td>\n",
              "      <td>8.0</td>\n",
              "      <td>gas</td>\n",
              "      <td>NaN</td>\n",
              "      <td>automatic</td>\n",
              "      <td>pickup</td>\n",
              "      <td>NaN</td>\n",
              "      <td>0</td>\n",
              "      <td>2019-03-22</td>\n",
              "      <td>9</td>\n",
              "    </tr>\n",
              "    <tr>\n",
              "      <th>4</th>\n",
              "      <td>14900</td>\n",
              "      <td>2017</td>\n",
              "      <td>chrysler 200</td>\n",
              "      <td>excellent</td>\n",
              "      <td>4.0</td>\n",
              "      <td>gas</td>\n",
              "      <td>80903.0</td>\n",
              "      <td>automatic</td>\n",
              "      <td>sedan</td>\n",
              "      <td>black</td>\n",
              "      <td>0</td>\n",
              "      <td>2019-04-02</td>\n",
              "      <td>28</td>\n",
              "    </tr>\n",
              "  </tbody>\n",
              "</table>\n",
              "</div>"
            ],
            "text/plain": [
              "   price  model_year           model  condition  cylinders fuel  odometer  \\\n",
              "0   9400        2011          bmw x5       good        6.0  gas  145000.0   \n",
              "1  25500        2011      ford f-150       good        6.0  gas   88705.0   \n",
              "2   5500        2013  hyundai sonata   like new        4.0  gas  110000.0   \n",
              "3   1500        2003      ford f-150       fair        8.0  gas       NaN   \n",
              "4  14900        2017    chrysler 200  excellent        4.0  gas   80903.0   \n",
              "\n",
              "  transmission    type paint_color  is_4wd date_posted  days_listed  \n",
              "0    automatic     SUV         NaN       1  2018-06-23           19  \n",
              "1    automatic  pickup       white       1  2018-10-19           50  \n",
              "2    automatic   sedan         red       0  2019-02-07           79  \n",
              "3    automatic  pickup         NaN       0  2019-03-22            9  \n",
              "4    automatic   sedan       black       0  2019-04-02           28  "
            ]
          },
          "execution_count": 17,
          "metadata": {},
          "output_type": "execute_result"
        }
      ],
      "source": [
        "#Comprobamos la distribución\n",
        "data.head()"
      ]
    },
    {
      "cell_type": "markdown",
      "metadata": {
        "id": "G8J-zmbGQ35s"
      },
      "source": [
        "**Valores ausentes de la columna cylinders**"
      ]
    },
    {
      "cell_type": "code",
      "execution_count": null,
      "metadata": {
        "id": "AUdWHa23Q35w",
        "outputId": "a6ebc0dc-bc51-4fba-e625-80e0c514c5c1"
      },
      "outputs": [
        {
          "data": {
            "text/plain": [
              "5260"
            ]
          },
          "execution_count": 18,
          "metadata": {},
          "output_type": "execute_result"
        }
      ],
      "source": [
        "data['cylinders'].isna().sum()"
      ]
    },
    {
      "cell_type": "code",
      "execution_count": null,
      "metadata": {
        "id": "xA9m0CFmQ35w",
        "outputId": "8f1d3953-c595-4a7b-c852-7b135024bd2e"
      },
      "outputs": [
        {
          "data": {
            "text/html": [
              "<div>\n",
              "<style scoped>\n",
              "    .dataframe tbody tr th:only-of-type {\n",
              "        vertical-align: middle;\n",
              "    }\n",
              "\n",
              "    .dataframe tbody tr th {\n",
              "        vertical-align: top;\n",
              "    }\n",
              "\n",
              "    .dataframe thead th {\n",
              "        text-align: right;\n",
              "    }\n",
              "</style>\n",
              "<table border=\"1\" class=\"dataframe\">\n",
              "  <thead>\n",
              "    <tr style=\"text-align: right;\">\n",
              "      <th></th>\n",
              "      <th>cylinders</th>\n",
              "      <th>model</th>\n",
              "    </tr>\n",
              "  </thead>\n",
              "  <tbody>\n",
              "    <tr>\n",
              "      <th>51402</th>\n",
              "      <td>NaN</td>\n",
              "      <td>chevrolet silverado 2500hd</td>\n",
              "    </tr>\n",
              "    <tr>\n",
              "      <th>51404</th>\n",
              "      <td>NaN</td>\n",
              "      <td>honda odyssey</td>\n",
              "    </tr>\n",
              "    <tr>\n",
              "      <th>51406</th>\n",
              "      <td>NaN</td>\n",
              "      <td>chevrolet equinox</td>\n",
              "    </tr>\n",
              "    <tr>\n",
              "      <th>51410</th>\n",
              "      <td>NaN</td>\n",
              "      <td>ford focus</td>\n",
              "    </tr>\n",
              "    <tr>\n",
              "      <th>51413</th>\n",
              "      <td>NaN</td>\n",
              "      <td>ram 2500</td>\n",
              "    </tr>\n",
              "    <tr>\n",
              "      <th>51429</th>\n",
              "      <td>NaN</td>\n",
              "      <td>toyota camry</td>\n",
              "    </tr>\n",
              "    <tr>\n",
              "      <th>51442</th>\n",
              "      <td>NaN</td>\n",
              "      <td>ford f150</td>\n",
              "    </tr>\n",
              "    <tr>\n",
              "      <th>51460</th>\n",
              "      <td>NaN</td>\n",
              "      <td>ford fusion</td>\n",
              "    </tr>\n",
              "    <tr>\n",
              "      <th>51477</th>\n",
              "      <td>NaN</td>\n",
              "      <td>acura tl</td>\n",
              "    </tr>\n",
              "    <tr>\n",
              "      <th>51486</th>\n",
              "      <td>NaN</td>\n",
              "      <td>hyundai santa fe</td>\n",
              "    </tr>\n",
              "  </tbody>\n",
              "</table>\n",
              "</div>"
            ],
            "text/plain": [
              "       cylinders                       model\n",
              "51402        NaN  chevrolet silverado 2500hd\n",
              "51404        NaN               honda odyssey\n",
              "51406        NaN           chevrolet equinox\n",
              "51410        NaN                  ford focus\n",
              "51413        NaN                    ram 2500\n",
              "51429        NaN                toyota camry\n",
              "51442        NaN                   ford f150\n",
              "51460        NaN                 ford fusion\n",
              "51477        NaN                    acura tl\n",
              "51486        NaN            hyundai santa fe"
            ]
          },
          "execution_count": 19,
          "metadata": {},
          "output_type": "execute_result"
        }
      ],
      "source": [
        "#Los valores ausentes tienen relación con modelos de autos especificos.\n",
        "data_cylinders=data[['cylinders', 'model']]\n",
        "\n",
        "data_cylinders.sort_values('cylinders').tail(10)"
      ]
    },
    {
      "cell_type": "markdown",
      "metadata": {
        "id": "f9DzBSikQ35w"
      },
      "source": [
        "No podemos utilizar ni la media ni el promedio para rellenar los valores ausentes en la columna cylinders ya que no puede haber número de cilindros decimales y tampoco puede haber 7 cilindros por ejemplo. Así que utilizaremos la moda para cada modelo."
      ]
    },
    {
      "cell_type": "code",
      "execution_count": null,
      "metadata": {
        "id": "n8UnkMLiQ35w",
        "outputId": "c2c72b1c-106f-4527-fd0e-ea1e74e7b1f7"
      },
      "outputs": [
        {
          "data": {
            "text/plain": [
              "model\n",
              "acura tl             6\n",
              "bmw x5               6\n",
              "buick enclave        6\n",
              "cadillac escalade    8\n",
              "chevrolet camaro     6\n",
              "                    ..\n",
              "toyota sienna        6\n",
              "toyota tacoma        6\n",
              "toyota tundra        8\n",
              "volkswagen jetta     4\n",
              "volkswagen passat    4\n",
              "Name: cylinders, Length: 100, dtype: int64"
            ]
          },
          "execution_count": 20,
          "metadata": {},
          "output_type": "execute_result"
        }
      ],
      "source": [
        "#Calculamos la moda para cada modelo\n",
        "data_cyl_mode=data.groupby(['model'])['cylinders'].agg(pd.Series.mode).astype(int)\n",
        "data_cyl_mode"
      ]
    },
    {
      "cell_type": "code",
      "execution_count": null,
      "metadata": {
        "id": "9rC0rrtPQ35w",
        "outputId": "49223c68-8dee-4a34-d355-bfd0041939fc"
      },
      "outputs": [
        {
          "data": {
            "text/plain": [
              "8"
            ]
          },
          "execution_count": 21,
          "metadata": {},
          "output_type": "execute_result"
        }
      ],
      "source": [
        "#Esta es la forma que usaremos para acceder a la moda de cada modelo en nuestra función\n",
        "data_cyl_mode.loc['toyota tundra']\n",
        "#data_cyl_mode['bmw x5']"
      ]
    },
    {
      "cell_type": "code",
      "execution_count": null,
      "metadata": {
        "id": "74G_qYj6Q35x"
      },
      "outputs": [],
      "source": [
        "# Creando una función para rellenar los valores ausentes\n",
        "\n",
        "def cyl_mode(row):\n",
        "    model = row['model']\n",
        "    cylinders = row['cylinders']\n",
        "    \n",
        "    if pd.isna(cylinders):\n",
        "        return data_cyl_mode.loc[model]\n",
        "    return cylinders"
      ]
    },
    {
      "cell_type": "markdown",
      "metadata": {
        "id": "Wva6B3KQQ35x"
      },
      "source": [
        "\n",
        "<div class=\"alert alert-success\">\n",
        "<b>✔️ Comentario del revisor:</b>\n",
        "    \n",
        "Funciona correcto :)\n",
        "</div>"
      ]
    },
    {
      "cell_type": "code",
      "execution_count": null,
      "metadata": {
        "id": "nHEYRaR6Q35x",
        "outputId": "6724421e-09ca-455a-ddc7-e7e20c080a42"
      },
      "outputs": [
        {
          "data": {
            "text/plain": [
              "8"
            ]
          },
          "execution_count": 23,
          "metadata": {},
          "output_type": "execute_result"
        }
      ],
      "source": [
        "#Vamos a probar si funciona la función\n",
        "\n",
        "row_values = [np.nan, 'cadillac escalade']\n",
        "row_columns = ['cylinders', 'model']\n",
        "row = pd.Series(data=row_values, index=row_columns)\n",
        "cyl_mode(row)"
      ]
    },
    {
      "cell_type": "code",
      "execution_count": null,
      "metadata": {
        "id": "EjiKSD8qQ35x"
      },
      "outputs": [],
      "source": [
        "#Aplicandolo a cada fila\n",
        "\n",
        "data['cylinders'] = data.apply(cyl_mode, axis=1)\n"
      ]
    },
    {
      "cell_type": "code",
      "execution_count": null,
      "metadata": {
        "id": "B8GTYQ4zQ35x",
        "outputId": "445dcc10-6e6c-4d18-a723-3d61299b2289"
      },
      "outputs": [
        {
          "data": {
            "text/plain": [
              "0"
            ]
          },
          "execution_count": 25,
          "metadata": {},
          "output_type": "execute_result"
        }
      ],
      "source": [
        "#Revisando que no haya valores ausentes en la columna\n",
        "\n",
        "data['cylinders'].isna().sum()"
      ]
    },
    {
      "cell_type": "code",
      "execution_count": null,
      "metadata": {
        "id": "AtMXsy1nQ35x",
        "outputId": "b7d048c3-f63d-49c9-ef33-2ace24f3d7b9"
      },
      "outputs": [
        {
          "data": {
            "text/html": [
              "<div>\n",
              "<style scoped>\n",
              "    .dataframe tbody tr th:only-of-type {\n",
              "        vertical-align: middle;\n",
              "    }\n",
              "\n",
              "    .dataframe tbody tr th {\n",
              "        vertical-align: top;\n",
              "    }\n",
              "\n",
              "    .dataframe thead th {\n",
              "        text-align: right;\n",
              "    }\n",
              "</style>\n",
              "<table border=\"1\" class=\"dataframe\">\n",
              "  <thead>\n",
              "    <tr style=\"text-align: right;\">\n",
              "      <th></th>\n",
              "      <th>price</th>\n",
              "      <th>model_year</th>\n",
              "      <th>model</th>\n",
              "      <th>condition</th>\n",
              "      <th>cylinders</th>\n",
              "      <th>fuel</th>\n",
              "      <th>odometer</th>\n",
              "      <th>transmission</th>\n",
              "      <th>type</th>\n",
              "      <th>paint_color</th>\n",
              "      <th>is_4wd</th>\n",
              "      <th>date_posted</th>\n",
              "      <th>days_listed</th>\n",
              "    </tr>\n",
              "  </thead>\n",
              "  <tbody>\n",
              "    <tr>\n",
              "      <th>0</th>\n",
              "      <td>9400</td>\n",
              "      <td>2011</td>\n",
              "      <td>bmw x5</td>\n",
              "      <td>good</td>\n",
              "      <td>6.0</td>\n",
              "      <td>gas</td>\n",
              "      <td>145000.0</td>\n",
              "      <td>automatic</td>\n",
              "      <td>SUV</td>\n",
              "      <td>NaN</td>\n",
              "      <td>1</td>\n",
              "      <td>2018-06-23</td>\n",
              "      <td>19</td>\n",
              "    </tr>\n",
              "    <tr>\n",
              "      <th>1</th>\n",
              "      <td>25500</td>\n",
              "      <td>2011</td>\n",
              "      <td>ford f-150</td>\n",
              "      <td>good</td>\n",
              "      <td>6.0</td>\n",
              "      <td>gas</td>\n",
              "      <td>88705.0</td>\n",
              "      <td>automatic</td>\n",
              "      <td>pickup</td>\n",
              "      <td>white</td>\n",
              "      <td>1</td>\n",
              "      <td>2018-10-19</td>\n",
              "      <td>50</td>\n",
              "    </tr>\n",
              "    <tr>\n",
              "      <th>2</th>\n",
              "      <td>5500</td>\n",
              "      <td>2013</td>\n",
              "      <td>hyundai sonata</td>\n",
              "      <td>like new</td>\n",
              "      <td>4.0</td>\n",
              "      <td>gas</td>\n",
              "      <td>110000.0</td>\n",
              "      <td>automatic</td>\n",
              "      <td>sedan</td>\n",
              "      <td>red</td>\n",
              "      <td>0</td>\n",
              "      <td>2019-02-07</td>\n",
              "      <td>79</td>\n",
              "    </tr>\n",
              "    <tr>\n",
              "      <th>3</th>\n",
              "      <td>1500</td>\n",
              "      <td>2003</td>\n",
              "      <td>ford f-150</td>\n",
              "      <td>fair</td>\n",
              "      <td>8.0</td>\n",
              "      <td>gas</td>\n",
              "      <td>NaN</td>\n",
              "      <td>automatic</td>\n",
              "      <td>pickup</td>\n",
              "      <td>NaN</td>\n",
              "      <td>0</td>\n",
              "      <td>2019-03-22</td>\n",
              "      <td>9</td>\n",
              "    </tr>\n",
              "    <tr>\n",
              "      <th>4</th>\n",
              "      <td>14900</td>\n",
              "      <td>2017</td>\n",
              "      <td>chrysler 200</td>\n",
              "      <td>excellent</td>\n",
              "      <td>4.0</td>\n",
              "      <td>gas</td>\n",
              "      <td>80903.0</td>\n",
              "      <td>automatic</td>\n",
              "      <td>sedan</td>\n",
              "      <td>black</td>\n",
              "      <td>0</td>\n",
              "      <td>2019-04-02</td>\n",
              "      <td>28</td>\n",
              "    </tr>\n",
              "    <tr>\n",
              "      <th>...</th>\n",
              "      <td>...</td>\n",
              "      <td>...</td>\n",
              "      <td>...</td>\n",
              "      <td>...</td>\n",
              "      <td>...</td>\n",
              "      <td>...</td>\n",
              "      <td>...</td>\n",
              "      <td>...</td>\n",
              "      <td>...</td>\n",
              "      <td>...</td>\n",
              "      <td>...</td>\n",
              "      <td>...</td>\n",
              "      <td>...</td>\n",
              "    </tr>\n",
              "    <tr>\n",
              "      <th>51520</th>\n",
              "      <td>9249</td>\n",
              "      <td>2013</td>\n",
              "      <td>nissan maxima</td>\n",
              "      <td>like new</td>\n",
              "      <td>6.0</td>\n",
              "      <td>gas</td>\n",
              "      <td>88136.0</td>\n",
              "      <td>automatic</td>\n",
              "      <td>sedan</td>\n",
              "      <td>black</td>\n",
              "      <td>0</td>\n",
              "      <td>2018-10-03</td>\n",
              "      <td>37</td>\n",
              "    </tr>\n",
              "    <tr>\n",
              "      <th>51521</th>\n",
              "      <td>2700</td>\n",
              "      <td>2002</td>\n",
              "      <td>honda civic</td>\n",
              "      <td>salvage</td>\n",
              "      <td>4.0</td>\n",
              "      <td>gas</td>\n",
              "      <td>181500.0</td>\n",
              "      <td>automatic</td>\n",
              "      <td>sedan</td>\n",
              "      <td>white</td>\n",
              "      <td>0</td>\n",
              "      <td>2018-11-14</td>\n",
              "      <td>22</td>\n",
              "    </tr>\n",
              "    <tr>\n",
              "      <th>51522</th>\n",
              "      <td>3950</td>\n",
              "      <td>2009</td>\n",
              "      <td>hyundai sonata</td>\n",
              "      <td>excellent</td>\n",
              "      <td>4.0</td>\n",
              "      <td>gas</td>\n",
              "      <td>128000.0</td>\n",
              "      <td>automatic</td>\n",
              "      <td>sedan</td>\n",
              "      <td>blue</td>\n",
              "      <td>0</td>\n",
              "      <td>2018-11-15</td>\n",
              "      <td>32</td>\n",
              "    </tr>\n",
              "    <tr>\n",
              "      <th>51523</th>\n",
              "      <td>7455</td>\n",
              "      <td>2013</td>\n",
              "      <td>toyota corolla</td>\n",
              "      <td>good</td>\n",
              "      <td>4.0</td>\n",
              "      <td>gas</td>\n",
              "      <td>139573.0</td>\n",
              "      <td>automatic</td>\n",
              "      <td>sedan</td>\n",
              "      <td>black</td>\n",
              "      <td>0</td>\n",
              "      <td>2018-07-02</td>\n",
              "      <td>71</td>\n",
              "    </tr>\n",
              "    <tr>\n",
              "      <th>51524</th>\n",
              "      <td>6300</td>\n",
              "      <td>2014</td>\n",
              "      <td>nissan altima</td>\n",
              "      <td>good</td>\n",
              "      <td>4.0</td>\n",
              "      <td>gas</td>\n",
              "      <td>NaN</td>\n",
              "      <td>automatic</td>\n",
              "      <td>sedan</td>\n",
              "      <td>NaN</td>\n",
              "      <td>0</td>\n",
              "      <td>2018-06-05</td>\n",
              "      <td>10</td>\n",
              "    </tr>\n",
              "  </tbody>\n",
              "</table>\n",
              "<p>51525 rows × 13 columns</p>\n",
              "</div>"
            ],
            "text/plain": [
              "       price  model_year           model  condition  cylinders fuel  odometer  \\\n",
              "0       9400        2011          bmw x5       good        6.0  gas  145000.0   \n",
              "1      25500        2011      ford f-150       good        6.0  gas   88705.0   \n",
              "2       5500        2013  hyundai sonata   like new        4.0  gas  110000.0   \n",
              "3       1500        2003      ford f-150       fair        8.0  gas       NaN   \n",
              "4      14900        2017    chrysler 200  excellent        4.0  gas   80903.0   \n",
              "...      ...         ...             ...        ...        ...  ...       ...   \n",
              "51520   9249        2013   nissan maxima   like new        6.0  gas   88136.0   \n",
              "51521   2700        2002     honda civic    salvage        4.0  gas  181500.0   \n",
              "51522   3950        2009  hyundai sonata  excellent        4.0  gas  128000.0   \n",
              "51523   7455        2013  toyota corolla       good        4.0  gas  139573.0   \n",
              "51524   6300        2014   nissan altima       good        4.0  gas       NaN   \n",
              "\n",
              "      transmission    type paint_color  is_4wd date_posted  days_listed  \n",
              "0        automatic     SUV         NaN       1  2018-06-23           19  \n",
              "1        automatic  pickup       white       1  2018-10-19           50  \n",
              "2        automatic   sedan         red       0  2019-02-07           79  \n",
              "3        automatic  pickup         NaN       0  2019-03-22            9  \n",
              "4        automatic   sedan       black       0  2019-04-02           28  \n",
              "...            ...     ...         ...     ...         ...          ...  \n",
              "51520    automatic   sedan       black       0  2018-10-03           37  \n",
              "51521    automatic   sedan       white       0  2018-11-14           22  \n",
              "51522    automatic   sedan        blue       0  2018-11-15           32  \n",
              "51523    automatic   sedan       black       0  2018-07-02           71  \n",
              "51524    automatic   sedan         NaN       0  2018-06-05           10  \n",
              "\n",
              "[51525 rows x 13 columns]"
            ]
          },
          "execution_count": 26,
          "metadata": {},
          "output_type": "execute_result"
        }
      ],
      "source": [
        "#Revisando la distribución\n",
        "data"
      ]
    },
    {
      "cell_type": "markdown",
      "metadata": {
        "id": "EWL7oZXBQ35x"
      },
      "source": [
        "**Valores ausentes en la columna odometer**"
      ]
    },
    {
      "cell_type": "markdown",
      "metadata": {
        "id": "-ja_tTtVQ35y"
      },
      "source": [
        "Para la columna odometer vamos a utilizar la media de cada año para rellenar los valores ausentes"
      ]
    },
    {
      "cell_type": "code",
      "execution_count": null,
      "metadata": {
        "id": "2JK9AP6rQ35y",
        "outputId": "eebd7602-96ce-48db-8832-f68225203631"
      },
      "outputs": [
        {
          "data": {
            "text/html": [
              "<div>\n",
              "<style scoped>\n",
              "    .dataframe tbody tr th:only-of-type {\n",
              "        vertical-align: middle;\n",
              "    }\n",
              "\n",
              "    .dataframe tbody tr th {\n",
              "        vertical-align: top;\n",
              "    }\n",
              "\n",
              "    .dataframe thead th {\n",
              "        text-align: right;\n",
              "    }\n",
              "</style>\n",
              "<table border=\"1\" class=\"dataframe\">\n",
              "  <thead>\n",
              "    <tr style=\"text-align: right;\">\n",
              "      <th></th>\n",
              "      <th>odometer</th>\n",
              "    </tr>\n",
              "    <tr>\n",
              "      <th>model_year</th>\n",
              "      <th></th>\n",
              "    </tr>\n",
              "  </thead>\n",
              "  <tbody>\n",
              "    <tr>\n",
              "      <th>1908</th>\n",
              "      <td>169328</td>\n",
              "    </tr>\n",
              "    <tr>\n",
              "      <th>1936</th>\n",
              "      <td>30000</td>\n",
              "    </tr>\n",
              "    <tr>\n",
              "      <th>1948</th>\n",
              "      <td>4000</td>\n",
              "    </tr>\n",
              "    <tr>\n",
              "      <th>1949</th>\n",
              "      <td>1800</td>\n",
              "    </tr>\n",
              "    <tr>\n",
              "      <th>1954</th>\n",
              "      <td>3565</td>\n",
              "    </tr>\n",
              "    <tr>\n",
              "      <th>...</th>\n",
              "      <td>...</td>\n",
              "    </tr>\n",
              "    <tr>\n",
              "      <th>2015</th>\n",
              "      <td>78285</td>\n",
              "    </tr>\n",
              "    <tr>\n",
              "      <th>2016</th>\n",
              "      <td>53998</td>\n",
              "    </tr>\n",
              "    <tr>\n",
              "      <th>2017</th>\n",
              "      <td>41000</td>\n",
              "    </tr>\n",
              "    <tr>\n",
              "      <th>2018</th>\n",
              "      <td>20674</td>\n",
              "    </tr>\n",
              "    <tr>\n",
              "      <th>2019</th>\n",
              "      <td>14151</td>\n",
              "    </tr>\n",
              "  </tbody>\n",
              "</table>\n",
              "<p>67 rows × 1 columns</p>\n",
              "</div>"
            ],
            "text/plain": [
              "            odometer\n",
              "model_year          \n",
              "1908          169328\n",
              "1936           30000\n",
              "1948            4000\n",
              "1949            1800\n",
              "1954            3565\n",
              "...              ...\n",
              "2015           78285\n",
              "2016           53998\n",
              "2017           41000\n",
              "2018           20674\n",
              "2019           14151\n",
              "\n",
              "[67 rows x 1 columns]"
            ]
          },
          "execution_count": 27,
          "metadata": {},
          "output_type": "execute_result"
        }
      ],
      "source": [
        "#Agrupamos los datos por año\n",
        "datos_odome_pivot=data.pivot_table(index='model_year', values='odometer', aggfunc='median').astype(int)\n",
        "datos_odome_pivot"
      ]
    },
    {
      "cell_type": "markdown",
      "metadata": {
        "id": "H5rrLn_9Q35y"
      },
      "source": [
        "Para el año de modelo 1929, el odometer tiene un valor ausente, ya que no hay más datos con este mismo año lo rellenaré de manera individual."
      ]
    },
    {
      "cell_type": "markdown",
      "metadata": {
        "id": "uLFoLm5lQ35y"
      },
      "source": [
        "\n",
        "<div class=\"alert alert-success\">\n",
        "<b>✔️ Comentario del revisor:</b>\n",
        "    \n",
        "Buena lectura inicial.\n",
        "</div>"
      ]
    },
    {
      "cell_type": "code",
      "execution_count": null,
      "metadata": {
        "id": "Pj8_GeFQQ35y"
      },
      "outputs": [],
      "source": [
        "data.loc[data['model_year']==1929, 'odometer']=35000"
      ]
    },
    {
      "cell_type": "code",
      "execution_count": null,
      "metadata": {
        "id": "6Zoe5goiQ35y",
        "outputId": "3b69b632-dc16-4558-84ec-771ea791aa26"
      },
      "outputs": [
        {
          "data": {
            "text/html": [
              "<div>\n",
              "<style scoped>\n",
              "    .dataframe tbody tr th:only-of-type {\n",
              "        vertical-align: middle;\n",
              "    }\n",
              "\n",
              "    .dataframe tbody tr th {\n",
              "        vertical-align: top;\n",
              "    }\n",
              "\n",
              "    .dataframe thead th {\n",
              "        text-align: right;\n",
              "    }\n",
              "</style>\n",
              "<table border=\"1\" class=\"dataframe\">\n",
              "  <thead>\n",
              "    <tr style=\"text-align: right;\">\n",
              "      <th></th>\n",
              "      <th>price</th>\n",
              "      <th>model_year</th>\n",
              "      <th>model</th>\n",
              "      <th>condition</th>\n",
              "      <th>cylinders</th>\n",
              "      <th>fuel</th>\n",
              "      <th>odometer</th>\n",
              "      <th>transmission</th>\n",
              "      <th>type</th>\n",
              "      <th>paint_color</th>\n",
              "      <th>is_4wd</th>\n",
              "      <th>date_posted</th>\n",
              "      <th>days_listed</th>\n",
              "    </tr>\n",
              "  </thead>\n",
              "  <tbody>\n",
              "    <tr>\n",
              "      <th>45694</th>\n",
              "      <td>18000</td>\n",
              "      <td>1929</td>\n",
              "      <td>ford f-150</td>\n",
              "      <td>good</td>\n",
              "      <td>8.0</td>\n",
              "      <td>gas</td>\n",
              "      <td>35000.0</td>\n",
              "      <td>manual</td>\n",
              "      <td>other</td>\n",
              "      <td>silver</td>\n",
              "      <td>0</td>\n",
              "      <td>2018-11-18</td>\n",
              "      <td>59</td>\n",
              "    </tr>\n",
              "  </tbody>\n",
              "</table>\n",
              "</div>"
            ],
            "text/plain": [
              "       price  model_year       model condition  cylinders fuel  odometer  \\\n",
              "45694  18000        1929  ford f-150      good        8.0  gas   35000.0   \n",
              "\n",
              "      transmission   type paint_color  is_4wd date_posted  days_listed  \n",
              "45694       manual  other      silver       0  2018-11-18           59  "
            ]
          },
          "execution_count": 29,
          "metadata": {},
          "output_type": "execute_result"
        }
      ],
      "source": [
        "#Comprobando la fila\n",
        "data[data['model_year']==1929]"
      ]
    },
    {
      "cell_type": "code",
      "execution_count": null,
      "metadata": {
        "id": "1QrCda6zQ35y"
      },
      "outputs": [],
      "source": [
        "#Creamos una función para rellenar los valores ausentes\n",
        "def odome_aus(row):\n",
        "    model_year= row['model_year']\n",
        "    odometer=row['odometer']\n",
        "    \n",
        "    if pd.isna(odometer):\n",
        "        return datos_odome_pivot['odometer'][model_year]\n",
        "    return odometer"
      ]
    },
    {
      "cell_type": "markdown",
      "metadata": {
        "id": "vnMT9zBEQ35z"
      },
      "source": [
        "\n",
        "<div class=\"alert alert-success\">\n",
        "<b>✔️ Comentario del revisor:</b>\n",
        "    \n",
        "Muy bien!"
      ]
    },
    {
      "cell_type": "code",
      "execution_count": null,
      "metadata": {
        "id": "IvlTqYfiQ35z",
        "outputId": "a376464d-794d-4f1d-dc0b-ad21f95806bb"
      },
      "outputs": [
        {
          "data": {
            "text/plain": [
              "169328"
            ]
          },
          "execution_count": 31,
          "metadata": {},
          "output_type": "execute_result"
        }
      ],
      "source": [
        "#Vamos a probar si funciona la función\n",
        "row_values = [np.nan, 1908]\n",
        "row_columns = ['odometer', 'model_year']\n",
        "row = pd.Series(data=row_values, index=row_columns)\n",
        "odome_aus(row)"
      ]
    },
    {
      "cell_type": "code",
      "execution_count": null,
      "metadata": {
        "id": "IIn00K9AQ35z"
      },
      "outputs": [],
      "source": [
        "#Aplicamos a todas las filas\n",
        "\n",
        "data['odometer'] = data.apply(odome_aus, axis=1)"
      ]
    },
    {
      "cell_type": "code",
      "execution_count": null,
      "metadata": {
        "id": "WBCSPFBrQ35z",
        "outputId": "72014e72-3a96-4da4-9f61-fb4ec526e5c3"
      },
      "outputs": [
        {
          "data": {
            "text/plain": [
              "0"
            ]
          },
          "execution_count": 33,
          "metadata": {},
          "output_type": "execute_result"
        }
      ],
      "source": [
        "#Comprobando que ya no tenemos valores ausentes\n",
        "\n",
        "data['odometer'].isna().sum()"
      ]
    },
    {
      "cell_type": "markdown",
      "metadata": {
        "id": "iDe7pbIvQ35z"
      },
      "source": [
        "<div class=\"alert alert-success\">\n",
        "<b>✔️ Comentario del revisor:</b>\n",
        "    Genial! Muy bien que no olvides sobre isna()"
      ]
    },
    {
      "cell_type": "code",
      "execution_count": null,
      "metadata": {
        "id": "XfgK7q_sQ35z",
        "outputId": "eff1be54-1f01-4aec-d994-0fcf2617c476"
      },
      "outputs": [
        {
          "data": {
            "text/html": [
              "<div>\n",
              "<style scoped>\n",
              "    .dataframe tbody tr th:only-of-type {\n",
              "        vertical-align: middle;\n",
              "    }\n",
              "\n",
              "    .dataframe tbody tr th {\n",
              "        vertical-align: top;\n",
              "    }\n",
              "\n",
              "    .dataframe thead th {\n",
              "        text-align: right;\n",
              "    }\n",
              "</style>\n",
              "<table border=\"1\" class=\"dataframe\">\n",
              "  <thead>\n",
              "    <tr style=\"text-align: right;\">\n",
              "      <th></th>\n",
              "      <th>price</th>\n",
              "      <th>model_year</th>\n",
              "      <th>model</th>\n",
              "      <th>condition</th>\n",
              "      <th>cylinders</th>\n",
              "      <th>fuel</th>\n",
              "      <th>odometer</th>\n",
              "      <th>transmission</th>\n",
              "      <th>type</th>\n",
              "      <th>paint_color</th>\n",
              "      <th>is_4wd</th>\n",
              "      <th>date_posted</th>\n",
              "      <th>days_listed</th>\n",
              "    </tr>\n",
              "  </thead>\n",
              "  <tbody>\n",
              "    <tr>\n",
              "      <th>0</th>\n",
              "      <td>9400</td>\n",
              "      <td>2011</td>\n",
              "      <td>bmw x5</td>\n",
              "      <td>good</td>\n",
              "      <td>6.0</td>\n",
              "      <td>gas</td>\n",
              "      <td>145000.0</td>\n",
              "      <td>automatic</td>\n",
              "      <td>SUV</td>\n",
              "      <td>NaN</td>\n",
              "      <td>1</td>\n",
              "      <td>2018-06-23</td>\n",
              "      <td>19</td>\n",
              "    </tr>\n",
              "    <tr>\n",
              "      <th>1</th>\n",
              "      <td>25500</td>\n",
              "      <td>2011</td>\n",
              "      <td>ford f-150</td>\n",
              "      <td>good</td>\n",
              "      <td>6.0</td>\n",
              "      <td>gas</td>\n",
              "      <td>88705.0</td>\n",
              "      <td>automatic</td>\n",
              "      <td>pickup</td>\n",
              "      <td>white</td>\n",
              "      <td>1</td>\n",
              "      <td>2018-10-19</td>\n",
              "      <td>50</td>\n",
              "    </tr>\n",
              "    <tr>\n",
              "      <th>2</th>\n",
              "      <td>5500</td>\n",
              "      <td>2013</td>\n",
              "      <td>hyundai sonata</td>\n",
              "      <td>like new</td>\n",
              "      <td>4.0</td>\n",
              "      <td>gas</td>\n",
              "      <td>110000.0</td>\n",
              "      <td>automatic</td>\n",
              "      <td>sedan</td>\n",
              "      <td>red</td>\n",
              "      <td>0</td>\n",
              "      <td>2019-02-07</td>\n",
              "      <td>79</td>\n",
              "    </tr>\n",
              "    <tr>\n",
              "      <th>3</th>\n",
              "      <td>1500</td>\n",
              "      <td>2003</td>\n",
              "      <td>ford f-150</td>\n",
              "      <td>fair</td>\n",
              "      <td>8.0</td>\n",
              "      <td>gas</td>\n",
              "      <td>161397.0</td>\n",
              "      <td>automatic</td>\n",
              "      <td>pickup</td>\n",
              "      <td>NaN</td>\n",
              "      <td>0</td>\n",
              "      <td>2019-03-22</td>\n",
              "      <td>9</td>\n",
              "    </tr>\n",
              "    <tr>\n",
              "      <th>4</th>\n",
              "      <td>14900</td>\n",
              "      <td>2017</td>\n",
              "      <td>chrysler 200</td>\n",
              "      <td>excellent</td>\n",
              "      <td>4.0</td>\n",
              "      <td>gas</td>\n",
              "      <td>80903.0</td>\n",
              "      <td>automatic</td>\n",
              "      <td>sedan</td>\n",
              "      <td>black</td>\n",
              "      <td>0</td>\n",
              "      <td>2019-04-02</td>\n",
              "      <td>28</td>\n",
              "    </tr>\n",
              "    <tr>\n",
              "      <th>...</th>\n",
              "      <td>...</td>\n",
              "      <td>...</td>\n",
              "      <td>...</td>\n",
              "      <td>...</td>\n",
              "      <td>...</td>\n",
              "      <td>...</td>\n",
              "      <td>...</td>\n",
              "      <td>...</td>\n",
              "      <td>...</td>\n",
              "      <td>...</td>\n",
              "      <td>...</td>\n",
              "      <td>...</td>\n",
              "      <td>...</td>\n",
              "    </tr>\n",
              "    <tr>\n",
              "      <th>51520</th>\n",
              "      <td>9249</td>\n",
              "      <td>2013</td>\n",
              "      <td>nissan maxima</td>\n",
              "      <td>like new</td>\n",
              "      <td>6.0</td>\n",
              "      <td>gas</td>\n",
              "      <td>88136.0</td>\n",
              "      <td>automatic</td>\n",
              "      <td>sedan</td>\n",
              "      <td>black</td>\n",
              "      <td>0</td>\n",
              "      <td>2018-10-03</td>\n",
              "      <td>37</td>\n",
              "    </tr>\n",
              "    <tr>\n",
              "      <th>51521</th>\n",
              "      <td>2700</td>\n",
              "      <td>2002</td>\n",
              "      <td>honda civic</td>\n",
              "      <td>salvage</td>\n",
              "      <td>4.0</td>\n",
              "      <td>gas</td>\n",
              "      <td>181500.0</td>\n",
              "      <td>automatic</td>\n",
              "      <td>sedan</td>\n",
              "      <td>white</td>\n",
              "      <td>0</td>\n",
              "      <td>2018-11-14</td>\n",
              "      <td>22</td>\n",
              "    </tr>\n",
              "    <tr>\n",
              "      <th>51522</th>\n",
              "      <td>3950</td>\n",
              "      <td>2009</td>\n",
              "      <td>hyundai sonata</td>\n",
              "      <td>excellent</td>\n",
              "      <td>4.0</td>\n",
              "      <td>gas</td>\n",
              "      <td>128000.0</td>\n",
              "      <td>automatic</td>\n",
              "      <td>sedan</td>\n",
              "      <td>blue</td>\n",
              "      <td>0</td>\n",
              "      <td>2018-11-15</td>\n",
              "      <td>32</td>\n",
              "    </tr>\n",
              "    <tr>\n",
              "      <th>51523</th>\n",
              "      <td>7455</td>\n",
              "      <td>2013</td>\n",
              "      <td>toyota corolla</td>\n",
              "      <td>good</td>\n",
              "      <td>4.0</td>\n",
              "      <td>gas</td>\n",
              "      <td>139573.0</td>\n",
              "      <td>automatic</td>\n",
              "      <td>sedan</td>\n",
              "      <td>black</td>\n",
              "      <td>0</td>\n",
              "      <td>2018-07-02</td>\n",
              "      <td>71</td>\n",
              "    </tr>\n",
              "    <tr>\n",
              "      <th>51524</th>\n",
              "      <td>6300</td>\n",
              "      <td>2014</td>\n",
              "      <td>nissan altima</td>\n",
              "      <td>good</td>\n",
              "      <td>4.0</td>\n",
              "      <td>gas</td>\n",
              "      <td>90000.0</td>\n",
              "      <td>automatic</td>\n",
              "      <td>sedan</td>\n",
              "      <td>NaN</td>\n",
              "      <td>0</td>\n",
              "      <td>2018-06-05</td>\n",
              "      <td>10</td>\n",
              "    </tr>\n",
              "  </tbody>\n",
              "</table>\n",
              "<p>51525 rows × 13 columns</p>\n",
              "</div>"
            ],
            "text/plain": [
              "       price  model_year           model  condition  cylinders fuel  odometer  \\\n",
              "0       9400        2011          bmw x5       good        6.0  gas  145000.0   \n",
              "1      25500        2011      ford f-150       good        6.0  gas   88705.0   \n",
              "2       5500        2013  hyundai sonata   like new        4.0  gas  110000.0   \n",
              "3       1500        2003      ford f-150       fair        8.0  gas  161397.0   \n",
              "4      14900        2017    chrysler 200  excellent        4.0  gas   80903.0   \n",
              "...      ...         ...             ...        ...        ...  ...       ...   \n",
              "51520   9249        2013   nissan maxima   like new        6.0  gas   88136.0   \n",
              "51521   2700        2002     honda civic    salvage        4.0  gas  181500.0   \n",
              "51522   3950        2009  hyundai sonata  excellent        4.0  gas  128000.0   \n",
              "51523   7455        2013  toyota corolla       good        4.0  gas  139573.0   \n",
              "51524   6300        2014   nissan altima       good        4.0  gas   90000.0   \n",
              "\n",
              "      transmission    type paint_color  is_4wd date_posted  days_listed  \n",
              "0        automatic     SUV         NaN       1  2018-06-23           19  \n",
              "1        automatic  pickup       white       1  2018-10-19           50  \n",
              "2        automatic   sedan         red       0  2019-02-07           79  \n",
              "3        automatic  pickup         NaN       0  2019-03-22            9  \n",
              "4        automatic   sedan       black       0  2019-04-02           28  \n",
              "...            ...     ...         ...     ...         ...          ...  \n",
              "51520    automatic   sedan       black       0  2018-10-03           37  \n",
              "51521    automatic   sedan       white       0  2018-11-14           22  \n",
              "51522    automatic   sedan        blue       0  2018-11-15           32  \n",
              "51523    automatic   sedan       black       0  2018-07-02           71  \n",
              "51524    automatic   sedan         NaN       0  2018-06-05           10  \n",
              "\n",
              "[51525 rows x 13 columns]"
            ]
          },
          "execution_count": 34,
          "metadata": {},
          "output_type": "execute_result"
        }
      ],
      "source": [
        "data"
      ]
    },
    {
      "cell_type": "markdown",
      "metadata": {
        "id": "CKsQygztQ35z"
      },
      "source": [
        "<div class=\"alert alert-warning\">\n",
        "<b>⚠️ Comentario del revisor:</b> Bien pero si no necesitas algunas columnas para analisis entonces podemos eliminarlas"
      ]
    },
    {
      "cell_type": "markdown",
      "metadata": {
        "id": "EyzOwO1MQ35z"
      },
      "source": [
        "**Valores ausentes en la columna paint_color**"
      ]
    },
    {
      "cell_type": "markdown",
      "metadata": {
        "id": "b2lDhqJIQ35z"
      },
      "source": [
        "Para esta columna usaremos la moda ya que es una variable categorica y no podemos sacar la media ni el promedio."
      ]
    },
    {
      "cell_type": "code",
      "execution_count": null,
      "metadata": {
        "id": "hN4DJVSKQ350",
        "outputId": "d93798c2-8918-4f12-9290-0a738497d9e4"
      },
      "outputs": [
        {
          "data": {
            "text/plain": [
              "9267"
            ]
          },
          "execution_count": 35,
          "metadata": {},
          "output_type": "execute_result"
        }
      ],
      "source": [
        "#Cantidad de ausentes en la columna\n",
        "data['paint_color'].isna().sum()"
      ]
    },
    {
      "cell_type": "code",
      "execution_count": null,
      "metadata": {
        "id": "8uoryAP2Q350",
        "outputId": "f9b2e376-8b2d-41bd-e982-0867cdba91b2"
      },
      "outputs": [
        {
          "data": {
            "text/html": [
              "<div>\n",
              "<style scoped>\n",
              "    .dataframe tbody tr th:only-of-type {\n",
              "        vertical-align: middle;\n",
              "    }\n",
              "\n",
              "    .dataframe tbody tr th {\n",
              "        vertical-align: top;\n",
              "    }\n",
              "\n",
              "    .dataframe thead th {\n",
              "        text-align: right;\n",
              "    }\n",
              "</style>\n",
              "<table border=\"1\" class=\"dataframe\">\n",
              "  <thead>\n",
              "    <tr style=\"text-align: right;\">\n",
              "      <th></th>\n",
              "      <th>paint_color</th>\n",
              "    </tr>\n",
              "  </thead>\n",
              "  <tbody>\n",
              "    <tr>\n",
              "      <th>1</th>\n",
              "      <td>white</td>\n",
              "    </tr>\n",
              "    <tr>\n",
              "      <th>2</th>\n",
              "      <td>red</td>\n",
              "    </tr>\n",
              "    <tr>\n",
              "      <th>4</th>\n",
              "      <td>black</td>\n",
              "    </tr>\n",
              "    <tr>\n",
              "      <th>9</th>\n",
              "      <td>blue</td>\n",
              "    </tr>\n",
              "    <tr>\n",
              "      <th>11</th>\n",
              "      <td>grey</td>\n",
              "    </tr>\n",
              "    <tr>\n",
              "      <th>13</th>\n",
              "      <td>silver</td>\n",
              "    </tr>\n",
              "    <tr>\n",
              "      <th>27</th>\n",
              "      <td>custom</td>\n",
              "    </tr>\n",
              "    <tr>\n",
              "      <th>28</th>\n",
              "      <td>orange</td>\n",
              "    </tr>\n",
              "    <tr>\n",
              "      <th>45</th>\n",
              "      <td>yellow</td>\n",
              "    </tr>\n",
              "    <tr>\n",
              "      <th>54</th>\n",
              "      <td>brown</td>\n",
              "    </tr>\n",
              "    <tr>\n",
              "      <th>59</th>\n",
              "      <td>green</td>\n",
              "    </tr>\n",
              "    <tr>\n",
              "      <th>451</th>\n",
              "      <td>purple</td>\n",
              "    </tr>\n",
              "  </tbody>\n",
              "</table>\n",
              "</div>"
            ],
            "text/plain": [
              "    paint_color\n",
              "1         white\n",
              "2           red\n",
              "4         black\n",
              "9          blue\n",
              "11         grey\n",
              "13       silver\n",
              "27       custom\n",
              "28       orange\n",
              "45       yellow\n",
              "54        brown\n",
              "59        green\n",
              "451      purple"
            ]
          },
          "execution_count": 36,
          "metadata": {},
          "output_type": "execute_result"
        }
      ],
      "source": [
        "#Vamos a ver los colores que hay en la columna\n",
        "color_sin_ausentes=data.dropna()\n",
        "color_sin_ausentes[['paint_color']].drop_duplicates()"
      ]
    },
    {
      "cell_type": "code",
      "execution_count": null,
      "metadata": {
        "id": "OZHWV2xqQ350",
        "outputId": "420e66ab-e158-4886-e60f-7f1264d4cdef"
      },
      "outputs": [
        {
          "data": {
            "text/plain": [
              "model               \n",
              "acura tl           0      grey\n",
              "bmw x5             0     black\n",
              "buick enclave      0     white\n",
              "cadillac escalade  0     black\n",
              "chevrolet camaro   0       red\n",
              "                         ...  \n",
              "toyota sienna      0    silver\n",
              "toyota tacoma      0     white\n",
              "toyota tundra      0     white\n",
              "volkswagen jetta   0    silver\n",
              "volkswagen passat  0     black\n",
              "Name: paint_color, Length: 102, dtype: object"
            ]
          },
          "execution_count": 37,
          "metadata": {},
          "output_type": "execute_result"
        }
      ],
      "source": [
        "#Vamos a agrupar por modelo para sacar la moda de cada color\n",
        "data_color_agruped= data.groupby(['model'])['paint_color'].apply(pd.Series.mode)\n",
        "data_color_agruped"
      ]
    },
    {
      "cell_type": "code",
      "execution_count": null,
      "metadata": {
        "id": "nPVerK1XQ350"
      },
      "outputs": [],
      "source": [
        "#Creamos una función para rellenar los valores ausentes\n",
        "\n",
        "def color_na(row):\n",
        "    model=row['model']\n",
        "    paint_color=row['paint_color']\n",
        "    \n",
        "    if pd.isna(paint_color):\n",
        "        return data_color_agruped.loc[model]\n",
        "    return paint_color"
      ]
    },
    {
      "cell_type": "markdown",
      "metadata": {
        "id": "OShRMeLlQ350"
      },
      "source": [
        "<div class=\"alert alert-success\">\n",
        "<b>✔️ Comentario del revisor:</b>\n",
        "    Correcto!"
      ]
    },
    {
      "cell_type": "code",
      "execution_count": null,
      "metadata": {
        "id": "-JBRkKu6Q350",
        "outputId": "cf4904f1-abcf-4a4e-f3bd-9914d992122b"
      },
      "outputs": [
        {
          "data": {
            "text/plain": [
              "0    black\n",
              "Name: paint_color, dtype: object"
            ]
          },
          "execution_count": 39,
          "metadata": {},
          "output_type": "execute_result"
        }
      ],
      "source": [
        "#Vamos a probar si funciona la función\n",
        "row_values = [np.nan, 'volkswagen passat']\n",
        "row_columns = ['paint_color', 'model']\n",
        "row = pd.Series(data=row_values, index=row_columns)\n",
        "color_na(row)"
      ]
    },
    {
      "cell_type": "code",
      "execution_count": null,
      "metadata": {
        "id": "biK7EpK7Q350"
      },
      "outputs": [],
      "source": [
        "#Aplicandolo a todas las filas\n",
        "data['paint_color']= data.apply(color_na, axis=1)"
      ]
    },
    {
      "cell_type": "code",
      "execution_count": null,
      "metadata": {
        "id": "7f6MBy9BQ350",
        "outputId": "14ed7d72-ab12-492a-fe9a-8c768242fb83"
      },
      "outputs": [
        {
          "data": {
            "text/plain": [
              "0"
            ]
          },
          "execution_count": 41,
          "metadata": {},
          "output_type": "execute_result"
        }
      ],
      "source": [
        "#comprobando que no haya valores ausentes\n",
        "data['paint_color'].isna().sum()"
      ]
    },
    {
      "cell_type": "code",
      "execution_count": null,
      "metadata": {
        "id": "6gl_2EakQ351",
        "outputId": "c3e5d766-849a-43cb-d700-9007f2fcb031"
      },
      "outputs": [
        {
          "data": {
            "text/html": [
              "<div>\n",
              "<style scoped>\n",
              "    .dataframe tbody tr th:only-of-type {\n",
              "        vertical-align: middle;\n",
              "    }\n",
              "\n",
              "    .dataframe tbody tr th {\n",
              "        vertical-align: top;\n",
              "    }\n",
              "\n",
              "    .dataframe thead th {\n",
              "        text-align: right;\n",
              "    }\n",
              "</style>\n",
              "<table border=\"1\" class=\"dataframe\">\n",
              "  <thead>\n",
              "    <tr style=\"text-align: right;\">\n",
              "      <th></th>\n",
              "      <th>price</th>\n",
              "      <th>model_year</th>\n",
              "      <th>model</th>\n",
              "      <th>condition</th>\n",
              "      <th>cylinders</th>\n",
              "      <th>fuel</th>\n",
              "      <th>odometer</th>\n",
              "      <th>transmission</th>\n",
              "      <th>type</th>\n",
              "      <th>paint_color</th>\n",
              "      <th>is_4wd</th>\n",
              "      <th>date_posted</th>\n",
              "      <th>days_listed</th>\n",
              "    </tr>\n",
              "  </thead>\n",
              "  <tbody>\n",
              "    <tr>\n",
              "      <th>0</th>\n",
              "      <td>9400</td>\n",
              "      <td>2011</td>\n",
              "      <td>bmw x5</td>\n",
              "      <td>good</td>\n",
              "      <td>6.0</td>\n",
              "      <td>gas</td>\n",
              "      <td>145000.0</td>\n",
              "      <td>automatic</td>\n",
              "      <td>SUV</td>\n",
              "      <td>black</td>\n",
              "      <td>1</td>\n",
              "      <td>2018-06-23</td>\n",
              "      <td>19</td>\n",
              "    </tr>\n",
              "    <tr>\n",
              "      <th>1</th>\n",
              "      <td>25500</td>\n",
              "      <td>2011</td>\n",
              "      <td>ford f-150</td>\n",
              "      <td>good</td>\n",
              "      <td>6.0</td>\n",
              "      <td>gas</td>\n",
              "      <td>88705.0</td>\n",
              "      <td>automatic</td>\n",
              "      <td>pickup</td>\n",
              "      <td>white</td>\n",
              "      <td>1</td>\n",
              "      <td>2018-10-19</td>\n",
              "      <td>50</td>\n",
              "    </tr>\n",
              "    <tr>\n",
              "      <th>2</th>\n",
              "      <td>5500</td>\n",
              "      <td>2013</td>\n",
              "      <td>hyundai sonata</td>\n",
              "      <td>like new</td>\n",
              "      <td>4.0</td>\n",
              "      <td>gas</td>\n",
              "      <td>110000.0</td>\n",
              "      <td>automatic</td>\n",
              "      <td>sedan</td>\n",
              "      <td>red</td>\n",
              "      <td>0</td>\n",
              "      <td>2019-02-07</td>\n",
              "      <td>79</td>\n",
              "    </tr>\n",
              "    <tr>\n",
              "      <th>3</th>\n",
              "      <td>1500</td>\n",
              "      <td>2003</td>\n",
              "      <td>ford f-150</td>\n",
              "      <td>fair</td>\n",
              "      <td>8.0</td>\n",
              "      <td>gas</td>\n",
              "      <td>161397.0</td>\n",
              "      <td>automatic</td>\n",
              "      <td>pickup</td>\n",
              "      <td>white</td>\n",
              "      <td>0</td>\n",
              "      <td>2019-03-22</td>\n",
              "      <td>9</td>\n",
              "    </tr>\n",
              "    <tr>\n",
              "      <th>4</th>\n",
              "      <td>14900</td>\n",
              "      <td>2017</td>\n",
              "      <td>chrysler 200</td>\n",
              "      <td>excellent</td>\n",
              "      <td>4.0</td>\n",
              "      <td>gas</td>\n",
              "      <td>80903.0</td>\n",
              "      <td>automatic</td>\n",
              "      <td>sedan</td>\n",
              "      <td>black</td>\n",
              "      <td>0</td>\n",
              "      <td>2019-04-02</td>\n",
              "      <td>28</td>\n",
              "    </tr>\n",
              "    <tr>\n",
              "      <th>...</th>\n",
              "      <td>...</td>\n",
              "      <td>...</td>\n",
              "      <td>...</td>\n",
              "      <td>...</td>\n",
              "      <td>...</td>\n",
              "      <td>...</td>\n",
              "      <td>...</td>\n",
              "      <td>...</td>\n",
              "      <td>...</td>\n",
              "      <td>...</td>\n",
              "      <td>...</td>\n",
              "      <td>...</td>\n",
              "      <td>...</td>\n",
              "    </tr>\n",
              "    <tr>\n",
              "      <th>51520</th>\n",
              "      <td>9249</td>\n",
              "      <td>2013</td>\n",
              "      <td>nissan maxima</td>\n",
              "      <td>like new</td>\n",
              "      <td>6.0</td>\n",
              "      <td>gas</td>\n",
              "      <td>88136.0</td>\n",
              "      <td>automatic</td>\n",
              "      <td>sedan</td>\n",
              "      <td>black</td>\n",
              "      <td>0</td>\n",
              "      <td>2018-10-03</td>\n",
              "      <td>37</td>\n",
              "    </tr>\n",
              "    <tr>\n",
              "      <th>51521</th>\n",
              "      <td>2700</td>\n",
              "      <td>2002</td>\n",
              "      <td>honda civic</td>\n",
              "      <td>salvage</td>\n",
              "      <td>4.0</td>\n",
              "      <td>gas</td>\n",
              "      <td>181500.0</td>\n",
              "      <td>automatic</td>\n",
              "      <td>sedan</td>\n",
              "      <td>white</td>\n",
              "      <td>0</td>\n",
              "      <td>2018-11-14</td>\n",
              "      <td>22</td>\n",
              "    </tr>\n",
              "    <tr>\n",
              "      <th>51522</th>\n",
              "      <td>3950</td>\n",
              "      <td>2009</td>\n",
              "      <td>hyundai sonata</td>\n",
              "      <td>excellent</td>\n",
              "      <td>4.0</td>\n",
              "      <td>gas</td>\n",
              "      <td>128000.0</td>\n",
              "      <td>automatic</td>\n",
              "      <td>sedan</td>\n",
              "      <td>blue</td>\n",
              "      <td>0</td>\n",
              "      <td>2018-11-15</td>\n",
              "      <td>32</td>\n",
              "    </tr>\n",
              "    <tr>\n",
              "      <th>51523</th>\n",
              "      <td>7455</td>\n",
              "      <td>2013</td>\n",
              "      <td>toyota corolla</td>\n",
              "      <td>good</td>\n",
              "      <td>4.0</td>\n",
              "      <td>gas</td>\n",
              "      <td>139573.0</td>\n",
              "      <td>automatic</td>\n",
              "      <td>sedan</td>\n",
              "      <td>black</td>\n",
              "      <td>0</td>\n",
              "      <td>2018-07-02</td>\n",
              "      <td>71</td>\n",
              "    </tr>\n",
              "    <tr>\n",
              "      <th>51524</th>\n",
              "      <td>6300</td>\n",
              "      <td>2014</td>\n",
              "      <td>nissan altima</td>\n",
              "      <td>good</td>\n",
              "      <td>4.0</td>\n",
              "      <td>gas</td>\n",
              "      <td>90000.0</td>\n",
              "      <td>automatic</td>\n",
              "      <td>sedan</td>\n",
              "      <td>grey</td>\n",
              "      <td>0</td>\n",
              "      <td>2018-06-05</td>\n",
              "      <td>10</td>\n",
              "    </tr>\n",
              "  </tbody>\n",
              "</table>\n",
              "<p>51525 rows × 13 columns</p>\n",
              "</div>"
            ],
            "text/plain": [
              "       price  model_year           model  condition  cylinders fuel  odometer  \\\n",
              "0       9400        2011          bmw x5       good        6.0  gas  145000.0   \n",
              "1      25500        2011      ford f-150       good        6.0  gas   88705.0   \n",
              "2       5500        2013  hyundai sonata   like new        4.0  gas  110000.0   \n",
              "3       1500        2003      ford f-150       fair        8.0  gas  161397.0   \n",
              "4      14900        2017    chrysler 200  excellent        4.0  gas   80903.0   \n",
              "...      ...         ...             ...        ...        ...  ...       ...   \n",
              "51520   9249        2013   nissan maxima   like new        6.0  gas   88136.0   \n",
              "51521   2700        2002     honda civic    salvage        4.0  gas  181500.0   \n",
              "51522   3950        2009  hyundai sonata  excellent        4.0  gas  128000.0   \n",
              "51523   7455        2013  toyota corolla       good        4.0  gas  139573.0   \n",
              "51524   6300        2014   nissan altima       good        4.0  gas   90000.0   \n",
              "\n",
              "      transmission    type paint_color  is_4wd date_posted  days_listed  \n",
              "0        automatic     SUV       black       1  2018-06-23           19  \n",
              "1        automatic  pickup       white       1  2018-10-19           50  \n",
              "2        automatic   sedan         red       0  2019-02-07           79  \n",
              "3        automatic  pickup       white       0  2019-03-22            9  \n",
              "4        automatic   sedan       black       0  2019-04-02           28  \n",
              "...            ...     ...         ...     ...         ...          ...  \n",
              "51520    automatic   sedan       black       0  2018-10-03           37  \n",
              "51521    automatic   sedan       white       0  2018-11-14           22  \n",
              "51522    automatic   sedan        blue       0  2018-11-15           32  \n",
              "51523    automatic   sedan       black       0  2018-07-02           71  \n",
              "51524    automatic   sedan        grey       0  2018-06-05           10  \n",
              "\n",
              "[51525 rows x 13 columns]"
            ]
          },
          "execution_count": 42,
          "metadata": {},
          "output_type": "execute_result"
        }
      ],
      "source": [
        "#Comprobando la distribución\n",
        "data"
      ]
    },
    {
      "cell_type": "code",
      "execution_count": null,
      "metadata": {
        "id": "j9Gri8StQ351",
        "outputId": "491e6838-0bec-45ff-b453-4f6de0ace245"
      },
      "outputs": [
        {
          "data": {
            "text/plain": [
              "0"
            ]
          },
          "execution_count": 43,
          "metadata": {},
          "output_type": "execute_result"
        }
      ],
      "source": [
        "#Comprobando que ya no hay valores ausentes\n",
        "\n",
        "data['paint_color'].isna().sum()"
      ]
    },
    {
      "cell_type": "markdown",
      "metadata": {
        "id": "AbVJj9QVQ351"
      },
      "source": [
        "**Comprobando que ya no haya valores ausentes en el DataFrame**"
      ]
    },
    {
      "cell_type": "code",
      "execution_count": null,
      "metadata": {
        "id": "xfSNvCzyQ351",
        "outputId": "6ae7891a-a7cc-4b5a-a9d0-391a14d761d8"
      },
      "outputs": [
        {
          "name": "stdout",
          "output_type": "stream",
          "text": [
            "<class 'pandas.core.frame.DataFrame'>\n",
            "RangeIndex: 51525 entries, 0 to 51524\n",
            "Data columns (total 13 columns):\n",
            " #   Column        Non-Null Count  Dtype  \n",
            "---  ------        --------------  -----  \n",
            " 0   price         51525 non-null  int64  \n",
            " 1   model_year    51525 non-null  int64  \n",
            " 2   model         51525 non-null  object \n",
            " 3   condition     51525 non-null  object \n",
            " 4   cylinders     51525 non-null  float64\n",
            " 5   fuel          51525 non-null  object \n",
            " 6   odometer      51525 non-null  float64\n",
            " 7   transmission  51525 non-null  object \n",
            " 8   type          51525 non-null  object \n",
            " 9   paint_color   51525 non-null  object \n",
            " 10  is_4wd        51525 non-null  int64  \n",
            " 11  date_posted   51525 non-null  object \n",
            " 12  days_listed   51525 non-null  int64  \n",
            "dtypes: float64(2), int64(4), object(7)\n",
            "memory usage: 5.1+ MB\n"
          ]
        }
      ],
      "source": [
        "data.info()"
      ]
    },
    {
      "cell_type": "markdown",
      "metadata": {
        "id": "QNHLFcvTQ351"
      },
      "source": [
        "## Corregir los tipos de datos"
      ]
    },
    {
      "cell_type": "markdown",
      "metadata": {
        "id": "VD3tjJr1Q351"
      },
      "source": [
        "Voy a corregir los datos de las columnas cylinders y date_posted. "
      ]
    },
    {
      "cell_type": "code",
      "execution_count": null,
      "metadata": {
        "id": "dfMI37qaQ351",
        "outputId": "8d9984c6-8180-4b2d-ff89-b3a0a69fd5d7"
      },
      "outputs": [
        {
          "data": {
            "text/plain": [
              "dtype('int64')"
            ]
          },
          "execution_count": 45,
          "metadata": {},
          "output_type": "execute_result"
        }
      ],
      "source": [
        "#Vamos a cambiar los datos de la columna cylinders a enteros\n",
        "\n",
        "data['cylinders']=data['cylinders'].astype(int)\n",
        "data['cylinders'].dtypes"
      ]
    },
    {
      "cell_type": "code",
      "execution_count": null,
      "metadata": {
        "id": "7xIWRWb_Q351",
        "outputId": "96d6fdc1-a2cf-4d9a-f8be-6350e88f70f5"
      },
      "outputs": [
        {
          "name": "stdout",
          "output_type": "stream",
          "text": [
            "<class 'pandas.core.frame.DataFrame'>\n",
            "RangeIndex: 51525 entries, 0 to 51524\n",
            "Data columns (total 13 columns):\n",
            " #   Column        Non-Null Count  Dtype         \n",
            "---  ------        --------------  -----         \n",
            " 0   price         51525 non-null  int64         \n",
            " 1   model_year    51525 non-null  int64         \n",
            " 2   model         51525 non-null  object        \n",
            " 3   condition     51525 non-null  object        \n",
            " 4   cylinders     51525 non-null  int64         \n",
            " 5   fuel          51525 non-null  object        \n",
            " 6   odometer      51525 non-null  float64       \n",
            " 7   transmission  51525 non-null  object        \n",
            " 8   type          51525 non-null  object        \n",
            " 9   paint_color   51525 non-null  object        \n",
            " 10  is_4wd        51525 non-null  int64         \n",
            " 11  date_posted   51525 non-null  datetime64[ns]\n",
            " 12  days_listed   51525 non-null  int64         \n",
            "dtypes: datetime64[ns](1), float64(1), int64(5), object(6)\n",
            "memory usage: 5.1+ MB\n"
          ]
        }
      ],
      "source": [
        "#Vamos a cambiar los datos de la columna date_posted\n",
        "\n",
        "data['date_posted'] = pd.to_datetime(data['date_posted'], format='%Y-%m-%d')\n",
        "\n",
        "data.info()"
      ]
    },
    {
      "cell_type": "markdown",
      "metadata": {
        "id": "vRDmuKiOQ352"
      },
      "source": [
        "<div class=\"alert alert-success\">\n",
        "<b>✔️ Comentario del revisor:</b> Todo bien aqui"
      ]
    },
    {
      "cell_type": "markdown",
      "metadata": {
        "id": "s9Doix3AQ352"
      },
      "source": [
        "## Enriquecer datos"
      ]
    },
    {
      "cell_type": "code",
      "execution_count": null,
      "metadata": {
        "id": "DI_w2BugQ352",
        "outputId": "3893533d-9d49-4131-afbc-0a5fced1bb2b"
      },
      "outputs": [
        {
          "data": {
            "text/html": [
              "<div>\n",
              "<style scoped>\n",
              "    .dataframe tbody tr th:only-of-type {\n",
              "        vertical-align: middle;\n",
              "    }\n",
              "\n",
              "    .dataframe tbody tr th {\n",
              "        vertical-align: top;\n",
              "    }\n",
              "\n",
              "    .dataframe thead th {\n",
              "        text-align: right;\n",
              "    }\n",
              "</style>\n",
              "<table border=\"1\" class=\"dataframe\">\n",
              "  <thead>\n",
              "    <tr style=\"text-align: right;\">\n",
              "      <th></th>\n",
              "      <th>price</th>\n",
              "      <th>model_year</th>\n",
              "      <th>model</th>\n",
              "      <th>condition</th>\n",
              "      <th>cylinders</th>\n",
              "      <th>fuel</th>\n",
              "      <th>odometer</th>\n",
              "      <th>transmission</th>\n",
              "      <th>type</th>\n",
              "      <th>paint_color</th>\n",
              "      <th>is_4wd</th>\n",
              "      <th>date_posted</th>\n",
              "      <th>days_listed</th>\n",
              "      <th>date_posted_year</th>\n",
              "    </tr>\n",
              "  </thead>\n",
              "  <tbody>\n",
              "    <tr>\n",
              "      <th>0</th>\n",
              "      <td>9400</td>\n",
              "      <td>2011</td>\n",
              "      <td>bmw x5</td>\n",
              "      <td>good</td>\n",
              "      <td>6</td>\n",
              "      <td>gas</td>\n",
              "      <td>145000.0</td>\n",
              "      <td>automatic</td>\n",
              "      <td>SUV</td>\n",
              "      <td>black</td>\n",
              "      <td>1</td>\n",
              "      <td>2018-06-23</td>\n",
              "      <td>19</td>\n",
              "      <td>2018</td>\n",
              "    </tr>\n",
              "    <tr>\n",
              "      <th>1</th>\n",
              "      <td>25500</td>\n",
              "      <td>2011</td>\n",
              "      <td>ford f-150</td>\n",
              "      <td>good</td>\n",
              "      <td>6</td>\n",
              "      <td>gas</td>\n",
              "      <td>88705.0</td>\n",
              "      <td>automatic</td>\n",
              "      <td>pickup</td>\n",
              "      <td>white</td>\n",
              "      <td>1</td>\n",
              "      <td>2018-10-19</td>\n",
              "      <td>50</td>\n",
              "      <td>2018</td>\n",
              "    </tr>\n",
              "    <tr>\n",
              "      <th>2</th>\n",
              "      <td>5500</td>\n",
              "      <td>2013</td>\n",
              "      <td>hyundai sonata</td>\n",
              "      <td>like new</td>\n",
              "      <td>4</td>\n",
              "      <td>gas</td>\n",
              "      <td>110000.0</td>\n",
              "      <td>automatic</td>\n",
              "      <td>sedan</td>\n",
              "      <td>red</td>\n",
              "      <td>0</td>\n",
              "      <td>2019-02-07</td>\n",
              "      <td>79</td>\n",
              "      <td>2019</td>\n",
              "    </tr>\n",
              "    <tr>\n",
              "      <th>3</th>\n",
              "      <td>1500</td>\n",
              "      <td>2003</td>\n",
              "      <td>ford f-150</td>\n",
              "      <td>fair</td>\n",
              "      <td>8</td>\n",
              "      <td>gas</td>\n",
              "      <td>161397.0</td>\n",
              "      <td>automatic</td>\n",
              "      <td>pickup</td>\n",
              "      <td>white</td>\n",
              "      <td>0</td>\n",
              "      <td>2019-03-22</td>\n",
              "      <td>9</td>\n",
              "      <td>2019</td>\n",
              "    </tr>\n",
              "    <tr>\n",
              "      <th>4</th>\n",
              "      <td>14900</td>\n",
              "      <td>2017</td>\n",
              "      <td>chrysler 200</td>\n",
              "      <td>excellent</td>\n",
              "      <td>4</td>\n",
              "      <td>gas</td>\n",
              "      <td>80903.0</td>\n",
              "      <td>automatic</td>\n",
              "      <td>sedan</td>\n",
              "      <td>black</td>\n",
              "      <td>0</td>\n",
              "      <td>2019-04-02</td>\n",
              "      <td>28</td>\n",
              "      <td>2019</td>\n",
              "    </tr>\n",
              "    <tr>\n",
              "      <th>...</th>\n",
              "      <td>...</td>\n",
              "      <td>...</td>\n",
              "      <td>...</td>\n",
              "      <td>...</td>\n",
              "      <td>...</td>\n",
              "      <td>...</td>\n",
              "      <td>...</td>\n",
              "      <td>...</td>\n",
              "      <td>...</td>\n",
              "      <td>...</td>\n",
              "      <td>...</td>\n",
              "      <td>...</td>\n",
              "      <td>...</td>\n",
              "      <td>...</td>\n",
              "    </tr>\n",
              "    <tr>\n",
              "      <th>51520</th>\n",
              "      <td>9249</td>\n",
              "      <td>2013</td>\n",
              "      <td>nissan maxima</td>\n",
              "      <td>like new</td>\n",
              "      <td>6</td>\n",
              "      <td>gas</td>\n",
              "      <td>88136.0</td>\n",
              "      <td>automatic</td>\n",
              "      <td>sedan</td>\n",
              "      <td>black</td>\n",
              "      <td>0</td>\n",
              "      <td>2018-10-03</td>\n",
              "      <td>37</td>\n",
              "      <td>2018</td>\n",
              "    </tr>\n",
              "    <tr>\n",
              "      <th>51521</th>\n",
              "      <td>2700</td>\n",
              "      <td>2002</td>\n",
              "      <td>honda civic</td>\n",
              "      <td>salvage</td>\n",
              "      <td>4</td>\n",
              "      <td>gas</td>\n",
              "      <td>181500.0</td>\n",
              "      <td>automatic</td>\n",
              "      <td>sedan</td>\n",
              "      <td>white</td>\n",
              "      <td>0</td>\n",
              "      <td>2018-11-14</td>\n",
              "      <td>22</td>\n",
              "      <td>2018</td>\n",
              "    </tr>\n",
              "    <tr>\n",
              "      <th>51522</th>\n",
              "      <td>3950</td>\n",
              "      <td>2009</td>\n",
              "      <td>hyundai sonata</td>\n",
              "      <td>excellent</td>\n",
              "      <td>4</td>\n",
              "      <td>gas</td>\n",
              "      <td>128000.0</td>\n",
              "      <td>automatic</td>\n",
              "      <td>sedan</td>\n",
              "      <td>blue</td>\n",
              "      <td>0</td>\n",
              "      <td>2018-11-15</td>\n",
              "      <td>32</td>\n",
              "      <td>2018</td>\n",
              "    </tr>\n",
              "    <tr>\n",
              "      <th>51523</th>\n",
              "      <td>7455</td>\n",
              "      <td>2013</td>\n",
              "      <td>toyota corolla</td>\n",
              "      <td>good</td>\n",
              "      <td>4</td>\n",
              "      <td>gas</td>\n",
              "      <td>139573.0</td>\n",
              "      <td>automatic</td>\n",
              "      <td>sedan</td>\n",
              "      <td>black</td>\n",
              "      <td>0</td>\n",
              "      <td>2018-07-02</td>\n",
              "      <td>71</td>\n",
              "      <td>2018</td>\n",
              "    </tr>\n",
              "    <tr>\n",
              "      <th>51524</th>\n",
              "      <td>6300</td>\n",
              "      <td>2014</td>\n",
              "      <td>nissan altima</td>\n",
              "      <td>good</td>\n",
              "      <td>4</td>\n",
              "      <td>gas</td>\n",
              "      <td>90000.0</td>\n",
              "      <td>automatic</td>\n",
              "      <td>sedan</td>\n",
              "      <td>grey</td>\n",
              "      <td>0</td>\n",
              "      <td>2018-06-05</td>\n",
              "      <td>10</td>\n",
              "      <td>2018</td>\n",
              "    </tr>\n",
              "  </tbody>\n",
              "</table>\n",
              "<p>51525 rows × 14 columns</p>\n",
              "</div>"
            ],
            "text/plain": [
              "       price  model_year           model  condition  cylinders fuel  odometer  \\\n",
              "0       9400        2011          bmw x5       good          6  gas  145000.0   \n",
              "1      25500        2011      ford f-150       good          6  gas   88705.0   \n",
              "2       5500        2013  hyundai sonata   like new          4  gas  110000.0   \n",
              "3       1500        2003      ford f-150       fair          8  gas  161397.0   \n",
              "4      14900        2017    chrysler 200  excellent          4  gas   80903.0   \n",
              "...      ...         ...             ...        ...        ...  ...       ...   \n",
              "51520   9249        2013   nissan maxima   like new          6  gas   88136.0   \n",
              "51521   2700        2002     honda civic    salvage          4  gas  181500.0   \n",
              "51522   3950        2009  hyundai sonata  excellent          4  gas  128000.0   \n",
              "51523   7455        2013  toyota corolla       good          4  gas  139573.0   \n",
              "51524   6300        2014   nissan altima       good          4  gas   90000.0   \n",
              "\n",
              "      transmission    type paint_color  is_4wd date_posted  days_listed  \\\n",
              "0        automatic     SUV       black       1  2018-06-23           19   \n",
              "1        automatic  pickup       white       1  2018-10-19           50   \n",
              "2        automatic   sedan         red       0  2019-02-07           79   \n",
              "3        automatic  pickup       white       0  2019-03-22            9   \n",
              "4        automatic   sedan       black       0  2019-04-02           28   \n",
              "...            ...     ...         ...     ...         ...          ...   \n",
              "51520    automatic   sedan       black       0  2018-10-03           37   \n",
              "51521    automatic   sedan       white       0  2018-11-14           22   \n",
              "51522    automatic   sedan        blue       0  2018-11-15           32   \n",
              "51523    automatic   sedan       black       0  2018-07-02           71   \n",
              "51524    automatic   sedan        grey       0  2018-06-05           10   \n",
              "\n",
              "       date_posted_year  \n",
              "0                  2018  \n",
              "1                  2018  \n",
              "2                  2019  \n",
              "3                  2019  \n",
              "4                  2019  \n",
              "...                 ...  \n",
              "51520              2018  \n",
              "51521              2018  \n",
              "51522              2018  \n",
              "51523              2018  \n",
              "51524              2018  \n",
              "\n",
              "[51525 rows x 14 columns]"
            ]
          },
          "execution_count": 47,
          "metadata": {},
          "output_type": "execute_result"
        }
      ],
      "source": [
        "#Creamos una nueva columna con el año en el que se publicó el anuncio\n",
        "data['date_posted_year']= data['date_posted'].dt.year\n",
        "data"
      ]
    },
    {
      "cell_type": "code",
      "execution_count": null,
      "metadata": {
        "id": "CYMXHv4jQ352",
        "outputId": "9f6c76b8-a18b-4018-b61c-02050c2e89bc"
      },
      "outputs": [
        {
          "data": {
            "text/html": [
              "<div>\n",
              "<style scoped>\n",
              "    .dataframe tbody tr th:only-of-type {\n",
              "        vertical-align: middle;\n",
              "    }\n",
              "\n",
              "    .dataframe tbody tr th {\n",
              "        vertical-align: top;\n",
              "    }\n",
              "\n",
              "    .dataframe thead th {\n",
              "        text-align: right;\n",
              "    }\n",
              "</style>\n",
              "<table border=\"1\" class=\"dataframe\">\n",
              "  <thead>\n",
              "    <tr style=\"text-align: right;\">\n",
              "      <th></th>\n",
              "      <th>price</th>\n",
              "      <th>model_year</th>\n",
              "      <th>model</th>\n",
              "      <th>condition</th>\n",
              "      <th>cylinders</th>\n",
              "      <th>fuel</th>\n",
              "      <th>odometer</th>\n",
              "      <th>transmission</th>\n",
              "      <th>type</th>\n",
              "      <th>paint_color</th>\n",
              "      <th>is_4wd</th>\n",
              "      <th>date_posted</th>\n",
              "      <th>days_listed</th>\n",
              "      <th>date_posted_year</th>\n",
              "      <th>years_posted</th>\n",
              "    </tr>\n",
              "  </thead>\n",
              "  <tbody>\n",
              "    <tr>\n",
              "      <th>0</th>\n",
              "      <td>9400</td>\n",
              "      <td>2011</td>\n",
              "      <td>bmw x5</td>\n",
              "      <td>good</td>\n",
              "      <td>6</td>\n",
              "      <td>gas</td>\n",
              "      <td>145000.0</td>\n",
              "      <td>automatic</td>\n",
              "      <td>SUV</td>\n",
              "      <td>black</td>\n",
              "      <td>1</td>\n",
              "      <td>2018-06-23</td>\n",
              "      <td>19</td>\n",
              "      <td>2018</td>\n",
              "      <td>7</td>\n",
              "    </tr>\n",
              "    <tr>\n",
              "      <th>1</th>\n",
              "      <td>25500</td>\n",
              "      <td>2011</td>\n",
              "      <td>ford f-150</td>\n",
              "      <td>good</td>\n",
              "      <td>6</td>\n",
              "      <td>gas</td>\n",
              "      <td>88705.0</td>\n",
              "      <td>automatic</td>\n",
              "      <td>pickup</td>\n",
              "      <td>white</td>\n",
              "      <td>1</td>\n",
              "      <td>2018-10-19</td>\n",
              "      <td>50</td>\n",
              "      <td>2018</td>\n",
              "      <td>7</td>\n",
              "    </tr>\n",
              "    <tr>\n",
              "      <th>2</th>\n",
              "      <td>5500</td>\n",
              "      <td>2013</td>\n",
              "      <td>hyundai sonata</td>\n",
              "      <td>like new</td>\n",
              "      <td>4</td>\n",
              "      <td>gas</td>\n",
              "      <td>110000.0</td>\n",
              "      <td>automatic</td>\n",
              "      <td>sedan</td>\n",
              "      <td>red</td>\n",
              "      <td>0</td>\n",
              "      <td>2019-02-07</td>\n",
              "      <td>79</td>\n",
              "      <td>2019</td>\n",
              "      <td>6</td>\n",
              "    </tr>\n",
              "    <tr>\n",
              "      <th>3</th>\n",
              "      <td>1500</td>\n",
              "      <td>2003</td>\n",
              "      <td>ford f-150</td>\n",
              "      <td>fair</td>\n",
              "      <td>8</td>\n",
              "      <td>gas</td>\n",
              "      <td>161397.0</td>\n",
              "      <td>automatic</td>\n",
              "      <td>pickup</td>\n",
              "      <td>white</td>\n",
              "      <td>0</td>\n",
              "      <td>2019-03-22</td>\n",
              "      <td>9</td>\n",
              "      <td>2019</td>\n",
              "      <td>16</td>\n",
              "    </tr>\n",
              "    <tr>\n",
              "      <th>4</th>\n",
              "      <td>14900</td>\n",
              "      <td>2017</td>\n",
              "      <td>chrysler 200</td>\n",
              "      <td>excellent</td>\n",
              "      <td>4</td>\n",
              "      <td>gas</td>\n",
              "      <td>80903.0</td>\n",
              "      <td>automatic</td>\n",
              "      <td>sedan</td>\n",
              "      <td>black</td>\n",
              "      <td>0</td>\n",
              "      <td>2019-04-02</td>\n",
              "      <td>28</td>\n",
              "      <td>2019</td>\n",
              "      <td>2</td>\n",
              "    </tr>\n",
              "    <tr>\n",
              "      <th>...</th>\n",
              "      <td>...</td>\n",
              "      <td>...</td>\n",
              "      <td>...</td>\n",
              "      <td>...</td>\n",
              "      <td>...</td>\n",
              "      <td>...</td>\n",
              "      <td>...</td>\n",
              "      <td>...</td>\n",
              "      <td>...</td>\n",
              "      <td>...</td>\n",
              "      <td>...</td>\n",
              "      <td>...</td>\n",
              "      <td>...</td>\n",
              "      <td>...</td>\n",
              "      <td>...</td>\n",
              "    </tr>\n",
              "    <tr>\n",
              "      <th>51520</th>\n",
              "      <td>9249</td>\n",
              "      <td>2013</td>\n",
              "      <td>nissan maxima</td>\n",
              "      <td>like new</td>\n",
              "      <td>6</td>\n",
              "      <td>gas</td>\n",
              "      <td>88136.0</td>\n",
              "      <td>automatic</td>\n",
              "      <td>sedan</td>\n",
              "      <td>black</td>\n",
              "      <td>0</td>\n",
              "      <td>2018-10-03</td>\n",
              "      <td>37</td>\n",
              "      <td>2018</td>\n",
              "      <td>5</td>\n",
              "    </tr>\n",
              "    <tr>\n",
              "      <th>51521</th>\n",
              "      <td>2700</td>\n",
              "      <td>2002</td>\n",
              "      <td>honda civic</td>\n",
              "      <td>salvage</td>\n",
              "      <td>4</td>\n",
              "      <td>gas</td>\n",
              "      <td>181500.0</td>\n",
              "      <td>automatic</td>\n",
              "      <td>sedan</td>\n",
              "      <td>white</td>\n",
              "      <td>0</td>\n",
              "      <td>2018-11-14</td>\n",
              "      <td>22</td>\n",
              "      <td>2018</td>\n",
              "      <td>16</td>\n",
              "    </tr>\n",
              "    <tr>\n",
              "      <th>51522</th>\n",
              "      <td>3950</td>\n",
              "      <td>2009</td>\n",
              "      <td>hyundai sonata</td>\n",
              "      <td>excellent</td>\n",
              "      <td>4</td>\n",
              "      <td>gas</td>\n",
              "      <td>128000.0</td>\n",
              "      <td>automatic</td>\n",
              "      <td>sedan</td>\n",
              "      <td>blue</td>\n",
              "      <td>0</td>\n",
              "      <td>2018-11-15</td>\n",
              "      <td>32</td>\n",
              "      <td>2018</td>\n",
              "      <td>9</td>\n",
              "    </tr>\n",
              "    <tr>\n",
              "      <th>51523</th>\n",
              "      <td>7455</td>\n",
              "      <td>2013</td>\n",
              "      <td>toyota corolla</td>\n",
              "      <td>good</td>\n",
              "      <td>4</td>\n",
              "      <td>gas</td>\n",
              "      <td>139573.0</td>\n",
              "      <td>automatic</td>\n",
              "      <td>sedan</td>\n",
              "      <td>black</td>\n",
              "      <td>0</td>\n",
              "      <td>2018-07-02</td>\n",
              "      <td>71</td>\n",
              "      <td>2018</td>\n",
              "      <td>5</td>\n",
              "    </tr>\n",
              "    <tr>\n",
              "      <th>51524</th>\n",
              "      <td>6300</td>\n",
              "      <td>2014</td>\n",
              "      <td>nissan altima</td>\n",
              "      <td>good</td>\n",
              "      <td>4</td>\n",
              "      <td>gas</td>\n",
              "      <td>90000.0</td>\n",
              "      <td>automatic</td>\n",
              "      <td>sedan</td>\n",
              "      <td>grey</td>\n",
              "      <td>0</td>\n",
              "      <td>2018-06-05</td>\n",
              "      <td>10</td>\n",
              "      <td>2018</td>\n",
              "      <td>4</td>\n",
              "    </tr>\n",
              "  </tbody>\n",
              "</table>\n",
              "<p>51525 rows × 15 columns</p>\n",
              "</div>"
            ],
            "text/plain": [
              "       price  model_year           model  condition  cylinders fuel  odometer  \\\n",
              "0       9400        2011          bmw x5       good          6  gas  145000.0   \n",
              "1      25500        2011      ford f-150       good          6  gas   88705.0   \n",
              "2       5500        2013  hyundai sonata   like new          4  gas  110000.0   \n",
              "3       1500        2003      ford f-150       fair          8  gas  161397.0   \n",
              "4      14900        2017    chrysler 200  excellent          4  gas   80903.0   \n",
              "...      ...         ...             ...        ...        ...  ...       ...   \n",
              "51520   9249        2013   nissan maxima   like new          6  gas   88136.0   \n",
              "51521   2700        2002     honda civic    salvage          4  gas  181500.0   \n",
              "51522   3950        2009  hyundai sonata  excellent          4  gas  128000.0   \n",
              "51523   7455        2013  toyota corolla       good          4  gas  139573.0   \n",
              "51524   6300        2014   nissan altima       good          4  gas   90000.0   \n",
              "\n",
              "      transmission    type paint_color  is_4wd date_posted  days_listed  \\\n",
              "0        automatic     SUV       black       1  2018-06-23           19   \n",
              "1        automatic  pickup       white       1  2018-10-19           50   \n",
              "2        automatic   sedan         red       0  2019-02-07           79   \n",
              "3        automatic  pickup       white       0  2019-03-22            9   \n",
              "4        automatic   sedan       black       0  2019-04-02           28   \n",
              "...            ...     ...         ...     ...         ...          ...   \n",
              "51520    automatic   sedan       black       0  2018-10-03           37   \n",
              "51521    automatic   sedan       white       0  2018-11-14           22   \n",
              "51522    automatic   sedan        blue       0  2018-11-15           32   \n",
              "51523    automatic   sedan       black       0  2018-07-02           71   \n",
              "51524    automatic   sedan        grey       0  2018-06-05           10   \n",
              "\n",
              "       date_posted_year  years_posted  \n",
              "0                  2018             7  \n",
              "1                  2018             7  \n",
              "2                  2019             6  \n",
              "3                  2019            16  \n",
              "4                  2019             2  \n",
              "...                 ...           ...  \n",
              "51520              2018             5  \n",
              "51521              2018            16  \n",
              "51522              2018             9  \n",
              "51523              2018             5  \n",
              "51524              2018             4  \n",
              "\n",
              "[51525 rows x 15 columns]"
            ]
          },
          "execution_count": 48,
          "metadata": {},
          "output_type": "execute_result"
        }
      ],
      "source": [
        "#Años del vehículo cuando el anuncio se colocó\n",
        "\n",
        "data['years_posted']= data['date_posted_year']- data['model_year']\n",
        "data"
      ]
    },
    {
      "cell_type": "code",
      "execution_count": null,
      "metadata": {
        "id": "dpXDLxXuQ352",
        "outputId": "4ff33d47-44d5-45e6-ad98-7f26d6caf115"
      },
      "outputs": [
        {
          "data": {
            "text/html": [
              "<div>\n",
              "<style scoped>\n",
              "    .dataframe tbody tr th:only-of-type {\n",
              "        vertical-align: middle;\n",
              "    }\n",
              "\n",
              "    .dataframe tbody tr th {\n",
              "        vertical-align: top;\n",
              "    }\n",
              "\n",
              "    .dataframe thead th {\n",
              "        text-align: right;\n",
              "    }\n",
              "</style>\n",
              "<table border=\"1\" class=\"dataframe\">\n",
              "  <thead>\n",
              "    <tr style=\"text-align: right;\">\n",
              "      <th></th>\n",
              "      <th>price</th>\n",
              "      <th>model_year</th>\n",
              "      <th>model</th>\n",
              "      <th>condition</th>\n",
              "      <th>cylinders</th>\n",
              "      <th>fuel</th>\n",
              "      <th>odometer</th>\n",
              "      <th>transmission</th>\n",
              "      <th>type</th>\n",
              "      <th>paint_color</th>\n",
              "      <th>is_4wd</th>\n",
              "      <th>date_posted</th>\n",
              "      <th>days_listed</th>\n",
              "      <th>date_posted_year</th>\n",
              "      <th>years_posted</th>\n",
              "      <th>average_miles</th>\n",
              "    </tr>\n",
              "  </thead>\n",
              "  <tbody>\n",
              "    <tr>\n",
              "      <th>0</th>\n",
              "      <td>9400</td>\n",
              "      <td>2011</td>\n",
              "      <td>bmw x5</td>\n",
              "      <td>good</td>\n",
              "      <td>6</td>\n",
              "      <td>gas</td>\n",
              "      <td>145000.0</td>\n",
              "      <td>automatic</td>\n",
              "      <td>SUV</td>\n",
              "      <td>black</td>\n",
              "      <td>1</td>\n",
              "      <td>2018-06-23</td>\n",
              "      <td>19</td>\n",
              "      <td>2018</td>\n",
              "      <td>7</td>\n",
              "      <td>20714.285714</td>\n",
              "    </tr>\n",
              "    <tr>\n",
              "      <th>1</th>\n",
              "      <td>25500</td>\n",
              "      <td>2011</td>\n",
              "      <td>ford f-150</td>\n",
              "      <td>good</td>\n",
              "      <td>6</td>\n",
              "      <td>gas</td>\n",
              "      <td>88705.0</td>\n",
              "      <td>automatic</td>\n",
              "      <td>pickup</td>\n",
              "      <td>white</td>\n",
              "      <td>1</td>\n",
              "      <td>2018-10-19</td>\n",
              "      <td>50</td>\n",
              "      <td>2018</td>\n",
              "      <td>7</td>\n",
              "      <td>12672.142857</td>\n",
              "    </tr>\n",
              "    <tr>\n",
              "      <th>2</th>\n",
              "      <td>5500</td>\n",
              "      <td>2013</td>\n",
              "      <td>hyundai sonata</td>\n",
              "      <td>like new</td>\n",
              "      <td>4</td>\n",
              "      <td>gas</td>\n",
              "      <td>110000.0</td>\n",
              "      <td>automatic</td>\n",
              "      <td>sedan</td>\n",
              "      <td>red</td>\n",
              "      <td>0</td>\n",
              "      <td>2019-02-07</td>\n",
              "      <td>79</td>\n",
              "      <td>2019</td>\n",
              "      <td>6</td>\n",
              "      <td>18333.333333</td>\n",
              "    </tr>\n",
              "    <tr>\n",
              "      <th>3</th>\n",
              "      <td>1500</td>\n",
              "      <td>2003</td>\n",
              "      <td>ford f-150</td>\n",
              "      <td>fair</td>\n",
              "      <td>8</td>\n",
              "      <td>gas</td>\n",
              "      <td>161397.0</td>\n",
              "      <td>automatic</td>\n",
              "      <td>pickup</td>\n",
              "      <td>white</td>\n",
              "      <td>0</td>\n",
              "      <td>2019-03-22</td>\n",
              "      <td>9</td>\n",
              "      <td>2019</td>\n",
              "      <td>16</td>\n",
              "      <td>10087.312500</td>\n",
              "    </tr>\n",
              "    <tr>\n",
              "      <th>4</th>\n",
              "      <td>14900</td>\n",
              "      <td>2017</td>\n",
              "      <td>chrysler 200</td>\n",
              "      <td>excellent</td>\n",
              "      <td>4</td>\n",
              "      <td>gas</td>\n",
              "      <td>80903.0</td>\n",
              "      <td>automatic</td>\n",
              "      <td>sedan</td>\n",
              "      <td>black</td>\n",
              "      <td>0</td>\n",
              "      <td>2019-04-02</td>\n",
              "      <td>28</td>\n",
              "      <td>2019</td>\n",
              "      <td>2</td>\n",
              "      <td>40451.500000</td>\n",
              "    </tr>\n",
              "  </tbody>\n",
              "</table>\n",
              "</div>"
            ],
            "text/plain": [
              "   price  model_year           model  condition  cylinders fuel  odometer  \\\n",
              "0   9400        2011          bmw x5       good          6  gas  145000.0   \n",
              "1  25500        2011      ford f-150       good          6  gas   88705.0   \n",
              "2   5500        2013  hyundai sonata   like new          4  gas  110000.0   \n",
              "3   1500        2003      ford f-150       fair          8  gas  161397.0   \n",
              "4  14900        2017    chrysler 200  excellent          4  gas   80903.0   \n",
              "\n",
              "  transmission    type paint_color  is_4wd date_posted  days_listed  \\\n",
              "0    automatic     SUV       black       1  2018-06-23           19   \n",
              "1    automatic  pickup       white       1  2018-10-19           50   \n",
              "2    automatic   sedan         red       0  2019-02-07           79   \n",
              "3    automatic  pickup       white       0  2019-03-22            9   \n",
              "4    automatic   sedan       black       0  2019-04-02           28   \n",
              "\n",
              "   date_posted_year  years_posted  average_miles  \n",
              "0              2018             7   20714.285714  \n",
              "1              2018             7   12672.142857  \n",
              "2              2019             6   18333.333333  \n",
              "3              2019            16   10087.312500  \n",
              "4              2019             2   40451.500000  "
            ]
          },
          "execution_count": 49,
          "metadata": {},
          "output_type": "execute_result"
        }
      ],
      "source": [
        "# Agrega el millaje promedio del vehículo por año\n",
        "\n",
        "data['average_miles']= data['odometer']/data['years_posted']\n",
        "data.head()"
      ]
    },
    {
      "cell_type": "code",
      "execution_count": null,
      "metadata": {
        "id": "YGjW_5t7Q352",
        "outputId": "bb9c95a1-9fe1-4788-b26f-8b4494ff719d"
      },
      "outputs": [
        {
          "data": {
            "text/html": [
              "<div>\n",
              "<style scoped>\n",
              "    .dataframe tbody tr th:only-of-type {\n",
              "        vertical-align: middle;\n",
              "    }\n",
              "\n",
              "    .dataframe tbody tr th {\n",
              "        vertical-align: top;\n",
              "    }\n",
              "\n",
              "    .dataframe thead th {\n",
              "        text-align: right;\n",
              "    }\n",
              "</style>\n",
              "<table border=\"1\" class=\"dataframe\">\n",
              "  <thead>\n",
              "    <tr style=\"text-align: right;\">\n",
              "      <th></th>\n",
              "      <th>price</th>\n",
              "      <th>model_year</th>\n",
              "      <th>model</th>\n",
              "      <th>condition</th>\n",
              "      <th>cylinders</th>\n",
              "      <th>fuel</th>\n",
              "      <th>odometer</th>\n",
              "      <th>transmission</th>\n",
              "      <th>type</th>\n",
              "      <th>paint_color</th>\n",
              "      <th>is_4wd</th>\n",
              "      <th>date_posted</th>\n",
              "      <th>days_listed</th>\n",
              "      <th>date_posted_year</th>\n",
              "      <th>years_posted</th>\n",
              "      <th>average_miles</th>\n",
              "    </tr>\n",
              "  </thead>\n",
              "  <tbody>\n",
              "    <tr>\n",
              "      <th>17037</th>\n",
              "      <td>45400</td>\n",
              "      <td>2018</td>\n",
              "      <td>ram 3500</td>\n",
              "      <td>excellent</td>\n",
              "      <td>6</td>\n",
              "      <td>diesel</td>\n",
              "      <td>0.0</td>\n",
              "      <td>automatic</td>\n",
              "      <td>pickup</td>\n",
              "      <td>black</td>\n",
              "      <td>1</td>\n",
              "      <td>2018-12-16</td>\n",
              "      <td>18</td>\n",
              "      <td>2018</td>\n",
              "      <td>0</td>\n",
              "      <td>NaN</td>\n",
              "    </tr>\n",
              "    <tr>\n",
              "      <th>40489</th>\n",
              "      <td>15900</td>\n",
              "      <td>2018</td>\n",
              "      <td>toyota prius</td>\n",
              "      <td>excellent</td>\n",
              "      <td>4</td>\n",
              "      <td>hybrid</td>\n",
              "      <td>0.0</td>\n",
              "      <td>automatic</td>\n",
              "      <td>hatchback</td>\n",
              "      <td>blue</td>\n",
              "      <td>0</td>\n",
              "      <td>2018-07-30</td>\n",
              "      <td>31</td>\n",
              "      <td>2018</td>\n",
              "      <td>0</td>\n",
              "      <td>NaN</td>\n",
              "    </tr>\n",
              "  </tbody>\n",
              "</table>\n",
              "</div>"
            ],
            "text/plain": [
              "       price  model_year         model  condition  cylinders    fuel  \\\n",
              "17037  45400        2018      ram 3500  excellent          6  diesel   \n",
              "40489  15900        2018  toyota prius  excellent          4  hybrid   \n",
              "\n",
              "       odometer transmission       type paint_color  is_4wd date_posted  \\\n",
              "17037       0.0    automatic     pickup       black       1  2018-12-16   \n",
              "40489       0.0    automatic  hatchback        blue       0  2018-07-30   \n",
              "\n",
              "       days_listed  date_posted_year  years_posted  average_miles  \n",
              "17037           18              2018             0            NaN  \n",
              "40489           31              2018             0            NaN  "
            ]
          },
          "execution_count": 50,
          "metadata": {},
          "output_type": "execute_result"
        }
      ],
      "source": [
        "#Vamos a revisar los valores nulos que aparecieron en la columna de los promedios\n",
        "nan_rows = data[data.isnull().any(1)]\n",
        "nan_rows"
      ]
    },
    {
      "cell_type": "code",
      "execution_count": null,
      "metadata": {
        "id": "4C-h54S_Q352"
      },
      "outputs": [],
      "source": [
        "#Llenaremos con 0 esos valores ausentes ya que no hay millas ni años \n",
        "\n",
        "data['average_miles']= data['average_miles'].fillna(0)"
      ]
    },
    {
      "cell_type": "code",
      "execution_count": null,
      "metadata": {
        "id": "T5L7BNQyQ352",
        "outputId": "0086f574-57f5-4bc5-f586-0ca592a04364"
      },
      "outputs": [
        {
          "data": {
            "text/plain": [
              "0"
            ]
          },
          "execution_count": 52,
          "metadata": {},
          "output_type": "execute_result"
        }
      ],
      "source": [
        "data['average_miles'].isna().sum()"
      ]
    },
    {
      "cell_type": "code",
      "execution_count": null,
      "metadata": {
        "id": "OOd1kGv2Q352",
        "outputId": "3c4b3cf4-0a42-49ec-d490-534026efdfc5"
      },
      "outputs": [
        {
          "data": {
            "text/html": [
              "<div>\n",
              "<style scoped>\n",
              "    .dataframe tbody tr th:only-of-type {\n",
              "        vertical-align: middle;\n",
              "    }\n",
              "\n",
              "    .dataframe tbody tr th {\n",
              "        vertical-align: top;\n",
              "    }\n",
              "\n",
              "    .dataframe thead th {\n",
              "        text-align: right;\n",
              "    }\n",
              "</style>\n",
              "<table border=\"1\" class=\"dataframe\">\n",
              "  <thead>\n",
              "    <tr style=\"text-align: right;\">\n",
              "      <th></th>\n",
              "      <th>condition</th>\n",
              "    </tr>\n",
              "  </thead>\n",
              "  <tbody>\n",
              "    <tr>\n",
              "      <th>0</th>\n",
              "      <td>good</td>\n",
              "    </tr>\n",
              "    <tr>\n",
              "      <th>2</th>\n",
              "      <td>like new</td>\n",
              "    </tr>\n",
              "    <tr>\n",
              "      <th>3</th>\n",
              "      <td>fair</td>\n",
              "    </tr>\n",
              "    <tr>\n",
              "      <th>4</th>\n",
              "      <td>excellent</td>\n",
              "    </tr>\n",
              "    <tr>\n",
              "      <th>317</th>\n",
              "      <td>salvage</td>\n",
              "    </tr>\n",
              "    <tr>\n",
              "      <th>470</th>\n",
              "      <td>new</td>\n",
              "    </tr>\n",
              "  </tbody>\n",
              "</table>\n",
              "</div>"
            ],
            "text/plain": [
              "     condition\n",
              "0         good\n",
              "2     like new\n",
              "3         fair\n",
              "4    excellent\n",
              "317    salvage\n",
              "470        new"
            ]
          },
          "execution_count": 53,
          "metadata": {},
          "output_type": "execute_result"
        }
      ],
      "source": [
        "# Podría ser útil reemplazar los valores de condición con algo que se pueda manipular más fácilmente\n",
        "data[['condition']].drop_duplicates()"
      ]
    },
    {
      "cell_type": "code",
      "execution_count": null,
      "metadata": {
        "id": "othHchgIQ353",
        "outputId": "9279defa-da77-4a20-b002-a450544037af"
      },
      "outputs": [
        {
          "name": "stdout",
          "output_type": "stream",
          "text": [
            "0\n",
            "1\n",
            "2\n",
            "3\n",
            "4\n",
            "5\n"
          ]
        }
      ],
      "source": [
        "\n",
        "def condition_id_func(condition):\n",
        "    \n",
        "    if condition == 'salvage':\n",
        "        return 0\n",
        "    if condition == 'fair':\n",
        "        return 1\n",
        "    if condition == 'good':\n",
        "        return 2\n",
        "    if condition == 'excellent':\n",
        "        return 3\n",
        "    if condition == 'like new':\n",
        "        return 4\n",
        "    if condition == 'new':\n",
        "        return 5\n",
        "    \n",
        "#Probemos la función\n",
        "print(condition_id_func('salvage'))\n",
        "print(condition_id_func('fair'))\n",
        "print(condition_id_func('good'))\n",
        "print(condition_id_func('excellent'))\n",
        "print(condition_id_func('like new'))\n",
        "print(condition_id_func('new'))\n",
        "\n"
      ]
    },
    {
      "cell_type": "markdown",
      "metadata": {
        "id": "bFDjCgPhQ353"
      },
      "source": [
        "<div class=\"alert alert-success\">\n",
        "<b>✔️ Comentario del revisor:</b> Aqui sera mas facil usar case"
      ]
    },
    {
      "cell_type": "code",
      "execution_count": null,
      "metadata": {
        "id": "BUpxBkdhQ353",
        "outputId": "146e96f3-42ae-495c-9499-463ca371449f"
      },
      "outputs": [
        {
          "data": {
            "text/html": [
              "<div>\n",
              "<style scoped>\n",
              "    .dataframe tbody tr th:only-of-type {\n",
              "        vertical-align: middle;\n",
              "    }\n",
              "\n",
              "    .dataframe tbody tr th {\n",
              "        vertical-align: top;\n",
              "    }\n",
              "\n",
              "    .dataframe thead th {\n",
              "        text-align: right;\n",
              "    }\n",
              "</style>\n",
              "<table border=\"1\" class=\"dataframe\">\n",
              "  <thead>\n",
              "    <tr style=\"text-align: right;\">\n",
              "      <th></th>\n",
              "      <th>price</th>\n",
              "      <th>model_year</th>\n",
              "      <th>model</th>\n",
              "      <th>condition</th>\n",
              "      <th>cylinders</th>\n",
              "      <th>fuel</th>\n",
              "      <th>odometer</th>\n",
              "      <th>transmission</th>\n",
              "      <th>type</th>\n",
              "      <th>paint_color</th>\n",
              "      <th>is_4wd</th>\n",
              "      <th>date_posted</th>\n",
              "      <th>days_listed</th>\n",
              "      <th>date_posted_year</th>\n",
              "      <th>years_posted</th>\n",
              "      <th>average_miles</th>\n",
              "      <th>condition_id</th>\n",
              "    </tr>\n",
              "  </thead>\n",
              "  <tbody>\n",
              "    <tr>\n",
              "      <th>0</th>\n",
              "      <td>9400</td>\n",
              "      <td>2011</td>\n",
              "      <td>bmw x5</td>\n",
              "      <td>good</td>\n",
              "      <td>6</td>\n",
              "      <td>gas</td>\n",
              "      <td>145000.0</td>\n",
              "      <td>automatic</td>\n",
              "      <td>SUV</td>\n",
              "      <td>black</td>\n",
              "      <td>1</td>\n",
              "      <td>2018-06-23</td>\n",
              "      <td>19</td>\n",
              "      <td>2018</td>\n",
              "      <td>7</td>\n",
              "      <td>20714.285714</td>\n",
              "      <td>2</td>\n",
              "    </tr>\n",
              "    <tr>\n",
              "      <th>1</th>\n",
              "      <td>25500</td>\n",
              "      <td>2011</td>\n",
              "      <td>ford f-150</td>\n",
              "      <td>good</td>\n",
              "      <td>6</td>\n",
              "      <td>gas</td>\n",
              "      <td>88705.0</td>\n",
              "      <td>automatic</td>\n",
              "      <td>pickup</td>\n",
              "      <td>white</td>\n",
              "      <td>1</td>\n",
              "      <td>2018-10-19</td>\n",
              "      <td>50</td>\n",
              "      <td>2018</td>\n",
              "      <td>7</td>\n",
              "      <td>12672.142857</td>\n",
              "      <td>2</td>\n",
              "    </tr>\n",
              "    <tr>\n",
              "      <th>2</th>\n",
              "      <td>5500</td>\n",
              "      <td>2013</td>\n",
              "      <td>hyundai sonata</td>\n",
              "      <td>like new</td>\n",
              "      <td>4</td>\n",
              "      <td>gas</td>\n",
              "      <td>110000.0</td>\n",
              "      <td>automatic</td>\n",
              "      <td>sedan</td>\n",
              "      <td>red</td>\n",
              "      <td>0</td>\n",
              "      <td>2019-02-07</td>\n",
              "      <td>79</td>\n",
              "      <td>2019</td>\n",
              "      <td>6</td>\n",
              "      <td>18333.333333</td>\n",
              "      <td>4</td>\n",
              "    </tr>\n",
              "    <tr>\n",
              "      <th>3</th>\n",
              "      <td>1500</td>\n",
              "      <td>2003</td>\n",
              "      <td>ford f-150</td>\n",
              "      <td>fair</td>\n",
              "      <td>8</td>\n",
              "      <td>gas</td>\n",
              "      <td>161397.0</td>\n",
              "      <td>automatic</td>\n",
              "      <td>pickup</td>\n",
              "      <td>white</td>\n",
              "      <td>0</td>\n",
              "      <td>2019-03-22</td>\n",
              "      <td>9</td>\n",
              "      <td>2019</td>\n",
              "      <td>16</td>\n",
              "      <td>10087.312500</td>\n",
              "      <td>1</td>\n",
              "    </tr>\n",
              "    <tr>\n",
              "      <th>4</th>\n",
              "      <td>14900</td>\n",
              "      <td>2017</td>\n",
              "      <td>chrysler 200</td>\n",
              "      <td>excellent</td>\n",
              "      <td>4</td>\n",
              "      <td>gas</td>\n",
              "      <td>80903.0</td>\n",
              "      <td>automatic</td>\n",
              "      <td>sedan</td>\n",
              "      <td>black</td>\n",
              "      <td>0</td>\n",
              "      <td>2019-04-02</td>\n",
              "      <td>28</td>\n",
              "      <td>2019</td>\n",
              "      <td>2</td>\n",
              "      <td>40451.500000</td>\n",
              "      <td>3</td>\n",
              "    </tr>\n",
              "  </tbody>\n",
              "</table>\n",
              "</div>"
            ],
            "text/plain": [
              "   price  model_year           model  condition  cylinders fuel  odometer  \\\n",
              "0   9400        2011          bmw x5       good          6  gas  145000.0   \n",
              "1  25500        2011      ford f-150       good          6  gas   88705.0   \n",
              "2   5500        2013  hyundai sonata   like new          4  gas  110000.0   \n",
              "3   1500        2003      ford f-150       fair          8  gas  161397.0   \n",
              "4  14900        2017    chrysler 200  excellent          4  gas   80903.0   \n",
              "\n",
              "  transmission    type paint_color  is_4wd date_posted  days_listed  \\\n",
              "0    automatic     SUV       black       1  2018-06-23           19   \n",
              "1    automatic  pickup       white       1  2018-10-19           50   \n",
              "2    automatic   sedan         red       0  2019-02-07           79   \n",
              "3    automatic  pickup       white       0  2019-03-22            9   \n",
              "4    automatic   sedan       black       0  2019-04-02           28   \n",
              "\n",
              "   date_posted_year  years_posted  average_miles  condition_id  \n",
              "0              2018             7   20714.285714             2  \n",
              "1              2018             7   12672.142857             2  \n",
              "2              2019             6   18333.333333             4  \n",
              "3              2019            16   10087.312500             1  \n",
              "4              2019             2   40451.500000             3  "
            ]
          },
          "execution_count": 55,
          "metadata": {},
          "output_type": "execute_result"
        }
      ],
      "source": [
        "data['condition_id'] = data['condition'].apply(condition_id_func)\n",
        "data.head()"
      ]
    },
    {
      "cell_type": "markdown",
      "metadata": {
        "id": "12Q7V-w5Q353"
      },
      "source": [
        "## Comprobar datos limpios"
      ]
    },
    {
      "cell_type": "markdown",
      "metadata": {
        "id": "kZfgwwiKQ353"
      },
      "source": [
        "[Dado que los datos están listos para el análisis, échales otro vistazo rápido. Es útil ver qué es exactamente lo que vas a utilizar para el análisis.]"
      ]
    },
    {
      "cell_type": "code",
      "execution_count": null,
      "metadata": {
        "id": "DswpzdEQQ353",
        "outputId": "da3c7cf5-67bb-49e8-f0d5-db4af740aa64"
      },
      "outputs": [
        {
          "name": "stdout",
          "output_type": "stream",
          "text": [
            "<class 'pandas.core.frame.DataFrame'>\n",
            "RangeIndex: 51525 entries, 0 to 51524\n",
            "Data columns (total 17 columns):\n",
            " #   Column            Non-Null Count  Dtype         \n",
            "---  ------            --------------  -----         \n",
            " 0   price             51525 non-null  int64         \n",
            " 1   model_year        51525 non-null  int64         \n",
            " 2   model             51525 non-null  object        \n",
            " 3   condition         51525 non-null  object        \n",
            " 4   cylinders         51525 non-null  int64         \n",
            " 5   fuel              51525 non-null  object        \n",
            " 6   odometer          51525 non-null  float64       \n",
            " 7   transmission      51525 non-null  object        \n",
            " 8   type              51525 non-null  object        \n",
            " 9   paint_color       51525 non-null  object        \n",
            " 10  is_4wd            51525 non-null  int64         \n",
            " 11  date_posted       51525 non-null  datetime64[ns]\n",
            " 12  days_listed       51525 non-null  int64         \n",
            " 13  date_posted_year  51525 non-null  int64         \n",
            " 14  years_posted      51525 non-null  int64         \n",
            " 15  average_miles     51525 non-null  float64       \n",
            " 16  condition_id      51525 non-null  int64         \n",
            "dtypes: datetime64[ns](1), float64(2), int64(8), object(6)\n",
            "memory usage: 6.7+ MB\n"
          ]
        }
      ],
      "source": [
        "# imprime la información general/resumida sobre el DataFrame\n",
        "\n",
        "data.info()"
      ]
    },
    {
      "cell_type": "code",
      "execution_count": null,
      "metadata": {
        "id": "_oyEFDyaQ353",
        "outputId": "68f50f60-b976-4d85-ee09-334f21a83582"
      },
      "outputs": [
        {
          "data": {
            "text/html": [
              "<div>\n",
              "<style scoped>\n",
              "    .dataframe tbody tr th:only-of-type {\n",
              "        vertical-align: middle;\n",
              "    }\n",
              "\n",
              "    .dataframe tbody tr th {\n",
              "        vertical-align: top;\n",
              "    }\n",
              "\n",
              "    .dataframe thead th {\n",
              "        text-align: right;\n",
              "    }\n",
              "</style>\n",
              "<table border=\"1\" class=\"dataframe\">\n",
              "  <thead>\n",
              "    <tr style=\"text-align: right;\">\n",
              "      <th></th>\n",
              "      <th>price</th>\n",
              "      <th>model_year</th>\n",
              "      <th>model</th>\n",
              "      <th>condition</th>\n",
              "      <th>cylinders</th>\n",
              "      <th>fuel</th>\n",
              "      <th>odometer</th>\n",
              "      <th>transmission</th>\n",
              "      <th>type</th>\n",
              "      <th>paint_color</th>\n",
              "      <th>is_4wd</th>\n",
              "      <th>date_posted</th>\n",
              "      <th>days_listed</th>\n",
              "      <th>date_posted_year</th>\n",
              "      <th>years_posted</th>\n",
              "      <th>average_miles</th>\n",
              "      <th>condition_id</th>\n",
              "    </tr>\n",
              "  </thead>\n",
              "  <tbody>\n",
              "    <tr>\n",
              "      <th>0</th>\n",
              "      <td>9400</td>\n",
              "      <td>2011</td>\n",
              "      <td>bmw x5</td>\n",
              "      <td>good</td>\n",
              "      <td>6</td>\n",
              "      <td>gas</td>\n",
              "      <td>145000.0</td>\n",
              "      <td>automatic</td>\n",
              "      <td>SUV</td>\n",
              "      <td>black</td>\n",
              "      <td>1</td>\n",
              "      <td>2018-06-23</td>\n",
              "      <td>19</td>\n",
              "      <td>2018</td>\n",
              "      <td>7</td>\n",
              "      <td>20714.285714</td>\n",
              "      <td>2</td>\n",
              "    </tr>\n",
              "    <tr>\n",
              "      <th>1</th>\n",
              "      <td>25500</td>\n",
              "      <td>2011</td>\n",
              "      <td>ford f-150</td>\n",
              "      <td>good</td>\n",
              "      <td>6</td>\n",
              "      <td>gas</td>\n",
              "      <td>88705.0</td>\n",
              "      <td>automatic</td>\n",
              "      <td>pickup</td>\n",
              "      <td>white</td>\n",
              "      <td>1</td>\n",
              "      <td>2018-10-19</td>\n",
              "      <td>50</td>\n",
              "      <td>2018</td>\n",
              "      <td>7</td>\n",
              "      <td>12672.142857</td>\n",
              "      <td>2</td>\n",
              "    </tr>\n",
              "    <tr>\n",
              "      <th>2</th>\n",
              "      <td>5500</td>\n",
              "      <td>2013</td>\n",
              "      <td>hyundai sonata</td>\n",
              "      <td>like new</td>\n",
              "      <td>4</td>\n",
              "      <td>gas</td>\n",
              "      <td>110000.0</td>\n",
              "      <td>automatic</td>\n",
              "      <td>sedan</td>\n",
              "      <td>red</td>\n",
              "      <td>0</td>\n",
              "      <td>2019-02-07</td>\n",
              "      <td>79</td>\n",
              "      <td>2019</td>\n",
              "      <td>6</td>\n",
              "      <td>18333.333333</td>\n",
              "      <td>4</td>\n",
              "    </tr>\n",
              "    <tr>\n",
              "      <th>3</th>\n",
              "      <td>1500</td>\n",
              "      <td>2003</td>\n",
              "      <td>ford f-150</td>\n",
              "      <td>fair</td>\n",
              "      <td>8</td>\n",
              "      <td>gas</td>\n",
              "      <td>161397.0</td>\n",
              "      <td>automatic</td>\n",
              "      <td>pickup</td>\n",
              "      <td>white</td>\n",
              "      <td>0</td>\n",
              "      <td>2019-03-22</td>\n",
              "      <td>9</td>\n",
              "      <td>2019</td>\n",
              "      <td>16</td>\n",
              "      <td>10087.312500</td>\n",
              "      <td>1</td>\n",
              "    </tr>\n",
              "    <tr>\n",
              "      <th>4</th>\n",
              "      <td>14900</td>\n",
              "      <td>2017</td>\n",
              "      <td>chrysler 200</td>\n",
              "      <td>excellent</td>\n",
              "      <td>4</td>\n",
              "      <td>gas</td>\n",
              "      <td>80903.0</td>\n",
              "      <td>automatic</td>\n",
              "      <td>sedan</td>\n",
              "      <td>black</td>\n",
              "      <td>0</td>\n",
              "      <td>2019-04-02</td>\n",
              "      <td>28</td>\n",
              "      <td>2019</td>\n",
              "      <td>2</td>\n",
              "      <td>40451.500000</td>\n",
              "      <td>3</td>\n",
              "    </tr>\n",
              "  </tbody>\n",
              "</table>\n",
              "</div>"
            ],
            "text/plain": [
              "   price  model_year           model  condition  cylinders fuel  odometer  \\\n",
              "0   9400        2011          bmw x5       good          6  gas  145000.0   \n",
              "1  25500        2011      ford f-150       good          6  gas   88705.0   \n",
              "2   5500        2013  hyundai sonata   like new          4  gas  110000.0   \n",
              "3   1500        2003      ford f-150       fair          8  gas  161397.0   \n",
              "4  14900        2017    chrysler 200  excellent          4  gas   80903.0   \n",
              "\n",
              "  transmission    type paint_color  is_4wd date_posted  days_listed  \\\n",
              "0    automatic     SUV       black       1  2018-06-23           19   \n",
              "1    automatic  pickup       white       1  2018-10-19           50   \n",
              "2    automatic   sedan         red       0  2019-02-07           79   \n",
              "3    automatic  pickup       white       0  2019-03-22            9   \n",
              "4    automatic   sedan       black       0  2019-04-02           28   \n",
              "\n",
              "   date_posted_year  years_posted  average_miles  condition_id  \n",
              "0              2018             7   20714.285714             2  \n",
              "1              2018             7   12672.142857             2  \n",
              "2              2019             6   18333.333333             4  \n",
              "3              2019            16   10087.312500             1  \n",
              "4              2019             2   40451.500000             3  "
            ]
          },
          "execution_count": 57,
          "metadata": {},
          "output_type": "execute_result"
        }
      ],
      "source": [
        "# imprimir una muestra de datos\n",
        "\n",
        "data.head()"
      ]
    },
    {
      "cell_type": "markdown",
      "metadata": {
        "id": "2nJZljYEQ353"
      },
      "source": [
        "## Estudiar parámetros principales\n",
        "\n",
        "Los parámetros son:\n",
        "- Precio\n",
        "- Los años del vehículo cuando el anuncio se colocó\n",
        "- Millaje\n",
        "- Número de cilindros\n",
        "- Estado"
      ]
    },
    {
      "cell_type": "markdown",
      "metadata": {
        "id": "Q39cxfRzQ353"
      },
      "source": [
        "Voy a crear histogramas para visualizar los principales parámetros."
      ]
    },
    {
      "cell_type": "code",
      "execution_count": null,
      "metadata": {
        "id": "K4BaB8fIQ353",
        "outputId": "7a6f110b-5fac-49bc-849a-a1c8e7b8803b"
      },
      "outputs": [
        {
          "data": {
            "text/plain": [
              "array([[<AxesSubplot:title={'center':'price'}>,\n",
              "        <AxesSubplot:title={'center':'years_posted'}>],\n",
              "       [<AxesSubplot:title={'center':'odometer'}>,\n",
              "        <AxesSubplot:title={'center':'cylinders'}>],\n",
              "       [<AxesSubplot:title={'center':'condition_id'}>, <AxesSubplot:>]],\n",
              "      dtype=object)"
            ]
          },
          "execution_count": 58,
          "metadata": {},
          "output_type": "execute_result"
        },
        {
          "data": {
            "image/png": "[encoded data removed]",
            "text/plain": [
              "<Figure size 1440x864 with 6 Axes>"
            ]
          },
          "metadata": {
            "needs_background": "light"
          },
          "output_type": "display_data"
        }
      ],
      "source": [
        "data.hist(column=['price', 'years_posted','odometer', 'cylinders','condition_id'], figsize=(20,12), bins=20)"
      ]
    },
    {
      "cell_type": "markdown",
      "metadata": {
        "id": "nSaPHXO3Q354"
      },
      "source": [
        "Con estos histogramas ya tenemos una visión general sobre nuestros principales parámetros. Ya se puede determinar cuál será el rango de los datos con los que nos interesa trabajar y cuales consideraremos como valores atípicos."
      ]
    },
    {
      "cell_type": "markdown",
      "metadata": {
        "id": "FsVTbFoNQ354"
      },
      "source": [
        "<div class=\"alert alert-success\">\n",
        "<b>✔️ Comentario del revisor:</b> Correcto pero no olvides sobre el nombre para el grafico"
      ]
    },
    {
      "cell_type": "markdown",
      "metadata": {
        "id": "XsE032FNQ354"
      },
      "source": [
        "<div class=\"alert alert-warning\">\n",
        "<b>⚠️ Comentario del revisor:</b> La proxima vez te aconsejo usar zoom"
      ]
    },
    {
      "cell_type": "markdown",
      "metadata": {
        "id": "vqd3cBXUQ354"
      },
      "source": [
        "## Estudiar y tratar valores atípicos\n"
      ]
    },
    {
      "cell_type": "markdown",
      "metadata": {
        "id": "QJJRIZpKQ354"
      },
      "source": [
        "**Determinar los límites inferiores para valores atípicos:**\n",
        " \n",
        "En el caso del precio tomaremos un rango de 400 a 70000.\n",
        "\n",
        "En el caso de los años del vehículo cuando el anunció se colocó tomaremos un rang de 0 a 40.\n",
        "\n",
        "En el caso de millaje tomaremos un rango de 0 a 30000.\n",
        "\n",
        "En el caso de el número de cilindros no hay valores atípicos.\n",
        "\n",
        "En el caso de la condición tampoco hay valores atípicos."
      ]
    },
    {
      "cell_type": "code",
      "execution_count": null,
      "metadata": {
        "scrolled": true,
        "id": "GCF6DXQLQ354",
        "outputId": "bbdc8943-d263-4116-986c-11442dc5e86b"
      },
      "outputs": [
        {
          "data": {
            "text/html": [
              "<div>\n",
              "<style scoped>\n",
              "    .dataframe tbody tr th:only-of-type {\n",
              "        vertical-align: middle;\n",
              "    }\n",
              "\n",
              "    .dataframe tbody tr th {\n",
              "        vertical-align: top;\n",
              "    }\n",
              "\n",
              "    .dataframe thead th {\n",
              "        text-align: right;\n",
              "    }\n",
              "</style>\n",
              "<table border=\"1\" class=\"dataframe\">\n",
              "  <thead>\n",
              "    <tr style=\"text-align: right;\">\n",
              "      <th></th>\n",
              "      <th>price</th>\n",
              "      <th>model_year</th>\n",
              "      <th>model</th>\n",
              "      <th>condition</th>\n",
              "      <th>cylinders</th>\n",
              "      <th>fuel</th>\n",
              "      <th>odometer</th>\n",
              "      <th>transmission</th>\n",
              "      <th>type</th>\n",
              "      <th>paint_color</th>\n",
              "      <th>is_4wd</th>\n",
              "      <th>date_posted</th>\n",
              "      <th>days_listed</th>\n",
              "      <th>date_posted_year</th>\n",
              "      <th>years_posted</th>\n",
              "      <th>average_miles</th>\n",
              "      <th>condition_id</th>\n",
              "    </tr>\n",
              "  </thead>\n",
              "  <tbody>\n",
              "    <tr>\n",
              "      <th>0</th>\n",
              "      <td>9400</td>\n",
              "      <td>2011</td>\n",
              "      <td>bmw x5</td>\n",
              "      <td>good</td>\n",
              "      <td>6</td>\n",
              "      <td>gas</td>\n",
              "      <td>145000.0</td>\n",
              "      <td>automatic</td>\n",
              "      <td>SUV</td>\n",
              "      <td>black</td>\n",
              "      <td>1</td>\n",
              "      <td>2018-06-23</td>\n",
              "      <td>19</td>\n",
              "      <td>2018</td>\n",
              "      <td>7</td>\n",
              "      <td>20714.285714</td>\n",
              "      <td>2</td>\n",
              "    </tr>\n",
              "    <tr>\n",
              "      <th>1</th>\n",
              "      <td>25500</td>\n",
              "      <td>2011</td>\n",
              "      <td>ford f-150</td>\n",
              "      <td>good</td>\n",
              "      <td>6</td>\n",
              "      <td>gas</td>\n",
              "      <td>88705.0</td>\n",
              "      <td>automatic</td>\n",
              "      <td>pickup</td>\n",
              "      <td>white</td>\n",
              "      <td>1</td>\n",
              "      <td>2018-10-19</td>\n",
              "      <td>50</td>\n",
              "      <td>2018</td>\n",
              "      <td>7</td>\n",
              "      <td>12672.142857</td>\n",
              "      <td>2</td>\n",
              "    </tr>\n",
              "    <tr>\n",
              "      <th>2</th>\n",
              "      <td>5500</td>\n",
              "      <td>2013</td>\n",
              "      <td>hyundai sonata</td>\n",
              "      <td>like new</td>\n",
              "      <td>4</td>\n",
              "      <td>gas</td>\n",
              "      <td>110000.0</td>\n",
              "      <td>automatic</td>\n",
              "      <td>sedan</td>\n",
              "      <td>red</td>\n",
              "      <td>0</td>\n",
              "      <td>2019-02-07</td>\n",
              "      <td>79</td>\n",
              "      <td>2019</td>\n",
              "      <td>6</td>\n",
              "      <td>18333.333333</td>\n",
              "      <td>4</td>\n",
              "    </tr>\n",
              "    <tr>\n",
              "      <th>3</th>\n",
              "      <td>1500</td>\n",
              "      <td>2003</td>\n",
              "      <td>ford f-150</td>\n",
              "      <td>fair</td>\n",
              "      <td>8</td>\n",
              "      <td>gas</td>\n",
              "      <td>161397.0</td>\n",
              "      <td>automatic</td>\n",
              "      <td>pickup</td>\n",
              "      <td>white</td>\n",
              "      <td>0</td>\n",
              "      <td>2019-03-22</td>\n",
              "      <td>9</td>\n",
              "      <td>2019</td>\n",
              "      <td>16</td>\n",
              "      <td>10087.312500</td>\n",
              "      <td>1</td>\n",
              "    </tr>\n",
              "    <tr>\n",
              "      <th>4</th>\n",
              "      <td>14900</td>\n",
              "      <td>2017</td>\n",
              "      <td>chrysler 200</td>\n",
              "      <td>excellent</td>\n",
              "      <td>4</td>\n",
              "      <td>gas</td>\n",
              "      <td>80903.0</td>\n",
              "      <td>automatic</td>\n",
              "      <td>sedan</td>\n",
              "      <td>black</td>\n",
              "      <td>0</td>\n",
              "      <td>2019-04-02</td>\n",
              "      <td>28</td>\n",
              "      <td>2019</td>\n",
              "      <td>2</td>\n",
              "      <td>40451.500000</td>\n",
              "      <td>3</td>\n",
              "    </tr>\n",
              "    <tr>\n",
              "      <th>...</th>\n",
              "      <td>...</td>\n",
              "      <td>...</td>\n",
              "      <td>...</td>\n",
              "      <td>...</td>\n",
              "      <td>...</td>\n",
              "      <td>...</td>\n",
              "      <td>...</td>\n",
              "      <td>...</td>\n",
              "      <td>...</td>\n",
              "      <td>...</td>\n",
              "      <td>...</td>\n",
              "      <td>...</td>\n",
              "      <td>...</td>\n",
              "      <td>...</td>\n",
              "      <td>...</td>\n",
              "      <td>...</td>\n",
              "      <td>...</td>\n",
              "    </tr>\n",
              "    <tr>\n",
              "      <th>51520</th>\n",
              "      <td>9249</td>\n",
              "      <td>2013</td>\n",
              "      <td>nissan maxima</td>\n",
              "      <td>like new</td>\n",
              "      <td>6</td>\n",
              "      <td>gas</td>\n",
              "      <td>88136.0</td>\n",
              "      <td>automatic</td>\n",
              "      <td>sedan</td>\n",
              "      <td>black</td>\n",
              "      <td>0</td>\n",
              "      <td>2018-10-03</td>\n",
              "      <td>37</td>\n",
              "      <td>2018</td>\n",
              "      <td>5</td>\n",
              "      <td>17627.200000</td>\n",
              "      <td>4</td>\n",
              "    </tr>\n",
              "    <tr>\n",
              "      <th>51521</th>\n",
              "      <td>2700</td>\n",
              "      <td>2002</td>\n",
              "      <td>honda civic</td>\n",
              "      <td>salvage</td>\n",
              "      <td>4</td>\n",
              "      <td>gas</td>\n",
              "      <td>181500.0</td>\n",
              "      <td>automatic</td>\n",
              "      <td>sedan</td>\n",
              "      <td>white</td>\n",
              "      <td>0</td>\n",
              "      <td>2018-11-14</td>\n",
              "      <td>22</td>\n",
              "      <td>2018</td>\n",
              "      <td>16</td>\n",
              "      <td>11343.750000</td>\n",
              "      <td>0</td>\n",
              "    </tr>\n",
              "    <tr>\n",
              "      <th>51522</th>\n",
              "      <td>3950</td>\n",
              "      <td>2009</td>\n",
              "      <td>hyundai sonata</td>\n",
              "      <td>excellent</td>\n",
              "      <td>4</td>\n",
              "      <td>gas</td>\n",
              "      <td>128000.0</td>\n",
              "      <td>automatic</td>\n",
              "      <td>sedan</td>\n",
              "      <td>blue</td>\n",
              "      <td>0</td>\n",
              "      <td>2018-11-15</td>\n",
              "      <td>32</td>\n",
              "      <td>2018</td>\n",
              "      <td>9</td>\n",
              "      <td>14222.222222</td>\n",
              "      <td>3</td>\n",
              "    </tr>\n",
              "    <tr>\n",
              "      <th>51523</th>\n",
              "      <td>7455</td>\n",
              "      <td>2013</td>\n",
              "      <td>toyota corolla</td>\n",
              "      <td>good</td>\n",
              "      <td>4</td>\n",
              "      <td>gas</td>\n",
              "      <td>139573.0</td>\n",
              "      <td>automatic</td>\n",
              "      <td>sedan</td>\n",
              "      <td>black</td>\n",
              "      <td>0</td>\n",
              "      <td>2018-07-02</td>\n",
              "      <td>71</td>\n",
              "      <td>2018</td>\n",
              "      <td>5</td>\n",
              "      <td>27914.600000</td>\n",
              "      <td>2</td>\n",
              "    </tr>\n",
              "    <tr>\n",
              "      <th>51524</th>\n",
              "      <td>6300</td>\n",
              "      <td>2014</td>\n",
              "      <td>nissan altima</td>\n",
              "      <td>good</td>\n",
              "      <td>4</td>\n",
              "      <td>gas</td>\n",
              "      <td>90000.0</td>\n",
              "      <td>automatic</td>\n",
              "      <td>sedan</td>\n",
              "      <td>grey</td>\n",
              "      <td>0</td>\n",
              "      <td>2018-06-05</td>\n",
              "      <td>10</td>\n",
              "      <td>2018</td>\n",
              "      <td>4</td>\n",
              "      <td>22500.000000</td>\n",
              "      <td>2</td>\n",
              "    </tr>\n",
              "  </tbody>\n",
              "</table>\n",
              "<p>47877 rows × 17 columns</p>\n",
              "</div>"
            ],
            "text/plain": [
              "       price  model_year           model  condition  cylinders fuel  odometer  \\\n",
              "0       9400        2011          bmw x5       good          6  gas  145000.0   \n",
              "1      25500        2011      ford f-150       good          6  gas   88705.0   \n",
              "2       5500        2013  hyundai sonata   like new          4  gas  110000.0   \n",
              "3       1500        2003      ford f-150       fair          8  gas  161397.0   \n",
              "4      14900        2017    chrysler 200  excellent          4  gas   80903.0   \n",
              "...      ...         ...             ...        ...        ...  ...       ...   \n",
              "51520   9249        2013   nissan maxima   like new          6  gas   88136.0   \n",
              "51521   2700        2002     honda civic    salvage          4  gas  181500.0   \n",
              "51522   3950        2009  hyundai sonata  excellent          4  gas  128000.0   \n",
              "51523   7455        2013  toyota corolla       good          4  gas  139573.0   \n",
              "51524   6300        2014   nissan altima       good          4  gas   90000.0   \n",
              "\n",
              "      transmission    type paint_color  is_4wd date_posted  days_listed  \\\n",
              "0        automatic     SUV       black       1  2018-06-23           19   \n",
              "1        automatic  pickup       white       1  2018-10-19           50   \n",
              "2        automatic   sedan         red       0  2019-02-07           79   \n",
              "3        automatic  pickup       white       0  2019-03-22            9   \n",
              "4        automatic   sedan       black       0  2019-04-02           28   \n",
              "...            ...     ...         ...     ...         ...          ...   \n",
              "51520    automatic   sedan       black       0  2018-10-03           37   \n",
              "51521    automatic   sedan       white       0  2018-11-14           22   \n",
              "51522    automatic   sedan        blue       0  2018-11-15           32   \n",
              "51523    automatic   sedan       black       0  2018-07-02           71   \n",
              "51524    automatic   sedan        grey       0  2018-06-05           10   \n",
              "\n",
              "       date_posted_year  years_posted  average_miles  condition_id  \n",
              "0                  2018             7   20714.285714             2  \n",
              "1                  2018             7   12672.142857             2  \n",
              "2                  2019             6   18333.333333             4  \n",
              "3                  2019            16   10087.312500             1  \n",
              "4                  2019             2   40451.500000             3  \n",
              "...                 ...           ...            ...           ...  \n",
              "51520              2018             5   17627.200000             4  \n",
              "51521              2018            16   11343.750000             0  \n",
              "51522              2018             9   14222.222222             3  \n",
              "51523              2018             5   27914.600000             2  \n",
              "51524              2018             4   22500.000000             2  \n",
              "\n",
              "[47877 rows x 17 columns]"
            ]
          },
          "execution_count": 59,
          "metadata": {},
          "output_type": "execute_result"
        }
      ],
      "source": [
        "# Almacenamos los datos sin valores atípicos en un DataFrame separado\n",
        "frame_sin_atipicos= data.query('500<price<70000 & 0<years_posted<40 & 0<odometer<300000')\n",
        "frame_sin_atipicos"
      ]
    },
    {
      "cell_type": "markdown",
      "metadata": {
        "id": "T_aiFdNdQ354"
      },
      "source": [
        "## Estudiar parámetros principales sin valores atípicos"
      ]
    },
    {
      "cell_type": "markdown",
      "metadata": {
        "id": "CGR5EgNXQ354"
      },
      "source": [
        "Hacemos una comparación entre los histogramas con valores completos y los que se generan después de haber eliminado los valores atípicos."
      ]
    },
    {
      "cell_type": "code",
      "execution_count": null,
      "metadata": {
        "id": "XzITwf64Q354",
        "outputId": "8d490270-0477-4c8c-9027-dd9ac43629a4"
      },
      "outputs": [
        {
          "data": {
            "text/plain": [
              "<AxesSubplot:>"
            ]
          },
          "execution_count": 60,
          "metadata": {},
          "output_type": "execute_result"
        },
        {
          "data": {
            "image/png": "[encoded data removed]",
            "text/plain": [
              "<Figure size 432x288 with 1 Axes>"
            ]
          },
          "metadata": {
            "needs_background": "light"
          },
          "output_type": "display_data"
        }
      ],
      "source": [
        "#Combinación de los histogramas de la columna price\n",
        "\n",
        "data['price'].hist(bins=30)\n",
        "frame_sin_atipicos['price'].hist(bins=30)"
      ]
    },
    {
      "cell_type": "markdown",
      "metadata": {
        "id": "94_Mx3szQ354"
      },
      "source": [
        "Aquí se eliminaron todos los datos atipicos más allá de los 70000 que coincide con la última parte visible del histograma azul. "
      ]
    },
    {
      "cell_type": "code",
      "execution_count": null,
      "metadata": {
        "id": "K9KMnT9NQ354",
        "outputId": "aaa585f4-a784-4614-b88f-cdaa4304315e"
      },
      "outputs": [
        {
          "data": {
            "text/plain": [
              "<AxesSubplot:>"
            ]
          },
          "execution_count": 61,
          "metadata": {},
          "output_type": "execute_result"
        },
        {
          "data": {
            "image/png": "[encoded data removed]",
            "text/plain": [
              "<Figure size 432x288 with 1 Axes>"
            ]
          },
          "metadata": {
            "needs_background": "light"
          },
          "output_type": "display_data"
        }
      ],
      "source": [
        "#Combinación de los histogramas de la columna year_posted\n",
        "\n",
        "data['years_posted'].hist(bins=20)\n",
        "frame_sin_atipicos['years_posted'].hist(bins=20)"
      ]
    },
    {
      "cell_type": "markdown",
      "metadata": {
        "id": "aiTI0mbgQ355"
      },
      "source": [
        "La cola del segundo histograma coincide con el rango que seleccionamos de 0 a 40 años que es la parte donde terminan los datos normales del primer histograma. "
      ]
    },
    {
      "cell_type": "code",
      "execution_count": null,
      "metadata": {
        "id": "0yOscRSfQ355",
        "outputId": "d10c5f7b-6066-41bf-f0f6-d0c4065b61c5"
      },
      "outputs": [
        {
          "data": {
            "text/plain": [
              "<AxesSubplot:>"
            ]
          },
          "execution_count": 62,
          "metadata": {},
          "output_type": "execute_result"
        },
        {
          "data": {
            "image/png": "[encoded data removed]",
            "text/plain": [
              "<Figure size 432x288 with 1 Axes>"
            ]
          },
          "metadata": {
            "needs_background": "light"
          },
          "output_type": "display_data"
        }
      ],
      "source": [
        "#Combinación de los histogramas de la columna year_posted\n",
        "\n",
        "data['odometer'].hist(bins=20)\n",
        "frame_sin_atipicos['odometer'].hist(bins=20)"
      ]
    },
    {
      "cell_type": "markdown",
      "metadata": {
        "id": "mBzQi6d7Q355"
      },
      "source": [
        "El inicio y final del segundo histograma coincide con el rango de los datos normales. "
      ]
    },
    {
      "cell_type": "markdown",
      "metadata": {
        "id": "p1JFmOtYQ355"
      },
      "source": [
        "<div class=\"alert alert-success\">\n",
        "<b>✔️ Comentario del revisor:</b> Muy bien"
      ]
    },
    {
      "cell_type": "markdown",
      "metadata": {
        "id": "SzR2XPCQQ355"
      },
      "source": [
        "## Periodo de colocación de los anuncios\n"
      ]
    },
    {
      "cell_type": "markdown",
      "metadata": {
        "id": "Ymi9HRnUQ355"
      },
      "source": [
        "Voy a calcular la media y la mediana de los días que han durado los anuncios. "
      ]
    },
    {
      "cell_type": "code",
      "execution_count": null,
      "metadata": {
        "id": "MnNedvfVQ355",
        "outputId": "cb9cdc6d-8a1c-4869-fd99-57332d9bd387"
      },
      "outputs": [
        {
          "data": {
            "text/plain": [
              "count    47877.000000\n",
              "mean        39.595275\n",
              "std         28.229480\n",
              "min          0.000000\n",
              "25%         19.000000\n",
              "50%         33.000000\n",
              "75%         53.000000\n",
              "max        271.000000\n",
              "Name: days_listed, dtype: float64"
            ]
          },
          "execution_count": 63,
          "metadata": {},
          "output_type": "execute_result"
        }
      ],
      "source": [
        "#Veamos un panorama general de la columna\n",
        "frame_sin_atipicos['days_listed'].describe()"
      ]
    },
    {
      "cell_type": "code",
      "execution_count": null,
      "metadata": {
        "id": "w3_vQfQ6Q355",
        "outputId": "be4bdb8b-8710-4bb6-9800-5727f7e53d48"
      },
      "outputs": [
        {
          "data": {
            "text/plain": [
              "array([[<AxesSubplot:title={'center':'days_listed'}>]], dtype=object)"
            ]
          },
          "execution_count": 64,
          "metadata": {},
          "output_type": "execute_result"
        },
        {
          "data": {
            "image/png": "[encoded data removed]",
            "text/plain": [
              "<Figure size 432x288 with 1 Axes>"
            ]
          },
          "metadata": {
            "needs_background": "light"
          },
          "output_type": "display_data"
        }
      ],
      "source": [
        "frame_sin_atipicos.hist('days_listed', bins=50)"
      ]
    },
    {
      "cell_type": "markdown",
      "metadata": {
        "id": "_UTuOgxRQ355"
      },
      "source": [
        "La media y la mediana están relativamente cerca. De 25 a 45 días parece ser el tiempo habitual que dura un anuncio."
      ]
    },
    {
      "cell_type": "markdown",
      "metadata": {
        "id": "uRaRoF7OQ355"
      },
      "source": [
        "**Caracteristicas de los carros que se venden más rápido**"
      ]
    },
    {
      "cell_type": "code",
      "execution_count": null,
      "metadata": {
        "id": "FTVyvdYdQ355"
      },
      "outputs": [],
      "source": [
        "days_listed_fast=frame_sin_atipicos.query('days_listed<=19')\n"
      ]
    },
    {
      "cell_type": "code",
      "execution_count": null,
      "metadata": {
        "id": "D6FDjsTMQ356",
        "outputId": "ce4459f1-ced1-47fb-c5d7-69cf1953377f"
      },
      "outputs": [
        {
          "data": {
            "text/plain": [
              "array([[<AxesSubplot:title={'center':'price'}>,\n",
              "        <AxesSubplot:title={'center':'years_posted'}>],\n",
              "       [<AxesSubplot:title={'center':'odometer'}>,\n",
              "        <AxesSubplot:title={'center':'cylinders'}>],\n",
              "       [<AxesSubplot:title={'center':'condition_id'}>, <AxesSubplot:>]],\n",
              "      dtype=object)"
            ]
          },
          "execution_count": 66,
          "metadata": {},
          "output_type": "execute_result"
        },
        {
          "data": {
            "image/png": "[encoded data removed]",
            "text/plain": [
              "<Figure size 1440x864 with 6 Axes>"
            ]
          },
          "metadata": {
            "needs_background": "light"
          },
          "output_type": "display_data"
        }
      ],
      "source": [
        "days_listed_fast.hist(column=['price', 'years_posted','odometer', 'cylinders','condition_id'], figsize=(20,12), bins=20)"
      ]
    },
    {
      "cell_type": "markdown",
      "metadata": {
        "id": "eq16M4MLQ356"
      },
      "source": [
        "**Vamos a ver los carros que están en la media**"
      ]
    },
    {
      "cell_type": "code",
      "execution_count": null,
      "metadata": {
        "id": "vnMMuDXzQ356",
        "outputId": "6958185c-b1ad-4d17-8d32-89d7732cf663"
      },
      "outputs": [
        {
          "data": {
            "text/plain": [
              "array([[<AxesSubplot:title={'center':'price'}>,\n",
              "        <AxesSubplot:title={'center':'years_posted'}>],\n",
              "       [<AxesSubplot:title={'center':'odometer'}>,\n",
              "        <AxesSubplot:title={'center':'cylinders'}>],\n",
              "       [<AxesSubplot:title={'center':'condition_id'}>, <AxesSubplot:>]],\n",
              "      dtype=object)"
            ]
          },
          "execution_count": 67,
          "metadata": {},
          "output_type": "execute_result"
        },
        {
          "data": {
            "image/png": "[encoded data removed]",
            "text/plain": [
              "<Figure size 1440x864 with 6 Axes>"
            ]
          },
          "metadata": {
            "needs_background": "light"
          },
          "output_type": "display_data"
        }
      ],
      "source": [
        "days_listed_media=frame_sin_atipicos.query('days_listed==33')\n",
        "days_listed_media.hist(column=['price', 'years_posted','odometer', 'cylinders','condition_id'], figsize=(20,12), bins=20)"
      ]
    },
    {
      "cell_type": "markdown",
      "metadata": {
        "id": "aaaoujrjQ356"
      },
      "source": [
        "**Vamos a ver las características de los carros que se venden más lento**"
      ]
    },
    {
      "cell_type": "code",
      "execution_count": null,
      "metadata": {
        "scrolled": true,
        "id": "OuVP1zudQ356",
        "outputId": "450b57f3-00c3-48d4-8317-1d6236be15a5"
      },
      "outputs": [
        {
          "data": {
            "text/plain": [
              "array([[<AxesSubplot:title={'center':'price'}>,\n",
              "        <AxesSubplot:title={'center':'years_posted'}>],\n",
              "       [<AxesSubplot:title={'center':'odometer'}>,\n",
              "        <AxesSubplot:title={'center':'cylinders'}>],\n",
              "       [<AxesSubplot:title={'center':'condition_id'}>, <AxesSubplot:>]],\n",
              "      dtype=object)"
            ]
          },
          "execution_count": 68,
          "metadata": {},
          "output_type": "execute_result"
        },
        {
          "data": {
            "image/png": "[encoded data removed]",
            "text/plain": [
              "<Figure size 1440x864 with 6 Axes>"
            ]
          },
          "metadata": {
            "needs_background": "light"
          },
          "output_type": "display_data"
        }
      ],
      "source": [
        "days_listed_slow=frame_sin_atipicos.query('days_listed>=53')\n",
        "days_listed_slow.hist(column=['price', 'years_posted','odometer', 'cylinders','condition_id'], figsize=(20,12), bins=20)"
      ]
    },
    {
      "cell_type": "markdown",
      "metadata": {
        "id": "y06GUhizQ356"
      },
      "source": [
        "**Vamos a ver las características de los anuncios atipicamente largos y atipicamente cortos**"
      ]
    },
    {
      "cell_type": "code",
      "execution_count": null,
      "metadata": {
        "id": "ltBJSdrgQ356"
      },
      "outputs": [],
      "source": [
        "#Anuncios atipicamente largos\n",
        "days_listed_super_large=frame_sin_atipicos.query('days_listed>=200')\n"
      ]
    },
    {
      "cell_type": "code",
      "execution_count": null,
      "metadata": {
        "id": "btp7D_-_Q356",
        "outputId": "94abfd80-2ba7-4aaa-e8bd-27668d923672"
      },
      "outputs": [
        {
          "data": {
            "text/plain": [
              "array([[<AxesSubplot:title={'center':'price'}>,\n",
              "        <AxesSubplot:title={'center':'years_posted'}>],\n",
              "       [<AxesSubplot:title={'center':'odometer'}>,\n",
              "        <AxesSubplot:title={'center':'cylinders'}>],\n",
              "       [<AxesSubplot:title={'center':'condition_id'}>, <AxesSubplot:>]],\n",
              "      dtype=object)"
            ]
          },
          "execution_count": 70,
          "metadata": {},
          "output_type": "execute_result"
        },
        {
          "data": {
            "image/png": "[encoded data removed]",
            "text/plain": [
              "<Figure size 1440x864 with 6 Axes>"
            ]
          },
          "metadata": {
            "needs_background": "light"
          },
          "output_type": "display_data"
        }
      ],
      "source": [
        "days_listed_super_large.hist(column=['price', 'years_posted','odometer', 'cylinders','condition_id'], figsize=(20,12), bins=10)"
      ]
    },
    {
      "cell_type": "code",
      "execution_count": null,
      "metadata": {
        "scrolled": false,
        "id": "hQ8SYJ6tQ356"
      },
      "outputs": [],
      "source": [
        "#Anuncios atipicamente cortos\n",
        "days_listed_super_short=frame_sin_atipicos.query('days_listed==0')\n"
      ]
    },
    {
      "cell_type": "code",
      "execution_count": null,
      "metadata": {
        "id": "_s3a8R_fQ356",
        "outputId": "a61faa5c-94f4-4442-a102-6aaf2be20a0f"
      },
      "outputs": [
        {
          "data": {
            "text/plain": [
              "array([[<AxesSubplot:title={'center':'price'}>,\n",
              "        <AxesSubplot:title={'center':'years_posted'}>],\n",
              "       [<AxesSubplot:title={'center':'odometer'}>,\n",
              "        <AxesSubplot:title={'center':'cylinders'}>],\n",
              "       [<AxesSubplot:title={'center':'condition_id'}>, <AxesSubplot:>]],\n",
              "      dtype=object)"
            ]
          },
          "execution_count": 72,
          "metadata": {},
          "output_type": "execute_result"
        },
        {
          "data": {
            "image/png": "[encoded data removed]",
            "text/plain": [
              "<Figure size 1440x864 with 6 Axes>"
            ]
          },
          "metadata": {
            "needs_background": "light"
          },
          "output_type": "display_data"
        }
      ],
      "source": [
        "days_listed_super_short.hist(column=['price', 'years_posted','odometer', 'cylinders','condition_id'], figsize=(20,12), bins=10)"
      ]
    },
    {
      "cell_type": "markdown",
      "metadata": {
        "id": "IqdZrXUIQ357"
      },
      "source": [
        "**Conclusiones de la duración de los anuncios**\n",
        "\n",
        "Por el momento no se encontraron alguna característica especifica en los anuncios que duran más tiempo o menos tiempo, más allá de la cantidad de vehiculos que existen de cada categoría. \n"
      ]
    },
    {
      "cell_type": "markdown",
      "metadata": {
        "id": "xxvL1OMvQ357"
      },
      "source": [
        "<div class=\"alert alert-success\">\n",
        "<b>✔️ Comentario del revisor:</b> Bien pero tambien podemos hacer mas conclusiones de esa patre"
      ]
    },
    {
      "cell_type": "markdown",
      "metadata": {
        "id": "oWIFOBYAQ357"
      },
      "source": [
        "## Precio promedio por cada tipo de vehículo"
      ]
    },
    {
      "cell_type": "markdown",
      "metadata": {
        "id": "c0o-ibSNQ357"
      },
      "source": [
        "[Analiza el número de anuncios y el precio promedio para cada tipo de vehículo. Traza un gráfico mostrando la dependencia de la cantidad de anuncios en cada tipo de vehículo. Selecciona los dos tipos con un mayor número de anuncios.]"
      ]
    },
    {
      "cell_type": "code",
      "execution_count": null,
      "metadata": {
        "id": "uVxTrzHZQ357",
        "outputId": "2e98bffa-d843-4509-e6f0-0defb77564a0"
      },
      "outputs": [
        {
          "data": {
            "text/html": [
              "<div>\n",
              "<style scoped>\n",
              "    .dataframe tbody tr th:only-of-type {\n",
              "        vertical-align: middle;\n",
              "    }\n",
              "\n",
              "    .dataframe tbody tr th {\n",
              "        vertical-align: top;\n",
              "    }\n",
              "\n",
              "    .dataframe thead th {\n",
              "        text-align: right;\n",
              "    }\n",
              "</style>\n",
              "<table border=\"1\" class=\"dataframe\">\n",
              "  <thead>\n",
              "    <tr style=\"text-align: right;\">\n",
              "      <th></th>\n",
              "      <th>price_mean</th>\n",
              "      <th>ad_count</th>\n",
              "    </tr>\n",
              "    <tr>\n",
              "      <th>type</th>\n",
              "      <th></th>\n",
              "      <th></th>\n",
              "    </tr>\n",
              "  </thead>\n",
              "  <tbody>\n",
              "    <tr>\n",
              "      <th>SUV</th>\n",
              "      <td>10842.737470</td>\n",
              "      <td>11652</td>\n",
              "    </tr>\n",
              "    <tr>\n",
              "      <th>bus</th>\n",
              "      <td>17135.666667</td>\n",
              "      <td>24</td>\n",
              "    </tr>\n",
              "    <tr>\n",
              "      <th>convertible</th>\n",
              "      <td>13398.601504</td>\n",
              "      <td>399</td>\n",
              "    </tr>\n",
              "    <tr>\n",
              "      <th>coupe</th>\n",
              "      <td>13933.687904</td>\n",
              "      <td>2009</td>\n",
              "    </tr>\n",
              "    <tr>\n",
              "      <th>hatchback</th>\n",
              "      <td>6848.856855</td>\n",
              "      <td>992</td>\n",
              "    </tr>\n",
              "    <tr>\n",
              "      <th>mini-van</th>\n",
              "      <td>7758.114871</td>\n",
              "      <td>1123</td>\n",
              "    </tr>\n",
              "    <tr>\n",
              "      <th>offroad</th>\n",
              "      <td>14057.893204</td>\n",
              "      <td>206</td>\n",
              "    </tr>\n",
              "    <tr>\n",
              "      <th>other</th>\n",
              "      <td>10522.548936</td>\n",
              "      <td>235</td>\n",
              "    </tr>\n",
              "    <tr>\n",
              "      <th>pickup</th>\n",
              "      <td>15216.496174</td>\n",
              "      <td>6403</td>\n",
              "    </tr>\n",
              "    <tr>\n",
              "      <th>sedan</th>\n",
              "      <td>6899.152225</td>\n",
              "      <td>11437</td>\n",
              "    </tr>\n",
              "    <tr>\n",
              "      <th>truck</th>\n",
              "      <td>16224.422209</td>\n",
              "      <td>11338</td>\n",
              "    </tr>\n",
              "    <tr>\n",
              "      <th>van</th>\n",
              "      <td>10545.774527</td>\n",
              "      <td>581</td>\n",
              "    </tr>\n",
              "    <tr>\n",
              "      <th>wagon</th>\n",
              "      <td>9136.887686</td>\n",
              "      <td>1478</td>\n",
              "    </tr>\n",
              "  </tbody>\n",
              "</table>\n",
              "</div>"
            ],
            "text/plain": [
              "               price_mean  ad_count\n",
              "type                               \n",
              "SUV          10842.737470     11652\n",
              "bus          17135.666667        24\n",
              "convertible  13398.601504       399\n",
              "coupe        13933.687904      2009\n",
              "hatchback     6848.856855       992\n",
              "mini-van      7758.114871      1123\n",
              "offroad      14057.893204       206\n",
              "other        10522.548936       235\n",
              "pickup       15216.496174      6403\n",
              "sedan         6899.152225     11437\n",
              "truck        16224.422209     11338\n",
              "van          10545.774527       581\n",
              "wagon         9136.887686      1478"
            ]
          },
          "execution_count": 73,
          "metadata": {},
          "output_type": "execute_result"
        }
      ],
      "source": [
        "frame_corr_scatter_pivot = frame_sin_atipicos.pivot_table(index='type', values='price', aggfunc=['mean','count'])\n",
        "frame_corr_scatter_pivot.columns=['price_mean', 'ad_count']\n",
        "frame_corr_scatter_pivot"
      ]
    },
    {
      "cell_type": "code",
      "execution_count": null,
      "metadata": {
        "id": "bscO_jm6Q357",
        "outputId": "03a3afb9-afa0-423a-c725-0f55a088741c"
      },
      "outputs": [
        {
          "data": {
            "text/html": [
              "<div>\n",
              "<style scoped>\n",
              "    .dataframe tbody tr th:only-of-type {\n",
              "        vertical-align: middle;\n",
              "    }\n",
              "\n",
              "    .dataframe tbody tr th {\n",
              "        vertical-align: top;\n",
              "    }\n",
              "\n",
              "    .dataframe thead th {\n",
              "        text-align: right;\n",
              "    }\n",
              "</style>\n",
              "<table border=\"1\" class=\"dataframe\">\n",
              "  <thead>\n",
              "    <tr style=\"text-align: right;\">\n",
              "      <th></th>\n",
              "      <th>price_mean</th>\n",
              "      <th>ad_count</th>\n",
              "    </tr>\n",
              "  </thead>\n",
              "  <tbody>\n",
              "    <tr>\n",
              "      <th>price_mean</th>\n",
              "      <td>1.000000</td>\n",
              "      <td>-0.004138</td>\n",
              "    </tr>\n",
              "    <tr>\n",
              "      <th>ad_count</th>\n",
              "      <td>-0.004138</td>\n",
              "      <td>1.000000</td>\n",
              "    </tr>\n",
              "  </tbody>\n",
              "</table>\n",
              "</div>"
            ],
            "text/plain": [
              "            price_mean  ad_count\n",
              "price_mean    1.000000 -0.004138\n",
              "ad_count     -0.004138  1.000000"
            ]
          },
          "execution_count": 74,
          "metadata": {},
          "output_type": "execute_result"
        }
      ],
      "source": [
        "frame_corr_scatter_pivot.corr()\n",
        "#frame_corr_scatter_pivot['price_mean'].corr(frame_corr_scatter_pivot['ad_count'])"
      ]
    },
    {
      "cell_type": "code",
      "execution_count": null,
      "metadata": {
        "id": "ReK3MdafQ357",
        "outputId": "84d288e5-38ed-4340-a0d8-b016fdb409d2"
      },
      "outputs": [
        {
          "data": {
            "text/plain": [
              "<AxesSubplot:xlabel='price_mean', ylabel='ad_count'>"
            ]
          },
          "execution_count": 75,
          "metadata": {},
          "output_type": "execute_result"
        },
        {
          "data": {
            "image/png": "[encoded data removed]",
            "text/plain": [
              "<Figure size 432x288 with 1 Axes>"
            ]
          },
          "metadata": {
            "needs_background": "light"
          },
          "output_type": "display_data"
        }
      ],
      "source": [
        "frame_corr_scatter_pivot.plot(x='price_mean', y='ad_count', kind='scatter', grid=True)"
      ]
    },
    {
      "cell_type": "markdown",
      "metadata": {
        "id": "GUUAzDh3Q357"
      },
      "source": [
        "**Conclusión sobre el precio y la cantidad de anuncios**\n",
        "\n",
        "No hay una relación clara entre el número de anuncios y el precio de cada tipo de vehiculo. "
      ]
    },
    {
      "cell_type": "markdown",
      "metadata": {
        "id": "QlK-koFDQ357"
      },
      "source": [
        "## Factores de precio"
      ]
    },
    {
      "cell_type": "markdown",
      "metadata": {
        "id": "_HynpqQDQ357"
      },
      "source": [
        "Voy a investigar cuales son las características que más impactan sobre el precio. Tomaré los dos tipos de vehículos más populares detectados en la sección anterior (SUV y sedad) y estudiaré si el precio depende de la edad, el millaje, la condición, tipo de transmisión o color. Para las variables categorícas realizaré gráficos de caja y bigotes, para el resto utilizaré gráficos de dispersión. "
      ]
    },
    {
      "cell_type": "markdown",
      "metadata": {
        "id": "AB6fIT4dQ357"
      },
      "source": [
        "**Matriz de correlación**"
      ]
    },
    {
      "cell_type": "code",
      "execution_count": null,
      "metadata": {
        "id": "0hRRykTiQ358",
        "outputId": "8f6be4fb-0026-4394-ef85-a16c03af223b"
      },
      "outputs": [
        {
          "data": {
            "text/html": [
              "<div>\n",
              "<style scoped>\n",
              "    .dataframe tbody tr th:only-of-type {\n",
              "        vertical-align: middle;\n",
              "    }\n",
              "\n",
              "    .dataframe tbody tr th {\n",
              "        vertical-align: top;\n",
              "    }\n",
              "\n",
              "    .dataframe thead th {\n",
              "        text-align: right;\n",
              "    }\n",
              "</style>\n",
              "<table border=\"1\" class=\"dataframe\">\n",
              "  <thead>\n",
              "    <tr style=\"text-align: right;\">\n",
              "      <th></th>\n",
              "      <th>price</th>\n",
              "      <th>model_year</th>\n",
              "      <th>cylinders</th>\n",
              "      <th>odometer</th>\n",
              "      <th>is_4wd</th>\n",
              "      <th>days_listed</th>\n",
              "      <th>date_posted_year</th>\n",
              "      <th>years_posted</th>\n",
              "      <th>average_miles</th>\n",
              "      <th>condition_id</th>\n",
              "    </tr>\n",
              "  </thead>\n",
              "  <tbody>\n",
              "    <tr>\n",
              "      <th>price</th>\n",
              "      <td>1.000000</td>\n",
              "      <td>0.526972</td>\n",
              "      <td>0.215301</td>\n",
              "      <td>-0.504856</td>\n",
              "      <td>0.302758</td>\n",
              "      <td>-0.006038</td>\n",
              "      <td>0.023636</td>\n",
              "      <td>-0.523630</td>\n",
              "      <td>0.243892</td>\n",
              "      <td>0.260281</td>\n",
              "    </tr>\n",
              "    <tr>\n",
              "      <th>model_year</th>\n",
              "      <td>0.526972</td>\n",
              "      <td>1.000000</td>\n",
              "      <td>-0.260721</td>\n",
              "      <td>-0.593775</td>\n",
              "      <td>-0.117130</td>\n",
              "      <td>-0.008023</td>\n",
              "      <td>0.027837</td>\n",
              "      <td>-0.995305</td>\n",
              "      <td>0.544206</td>\n",
              "      <td>0.284569</td>\n",
              "    </tr>\n",
              "    <tr>\n",
              "      <th>cylinders</th>\n",
              "      <td>0.215301</td>\n",
              "      <td>-0.260721</td>\n",
              "      <td>1.000000</td>\n",
              "      <td>0.219306</td>\n",
              "      <td>0.420000</td>\n",
              "      <td>0.011468</td>\n",
              "      <td>-0.003578</td>\n",
              "      <td>0.259853</td>\n",
              "      <td>-0.116506</td>\n",
              "      <td>-0.072395</td>\n",
              "    </tr>\n",
              "    <tr>\n",
              "      <th>odometer</th>\n",
              "      <td>-0.504856</td>\n",
              "      <td>-0.593775</td>\n",
              "      <td>0.219306</td>\n",
              "      <td>1.000000</td>\n",
              "      <td>0.086226</td>\n",
              "      <td>0.008284</td>\n",
              "      <td>-0.024159</td>\n",
              "      <td>0.590249</td>\n",
              "      <td>0.014050</td>\n",
              "      <td>-0.308785</td>\n",
              "    </tr>\n",
              "    <tr>\n",
              "      <th>is_4wd</th>\n",
              "      <td>0.302758</td>\n",
              "      <td>-0.117130</td>\n",
              "      <td>0.420000</td>\n",
              "      <td>0.086226</td>\n",
              "      <td>1.000000</td>\n",
              "      <td>0.003700</td>\n",
              "      <td>-0.001728</td>\n",
              "      <td>0.116728</td>\n",
              "      <td>-0.037163</td>\n",
              "      <td>-0.009481</td>\n",
              "    </tr>\n",
              "    <tr>\n",
              "      <th>days_listed</th>\n",
              "      <td>-0.006038</td>\n",
              "      <td>-0.008023</td>\n",
              "      <td>0.011468</td>\n",
              "      <td>0.008284</td>\n",
              "      <td>0.003700</td>\n",
              "      <td>1.000000</td>\n",
              "      <td>0.001722</td>\n",
              "      <td>0.008173</td>\n",
              "      <td>-0.008343</td>\n",
              "      <td>-0.013107</td>\n",
              "    </tr>\n",
              "    <tr>\n",
              "      <th>date_posted_year</th>\n",
              "      <td>0.023636</td>\n",
              "      <td>0.027837</td>\n",
              "      <td>-0.003578</td>\n",
              "      <td>-0.024159</td>\n",
              "      <td>-0.001728</td>\n",
              "      <td>0.001722</td>\n",
              "      <td>1.000000</td>\n",
              "      <td>0.069048</td>\n",
              "      <td>-0.134113</td>\n",
              "      <td>0.013752</td>\n",
              "    </tr>\n",
              "    <tr>\n",
              "      <th>years_posted</th>\n",
              "      <td>-0.523630</td>\n",
              "      <td>-0.995305</td>\n",
              "      <td>0.259853</td>\n",
              "      <td>0.590249</td>\n",
              "      <td>0.116728</td>\n",
              "      <td>0.008173</td>\n",
              "      <td>0.069048</td>\n",
              "      <td>1.000000</td>\n",
              "      <td>-0.556104</td>\n",
              "      <td>-0.282668</td>\n",
              "    </tr>\n",
              "    <tr>\n",
              "      <th>average_miles</th>\n",
              "      <td>0.243892</td>\n",
              "      <td>0.544206</td>\n",
              "      <td>-0.116506</td>\n",
              "      <td>0.014050</td>\n",
              "      <td>-0.037163</td>\n",
              "      <td>-0.008343</td>\n",
              "      <td>-0.134113</td>\n",
              "      <td>-0.556104</td>\n",
              "      <td>1.000000</td>\n",
              "      <td>0.064940</td>\n",
              "    </tr>\n",
              "    <tr>\n",
              "      <th>condition_id</th>\n",
              "      <td>0.260281</td>\n",
              "      <td>0.284569</td>\n",
              "      <td>-0.072395</td>\n",
              "      <td>-0.308785</td>\n",
              "      <td>-0.009481</td>\n",
              "      <td>-0.013107</td>\n",
              "      <td>0.013752</td>\n",
              "      <td>-0.282668</td>\n",
              "      <td>0.064940</td>\n",
              "      <td>1.000000</td>\n",
              "    </tr>\n",
              "  </tbody>\n",
              "</table>\n",
              "</div>"
            ],
            "text/plain": [
              "                     price  model_year  cylinders  odometer    is_4wd  \\\n",
              "price             1.000000    0.526972   0.215301 -0.504856  0.302758   \n",
              "model_year        0.526972    1.000000  -0.260721 -0.593775 -0.117130   \n",
              "cylinders         0.215301   -0.260721   1.000000  0.219306  0.420000   \n",
              "odometer         -0.504856   -0.593775   0.219306  1.000000  0.086226   \n",
              "is_4wd            0.302758   -0.117130   0.420000  0.086226  1.000000   \n",
              "days_listed      -0.006038   -0.008023   0.011468  0.008284  0.003700   \n",
              "date_posted_year  0.023636    0.027837  -0.003578 -0.024159 -0.001728   \n",
              "years_posted     -0.523630   -0.995305   0.259853  0.590249  0.116728   \n",
              "average_miles     0.243892    0.544206  -0.116506  0.014050 -0.037163   \n",
              "condition_id      0.260281    0.284569  -0.072395 -0.308785 -0.009481   \n",
              "\n",
              "                  days_listed  date_posted_year  years_posted  average_miles  \\\n",
              "price               -0.006038          0.023636     -0.523630       0.243892   \n",
              "model_year          -0.008023          0.027837     -0.995305       0.544206   \n",
              "cylinders            0.011468         -0.003578      0.259853      -0.116506   \n",
              "odometer             0.008284         -0.024159      0.590249       0.014050   \n",
              "is_4wd               0.003700         -0.001728      0.116728      -0.037163   \n",
              "days_listed          1.000000          0.001722      0.008173      -0.008343   \n",
              "date_posted_year     0.001722          1.000000      0.069048      -0.134113   \n",
              "years_posted         0.008173          0.069048      1.000000      -0.556104   \n",
              "average_miles       -0.008343         -0.134113     -0.556104       1.000000   \n",
              "condition_id        -0.013107          0.013752     -0.282668       0.064940   \n",
              "\n",
              "                  condition_id  \n",
              "price                 0.260281  \n",
              "model_year            0.284569  \n",
              "cylinders            -0.072395  \n",
              "odometer             -0.308785  \n",
              "is_4wd               -0.009481  \n",
              "days_listed          -0.013107  \n",
              "date_posted_year      0.013752  \n",
              "years_posted         -0.282668  \n",
              "average_miles         0.064940  \n",
              "condition_id          1.000000  "
            ]
          },
          "execution_count": 76,
          "metadata": {},
          "output_type": "execute_result"
        }
      ],
      "source": [
        "#Solo tomamos en cuenta los dos tipos con más anuncios de la sección anterior\n",
        "frame_corr_suv_se=frame_sin_atipicos.query('type in (\"SUV\",\"sedan\")')\n",
        "frame_corr_suv_se.corr()"
      ]
    },
    {
      "cell_type": "markdown",
      "metadata": {
        "id": "NVz05geBQ358"
      },
      "source": [
        "¿Hay una correlación entre los años y el precio de cada tipo de vehículo? Sí hay una relación inversa. A menor cantidad de años del vehículo mayor es su precio"
      ]
    },
    {
      "cell_type": "code",
      "execution_count": null,
      "metadata": {
        "id": "r5gwOXZ3Q358",
        "outputId": "342366de-3afa-4d1c-e134-2540516deae0"
      },
      "outputs": [
        {
          "ename": "NameError",
          "evalue": "name 'frame_years_posted_con' is not defined",
          "output_type": "error",
          "traceback": [
            "\u001b[0;31m---------------------------------------------------------------------------\u001b[0m",
            "\u001b[0;31mNameError\u001b[0m                                 Traceback (most recent call last)",
            "\u001b[0;32m/tmp/ipykernel_49/2702486422.py\u001b[0m in \u001b[0;36m<module>\u001b[0;34m\u001b[0m\n\u001b[0;32m----> 1\u001b[0;31m \u001b[0mframe_years_posted_con\u001b[0m\u001b[0;34m.\u001b[0m\u001b[0mhead\u001b[0m\u001b[0;34m(\u001b[0m\u001b[0;34m)\u001b[0m\u001b[0;34m\u001b[0m\u001b[0;34m\u001b[0m\u001b[0m\n\u001b[0m",
            "\u001b[0;31mNameError\u001b[0m: name 'frame_years_posted_con' is not defined"
          ]
        }
      ],
      "source": [
        "frame_years_posted_con.head()"
      ]
    },
    {
      "cell_type": "code",
      "execution_count": null,
      "metadata": {
        "scrolled": true,
        "id": "hqKvcDGnQ358"
      },
      "outputs": [],
      "source": [
        "frame_years_posted_con = frame_corr_suv_se.pivot_table(index='years_posted', columns='type', values='price')\n",
        "frame_years_posted_con.plot(style=\"o\") "
      ]
    },
    {
      "cell_type": "markdown",
      "metadata": {
        "id": "BNMtp7FGQ358"
      },
      "source": [
        "<div class=\"alert alert-success\">\n",
        "<b>✔️ Comentario del revisor:</b> Que bonito! Buen trabajo!"
      ]
    },
    {
      "cell_type": "markdown",
      "metadata": {
        "id": "gTi72-dEQ358"
      },
      "source": [
        "Correlación entre el millaje y el precio por tipo de vehículo. En este caso también se muestra una relación inversa, entre mayor es el millaje de un carro menor es un costo, entre menor sea su millaje mayor es su costo. "
      ]
    },
    {
      "cell_type": "code",
      "execution_count": null,
      "metadata": {
        "id": "cja0tO9PQ358"
      },
      "outputs": [],
      "source": [
        "frame_odometer_con = frame_corr_suv_se.pivot_table(index='odometer', columns='type', values='price')\n",
        "frame_odometer_con.plot(style=\"o\", figsize=(14,8), ms=4) "
      ]
    },
    {
      "cell_type": "markdown",
      "metadata": {
        "id": "-JQ8edURQ358"
      },
      "source": [
        "<div class=\"alert alert-success\">\n",
        "<b>✔️ Comentario del revisor:</b> Genial que mustras asi"
      ]
    },
    {
      "cell_type": "markdown",
      "metadata": {
        "id": "FuphnUWTQ358"
      },
      "source": [
        "Correlación entre la condición y el precio. Aquí también hay una relación, entre mejor es la condición del carro mayor es su precio. "
      ]
    },
    {
      "cell_type": "code",
      "execution_count": null,
      "metadata": {
        "id": "QVIG5JUyQ358"
      },
      "outputs": [],
      "source": [
        "frame_condition_con = frame_corr_suv_se.pivot_table(index='condition_id', columns='type', values='price')\n",
        "frame_condition_con.plot(style=\"o\") "
      ]
    },
    {
      "cell_type": "markdown",
      "metadata": {
        "id": "hQvR0RoyQ358"
      },
      "source": [
        "Correlación entre el tipo de transmisión y el precio. Aquí no parece haber una relación fuerte entre el tipo de transmisión y el precio del carro.  "
      ]
    },
    {
      "cell_type": "code",
      "execution_count": null,
      "metadata": {
        "id": "Bcjhhuo6Q358"
      },
      "outputs": [],
      "source": [
        "frame_corr_suv_se"
      ]
    },
    {
      "cell_type": "code",
      "execution_count": null,
      "metadata": {
        "id": "gWJxv8xEQ359"
      },
      "outputs": [],
      "source": [
        "for tipo, datos in frame_corr_suv_se.groupby('type'):\n",
        "    datos.boxplot(by='transmission', column='price', figsize=(15,8))\n",
        "    plt.title(tipo)\n",
        "    plt.show()"
      ]
    },
    {
      "cell_type": "markdown",
      "metadata": {
        "id": "qo8N0WpDQ359"
      },
      "source": [
        "Correlación entre el color y el precio del auto. Aquí tampoco parece haber una relación tan fuerte entre el color y el precio del auto. "
      ]
    },
    {
      "cell_type": "code",
      "execution_count": null,
      "metadata": {
        "id": "swZLTvKOQ359"
      },
      "outputs": [],
      "source": [
        "for tipo, datos in frame_corr_suv_se.groupby('type'):\n",
        "    datos.boxplot(by='paint_color', column='price', figsize=(15,8))\n",
        "    plt.title(tipo)\n",
        "    plt.show()"
      ]
    },
    {
      "cell_type": "markdown",
      "metadata": {
        "id": "crG_dVONQ359"
      },
      "source": [
        "## Conclusión general\n",
        "\n",
        "* Se rellenaron los valores ausentes dependiendo la característica. Para los valores categoricos usé la moda ya que no es posible usar la mediana o media.\n",
        "* En otro tipo de datos como los booleanos se utilizo la función fillna\n",
        "* Hice un DataFrame nuevo para separar los valores atípicos del DataFrame original. \n",
        "* Los factores que más afectan el precio de un vehículo son el millaje, sus años de antigüedad y la condición en la que se encuentra. \n",
        "* El color y el tipo de transmisión parecen no tener una clara afectación al precio. "
      ]
    },
    {
      "cell_type": "markdown",
      "metadata": {
        "id": "W4Exj1SNQ359"
      },
      "source": [
        "<div class=\"alert alert-success\">\n",
        "<b>✔️ Comentario del revisor:</b> Muchas gracias por el trabajo realizado. Tienes el proyecto exelente y está claro que lo estás intentando. Te pido que en futuro agregues los nombres para tus graficos en los proyectos, es muy importante en el trabajo de analista de datos. De lo contrario, todo está bien, estoy lista para aceptar el proyecto :)"
      ]
    }
  ],
  "metadata": {
    "ExecuteTimeLog": [
      {
        "duration": 828,
        "start_time": "2021-11-16T09:21:11.304Z"
      },
      {
        "duration": 893,
        "start_time": "2021-11-16T09:21:17.728Z"
      },
      {
        "duration": 1150,
        "start_time": "2021-11-16T09:21:29.568Z"
      },
      {
        "duration": 3,
        "start_time": "2021-11-16T09:24:14.495Z"
      },
      {
        "duration": 120,
        "start_time": "2021-11-16T09:24:46.630Z"
      },
      {
        "duration": 3,
        "start_time": "2021-11-16T09:28:27.882Z"
      },
      {
        "duration": 4,
        "start_time": "2021-11-16T09:29:54.281Z"
      },
      {
        "duration": 3,
        "start_time": "2021-11-16T09:30:45.936Z"
      },
      {
        "duration": 4,
        "start_time": "2021-11-16T09:31:06.300Z"
      },
      {
        "duration": 113,
        "start_time": "2021-11-16T09:31:37.208Z"
      },
      {
        "duration": 143,
        "start_time": "2021-11-16T09:31:48.656Z"
      },
      {
        "duration": 98,
        "start_time": "2021-11-16T09:31:55.678Z"
      },
      {
        "duration": 3,
        "start_time": "2021-11-16T09:32:08.535Z"
      },
      {
        "duration": 111,
        "start_time": "2021-11-16T09:32:10.120Z"
      },
      {
        "duration": 3,
        "start_time": "2021-11-16T09:32:15.732Z"
      },
      {
        "duration": 4,
        "start_time": "2021-11-16T09:32:29.423Z"
      },
      {
        "duration": 3,
        "start_time": "2021-11-16T10:03:03.074Z"
      },
      {
        "duration": 3,
        "start_time": "2021-11-16T10:10:01.288Z"
      },
      {
        "duration": 3,
        "start_time": "2021-11-16T10:10:46.923Z"
      },
      {
        "duration": 121,
        "start_time": "2021-11-16T10:37:46.494Z"
      },
      {
        "duration": 125,
        "start_time": "2021-11-16T10:38:20.632Z"
      },
      {
        "duration": 112,
        "start_time": "2021-11-16T10:46:53.001Z"
      },
      {
        "duration": 110,
        "start_time": "2021-11-16T10:48:25.775Z"
      },
      {
        "duration": 3,
        "start_time": "2021-11-16T10:50:18.720Z"
      },
      {
        "duration": 4,
        "start_time": "2021-11-16T10:50:37.649Z"
      },
      {
        "duration": 2,
        "start_time": "2021-11-16T10:50:51.884Z"
      },
      {
        "duration": 3,
        "start_time": "2021-11-16T10:51:56.237Z"
      },
      {
        "duration": 101,
        "start_time": "2021-11-16T10:53:13.791Z"
      },
      {
        "duration": 3,
        "start_time": "2021-11-16T10:55:59.186Z"
      },
      {
        "duration": 3,
        "start_time": "2021-11-16T10:56:10.751Z"
      },
      {
        "duration": 3,
        "start_time": "2021-11-16T10:56:49.038Z"
      },
      {
        "duration": 3,
        "start_time": "2021-11-16T10:56:49.174Z"
      },
      {
        "duration": 4,
        "start_time": "2021-11-16T10:56:49.414Z"
      },
      {
        "duration": 3,
        "start_time": "2021-11-16T10:56:49.680Z"
      },
      {
        "duration": 3,
        "start_time": "2021-11-16T10:56:50.370Z"
      },
      {
        "duration": 114,
        "start_time": "2021-11-16T10:59:34.518Z"
      },
      {
        "duration": 3,
        "start_time": "2021-11-16T11:01:41.201Z"
      },
      {
        "duration": 116,
        "start_time": "2021-11-16T11:01:48.754Z"
      },
      {
        "duration": 3,
        "start_time": "2021-11-16T11:02:16.685Z"
      },
      {
        "duration": 3,
        "start_time": "2021-11-16T11:02:19.479Z"
      },
      {
        "duration": 3,
        "start_time": "2021-11-16T11:02:47.067Z"
      },
      {
        "duration": 3,
        "start_time": "2021-11-16T11:02:49.353Z"
      },
      {
        "duration": 3,
        "start_time": "2021-11-16T11:03:07.835Z"
      },
      {
        "duration": 3,
        "start_time": "2021-11-16T11:03:07.953Z"
      },
      {
        "duration": 112,
        "start_time": "2021-11-16T11:07:52.072Z"
      },
      {
        "duration": 187,
        "start_time": "2021-11-16T11:09:23.468Z"
      },
      {
        "duration": 4,
        "start_time": "2021-11-16T11:10:01.455Z"
      },
      {
        "duration": 3,
        "start_time": "2021-11-16T11:10:05.069Z"
      },
      {
        "duration": 4,
        "start_time": "2021-11-16T11:10:13.376Z"
      },
      {
        "duration": 3,
        "start_time": "2021-11-16T11:10:14.434Z"
      },
      {
        "duration": 3,
        "start_time": "2021-11-16T11:10:22.853Z"
      },
      {
        "duration": 4,
        "start_time": "2021-11-16T11:27:29.279Z"
      },
      {
        "duration": 4,
        "start_time": "2021-11-16T11:29:08.919Z"
      },
      {
        "duration": 118,
        "start_time": "2021-11-16T11:29:46.703Z"
      },
      {
        "duration": 437,
        "start_time": "2021-11-16T11:36:02.181Z"
      },
      {
        "duration": 157,
        "start_time": "2021-11-16T11:36:14.388Z"
      },
      {
        "duration": 207,
        "start_time": "2021-11-16T11:47:15.898Z"
      },
      {
        "duration": 3,
        "start_time": "2021-11-16T11:53:52.092Z"
      },
      {
        "duration": 3,
        "start_time": "2021-11-16T11:53:52.236Z"
      },
      {
        "duration": 3,
        "start_time": "2021-11-16T11:59:12.005Z"
      },
      {
        "duration": 112,
        "start_time": "2021-11-16T12:00:33.446Z"
      },
      {
        "duration": 3,
        "start_time": "2021-11-16T12:02:14.453Z"
      },
      {
        "duration": 3,
        "start_time": "2021-11-16T12:02:39.512Z"
      },
      {
        "duration": 106,
        "start_time": "2021-11-16T12:03:03.460Z"
      },
      {
        "duration": 871,
        "start_time": "2022-07-27T22:39:04.208Z"
      },
      {
        "duration": 79,
        "start_time": "2022-07-27T22:39:06.888Z"
      },
      {
        "duration": 174,
        "start_time": "2022-07-27T22:39:40.738Z"
      },
      {
        "duration": 24,
        "start_time": "2022-07-27T22:39:59.401Z"
      },
      {
        "duration": 27,
        "start_time": "2022-07-27T22:40:10.377Z"
      },
      {
        "duration": 890,
        "start_time": "2022-07-29T18:42:58.782Z"
      },
      {
        "duration": 385,
        "start_time": "2022-07-29T18:43:01.280Z"
      },
      {
        "duration": 33,
        "start_time": "2022-07-29T18:57:53.949Z"
      },
      {
        "duration": 32,
        "start_time": "2022-07-29T19:07:47.127Z"
      },
      {
        "duration": 21,
        "start_time": "2022-07-29T19:07:53.546Z"
      },
      {
        "duration": 72,
        "start_time": "2022-07-31T00:54:51.808Z"
      },
      {
        "duration": 700,
        "start_time": "2022-07-31T00:54:58.925Z"
      },
      {
        "duration": 170,
        "start_time": "2022-07-31T00:55:00.085Z"
      },
      {
        "duration": 28,
        "start_time": "2022-07-31T00:55:01.467Z"
      },
      {
        "duration": 23,
        "start_time": "2022-07-31T00:55:01.845Z"
      },
      {
        "duration": 26,
        "start_time": "2022-07-31T00:55:05.564Z"
      },
      {
        "duration": 10,
        "start_time": "2022-07-31T00:55:08.701Z"
      },
      {
        "duration": 5,
        "start_time": "2022-07-31T01:04:26.380Z"
      },
      {
        "duration": 6,
        "start_time": "2022-07-31T01:05:20.027Z"
      },
      {
        "duration": 37,
        "start_time": "2022-07-31T01:07:10.897Z"
      },
      {
        "duration": 6,
        "start_time": "2022-07-31T01:07:33.419Z"
      },
      {
        "duration": 7,
        "start_time": "2022-07-31T01:07:52.464Z"
      },
      {
        "duration": 4,
        "start_time": "2022-07-31T01:07:56.872Z"
      },
      {
        "duration": 6,
        "start_time": "2022-07-31T01:08:33.512Z"
      },
      {
        "duration": 4,
        "start_time": "2022-07-31T01:08:35.128Z"
      },
      {
        "duration": 4,
        "start_time": "2022-07-31T01:09:56.680Z"
      },
      {
        "duration": 4,
        "start_time": "2022-07-31T01:10:00.975Z"
      },
      {
        "duration": 11,
        "start_time": "2022-07-31T01:13:57.727Z"
      },
      {
        "duration": 8,
        "start_time": "2022-07-31T01:14:32.190Z"
      },
      {
        "duration": 8,
        "start_time": "2022-07-31T01:14:39.574Z"
      },
      {
        "duration": 8,
        "start_time": "2022-07-31T01:14:47.597Z"
      },
      {
        "duration": 7,
        "start_time": "2022-07-31T01:15:35.926Z"
      },
      {
        "duration": 7,
        "start_time": "2022-07-31T01:15:41.924Z"
      },
      {
        "duration": 7,
        "start_time": "2022-07-31T01:15:50.949Z"
      },
      {
        "duration": 8,
        "start_time": "2022-07-31T01:15:55.638Z"
      },
      {
        "duration": 6,
        "start_time": "2022-07-31T01:19:19.436Z"
      },
      {
        "duration": 5,
        "start_time": "2022-07-31T01:19:43.588Z"
      },
      {
        "duration": 5,
        "start_time": "2022-07-31T01:20:18.468Z"
      },
      {
        "duration": 5,
        "start_time": "2022-07-31T01:20:34.412Z"
      },
      {
        "duration": 6,
        "start_time": "2022-07-31T01:20:58.875Z"
      },
      {
        "duration": 7,
        "start_time": "2022-07-31T01:21:09.860Z"
      },
      {
        "duration": 8,
        "start_time": "2022-07-31T01:21:20.635Z"
      },
      {
        "duration": 5,
        "start_time": "2022-07-31T01:21:23.106Z"
      },
      {
        "duration": 5,
        "start_time": "2022-07-31T01:22:11.691Z"
      },
      {
        "duration": 6,
        "start_time": "2022-07-31T01:24:04.980Z"
      },
      {
        "duration": 5,
        "start_time": "2022-07-31T01:24:43.954Z"
      },
      {
        "duration": 4,
        "start_time": "2022-07-31T01:45:14.107Z"
      },
      {
        "duration": 20,
        "start_time": "2022-07-31T01:48:07.337Z"
      },
      {
        "duration": 9,
        "start_time": "2022-07-31T01:49:00.025Z"
      },
      {
        "duration": 13,
        "start_time": "2022-07-31T01:49:26.145Z"
      },
      {
        "duration": 11,
        "start_time": "2022-07-31T01:53:48.475Z"
      },
      {
        "duration": 22,
        "start_time": "2022-07-31T01:53:58.623Z"
      },
      {
        "duration": 8,
        "start_time": "2022-07-31T01:57:38.470Z"
      },
      {
        "duration": 29,
        "start_time": "2022-07-31T01:58:23.757Z"
      },
      {
        "duration": 11,
        "start_time": "2022-07-31T02:00:32.693Z"
      },
      {
        "duration": 23,
        "start_time": "2022-07-31T02:00:57.538Z"
      },
      {
        "duration": 13,
        "start_time": "2022-07-31T02:00:58.316Z"
      },
      {
        "duration": 23,
        "start_time": "2022-07-31T02:03:39.316Z"
      },
      {
        "duration": 882,
        "start_time": "2022-07-31T02:04:07.500Z"
      },
      {
        "duration": 16,
        "start_time": "2022-07-31T02:04:18.190Z"
      },
      {
        "duration": 15,
        "start_time": "2022-07-31T02:50:10.052Z"
      },
      {
        "duration": 765,
        "start_time": "2022-07-31T02:55:26.252Z"
      },
      {
        "duration": 25,
        "start_time": "2022-07-31T02:55:56.250Z"
      },
      {
        "duration": 869,
        "start_time": "2022-07-31T15:27:37.138Z"
      },
      {
        "duration": 777,
        "start_time": "2022-07-31T15:27:38.112Z"
      },
      {
        "duration": 25,
        "start_time": "2022-07-31T15:27:39.152Z"
      },
      {
        "duration": 27,
        "start_time": "2022-07-31T15:27:39.564Z"
      },
      {
        "duration": 26,
        "start_time": "2022-07-31T15:27:42.030Z"
      },
      {
        "duration": 8,
        "start_time": "2022-07-31T15:27:44.130Z"
      },
      {
        "duration": 4,
        "start_time": "2022-07-31T15:27:45.271Z"
      },
      {
        "duration": 7,
        "start_time": "2022-07-31T15:27:45.662Z"
      },
      {
        "duration": 5,
        "start_time": "2022-07-31T15:27:46.334Z"
      },
      {
        "duration": 8,
        "start_time": "2022-07-31T15:27:46.863Z"
      },
      {
        "duration": 16,
        "start_time": "2022-07-31T15:27:48.167Z"
      },
      {
        "duration": 31,
        "start_time": "2022-07-31T15:27:49.018Z"
      },
      {
        "duration": 65,
        "start_time": "2022-07-31T15:33:36.978Z"
      },
      {
        "duration": 82,
        "start_time": "2022-07-31T15:35:25.951Z"
      },
      {
        "duration": 19,
        "start_time": "2022-07-31T15:35:38.844Z"
      },
      {
        "duration": 120,
        "start_time": "2022-07-31T15:35:53.193Z"
      },
      {
        "duration": 18,
        "start_time": "2022-07-31T15:35:59.057Z"
      },
      {
        "duration": 18,
        "start_time": "2022-07-31T15:42:47.793Z"
      },
      {
        "duration": 8,
        "start_time": "2022-07-31T15:46:06.382Z"
      },
      {
        "duration": 21,
        "start_time": "2022-07-31T15:46:19.821Z"
      },
      {
        "duration": 23,
        "start_time": "2022-07-31T16:10:05.077Z"
      },
      {
        "duration": 7,
        "start_time": "2022-07-31T16:12:20.609Z"
      },
      {
        "duration": 21,
        "start_time": "2022-07-31T16:17:09.353Z"
      },
      {
        "duration": 17,
        "start_time": "2022-07-31T16:17:18.016Z"
      },
      {
        "duration": 14,
        "start_time": "2022-07-31T16:17:28.040Z"
      },
      {
        "duration": 9,
        "start_time": "2022-07-31T16:20:20.842Z"
      },
      {
        "duration": 21,
        "start_time": "2022-07-31T16:20:42.858Z"
      },
      {
        "duration": 18,
        "start_time": "2022-07-31T16:21:12.955Z"
      },
      {
        "duration": 20,
        "start_time": "2022-07-31T16:21:25.459Z"
      },
      {
        "duration": 18,
        "start_time": "2022-07-31T16:21:56.154Z"
      },
      {
        "duration": 21,
        "start_time": "2022-07-31T16:22:11.739Z"
      },
      {
        "duration": 4,
        "start_time": "2022-07-31T16:24:42.714Z"
      },
      {
        "duration": 7,
        "start_time": "2022-07-31T16:24:49.401Z"
      },
      {
        "duration": 6,
        "start_time": "2022-07-31T16:26:39.257Z"
      },
      {
        "duration": 6,
        "start_time": "2022-07-31T16:27:07.881Z"
      },
      {
        "duration": 28,
        "start_time": "2022-07-31T16:27:22.705Z"
      },
      {
        "duration": 9,
        "start_time": "2022-07-31T16:28:39.609Z"
      },
      {
        "duration": 15,
        "start_time": "2022-07-31T16:28:52.450Z"
      },
      {
        "duration": 9,
        "start_time": "2022-07-31T16:28:54.273Z"
      },
      {
        "duration": 6,
        "start_time": "2022-07-31T16:29:02.091Z"
      },
      {
        "duration": 16,
        "start_time": "2022-07-31T16:29:20.400Z"
      },
      {
        "duration": 14,
        "start_time": "2022-07-31T16:29:36.336Z"
      },
      {
        "duration": 26,
        "start_time": "2022-07-31T16:30:29.794Z"
      },
      {
        "duration": 16,
        "start_time": "2022-07-31T16:31:18.777Z"
      },
      {
        "duration": 25,
        "start_time": "2022-07-31T16:34:07.009Z"
      },
      {
        "duration": 17,
        "start_time": "2022-07-31T16:35:07.480Z"
      },
      {
        "duration": 23,
        "start_time": "2022-07-31T16:35:52.097Z"
      },
      {
        "duration": 23,
        "start_time": "2022-07-31T16:36:00.225Z"
      },
      {
        "duration": 4,
        "start_time": "2022-07-31T16:48:25.923Z"
      },
      {
        "duration": 5,
        "start_time": "2022-07-31T16:51:25.998Z"
      },
      {
        "duration": 4,
        "start_time": "2022-07-31T16:51:54.900Z"
      },
      {
        "duration": 6,
        "start_time": "2022-07-31T16:51:56.994Z"
      },
      {
        "duration": 10,
        "start_time": "2022-07-31T16:52:12.604Z"
      },
      {
        "duration": 3,
        "start_time": "2022-07-31T16:53:17.090Z"
      },
      {
        "duration": 5,
        "start_time": "2022-07-31T16:53:17.554Z"
      },
      {
        "duration": 1226,
        "start_time": "2022-07-31T16:53:53.202Z"
      },
      {
        "duration": 5,
        "start_time": "2022-07-31T16:53:57.132Z"
      },
      {
        "duration": 8,
        "start_time": "2022-07-31T16:54:22.419Z"
      },
      {
        "duration": 9,
        "start_time": "2022-07-31T16:59:33.278Z"
      },
      {
        "duration": 8,
        "start_time": "2022-07-31T16:59:39.678Z"
      },
      {
        "duration": 7,
        "start_time": "2022-07-31T17:00:33.901Z"
      },
      {
        "duration": 6,
        "start_time": "2022-07-31T17:00:39.146Z"
      },
      {
        "duration": 21,
        "start_time": "2022-07-31T17:00:47.090Z"
      },
      {
        "duration": 3,
        "start_time": "2022-07-31T17:00:47.443Z"
      },
      {
        "duration": 6,
        "start_time": "2022-07-31T17:00:48.142Z"
      },
      {
        "duration": 5,
        "start_time": "2022-07-31T17:00:48.795Z"
      },
      {
        "duration": 523,
        "start_time": "2022-07-31T17:02:33.124Z"
      },
      {
        "duration": 6,
        "start_time": "2022-07-31T17:02:35.083Z"
      },
      {
        "duration": 3,
        "start_time": "2022-07-31T17:03:35.044Z"
      },
      {
        "duration": 6,
        "start_time": "2022-07-31T17:03:35.466Z"
      },
      {
        "duration": 522,
        "start_time": "2022-07-31T17:03:35.916Z"
      },
      {
        "duration": 5,
        "start_time": "2022-07-31T17:03:37.442Z"
      },
      {
        "duration": 29,
        "start_time": "2022-07-31T17:06:02.891Z"
      },
      {
        "duration": 7,
        "start_time": "2022-07-31T17:08:05.448Z"
      },
      {
        "duration": 7,
        "start_time": "2022-07-31T17:08:09.860Z"
      },
      {
        "duration": 5,
        "start_time": "2022-07-31T17:08:33.624Z"
      },
      {
        "duration": 7,
        "start_time": "2022-07-31T17:09:15.872Z"
      },
      {
        "duration": 6,
        "start_time": "2022-07-31T17:14:50.293Z"
      },
      {
        "duration": 21,
        "start_time": "2022-07-31T17:15:31.613Z"
      },
      {
        "duration": 7,
        "start_time": "2022-07-31T17:16:22.462Z"
      },
      {
        "duration": 6,
        "start_time": "2022-07-31T17:16:26.917Z"
      },
      {
        "duration": 13,
        "start_time": "2022-07-31T17:17:53.342Z"
      },
      {
        "duration": 4,
        "start_time": "2022-07-31T17:18:26.892Z"
      },
      {
        "duration": 5,
        "start_time": "2022-07-31T17:18:39.908Z"
      },
      {
        "duration": 6,
        "start_time": "2022-07-31T17:18:44.164Z"
      },
      {
        "duration": 12,
        "start_time": "2022-07-31T17:19:24.407Z"
      },
      {
        "duration": 10,
        "start_time": "2022-07-31T17:20:40.861Z"
      },
      {
        "duration": 11,
        "start_time": "2022-07-31T17:21:04.462Z"
      },
      {
        "duration": 11,
        "start_time": "2022-07-31T17:21:17.988Z"
      },
      {
        "duration": 9,
        "start_time": "2022-07-31T17:21:40.101Z"
      },
      {
        "duration": 11,
        "start_time": "2022-07-31T17:21:44.235Z"
      },
      {
        "duration": 12,
        "start_time": "2022-07-31T17:22:11.643Z"
      },
      {
        "duration": 11,
        "start_time": "2022-07-31T17:22:15.699Z"
      },
      {
        "duration": 10,
        "start_time": "2022-07-31T17:22:22.843Z"
      },
      {
        "duration": 17,
        "start_time": "2022-07-31T17:22:38.354Z"
      },
      {
        "duration": 14,
        "start_time": "2022-07-31T17:23:05.194Z"
      },
      {
        "duration": 15,
        "start_time": "2022-07-31T17:24:52.419Z"
      },
      {
        "duration": 27,
        "start_time": "2022-07-31T17:27:16.841Z"
      },
      {
        "duration": 72,
        "start_time": "2022-07-31T17:29:36.426Z"
      },
      {
        "duration": 15,
        "start_time": "2022-07-31T17:29:54.616Z"
      },
      {
        "duration": 20,
        "start_time": "2022-07-31T17:30:01.056Z"
      },
      {
        "duration": 22,
        "start_time": "2022-07-31T17:30:54.823Z"
      },
      {
        "duration": 20,
        "start_time": "2022-07-31T17:34:46.759Z"
      },
      {
        "duration": 19,
        "start_time": "2022-07-31T17:35:37.833Z"
      },
      {
        "duration": 480,
        "start_time": "2022-07-31T17:39:38.308Z"
      },
      {
        "duration": 34,
        "start_time": "2022-07-31T17:40:27.396Z"
      },
      {
        "duration": 4,
        "start_time": "2022-07-31T17:40:35.779Z"
      },
      {
        "duration": 22,
        "start_time": "2022-07-31T17:40:46.636Z"
      },
      {
        "duration": 17,
        "start_time": "2022-07-31T17:40:54.155Z"
      },
      {
        "duration": 9,
        "start_time": "2022-07-31T17:41:29.092Z"
      },
      {
        "duration": 16,
        "start_time": "2022-07-31T17:41:38.538Z"
      },
      {
        "duration": 24,
        "start_time": "2022-07-31T17:44:26.652Z"
      },
      {
        "duration": 3,
        "start_time": "2022-07-31T17:45:16.857Z"
      },
      {
        "duration": 17,
        "start_time": "2022-07-31T17:45:32.074Z"
      },
      {
        "duration": 30,
        "start_time": "2022-07-31T17:47:32.065Z"
      },
      {
        "duration": 6,
        "start_time": "2022-07-31T18:10:17.136Z"
      },
      {
        "duration": 24,
        "start_time": "2022-07-31T18:13:41.594Z"
      },
      {
        "duration": 75,
        "start_time": "2022-07-31T18:14:03.329Z"
      },
      {
        "duration": 70,
        "start_time": "2022-07-31T18:14:54.864Z"
      },
      {
        "duration": 34,
        "start_time": "2022-07-31T18:15:08.959Z"
      },
      {
        "duration": 35,
        "start_time": "2022-07-31T18:16:03.887Z"
      },
      {
        "duration": 34,
        "start_time": "2022-07-31T18:16:14.151Z"
      },
      {
        "duration": 10,
        "start_time": "2022-07-31T18:16:48.320Z"
      },
      {
        "duration": 10,
        "start_time": "2022-07-31T18:27:33.019Z"
      },
      {
        "duration": 803,
        "start_time": "2022-07-31T18:27:43.666Z"
      },
      {
        "duration": 638,
        "start_time": "2022-07-31T18:28:02.100Z"
      },
      {
        "duration": 9,
        "start_time": "2022-07-31T18:30:37.795Z"
      },
      {
        "duration": 27,
        "start_time": "2022-07-31T18:30:46.401Z"
      },
      {
        "duration": 38,
        "start_time": "2022-07-31T18:31:16.609Z"
      },
      {
        "duration": 4,
        "start_time": "2022-07-31T18:35:18.787Z"
      },
      {
        "duration": 4,
        "start_time": "2022-07-31T18:35:43.441Z"
      },
      {
        "duration": 6,
        "start_time": "2022-07-31T18:38:42.745Z"
      },
      {
        "duration": 1422,
        "start_time": "2022-07-31T18:41:00.985Z"
      },
      {
        "duration": 1212,
        "start_time": "2022-07-31T18:41:19.889Z"
      },
      {
        "duration": 3,
        "start_time": "2022-07-31T18:42:17.841Z"
      },
      {
        "duration": 6,
        "start_time": "2022-07-31T18:42:19.441Z"
      },
      {
        "duration": 6,
        "start_time": "2022-07-31T18:42:42.634Z"
      },
      {
        "duration": 5,
        "start_time": "2022-07-31T18:43:42.729Z"
      },
      {
        "duration": 5,
        "start_time": "2022-07-31T18:43:50.000Z"
      },
      {
        "duration": 4,
        "start_time": "2022-07-31T18:43:53.367Z"
      },
      {
        "duration": 4,
        "start_time": "2022-07-31T18:43:59.968Z"
      },
      {
        "duration": 4,
        "start_time": "2022-07-31T18:44:14.480Z"
      },
      {
        "duration": 5,
        "start_time": "2022-07-31T18:44:37.314Z"
      },
      {
        "duration": 9,
        "start_time": "2022-07-31T18:48:40.104Z"
      },
      {
        "duration": 9,
        "start_time": "2022-07-31T18:48:47.200Z"
      },
      {
        "duration": 577,
        "start_time": "2022-07-31T18:48:53.479Z"
      },
      {
        "duration": 541,
        "start_time": "2022-07-31T18:49:30.097Z"
      },
      {
        "duration": 26,
        "start_time": "2022-07-31T18:49:48.852Z"
      },
      {
        "duration": 5,
        "start_time": "2022-07-31T18:50:48.439Z"
      },
      {
        "duration": 548,
        "start_time": "2022-07-31T18:51:05.191Z"
      },
      {
        "duration": 29,
        "start_time": "2022-07-31T18:51:05.941Z"
      },
      {
        "duration": 505,
        "start_time": "2022-07-31T18:51:10.048Z"
      },
      {
        "duration": 27,
        "start_time": "2022-07-31T18:51:10.555Z"
      },
      {
        "duration": 482,
        "start_time": "2022-07-31T18:51:17.687Z"
      },
      {
        "duration": 37,
        "start_time": "2022-07-31T18:51:18.171Z"
      },
      {
        "duration": 5,
        "start_time": "2022-07-31T18:51:23.400Z"
      },
      {
        "duration": 26,
        "start_time": "2022-07-31T18:51:47.312Z"
      },
      {
        "duration": 1207,
        "start_time": "2022-07-31T18:53:56.238Z"
      },
      {
        "duration": 5,
        "start_time": "2022-07-31T18:54:24.118Z"
      },
      {
        "duration": 3,
        "start_time": "2022-07-31T18:56:57.102Z"
      },
      {
        "duration": 298,
        "start_time": "2022-07-31T18:56:58.401Z"
      },
      {
        "duration": 29,
        "start_time": "2022-07-31T18:56:59.125Z"
      },
      {
        "duration": 16,
        "start_time": "2022-07-31T18:56:59.319Z"
      },
      {
        "duration": 18,
        "start_time": "2022-07-31T18:57:00.925Z"
      },
      {
        "duration": 7,
        "start_time": "2022-07-31T18:57:02.241Z"
      },
      {
        "duration": 5,
        "start_time": "2022-07-31T18:57:02.837Z"
      },
      {
        "duration": 8,
        "start_time": "2022-07-31T18:57:03.466Z"
      },
      {
        "duration": 4,
        "start_time": "2022-07-31T18:57:03.999Z"
      },
      {
        "duration": 5,
        "start_time": "2022-07-31T18:57:04.589Z"
      },
      {
        "duration": 19,
        "start_time": "2022-07-31T18:57:05.485Z"
      },
      {
        "duration": 3,
        "start_time": "2022-07-31T18:57:06.205Z"
      },
      {
        "duration": 8,
        "start_time": "2022-07-31T18:57:06.701Z"
      },
      {
        "duration": 521,
        "start_time": "2022-07-31T18:57:07.485Z"
      },
      {
        "duration": 5,
        "start_time": "2022-07-31T18:57:09.325Z"
      },
      {
        "duration": 5,
        "start_time": "2022-07-31T18:57:10.253Z"
      },
      {
        "duration": 6,
        "start_time": "2022-07-31T18:57:10.758Z"
      },
      {
        "duration": 9,
        "start_time": "2022-07-31T18:57:11.565Z"
      },
      {
        "duration": 18,
        "start_time": "2022-07-31T18:57:12.223Z"
      },
      {
        "duration": 38,
        "start_time": "2022-07-31T18:57:12.677Z"
      },
      {
        "duration": 4,
        "start_time": "2022-07-31T18:57:13.245Z"
      },
      {
        "duration": 3,
        "start_time": "2022-07-31T18:57:15.981Z"
      },
      {
        "duration": 7,
        "start_time": "2022-07-31T18:57:16.648Z"
      },
      {
        "duration": 562,
        "start_time": "2022-07-31T18:57:17.238Z"
      },
      {
        "duration": 5,
        "start_time": "2022-07-31T18:57:17.804Z"
      },
      {
        "duration": 33,
        "start_time": "2022-07-31T18:57:19.030Z"
      },
      {
        "duration": 4,
        "start_time": "2022-07-31T19:03:49.500Z"
      },
      {
        "duration": 14,
        "start_time": "2022-07-31T19:04:12.757Z"
      },
      {
        "duration": 5,
        "start_time": "2022-07-31T19:04:21.531Z"
      },
      {
        "duration": 15,
        "start_time": "2022-07-31T19:04:22.004Z"
      },
      {
        "duration": 25,
        "start_time": "2022-07-31T19:04:23.202Z"
      },
      {
        "duration": 4,
        "start_time": "2022-07-31T19:04:24.084Z"
      },
      {
        "duration": 3,
        "start_time": "2022-07-31T19:04:24.722Z"
      },
      {
        "duration": 5,
        "start_time": "2022-07-31T19:04:25.203Z"
      },
      {
        "duration": 467,
        "start_time": "2022-07-31T19:04:25.618Z"
      },
      {
        "duration": 4,
        "start_time": "2022-07-31T19:04:26.087Z"
      },
      {
        "duration": 21,
        "start_time": "2022-07-31T19:04:26.380Z"
      },
      {
        "duration": 12,
        "start_time": "2022-07-31T19:18:47.465Z"
      },
      {
        "duration": 4,
        "start_time": "2022-07-31T19:19:53.443Z"
      },
      {
        "duration": 14,
        "start_time": "2022-07-31T19:20:56.986Z"
      },
      {
        "duration": 15,
        "start_time": "2022-07-31T19:26:36.184Z"
      },
      {
        "duration": 4,
        "start_time": "2022-07-31T19:35:20.270Z"
      },
      {
        "duration": 3,
        "start_time": "2022-07-31T19:37:08.060Z"
      },
      {
        "duration": 929,
        "start_time": "2022-07-31T19:39:39.021Z"
      },
      {
        "duration": 3347,
        "start_time": "2022-07-31T19:40:13.860Z"
      },
      {
        "duration": 16,
        "start_time": "2022-07-31T19:45:42.887Z"
      },
      {
        "duration": 3,
        "start_time": "2022-07-31T19:45:43.911Z"
      },
      {
        "duration": 860,
        "start_time": "2022-07-31T19:45:44.896Z"
      },
      {
        "duration": 5,
        "start_time": "2022-07-31T19:46:42.021Z"
      },
      {
        "duration": 5,
        "start_time": "2022-07-31T19:46:55.181Z"
      },
      {
        "duration": 9,
        "start_time": "2022-07-31T19:48:47.886Z"
      },
      {
        "duration": 9,
        "start_time": "2022-07-31T19:48:56.274Z"
      },
      {
        "duration": 1757,
        "start_time": "2022-07-31T19:49:00.555Z"
      },
      {
        "duration": 1595,
        "start_time": "2022-07-31T19:49:49.494Z"
      },
      {
        "duration": 1240,
        "start_time": "2022-07-31T19:50:31.034Z"
      },
      {
        "duration": 1128,
        "start_time": "2022-07-31T19:50:49.371Z"
      },
      {
        "duration": 6,
        "start_time": "2022-07-31T19:50:59.441Z"
      },
      {
        "duration": 12,
        "start_time": "2022-07-31T19:51:41.449Z"
      },
      {
        "duration": 13,
        "start_time": "2022-07-31T19:51:51.355Z"
      },
      {
        "duration": 9,
        "start_time": "2022-07-31T19:52:04.983Z"
      },
      {
        "duration": 3,
        "start_time": "2022-07-31T19:52:25.056Z"
      },
      {
        "duration": 113,
        "start_time": "2022-07-31T19:52:26.136Z"
      },
      {
        "duration": 21,
        "start_time": "2022-07-31T19:52:27.143Z"
      },
      {
        "duration": 15,
        "start_time": "2022-07-31T19:52:27.437Z"
      },
      {
        "duration": 17,
        "start_time": "2022-07-31T19:52:29.895Z"
      },
      {
        "duration": 6,
        "start_time": "2022-07-31T19:52:31.366Z"
      },
      {
        "duration": 4,
        "start_time": "2022-07-31T19:52:31.790Z"
      },
      {
        "duration": 6,
        "start_time": "2022-07-31T19:52:32.009Z"
      },
      {
        "duration": 5,
        "start_time": "2022-07-31T19:52:32.196Z"
      },
      {
        "duration": 5,
        "start_time": "2022-07-31T19:52:32.409Z"
      },
      {
        "duration": 19,
        "start_time": "2022-07-31T19:52:32.797Z"
      },
      {
        "duration": 3,
        "start_time": "2022-07-31T19:52:33.009Z"
      },
      {
        "duration": 5,
        "start_time": "2022-07-31T19:52:33.245Z"
      },
      {
        "duration": 468,
        "start_time": "2022-07-31T19:52:33.509Z"
      },
      {
        "duration": 5,
        "start_time": "2022-07-31T19:52:33.979Z"
      },
      {
        "duration": 19,
        "start_time": "2022-07-31T19:52:33.985Z"
      },
      {
        "duration": 14,
        "start_time": "2022-07-31T19:52:34.119Z"
      },
      {
        "duration": 5,
        "start_time": "2022-07-31T19:52:34.516Z"
      },
      {
        "duration": 16,
        "start_time": "2022-07-31T19:52:34.712Z"
      },
      {
        "duration": 25,
        "start_time": "2022-07-31T19:52:35.115Z"
      },
      {
        "duration": 5,
        "start_time": "2022-07-31T19:52:35.326Z"
      },
      {
        "duration": 4,
        "start_time": "2022-07-31T19:52:35.557Z"
      },
      {
        "duration": 5,
        "start_time": "2022-07-31T19:52:35.966Z"
      },
      {
        "duration": 610,
        "start_time": "2022-07-31T19:52:36.228Z"
      },
      {
        "duration": 5,
        "start_time": "2022-07-31T19:52:36.840Z"
      },
      {
        "duration": 25,
        "start_time": "2022-07-31T19:52:36.846Z"
      },
      {
        "duration": 15,
        "start_time": "2022-07-31T19:52:37.121Z"
      },
      {
        "duration": 3,
        "start_time": "2022-07-31T19:52:37.297Z"
      },
      {
        "duration": 5,
        "start_time": "2022-07-31T19:52:37.428Z"
      },
      {
        "duration": 1787,
        "start_time": "2022-07-31T19:52:37.684Z"
      },
      {
        "duration": 1557,
        "start_time": "2022-07-31T19:53:27.879Z"
      },
      {
        "duration": 1192,
        "start_time": "2022-07-31T19:56:58.782Z"
      },
      {
        "duration": 4,
        "start_time": "2022-07-31T19:57:17.238Z"
      },
      {
        "duration": 6,
        "start_time": "2022-07-31T19:58:48.596Z"
      },
      {
        "duration": 10,
        "start_time": "2022-07-31T19:59:17.014Z"
      },
      {
        "duration": 1694,
        "start_time": "2022-07-31T19:59:36.668Z"
      },
      {
        "duration": 5,
        "start_time": "2022-07-31T20:35:57.849Z"
      },
      {
        "duration": 5,
        "start_time": "2022-07-31T20:35:58.544Z"
      },
      {
        "duration": 3,
        "start_time": "2022-07-31T20:36:07.057Z"
      },
      {
        "duration": 5,
        "start_time": "2022-07-31T20:36:07.537Z"
      },
      {
        "duration": 7,
        "start_time": "2022-07-31T20:36:08.144Z"
      },
      {
        "duration": 1896,
        "start_time": "2022-07-31T20:36:08.900Z"
      },
      {
        "duration": 16,
        "start_time": "2022-07-31T20:39:02.906Z"
      },
      {
        "duration": 3,
        "start_time": "2022-07-31T20:39:08.335Z"
      },
      {
        "duration": 6,
        "start_time": "2022-07-31T20:39:08.856Z"
      },
      {
        "duration": 6,
        "start_time": "2022-07-31T20:39:09.463Z"
      },
      {
        "duration": 1566,
        "start_time": "2022-07-31T20:39:10.354Z"
      },
      {
        "duration": 16,
        "start_time": "2022-07-31T20:39:25.001Z"
      },
      {
        "duration": 3,
        "start_time": "2022-07-31T20:39:25.763Z"
      },
      {
        "duration": 8,
        "start_time": "2022-07-31T20:39:26.513Z"
      },
      {
        "duration": 6,
        "start_time": "2022-07-31T20:39:27.127Z"
      },
      {
        "duration": 1582,
        "start_time": "2022-07-31T20:39:28.592Z"
      },
      {
        "duration": 3,
        "start_time": "2022-07-31T20:41:40.836Z"
      },
      {
        "duration": 6,
        "start_time": "2022-07-31T20:41:41.159Z"
      },
      {
        "duration": 6,
        "start_time": "2022-07-31T20:41:43.262Z"
      },
      {
        "duration": 3,
        "start_time": "2022-07-31T20:41:56.719Z"
      },
      {
        "duration": 5,
        "start_time": "2022-07-31T20:41:57.580Z"
      },
      {
        "duration": 478,
        "start_time": "2022-07-31T20:46:40.126Z"
      },
      {
        "duration": 459,
        "start_time": "2022-07-31T20:46:47.456Z"
      },
      {
        "duration": 3,
        "start_time": "2022-07-31T21:13:13.838Z"
      },
      {
        "duration": 4,
        "start_time": "2022-07-31T21:13:14.557Z"
      },
      {
        "duration": 470,
        "start_time": "2022-07-31T21:14:55.955Z"
      },
      {
        "duration": 75,
        "start_time": "2022-07-31T21:15:52.929Z"
      },
      {
        "duration": 9,
        "start_time": "2022-07-31T21:20:22.583Z"
      },
      {
        "duration": 9,
        "start_time": "2022-07-31T21:20:55.250Z"
      },
      {
        "duration": 22,
        "start_time": "2022-07-31T21:23:54.976Z"
      },
      {
        "duration": 25,
        "start_time": "2022-07-31T21:24:09.738Z"
      },
      {
        "duration": 4,
        "start_time": "2022-07-31T21:25:34.290Z"
      },
      {
        "duration": 467,
        "start_time": "2022-07-31T21:25:36.784Z"
      },
      {
        "duration": 2,
        "start_time": "2022-07-31T21:26:09.441Z"
      },
      {
        "duration": 4,
        "start_time": "2022-07-31T21:29:37.814Z"
      },
      {
        "duration": 3,
        "start_time": "2022-07-31T21:30:08.701Z"
      },
      {
        "duration": 5,
        "start_time": "2022-07-31T21:32:24.981Z"
      },
      {
        "duration": 3,
        "start_time": "2022-07-31T21:32:48.650Z"
      },
      {
        "duration": 1249,
        "start_time": "2022-07-31T21:33:01.554Z"
      },
      {
        "duration": 1241,
        "start_time": "2022-07-31T21:33:21.970Z"
      },
      {
        "duration": 3,
        "start_time": "2022-07-31T21:33:36.449Z"
      },
      {
        "duration": 5,
        "start_time": "2022-07-31T21:33:40.860Z"
      },
      {
        "duration": 6,
        "start_time": "2022-07-31T21:33:57.519Z"
      },
      {
        "duration": 5,
        "start_time": "2022-07-31T21:34:16.363Z"
      },
      {
        "duration": 609,
        "start_time": "2022-07-31T21:35:16.553Z"
      },
      {
        "duration": 25,
        "start_time": "2022-07-31T21:35:35.001Z"
      },
      {
        "duration": 31,
        "start_time": "2022-07-31T21:35:38.802Z"
      },
      {
        "duration": 28,
        "start_time": "2022-07-31T21:35:46.049Z"
      },
      {
        "duration": 31,
        "start_time": "2022-07-31T21:36:04.376Z"
      },
      {
        "duration": 31,
        "start_time": "2022-07-31T21:37:18.865Z"
      },
      {
        "duration": 3,
        "start_time": "2022-07-31T21:38:23.167Z"
      },
      {
        "duration": 5,
        "start_time": "2022-07-31T21:38:23.591Z"
      },
      {
        "duration": 5,
        "start_time": "2022-07-31T21:38:45.975Z"
      },
      {
        "duration": 32,
        "start_time": "2022-07-31T21:39:07.992Z"
      },
      {
        "duration": 28,
        "start_time": "2022-07-31T21:39:54.221Z"
      },
      {
        "duration": 3,
        "start_time": "2022-07-31T21:39:54.717Z"
      },
      {
        "duration": 5,
        "start_time": "2022-07-31T21:39:55.597Z"
      },
      {
        "duration": 32,
        "start_time": "2022-07-31T21:40:02.445Z"
      },
      {
        "duration": 4,
        "start_time": "2022-07-31T21:40:55.029Z"
      },
      {
        "duration": 5,
        "start_time": "2022-07-31T21:40:55.534Z"
      },
      {
        "duration": 29,
        "start_time": "2022-07-31T21:41:38.204Z"
      },
      {
        "duration": 26,
        "start_time": "2022-07-31T21:41:52.470Z"
      },
      {
        "duration": 27,
        "start_time": "2022-07-31T21:41:58.444Z"
      },
      {
        "duration": 3,
        "start_time": "2022-07-31T21:42:11.403Z"
      },
      {
        "duration": 5,
        "start_time": "2022-07-31T21:42:11.843Z"
      },
      {
        "duration": 29,
        "start_time": "2022-07-31T21:42:12.693Z"
      },
      {
        "duration": 30,
        "start_time": "2022-07-31T21:42:27.749Z"
      },
      {
        "duration": 30,
        "start_time": "2022-07-31T21:42:35.780Z"
      },
      {
        "duration": 5,
        "start_time": "2022-07-31T21:44:13.324Z"
      },
      {
        "duration": 32,
        "start_time": "2022-07-31T21:44:13.979Z"
      },
      {
        "duration": 3,
        "start_time": "2022-07-31T21:45:45.347Z"
      },
      {
        "duration": 33,
        "start_time": "2022-07-31T21:45:45.914Z"
      },
      {
        "duration": 24,
        "start_time": "2022-07-31T21:45:50.179Z"
      },
      {
        "duration": 3,
        "start_time": "2022-07-31T21:45:57.734Z"
      },
      {
        "duration": 92,
        "start_time": "2022-07-31T21:45:58.458Z"
      },
      {
        "duration": 22,
        "start_time": "2022-07-31T21:45:58.961Z"
      },
      {
        "duration": 14,
        "start_time": "2022-07-31T21:45:59.146Z"
      },
      {
        "duration": 19,
        "start_time": "2022-07-31T21:46:00.721Z"
      },
      {
        "duration": 7,
        "start_time": "2022-07-31T21:46:02.026Z"
      },
      {
        "duration": 4,
        "start_time": "2022-07-31T21:46:02.393Z"
      },
      {
        "duration": 6,
        "start_time": "2022-07-31T21:46:02.568Z"
      },
      {
        "duration": 4,
        "start_time": "2022-07-31T21:46:02.734Z"
      },
      {
        "duration": 5,
        "start_time": "2022-07-31T21:46:02.918Z"
      },
      {
        "duration": 19,
        "start_time": "2022-07-31T21:46:03.306Z"
      },
      {
        "duration": 3,
        "start_time": "2022-07-31T21:46:03.496Z"
      },
      {
        "duration": 5,
        "start_time": "2022-07-31T21:46:03.679Z"
      },
      {
        "duration": 483,
        "start_time": "2022-07-31T21:46:04.289Z"
      },
      {
        "duration": 5,
        "start_time": "2022-07-31T21:46:04.774Z"
      },
      {
        "duration": 3,
        "start_time": "2022-07-31T21:46:04.969Z"
      },
      {
        "duration": 14,
        "start_time": "2022-07-31T21:46:05.554Z"
      },
      {
        "duration": 5,
        "start_time": "2022-07-31T21:46:06.154Z"
      },
      {
        "duration": 15,
        "start_time": "2022-07-31T21:46:06.407Z"
      },
      {
        "duration": 24,
        "start_time": "2022-07-31T21:46:06.882Z"
      },
      {
        "duration": 4,
        "start_time": "2022-07-31T21:46:07.099Z"
      },
      {
        "duration": 4,
        "start_time": "2022-07-31T21:46:07.333Z"
      },
      {
        "duration": 5,
        "start_time": "2022-07-31T21:46:08.242Z"
      },
      {
        "duration": 545,
        "start_time": "2022-07-31T21:46:08.623Z"
      },
      {
        "duration": 5,
        "start_time": "2022-07-31T21:46:09.170Z"
      },
      {
        "duration": 24,
        "start_time": "2022-07-31T21:46:09.456Z"
      },
      {
        "duration": 16,
        "start_time": "2022-07-31T21:46:11.738Z"
      },
      {
        "duration": 3,
        "start_time": "2022-07-31T21:46:12.145Z"
      },
      {
        "duration": 4,
        "start_time": "2022-07-31T21:46:12.641Z"
      },
      {
        "duration": 5,
        "start_time": "2022-07-31T21:46:13.305Z"
      },
      {
        "duration": 493,
        "start_time": "2022-07-31T21:46:13.850Z"
      },
      {
        "duration": 9,
        "start_time": "2022-07-31T21:46:14.913Z"
      },
      {
        "duration": 26,
        "start_time": "2022-07-31T21:46:15.231Z"
      },
      {
        "duration": 3,
        "start_time": "2022-07-31T21:46:16.362Z"
      },
      {
        "duration": 6,
        "start_time": "2022-07-31T21:46:17.873Z"
      },
      {
        "duration": 577,
        "start_time": "2022-07-31T21:46:19.674Z"
      },
      {
        "duration": 7,
        "start_time": "2022-07-31T21:47:39.050Z"
      },
      {
        "duration": 25,
        "start_time": "2022-07-31T21:47:53.985Z"
      },
      {
        "duration": 23,
        "start_time": "2022-07-31T21:48:46.330Z"
      },
      {
        "duration": 4,
        "start_time": "2022-07-31T21:52:22.496Z"
      },
      {
        "duration": 13,
        "start_time": "2022-07-31T21:52:23.001Z"
      },
      {
        "duration": 5,
        "start_time": "2022-07-31T21:52:23.854Z"
      },
      {
        "duration": 13,
        "start_time": "2022-07-31T21:52:24.240Z"
      },
      {
        "duration": 22,
        "start_time": "2022-07-31T21:52:25.120Z"
      },
      {
        "duration": 4,
        "start_time": "2022-07-31T21:52:25.524Z"
      },
      {
        "duration": 4,
        "start_time": "2022-07-31T21:52:26.006Z"
      },
      {
        "duration": 6,
        "start_time": "2022-07-31T21:52:26.463Z"
      },
      {
        "duration": 460,
        "start_time": "2022-07-31T21:52:26.903Z"
      },
      {
        "duration": 5,
        "start_time": "2022-07-31T21:52:27.365Z"
      },
      {
        "duration": 23,
        "start_time": "2022-07-31T21:52:27.824Z"
      },
      {
        "duration": 15,
        "start_time": "2022-07-31T21:52:29.614Z"
      },
      {
        "duration": 4,
        "start_time": "2022-07-31T21:52:29.998Z"
      },
      {
        "duration": 6,
        "start_time": "2022-07-31T21:52:30.382Z"
      },
      {
        "duration": 5,
        "start_time": "2022-07-31T21:52:30.723Z"
      },
      {
        "duration": 507,
        "start_time": "2022-07-31T21:52:31.063Z"
      },
      {
        "duration": 413,
        "start_time": "2022-07-31T21:52:32.038Z"
      },
      {
        "duration": 27,
        "start_time": "2022-07-31T21:52:32.453Z"
      },
      {
        "duration": 3,
        "start_time": "2022-07-31T21:52:32.740Z"
      },
      {
        "duration": 442,
        "start_time": "2022-07-31T21:52:46.336Z"
      },
      {
        "duration": 3,
        "start_time": "2022-07-31T21:52:56.440Z"
      },
      {
        "duration": 113,
        "start_time": "2022-07-31T21:52:56.446Z"
      },
      {
        "duration": 29,
        "start_time": "2022-07-31T21:52:56.561Z"
      },
      {
        "duration": 28,
        "start_time": "2022-07-31T21:52:56.592Z"
      },
      {
        "duration": 33,
        "start_time": "2022-07-31T21:52:56.623Z"
      },
      {
        "duration": 9,
        "start_time": "2022-07-31T21:52:56.658Z"
      },
      {
        "duration": 35,
        "start_time": "2022-07-31T21:52:56.669Z"
      },
      {
        "duration": 10,
        "start_time": "2022-07-31T21:52:56.706Z"
      },
      {
        "duration": 9,
        "start_time": "2022-07-31T21:52:56.717Z"
      },
      {
        "duration": 7,
        "start_time": "2022-07-31T21:52:56.728Z"
      },
      {
        "duration": 18,
        "start_time": "2022-07-31T21:52:56.738Z"
      },
      {
        "duration": 3,
        "start_time": "2022-07-31T21:52:56.758Z"
      },
      {
        "duration": 14,
        "start_time": "2022-07-31T21:52:56.762Z"
      },
      {
        "duration": 502,
        "start_time": "2022-07-31T21:52:56.777Z"
      },
      {
        "duration": 4,
        "start_time": "2022-07-31T21:52:57.281Z"
      },
      {
        "duration": 17,
        "start_time": "2022-07-31T21:52:57.287Z"
      },
      {
        "duration": 15,
        "start_time": "2022-07-31T21:52:57.306Z"
      },
      {
        "duration": 19,
        "start_time": "2022-07-31T21:52:57.323Z"
      },
      {
        "duration": 17,
        "start_time": "2022-07-31T21:52:57.344Z"
      },
      {
        "duration": 24,
        "start_time": "2022-07-31T21:52:57.364Z"
      },
      {
        "duration": 4,
        "start_time": "2022-07-31T21:52:57.403Z"
      },
      {
        "duration": 5,
        "start_time": "2022-07-31T21:52:57.409Z"
      },
      {
        "duration": 8,
        "start_time": "2022-07-31T21:52:57.415Z"
      },
      {
        "duration": 523,
        "start_time": "2022-07-31T21:52:57.425Z"
      },
      {
        "duration": 5,
        "start_time": "2022-07-31T21:52:57.950Z"
      },
      {
        "duration": 28,
        "start_time": "2022-07-31T21:52:57.956Z"
      },
      {
        "duration": 28,
        "start_time": "2022-07-31T21:52:57.986Z"
      },
      {
        "duration": 3,
        "start_time": "2022-07-31T21:52:58.016Z"
      },
      {
        "duration": 6,
        "start_time": "2022-07-31T21:52:58.022Z"
      },
      {
        "duration": 7,
        "start_time": "2022-07-31T21:52:58.030Z"
      },
      {
        "duration": 477,
        "start_time": "2022-07-31T21:52:58.038Z"
      },
      {
        "duration": 8,
        "start_time": "2022-07-31T21:52:58.517Z"
      },
      {
        "duration": 27,
        "start_time": "2022-07-31T21:52:58.527Z"
      },
      {
        "duration": 3,
        "start_time": "2022-07-31T21:52:58.555Z"
      },
      {
        "duration": 8,
        "start_time": "2022-07-31T21:52:58.560Z"
      },
      {
        "duration": 561,
        "start_time": "2022-07-31T21:52:58.569Z"
      },
      {
        "duration": 6,
        "start_time": "2022-07-31T21:52:59.132Z"
      },
      {
        "duration": 24,
        "start_time": "2022-07-31T21:52:59.139Z"
      },
      {
        "duration": 39,
        "start_time": "2022-07-31T21:52:59.165Z"
      },
      {
        "duration": 2,
        "start_time": "2022-07-31T21:52:59.206Z"
      },
      {
        "duration": 5,
        "start_time": "2022-07-31T21:52:59.209Z"
      },
      {
        "duration": 5,
        "start_time": "2022-07-31T21:52:59.216Z"
      },
      {
        "duration": 4,
        "start_time": "2022-07-31T21:52:59.223Z"
      },
      {
        "duration": 6,
        "start_time": "2022-07-31T21:52:59.229Z"
      },
      {
        "duration": 5,
        "start_time": "2022-07-31T21:52:59.237Z"
      },
      {
        "duration": 4,
        "start_time": "2022-07-31T21:52:59.243Z"
      },
      {
        "duration": 4,
        "start_time": "2022-07-31T21:52:59.249Z"
      },
      {
        "duration": 4,
        "start_time": "2022-07-31T21:52:59.255Z"
      },
      {
        "duration": 4,
        "start_time": "2022-07-31T21:52:59.261Z"
      },
      {
        "duration": 4,
        "start_time": "2022-07-31T21:52:59.266Z"
      },
      {
        "duration": 4,
        "start_time": "2022-07-31T21:52:59.272Z"
      },
      {
        "duration": 4,
        "start_time": "2022-07-31T21:52:59.277Z"
      },
      {
        "duration": 7,
        "start_time": "2022-07-31T21:52:59.305Z"
      },
      {
        "duration": 4,
        "start_time": "2022-07-31T21:52:59.313Z"
      },
      {
        "duration": 27,
        "start_time": "2022-07-31T21:53:26.564Z"
      },
      {
        "duration": 3,
        "start_time": "2022-07-31T21:54:40.886Z"
      },
      {
        "duration": 5,
        "start_time": "2022-07-31T21:54:41.566Z"
      },
      {
        "duration": 5,
        "start_time": "2022-07-31T21:54:42.605Z"
      },
      {
        "duration": 476,
        "start_time": "2022-07-31T21:54:43.266Z"
      },
      {
        "duration": 15,
        "start_time": "2022-07-31T21:54:53.253Z"
      },
      {
        "duration": 5,
        "start_time": "2022-07-31T21:55:11.254Z"
      },
      {
        "duration": 433,
        "start_time": "2022-07-31T21:55:11.702Z"
      },
      {
        "duration": 5,
        "start_time": "2022-07-31T21:55:12.253Z"
      },
      {
        "duration": 21,
        "start_time": "2022-07-31T21:55:13.055Z"
      },
      {
        "duration": 14,
        "start_time": "2022-07-31T21:55:18.973Z"
      },
      {
        "duration": 3,
        "start_time": "2022-07-31T21:55:29.541Z"
      },
      {
        "duration": 5,
        "start_time": "2022-07-31T21:55:29.941Z"
      },
      {
        "duration": 3,
        "start_time": "2022-07-31T22:06:44.002Z"
      },
      {
        "duration": 108,
        "start_time": "2022-07-31T22:06:44.006Z"
      },
      {
        "duration": 26,
        "start_time": "2022-07-31T22:06:44.116Z"
      },
      {
        "duration": 40,
        "start_time": "2022-07-31T22:06:44.144Z"
      },
      {
        "duration": 31,
        "start_time": "2022-07-31T22:06:44.186Z"
      },
      {
        "duration": 19,
        "start_time": "2022-07-31T22:06:44.219Z"
      },
      {
        "duration": 11,
        "start_time": "2022-07-31T22:06:44.240Z"
      },
      {
        "duration": 19,
        "start_time": "2022-07-31T22:06:44.253Z"
      },
      {
        "duration": 13,
        "start_time": "2022-07-31T22:06:44.274Z"
      },
      {
        "duration": 31,
        "start_time": "2022-07-31T22:06:44.288Z"
      },
      {
        "duration": 22,
        "start_time": "2022-07-31T22:06:44.323Z"
      },
      {
        "duration": 4,
        "start_time": "2022-07-31T22:06:44.347Z"
      },
      {
        "duration": 34,
        "start_time": "2022-07-31T22:06:44.352Z"
      },
      {
        "duration": 468,
        "start_time": "2022-07-31T22:06:44.388Z"
      },
      {
        "duration": 5,
        "start_time": "2022-07-31T22:06:44.858Z"
      },
      {
        "duration": 6,
        "start_time": "2022-07-31T22:06:44.865Z"
      },
      {
        "duration": 33,
        "start_time": "2022-07-31T22:06:44.872Z"
      },
      {
        "duration": 13,
        "start_time": "2022-07-31T22:06:44.907Z"
      },
      {
        "duration": 18,
        "start_time": "2022-07-31T22:06:44.922Z"
      },
      {
        "duration": 24,
        "start_time": "2022-07-31T22:06:44.942Z"
      },
      {
        "duration": 5,
        "start_time": "2022-07-31T22:06:44.968Z"
      },
      {
        "duration": 4,
        "start_time": "2022-07-31T22:06:44.974Z"
      },
      {
        "duration": 27,
        "start_time": "2022-07-31T22:06:44.980Z"
      },
      {
        "duration": 545,
        "start_time": "2022-07-31T22:06:45.009Z"
      },
      {
        "duration": 5,
        "start_time": "2022-07-31T22:06:45.556Z"
      },
      {
        "duration": 30,
        "start_time": "2022-07-31T22:06:45.562Z"
      },
      {
        "duration": 15,
        "start_time": "2022-07-31T22:06:45.604Z"
      },
      {
        "duration": 4,
        "start_time": "2022-07-31T22:06:45.620Z"
      },
      {
        "duration": 5,
        "start_time": "2022-07-31T22:06:45.627Z"
      },
      {
        "duration": 7,
        "start_time": "2022-07-31T22:06:45.634Z"
      },
      {
        "duration": 495,
        "start_time": "2022-07-31T22:06:45.642Z"
      },
      {
        "duration": 10,
        "start_time": "2022-07-31T22:06:46.139Z"
      },
      {
        "duration": 34,
        "start_time": "2022-07-31T22:06:46.151Z"
      },
      {
        "duration": 3,
        "start_time": "2022-07-31T22:06:46.187Z"
      },
      {
        "duration": 5,
        "start_time": "2022-07-31T22:06:46.204Z"
      },
      {
        "duration": 583,
        "start_time": "2022-07-31T22:06:46.211Z"
      },
      {
        "duration": 10,
        "start_time": "2022-07-31T22:06:46.795Z"
      },
      {
        "duration": 22,
        "start_time": "2022-07-31T22:06:46.807Z"
      },
      {
        "duration": 22,
        "start_time": "2022-07-31T22:06:46.830Z"
      },
      {
        "duration": 2,
        "start_time": "2022-07-31T22:06:46.854Z"
      },
      {
        "duration": 5,
        "start_time": "2022-07-31T22:06:46.857Z"
      },
      {
        "duration": 8,
        "start_time": "2022-07-31T22:06:46.864Z"
      },
      {
        "duration": 8,
        "start_time": "2022-07-31T22:06:46.874Z"
      },
      {
        "duration": 6,
        "start_time": "2022-07-31T22:06:46.905Z"
      },
      {
        "duration": 6,
        "start_time": "2022-07-31T22:06:46.913Z"
      },
      {
        "duration": 14,
        "start_time": "2022-07-31T22:06:46.921Z"
      },
      {
        "duration": 6,
        "start_time": "2022-07-31T22:06:46.937Z"
      },
      {
        "duration": 5,
        "start_time": "2022-07-31T22:06:46.944Z"
      },
      {
        "duration": 10,
        "start_time": "2022-07-31T22:06:46.951Z"
      },
      {
        "duration": 7,
        "start_time": "2022-07-31T22:06:46.963Z"
      },
      {
        "duration": 6,
        "start_time": "2022-07-31T22:06:46.972Z"
      },
      {
        "duration": 4,
        "start_time": "2022-07-31T22:06:46.979Z"
      },
      {
        "duration": 5,
        "start_time": "2022-07-31T22:06:46.985Z"
      },
      {
        "duration": 4,
        "start_time": "2022-07-31T22:06:46.991Z"
      },
      {
        "duration": 18,
        "start_time": "2022-07-31T22:07:20.907Z"
      },
      {
        "duration": 8,
        "start_time": "2022-07-31T22:07:30.132Z"
      },
      {
        "duration": 5,
        "start_time": "2022-07-31T22:07:30.483Z"
      },
      {
        "duration": 476,
        "start_time": "2022-07-31T22:07:30.994Z"
      },
      {
        "duration": 25,
        "start_time": "2022-07-31T22:07:54.620Z"
      },
      {
        "duration": 5,
        "start_time": "2022-07-31T22:08:12.371Z"
      },
      {
        "duration": 15,
        "start_time": "2022-07-31T22:08:16.026Z"
      },
      {
        "duration": 26,
        "start_time": "2022-07-31T22:08:26.657Z"
      },
      {
        "duration": 4,
        "start_time": "2022-07-31T22:08:27.490Z"
      },
      {
        "duration": 4,
        "start_time": "2022-07-31T22:08:28.131Z"
      },
      {
        "duration": 6,
        "start_time": "2022-07-31T22:08:28.861Z"
      },
      {
        "duration": 495,
        "start_time": "2022-07-31T22:08:29.763Z"
      },
      {
        "duration": 5,
        "start_time": "2022-07-31T22:08:30.314Z"
      },
      {
        "duration": 23,
        "start_time": "2022-07-31T22:08:32.267Z"
      },
      {
        "duration": 16,
        "start_time": "2022-07-31T22:08:56.724Z"
      },
      {
        "duration": 3,
        "start_time": "2022-07-31T22:09:02.074Z"
      },
      {
        "duration": 109,
        "start_time": "2022-07-31T22:09:02.081Z"
      },
      {
        "duration": 27,
        "start_time": "2022-07-31T22:09:02.192Z"
      },
      {
        "duration": 62,
        "start_time": "2022-07-31T22:09:02.221Z"
      },
      {
        "duration": 54,
        "start_time": "2022-07-31T22:09:02.285Z"
      },
      {
        "duration": 43,
        "start_time": "2022-07-31T22:09:02.340Z"
      },
      {
        "duration": 19,
        "start_time": "2022-07-31T22:09:02.384Z"
      },
      {
        "duration": 47,
        "start_time": "2022-07-31T22:09:02.405Z"
      },
      {
        "duration": 10,
        "start_time": "2022-07-31T22:09:02.455Z"
      },
      {
        "duration": 32,
        "start_time": "2022-07-31T22:09:02.466Z"
      },
      {
        "duration": 117,
        "start_time": "2022-07-31T22:09:02.501Z"
      },
      {
        "duration": 43,
        "start_time": "2022-07-31T22:09:02.619Z"
      },
      {
        "duration": 78,
        "start_time": "2022-07-31T22:09:02.664Z"
      },
      {
        "duration": 602,
        "start_time": "2022-07-31T22:09:02.745Z"
      },
      {
        "duration": 5,
        "start_time": "2022-07-31T22:09:03.349Z"
      },
      {
        "duration": 10,
        "start_time": "2022-07-31T22:09:03.355Z"
      },
      {
        "duration": 55,
        "start_time": "2022-07-31T22:09:03.366Z"
      },
      {
        "duration": 8,
        "start_time": "2022-07-31T22:09:03.423Z"
      },
      {
        "duration": 20,
        "start_time": "2022-07-31T22:09:03.433Z"
      },
      {
        "duration": 24,
        "start_time": "2022-07-31T22:09:03.455Z"
      },
      {
        "duration": 24,
        "start_time": "2022-07-31T22:09:03.481Z"
      },
      {
        "duration": 4,
        "start_time": "2022-07-31T22:09:03.507Z"
      },
      {
        "duration": 12,
        "start_time": "2022-07-31T22:09:03.513Z"
      },
      {
        "duration": 555,
        "start_time": "2022-07-31T22:09:03.526Z"
      },
      {
        "duration": 6,
        "start_time": "2022-07-31T22:09:04.083Z"
      },
      {
        "duration": 34,
        "start_time": "2022-07-31T22:09:04.091Z"
      },
      {
        "duration": 23,
        "start_time": "2022-07-31T22:09:04.127Z"
      },
      {
        "duration": 11,
        "start_time": "2022-07-31T22:09:04.152Z"
      },
      {
        "duration": 51,
        "start_time": "2022-07-31T22:09:04.169Z"
      },
      {
        "duration": 3,
        "start_time": "2022-07-31T22:09:04.222Z"
      },
      {
        "duration": 15,
        "start_time": "2022-07-31T22:09:04.227Z"
      },
      {
        "duration": 574,
        "start_time": "2022-07-31T22:09:04.244Z"
      },
      {
        "duration": 7,
        "start_time": "2022-07-31T22:09:04.819Z"
      },
      {
        "duration": 39,
        "start_time": "2022-07-31T22:09:04.828Z"
      },
      {
        "duration": 42,
        "start_time": "2022-07-31T22:09:04.869Z"
      },
      {
        "duration": 3,
        "start_time": "2022-07-31T22:09:04.913Z"
      },
      {
        "duration": 6,
        "start_time": "2022-07-31T22:09:04.918Z"
      },
      {
        "duration": 6,
        "start_time": "2022-07-31T22:09:04.926Z"
      },
      {
        "duration": 11,
        "start_time": "2022-07-31T22:09:04.933Z"
      },
      {
        "duration": 6,
        "start_time": "2022-07-31T22:09:04.945Z"
      },
      {
        "duration": 5,
        "start_time": "2022-07-31T22:09:04.954Z"
      },
      {
        "duration": 4,
        "start_time": "2022-07-31T22:09:04.961Z"
      },
      {
        "duration": 4,
        "start_time": "2022-07-31T22:09:04.967Z"
      },
      {
        "duration": 4,
        "start_time": "2022-07-31T22:09:04.973Z"
      },
      {
        "duration": 25,
        "start_time": "2022-07-31T22:09:04.979Z"
      },
      {
        "duration": 3,
        "start_time": "2022-07-31T22:09:05.007Z"
      },
      {
        "duration": 6,
        "start_time": "2022-07-31T22:09:05.012Z"
      },
      {
        "duration": 6,
        "start_time": "2022-07-31T22:09:05.020Z"
      },
      {
        "duration": 37,
        "start_time": "2022-07-31T22:09:05.028Z"
      },
      {
        "duration": 18,
        "start_time": "2022-07-31T22:09:05.067Z"
      },
      {
        "duration": 22,
        "start_time": "2022-07-31T22:09:20.411Z"
      },
      {
        "duration": 15,
        "start_time": "2022-07-31T22:09:28.011Z"
      },
      {
        "duration": 22,
        "start_time": "2022-07-31T22:09:43.722Z"
      },
      {
        "duration": 4,
        "start_time": "2022-07-31T22:10:06.132Z"
      },
      {
        "duration": 5,
        "start_time": "2022-07-31T22:10:15.498Z"
      },
      {
        "duration": 5,
        "start_time": "2022-07-31T22:10:22.372Z"
      },
      {
        "duration": 517,
        "start_time": "2022-07-31T22:10:29.788Z"
      },
      {
        "duration": 477,
        "start_time": "2022-07-31T22:10:50.404Z"
      },
      {
        "duration": 508,
        "start_time": "2022-07-31T22:11:02.043Z"
      },
      {
        "duration": 3,
        "start_time": "2022-07-31T22:11:10.579Z"
      },
      {
        "duration": 6,
        "start_time": "2022-07-31T22:11:11.050Z"
      },
      {
        "duration": 5,
        "start_time": "2022-07-31T22:11:11.765Z"
      },
      {
        "duration": 468,
        "start_time": "2022-07-31T22:11:12.932Z"
      },
      {
        "duration": 3,
        "start_time": "2022-07-31T22:11:23.761Z"
      },
      {
        "duration": 102,
        "start_time": "2022-07-31T22:11:23.766Z"
      },
      {
        "duration": 40,
        "start_time": "2022-07-31T22:11:23.870Z"
      },
      {
        "duration": 16,
        "start_time": "2022-07-31T22:11:23.912Z"
      },
      {
        "duration": 25,
        "start_time": "2022-07-31T22:11:23.931Z"
      },
      {
        "duration": 6,
        "start_time": "2022-07-31T22:11:23.957Z"
      },
      {
        "duration": 6,
        "start_time": "2022-07-31T22:11:23.965Z"
      },
      {
        "duration": 35,
        "start_time": "2022-07-31T22:11:23.973Z"
      },
      {
        "duration": 13,
        "start_time": "2022-07-31T22:11:24.010Z"
      },
      {
        "duration": 15,
        "start_time": "2022-07-31T22:11:24.025Z"
      },
      {
        "duration": 27,
        "start_time": "2022-07-31T22:11:24.043Z"
      },
      {
        "duration": 3,
        "start_time": "2022-07-31T22:11:24.072Z"
      },
      {
        "duration": 12,
        "start_time": "2022-07-31T22:11:24.076Z"
      },
      {
        "duration": 491,
        "start_time": "2022-07-31T22:11:24.090Z"
      },
      {
        "duration": 5,
        "start_time": "2022-07-31T22:11:24.583Z"
      },
      {
        "duration": 17,
        "start_time": "2022-07-31T22:11:24.590Z"
      },
      {
        "duration": 16,
        "start_time": "2022-07-31T22:11:24.609Z"
      },
      {
        "duration": 6,
        "start_time": "2022-07-31T22:11:24.627Z"
      },
      {
        "duration": 16,
        "start_time": "2022-07-31T22:11:24.635Z"
      },
      {
        "duration": 24,
        "start_time": "2022-07-31T22:11:24.653Z"
      },
      {
        "duration": 5,
        "start_time": "2022-07-31T22:11:24.705Z"
      },
      {
        "duration": 4,
        "start_time": "2022-07-31T22:11:24.712Z"
      },
      {
        "duration": 7,
        "start_time": "2022-07-31T22:11:24.718Z"
      },
      {
        "duration": 550,
        "start_time": "2022-07-31T22:11:24.727Z"
      },
      {
        "duration": 7,
        "start_time": "2022-07-31T22:11:25.278Z"
      },
      {
        "duration": 33,
        "start_time": "2022-07-31T22:11:25.287Z"
      },
      {
        "duration": 21,
        "start_time": "2022-07-31T22:11:25.322Z"
      },
      {
        "duration": 3,
        "start_time": "2022-07-31T22:11:25.345Z"
      },
      {
        "duration": 5,
        "start_time": "2022-07-31T22:11:25.353Z"
      },
      {
        "duration": 6,
        "start_time": "2022-07-31T22:11:25.360Z"
      },
      {
        "duration": 1657,
        "start_time": "2022-07-31T22:11:25.368Z"
      },
      {
        "duration": 0,
        "start_time": "2022-07-31T22:11:27.027Z"
      },
      {
        "duration": 0,
        "start_time": "2022-07-31T22:11:27.028Z"
      },
      {
        "duration": 0,
        "start_time": "2022-07-31T22:11:27.029Z"
      },
      {
        "duration": 0,
        "start_time": "2022-07-31T22:11:27.031Z"
      },
      {
        "duration": 0,
        "start_time": "2022-07-31T22:11:27.032Z"
      },
      {
        "duration": 0,
        "start_time": "2022-07-31T22:11:27.033Z"
      },
      {
        "duration": 0,
        "start_time": "2022-07-31T22:11:27.034Z"
      },
      {
        "duration": 0,
        "start_time": "2022-07-31T22:11:27.035Z"
      },
      {
        "duration": 0,
        "start_time": "2022-07-31T22:11:27.043Z"
      },
      {
        "duration": 0,
        "start_time": "2022-07-31T22:11:27.044Z"
      },
      {
        "duration": 0,
        "start_time": "2022-07-31T22:11:27.045Z"
      },
      {
        "duration": 0,
        "start_time": "2022-07-31T22:11:27.046Z"
      },
      {
        "duration": 0,
        "start_time": "2022-07-31T22:11:27.047Z"
      },
      {
        "duration": 0,
        "start_time": "2022-07-31T22:11:27.048Z"
      },
      {
        "duration": 0,
        "start_time": "2022-07-31T22:11:27.049Z"
      },
      {
        "duration": 0,
        "start_time": "2022-07-31T22:11:27.050Z"
      },
      {
        "duration": 0,
        "start_time": "2022-07-31T22:11:27.051Z"
      },
      {
        "duration": 0,
        "start_time": "2022-07-31T22:11:27.052Z"
      },
      {
        "duration": 0,
        "start_time": "2022-07-31T22:11:27.053Z"
      },
      {
        "duration": 0,
        "start_time": "2022-07-31T22:11:27.054Z"
      },
      {
        "duration": 0,
        "start_time": "2022-07-31T22:11:27.055Z"
      },
      {
        "duration": 0,
        "start_time": "2022-07-31T22:11:27.056Z"
      },
      {
        "duration": 0,
        "start_time": "2022-07-31T22:11:27.058Z"
      },
      {
        "duration": 16,
        "start_time": "2022-07-31T22:12:19.011Z"
      },
      {
        "duration": 4,
        "start_time": "2022-07-31T22:12:20.300Z"
      },
      {
        "duration": 6,
        "start_time": "2022-07-31T22:12:21.754Z"
      },
      {
        "duration": 5,
        "start_time": "2022-07-31T22:12:23.025Z"
      },
      {
        "duration": 3,
        "start_time": "2022-07-31T22:12:58.682Z"
      },
      {
        "duration": 5,
        "start_time": "2022-07-31T22:12:59.025Z"
      },
      {
        "duration": 1632,
        "start_time": "2022-07-31T22:13:03.218Z"
      },
      {
        "duration": 1663,
        "start_time": "2022-07-31T22:13:19.290Z"
      },
      {
        "duration": 3,
        "start_time": "2022-07-31T22:14:14.642Z"
      },
      {
        "duration": 5,
        "start_time": "2022-07-31T22:14:15.513Z"
      },
      {
        "duration": 1696,
        "start_time": "2022-07-31T22:14:17.794Z"
      },
      {
        "duration": 1680,
        "start_time": "2022-07-31T22:15:08.883Z"
      },
      {
        "duration": 1566,
        "start_time": "2022-07-31T22:16:20.955Z"
      },
      {
        "duration": 5,
        "start_time": "2022-07-31T22:16:51.593Z"
      },
      {
        "duration": 22,
        "start_time": "2022-07-31T22:17:04.201Z"
      },
      {
        "duration": 1605,
        "start_time": "2022-07-31T22:17:36.182Z"
      },
      {
        "duration": 1592,
        "start_time": "2022-07-31T22:17:50.249Z"
      },
      {
        "duration": 3,
        "start_time": "2022-07-31T22:18:41.424Z"
      },
      {
        "duration": 111,
        "start_time": "2022-07-31T22:18:42.441Z"
      },
      {
        "duration": 48,
        "start_time": "2022-07-31T22:18:43.495Z"
      },
      {
        "duration": 15,
        "start_time": "2022-07-31T22:18:43.878Z"
      },
      {
        "duration": 18,
        "start_time": "2022-07-31T22:18:46.947Z"
      },
      {
        "duration": 6,
        "start_time": "2022-07-31T22:18:49.096Z"
      },
      {
        "duration": 4,
        "start_time": "2022-07-31T22:18:49.758Z"
      },
      {
        "duration": 6,
        "start_time": "2022-07-31T22:18:50.066Z"
      },
      {
        "duration": 4,
        "start_time": "2022-07-31T22:18:50.308Z"
      },
      {
        "duration": 5,
        "start_time": "2022-07-31T22:18:50.615Z"
      },
      {
        "duration": 23,
        "start_time": "2022-07-31T22:18:51.032Z"
      },
      {
        "duration": 3,
        "start_time": "2022-07-31T22:18:51.283Z"
      },
      {
        "duration": 6,
        "start_time": "2022-07-31T22:18:51.743Z"
      },
      {
        "duration": 494,
        "start_time": "2022-07-31T22:18:52.247Z"
      },
      {
        "duration": 5,
        "start_time": "2022-07-31T22:18:52.895Z"
      },
      {
        "duration": 4,
        "start_time": "2022-07-31T22:18:53.543Z"
      },
      {
        "duration": 16,
        "start_time": "2022-07-31T22:18:54.119Z"
      },
      {
        "duration": 6,
        "start_time": "2022-07-31T22:18:55.414Z"
      },
      {
        "duration": 16,
        "start_time": "2022-07-31T22:18:56.086Z"
      },
      {
        "duration": 24,
        "start_time": "2022-07-31T22:18:57.254Z"
      },
      {
        "duration": 4,
        "start_time": "2022-07-31T22:18:57.831Z"
      },
      {
        "duration": 4,
        "start_time": "2022-07-31T22:18:58.318Z"
      },
      {
        "duration": 6,
        "start_time": "2022-07-31T22:18:58.985Z"
      },
      {
        "duration": 523,
        "start_time": "2022-07-31T22:19:00.808Z"
      },
      {
        "duration": 6,
        "start_time": "2022-07-31T22:19:01.365Z"
      },
      {
        "duration": 23,
        "start_time": "2022-07-31T22:19:02.311Z"
      },
      {
        "duration": 17,
        "start_time": "2022-07-31T22:19:06.823Z"
      },
      {
        "duration": 3,
        "start_time": "2022-07-31T22:19:07.551Z"
      },
      {
        "duration": 5,
        "start_time": "2022-07-31T22:19:08.198Z"
      },
      {
        "duration": 1586,
        "start_time": "2022-07-31T22:19:08.903Z"
      },
      {
        "duration": 8,
        "start_time": "2022-07-31T22:19:16.791Z"
      },
      {
        "duration": 27,
        "start_time": "2022-07-31T22:19:17.526Z"
      },
      {
        "duration": 3,
        "start_time": "2022-07-31T22:19:18.254Z"
      },
      {
        "duration": 6,
        "start_time": "2022-07-31T22:19:18.959Z"
      },
      {
        "duration": 587,
        "start_time": "2022-07-31T22:19:19.670Z"
      },
      {
        "duration": 7,
        "start_time": "2022-07-31T22:19:20.259Z"
      },
      {
        "duration": 22,
        "start_time": "2022-07-31T22:19:20.862Z"
      },
      {
        "duration": 24,
        "start_time": "2022-07-31T22:19:23.262Z"
      },
      {
        "duration": 1876,
        "start_time": "2022-07-31T22:21:01.240Z"
      },
      {
        "duration": 16,
        "start_time": "2022-07-31T22:21:26.976Z"
      },
      {
        "duration": 3,
        "start_time": "2022-07-31T22:21:27.575Z"
      },
      {
        "duration": 6,
        "start_time": "2022-07-31T22:21:28.262Z"
      },
      {
        "duration": 30,
        "start_time": "2022-07-31T22:22:31.398Z"
      },
      {
        "duration": 7,
        "start_time": "2022-07-31T22:22:41.046Z"
      },
      {
        "duration": 31,
        "start_time": "2022-07-31T22:22:41.831Z"
      },
      {
        "duration": 3,
        "start_time": "2022-07-31T22:23:32.677Z"
      },
      {
        "duration": 6,
        "start_time": "2022-07-31T22:23:33.501Z"
      },
      {
        "duration": 24,
        "start_time": "2022-07-31T22:23:34.406Z"
      },
      {
        "duration": 6,
        "start_time": "2022-07-31T22:23:37.173Z"
      },
      {
        "duration": 22,
        "start_time": "2022-07-31T22:23:38.689Z"
      },
      {
        "duration": 25,
        "start_time": "2022-07-31T22:23:42.597Z"
      },
      {
        "duration": 6,
        "start_time": "2022-07-31T22:23:47.142Z"
      },
      {
        "duration": 22,
        "start_time": "2022-07-31T22:23:48.471Z"
      },
      {
        "duration": 22,
        "start_time": "2022-07-31T22:23:55.260Z"
      },
      {
        "duration": 2,
        "start_time": "2022-07-31T22:24:06.206Z"
      },
      {
        "duration": 110,
        "start_time": "2022-07-31T22:24:06.211Z"
      },
      {
        "duration": 25,
        "start_time": "2022-07-31T22:24:06.323Z"
      },
      {
        "duration": 17,
        "start_time": "2022-07-31T22:24:06.349Z"
      },
      {
        "duration": 37,
        "start_time": "2022-07-31T22:24:06.368Z"
      },
      {
        "duration": 6,
        "start_time": "2022-07-31T22:24:06.407Z"
      },
      {
        "duration": 7,
        "start_time": "2022-07-31T22:24:06.415Z"
      },
      {
        "duration": 7,
        "start_time": "2022-07-31T22:24:06.424Z"
      },
      {
        "duration": 6,
        "start_time": "2022-07-31T22:24:06.433Z"
      },
      {
        "duration": 13,
        "start_time": "2022-07-31T22:24:06.440Z"
      },
      {
        "duration": 64,
        "start_time": "2022-07-31T22:24:06.458Z"
      },
      {
        "duration": 4,
        "start_time": "2022-07-31T22:24:06.524Z"
      },
      {
        "duration": 18,
        "start_time": "2022-07-31T22:24:06.530Z"
      },
      {
        "duration": 506,
        "start_time": "2022-07-31T22:24:06.550Z"
      },
      {
        "duration": 5,
        "start_time": "2022-07-31T22:24:07.058Z"
      },
      {
        "duration": 5,
        "start_time": "2022-07-31T22:24:07.065Z"
      },
      {
        "duration": 16,
        "start_time": "2022-07-31T22:24:07.072Z"
      },
      {
        "duration": 19,
        "start_time": "2022-07-31T22:24:07.089Z"
      },
      {
        "duration": 19,
        "start_time": "2022-07-31T22:24:07.110Z"
      },
      {
        "duration": 26,
        "start_time": "2022-07-31T22:24:07.130Z"
      },
      {
        "duration": 4,
        "start_time": "2022-07-31T22:24:07.158Z"
      },
      {
        "duration": 5,
        "start_time": "2022-07-31T22:24:07.164Z"
      },
      {
        "duration": 36,
        "start_time": "2022-07-31T22:24:07.170Z"
      },
      {
        "duration": 547,
        "start_time": "2022-07-31T22:24:07.208Z"
      },
      {
        "duration": 5,
        "start_time": "2022-07-31T22:24:07.757Z"
      },
      {
        "duration": 47,
        "start_time": "2022-07-31T22:24:07.764Z"
      },
      {
        "duration": 39,
        "start_time": "2022-07-31T22:24:07.813Z"
      },
      {
        "duration": 72,
        "start_time": "2022-07-31T22:24:07.853Z"
      },
      {
        "duration": 16,
        "start_time": "2022-07-31T22:24:07.929Z"
      },
      {
        "duration": 1647,
        "start_time": "2022-07-31T22:24:07.946Z"
      },
      {
        "duration": 0,
        "start_time": "2022-07-31T22:24:09.595Z"
      },
      {
        "duration": 0,
        "start_time": "2022-07-31T22:24:09.596Z"
      },
      {
        "duration": 0,
        "start_time": "2022-07-31T22:24:09.597Z"
      },
      {
        "duration": 0,
        "start_time": "2022-07-31T22:24:09.598Z"
      },
      {
        "duration": 0,
        "start_time": "2022-07-31T22:24:09.600Z"
      },
      {
        "duration": 0,
        "start_time": "2022-07-31T22:24:09.601Z"
      },
      {
        "duration": 0,
        "start_time": "2022-07-31T22:24:09.602Z"
      },
      {
        "duration": 0,
        "start_time": "2022-07-31T22:24:09.603Z"
      },
      {
        "duration": 0,
        "start_time": "2022-07-31T22:24:09.604Z"
      },
      {
        "duration": 0,
        "start_time": "2022-07-31T22:24:09.605Z"
      },
      {
        "duration": 0,
        "start_time": "2022-07-31T22:24:09.607Z"
      },
      {
        "duration": 0,
        "start_time": "2022-07-31T22:24:09.608Z"
      },
      {
        "duration": 0,
        "start_time": "2022-07-31T22:24:09.609Z"
      },
      {
        "duration": 0,
        "start_time": "2022-07-31T22:24:09.610Z"
      },
      {
        "duration": 1,
        "start_time": "2022-07-31T22:24:09.611Z"
      },
      {
        "duration": 0,
        "start_time": "2022-07-31T22:24:09.612Z"
      },
      {
        "duration": 0,
        "start_time": "2022-07-31T22:24:09.614Z"
      },
      {
        "duration": 0,
        "start_time": "2022-07-31T22:24:09.615Z"
      },
      {
        "duration": 0,
        "start_time": "2022-07-31T22:24:09.616Z"
      },
      {
        "duration": 0,
        "start_time": "2022-07-31T22:24:09.617Z"
      },
      {
        "duration": 0,
        "start_time": "2022-07-31T22:24:09.618Z"
      },
      {
        "duration": 0,
        "start_time": "2022-07-31T22:24:09.619Z"
      },
      {
        "duration": 0,
        "start_time": "2022-07-31T22:24:09.620Z"
      },
      {
        "duration": 22,
        "start_time": "2022-07-31T22:24:20.662Z"
      },
      {
        "duration": 572,
        "start_time": "2022-07-31T22:24:24.077Z"
      },
      {
        "duration": 7,
        "start_time": "2022-07-31T22:24:28.077Z"
      },
      {
        "duration": 1666,
        "start_time": "2022-07-31T22:24:56.672Z"
      },
      {
        "duration": 1601,
        "start_time": "2022-07-31T22:25:08.989Z"
      },
      {
        "duration": 3,
        "start_time": "2022-07-31T22:25:13.289Z"
      },
      {
        "duration": 113,
        "start_time": "2022-07-31T22:25:13.295Z"
      },
      {
        "duration": 22,
        "start_time": "2022-07-31T22:25:13.410Z"
      },
      {
        "duration": 15,
        "start_time": "2022-07-31T22:25:13.434Z"
      },
      {
        "duration": 52,
        "start_time": "2022-07-31T22:25:13.452Z"
      },
      {
        "duration": 8,
        "start_time": "2022-07-31T22:25:13.506Z"
      },
      {
        "duration": 4,
        "start_time": "2022-07-31T22:25:13.515Z"
      },
      {
        "duration": 10,
        "start_time": "2022-07-31T22:25:13.521Z"
      },
      {
        "duration": 5,
        "start_time": "2022-07-31T22:25:13.533Z"
      },
      {
        "duration": 6,
        "start_time": "2022-07-31T22:25:13.539Z"
      },
      {
        "duration": 56,
        "start_time": "2022-07-31T22:25:13.552Z"
      },
      {
        "duration": 3,
        "start_time": "2022-07-31T22:25:13.610Z"
      },
      {
        "duration": 7,
        "start_time": "2022-07-31T22:25:13.615Z"
      },
      {
        "duration": 489,
        "start_time": "2022-07-31T22:25:13.624Z"
      },
      {
        "duration": 5,
        "start_time": "2022-07-31T22:25:14.115Z"
      },
      {
        "duration": 10,
        "start_time": "2022-07-31T22:25:14.122Z"
      },
      {
        "duration": 17,
        "start_time": "2022-07-31T22:25:14.134Z"
      },
      {
        "duration": 9,
        "start_time": "2022-07-31T22:25:14.153Z"
      },
      {
        "duration": 41,
        "start_time": "2022-07-31T22:25:14.164Z"
      },
      {
        "duration": 24,
        "start_time": "2022-07-31T22:25:14.207Z"
      },
      {
        "duration": 4,
        "start_time": "2022-07-31T22:25:14.233Z"
      },
      {
        "duration": 4,
        "start_time": "2022-07-31T22:25:14.239Z"
      },
      {
        "duration": 6,
        "start_time": "2022-07-31T22:25:14.245Z"
      },
      {
        "duration": 551,
        "start_time": "2022-07-31T22:25:14.253Z"
      },
      {
        "duration": 5,
        "start_time": "2022-07-31T22:25:14.806Z"
      },
      {
        "duration": 25,
        "start_time": "2022-07-31T22:25:14.812Z"
      },
      {
        "duration": 16,
        "start_time": "2022-07-31T22:25:14.839Z"
      },
      {
        "duration": 3,
        "start_time": "2022-07-31T22:25:14.857Z"
      },
      {
        "duration": 5,
        "start_time": "2022-07-31T22:25:14.864Z"
      },
      {
        "duration": 1641,
        "start_time": "2022-07-31T22:25:14.870Z"
      },
      {
        "duration": 0,
        "start_time": "2022-07-31T22:25:16.513Z"
      },
      {
        "duration": 0,
        "start_time": "2022-07-31T22:25:16.514Z"
      },
      {
        "duration": 0,
        "start_time": "2022-07-31T22:25:16.516Z"
      },
      {
        "duration": 0,
        "start_time": "2022-07-31T22:25:16.517Z"
      },
      {
        "duration": 0,
        "start_time": "2022-07-31T22:25:16.519Z"
      },
      {
        "duration": 0,
        "start_time": "2022-07-31T22:25:16.520Z"
      },
      {
        "duration": 0,
        "start_time": "2022-07-31T22:25:16.521Z"
      },
      {
        "duration": 0,
        "start_time": "2022-07-31T22:25:16.523Z"
      },
      {
        "duration": 0,
        "start_time": "2022-07-31T22:25:16.524Z"
      },
      {
        "duration": 0,
        "start_time": "2022-07-31T22:25:16.526Z"
      },
      {
        "duration": 0,
        "start_time": "2022-07-31T22:25:16.527Z"
      },
      {
        "duration": 0,
        "start_time": "2022-07-31T22:25:16.529Z"
      },
      {
        "duration": 0,
        "start_time": "2022-07-31T22:25:16.531Z"
      },
      {
        "duration": 0,
        "start_time": "2022-07-31T22:25:16.532Z"
      },
      {
        "duration": 0,
        "start_time": "2022-07-31T22:25:16.533Z"
      },
      {
        "duration": 0,
        "start_time": "2022-07-31T22:25:16.535Z"
      },
      {
        "duration": 0,
        "start_time": "2022-07-31T22:25:16.536Z"
      },
      {
        "duration": 0,
        "start_time": "2022-07-31T22:25:16.537Z"
      },
      {
        "duration": 0,
        "start_time": "2022-07-31T22:25:16.539Z"
      },
      {
        "duration": 0,
        "start_time": "2022-07-31T22:25:16.540Z"
      },
      {
        "duration": 1,
        "start_time": "2022-07-31T22:25:16.541Z"
      },
      {
        "duration": 0,
        "start_time": "2022-07-31T22:25:16.543Z"
      },
      {
        "duration": 0,
        "start_time": "2022-07-31T22:25:16.545Z"
      },
      {
        "duration": 3,
        "start_time": "2022-07-31T22:25:25.308Z"
      },
      {
        "duration": 5,
        "start_time": "2022-07-31T22:25:26.036Z"
      },
      {
        "duration": 584,
        "start_time": "2022-07-31T22:25:26.861Z"
      },
      {
        "duration": 6,
        "start_time": "2022-07-31T22:25:28.396Z"
      },
      {
        "duration": 24,
        "start_time": "2022-07-31T22:25:29.196Z"
      },
      {
        "duration": 3,
        "start_time": "2022-07-31T22:25:44.501Z"
      },
      {
        "duration": 6,
        "start_time": "2022-07-31T22:25:44.940Z"
      },
      {
        "duration": 1579,
        "start_time": "2022-07-31T22:26:11.390Z"
      },
      {
        "duration": 3,
        "start_time": "2022-07-31T22:27:03.198Z"
      },
      {
        "duration": 5,
        "start_time": "2022-07-31T22:27:03.484Z"
      },
      {
        "duration": 1642,
        "start_time": "2022-07-31T22:27:49.724Z"
      },
      {
        "duration": 17,
        "start_time": "2022-07-31T22:28:13.805Z"
      },
      {
        "duration": 4,
        "start_time": "2022-07-31T22:28:14.675Z"
      },
      {
        "duration": 6,
        "start_time": "2022-07-31T22:28:15.852Z"
      },
      {
        "duration": 403,
        "start_time": "2022-07-31T22:29:28.643Z"
      },
      {
        "duration": 27,
        "start_time": "2022-07-31T22:29:29.162Z"
      },
      {
        "duration": 402,
        "start_time": "2022-07-31T22:29:37.021Z"
      },
      {
        "duration": 27,
        "start_time": "2022-07-31T22:29:40.574Z"
      },
      {
        "duration": 3,
        "start_time": "2022-07-31T22:29:41.379Z"
      },
      {
        "duration": 6,
        "start_time": "2022-07-31T22:29:41.843Z"
      },
      {
        "duration": 35,
        "start_time": "2022-07-31T22:29:42.426Z"
      },
      {
        "duration": 7,
        "start_time": "2022-07-31T22:29:43.146Z"
      },
      {
        "duration": 24,
        "start_time": "2022-07-31T22:29:44.196Z"
      },
      {
        "duration": 23,
        "start_time": "2022-07-31T22:29:49.094Z"
      },
      {
        "duration": 2,
        "start_time": "2022-07-31T22:30:32.267Z"
      },
      {
        "duration": 106,
        "start_time": "2022-07-31T22:30:32.274Z"
      },
      {
        "duration": 40,
        "start_time": "2022-07-31T22:30:32.382Z"
      },
      {
        "duration": 14,
        "start_time": "2022-07-31T22:30:32.424Z"
      },
      {
        "duration": 20,
        "start_time": "2022-07-31T22:30:32.441Z"
      },
      {
        "duration": 6,
        "start_time": "2022-07-31T22:30:32.462Z"
      },
      {
        "duration": 35,
        "start_time": "2022-07-31T22:30:32.469Z"
      },
      {
        "duration": 6,
        "start_time": "2022-07-31T22:30:32.506Z"
      },
      {
        "duration": 6,
        "start_time": "2022-07-31T22:30:32.513Z"
      },
      {
        "duration": 6,
        "start_time": "2022-07-31T22:30:32.520Z"
      },
      {
        "duration": 25,
        "start_time": "2022-07-31T22:30:32.529Z"
      },
      {
        "duration": 4,
        "start_time": "2022-07-31T22:30:32.555Z"
      },
      {
        "duration": 9,
        "start_time": "2022-07-31T22:30:32.560Z"
      },
      {
        "duration": 520,
        "start_time": "2022-07-31T22:30:32.605Z"
      },
      {
        "duration": 5,
        "start_time": "2022-07-31T22:30:33.127Z"
      },
      {
        "duration": 6,
        "start_time": "2022-07-31T22:30:33.134Z"
      },
      {
        "duration": 15,
        "start_time": "2022-07-31T22:30:33.141Z"
      },
      {
        "duration": 8,
        "start_time": "2022-07-31T22:30:33.158Z"
      },
      {
        "duration": 37,
        "start_time": "2022-07-31T22:30:33.168Z"
      },
      {
        "duration": 23,
        "start_time": "2022-07-31T22:30:33.207Z"
      },
      {
        "duration": 4,
        "start_time": "2022-07-31T22:30:33.232Z"
      },
      {
        "duration": 6,
        "start_time": "2022-07-31T22:30:33.237Z"
      },
      {
        "duration": 11,
        "start_time": "2022-07-31T22:30:33.244Z"
      },
      {
        "duration": 535,
        "start_time": "2022-07-31T22:30:33.256Z"
      },
      {
        "duration": 11,
        "start_time": "2022-07-31T22:30:33.793Z"
      },
      {
        "duration": 22,
        "start_time": "2022-07-31T22:30:33.806Z"
      },
      {
        "duration": 18,
        "start_time": "2022-07-31T22:30:33.830Z"
      },
      {
        "duration": 4,
        "start_time": "2022-07-31T22:30:33.849Z"
      },
      {
        "duration": 6,
        "start_time": "2022-07-31T22:30:33.857Z"
      },
      {
        "duration": 1766,
        "start_time": "2022-07-31T22:30:33.865Z"
      },
      {
        "duration": 0,
        "start_time": "2022-07-31T22:30:35.633Z"
      },
      {
        "duration": 0,
        "start_time": "2022-07-31T22:30:35.634Z"
      },
      {
        "duration": 0,
        "start_time": "2022-07-31T22:30:35.635Z"
      },
      {
        "duration": 0,
        "start_time": "2022-07-31T22:30:35.636Z"
      },
      {
        "duration": 0,
        "start_time": "2022-07-31T22:30:35.637Z"
      },
      {
        "duration": 0,
        "start_time": "2022-07-31T22:30:35.638Z"
      },
      {
        "duration": 0,
        "start_time": "2022-07-31T22:30:35.639Z"
      },
      {
        "duration": 0,
        "start_time": "2022-07-31T22:30:35.640Z"
      },
      {
        "duration": 0,
        "start_time": "2022-07-31T22:30:35.641Z"
      },
      {
        "duration": 0,
        "start_time": "2022-07-31T22:30:35.643Z"
      },
      {
        "duration": 0,
        "start_time": "2022-07-31T22:30:35.644Z"
      },
      {
        "duration": 0,
        "start_time": "2022-07-31T22:30:35.644Z"
      },
      {
        "duration": 0,
        "start_time": "2022-07-31T22:30:35.645Z"
      },
      {
        "duration": 0,
        "start_time": "2022-07-31T22:30:35.647Z"
      },
      {
        "duration": 0,
        "start_time": "2022-07-31T22:30:35.648Z"
      },
      {
        "duration": 20,
        "start_time": "2022-07-31T22:30:50.772Z"
      },
      {
        "duration": 4,
        "start_time": "2022-07-31T22:30:51.554Z"
      },
      {
        "duration": 5,
        "start_time": "2022-07-31T22:30:52.210Z"
      },
      {
        "duration": 474,
        "start_time": "2022-07-31T22:30:52.778Z"
      },
      {
        "duration": 5,
        "start_time": "2022-07-31T22:30:53.289Z"
      },
      {
        "duration": 4,
        "start_time": "2022-07-31T22:30:53.914Z"
      },
      {
        "duration": 15,
        "start_time": "2022-07-31T22:30:54.501Z"
      },
      {
        "duration": 5,
        "start_time": "2022-07-31T22:30:55.833Z"
      },
      {
        "duration": 16,
        "start_time": "2022-07-31T22:30:56.499Z"
      },
      {
        "duration": 22,
        "start_time": "2022-07-31T22:31:05.904Z"
      },
      {
        "duration": 4,
        "start_time": "2022-07-31T22:31:06.826Z"
      },
      {
        "duration": 3,
        "start_time": "2022-07-31T22:31:08.090Z"
      },
      {
        "duration": 5,
        "start_time": "2022-07-31T22:31:08.838Z"
      },
      {
        "duration": 484,
        "start_time": "2022-07-31T22:31:09.713Z"
      },
      {
        "duration": 6,
        "start_time": "2022-07-31T22:31:10.634Z"
      },
      {
        "duration": 22,
        "start_time": "2022-07-31T22:31:11.365Z"
      },
      {
        "duration": 14,
        "start_time": "2022-07-31T22:31:13.506Z"
      },
      {
        "duration": 3,
        "start_time": "2022-07-31T22:31:17.490Z"
      },
      {
        "duration": 5,
        "start_time": "2022-07-31T22:31:18.450Z"
      },
      {
        "duration": 1714,
        "start_time": "2022-07-31T22:31:19.508Z"
      },
      {
        "duration": 16,
        "start_time": "2022-07-31T22:32:04.915Z"
      },
      {
        "duration": 4,
        "start_time": "2022-07-31T22:32:05.354Z"
      },
      {
        "duration": 6,
        "start_time": "2022-07-31T22:32:06.306Z"
      },
      {
        "duration": 6,
        "start_time": "2022-07-31T22:33:12.682Z"
      },
      {
        "duration": 30,
        "start_time": "2022-07-31T22:35:00.100Z"
      },
      {
        "duration": 16,
        "start_time": "2022-07-31T22:35:04.389Z"
      },
      {
        "duration": 3,
        "start_time": "2022-07-31T22:35:09.212Z"
      },
      {
        "duration": 5,
        "start_time": "2022-07-31T22:35:09.794Z"
      },
      {
        "duration": 1912,
        "start_time": "2022-07-31T22:35:57.778Z"
      },
      {
        "duration": 3,
        "start_time": "2022-07-31T22:49:33.302Z"
      },
      {
        "duration": 109,
        "start_time": "2022-07-31T22:49:34.545Z"
      },
      {
        "duration": 24,
        "start_time": "2022-07-31T22:49:36.638Z"
      },
      {
        "duration": 15,
        "start_time": "2022-07-31T22:49:37.033Z"
      },
      {
        "duration": 18,
        "start_time": "2022-07-31T22:49:40.525Z"
      },
      {
        "duration": 15,
        "start_time": "2022-07-31T22:49:43.836Z"
      },
      {
        "duration": 5,
        "start_time": "2022-07-31T22:49:50.630Z"
      },
      {
        "duration": 5,
        "start_time": "2022-07-31T22:49:51.301Z"
      },
      {
        "duration": 4,
        "start_time": "2022-07-31T22:50:04.110Z"
      },
      {
        "duration": 5,
        "start_time": "2022-07-31T22:50:21.474Z"
      },
      {
        "duration": 23,
        "start_time": "2022-07-31T22:50:24.774Z"
      },
      {
        "duration": 3,
        "start_time": "2022-07-31T22:50:25.550Z"
      },
      {
        "duration": 6,
        "start_time": "2022-07-31T22:50:26.245Z"
      },
      {
        "duration": 502,
        "start_time": "2022-07-31T22:50:26.980Z"
      },
      {
        "duration": 5,
        "start_time": "2022-07-31T22:50:27.853Z"
      },
      {
        "duration": 4,
        "start_time": "2022-07-31T22:50:28.974Z"
      },
      {
        "duration": 20,
        "start_time": "2022-07-31T22:51:06.845Z"
      },
      {
        "duration": 3,
        "start_time": "2022-07-31T22:51:20.675Z"
      },
      {
        "duration": 6,
        "start_time": "2022-07-31T22:51:28.126Z"
      },
      {
        "duration": 454,
        "start_time": "2022-07-31T22:51:30.279Z"
      },
      {
        "duration": 4,
        "start_time": "2022-07-31T22:51:36.149Z"
      },
      {
        "duration": 3,
        "start_time": "2022-07-31T22:51:36.957Z"
      },
      {
        "duration": 13,
        "start_time": "2022-07-31T22:51:37.597Z"
      },
      {
        "duration": 4,
        "start_time": "2022-07-31T22:51:54.038Z"
      },
      {
        "duration": 4,
        "start_time": "2022-07-31T22:51:55.141Z"
      },
      {
        "duration": 13,
        "start_time": "2022-07-31T22:51:55.870Z"
      },
      {
        "duration": 5,
        "start_time": "2022-07-31T22:52:00.477Z"
      },
      {
        "duration": 13,
        "start_time": "2022-07-31T22:52:01.134Z"
      },
      {
        "duration": 13,
        "start_time": "2022-07-31T22:52:07.491Z"
      },
      {
        "duration": 22,
        "start_time": "2022-07-31T22:52:10.709Z"
      },
      {
        "duration": 5,
        "start_time": "2022-07-31T22:52:16.449Z"
      },
      {
        "duration": 3,
        "start_time": "2022-07-31T22:52:20.790Z"
      },
      {
        "duration": 7,
        "start_time": "2022-07-31T22:52:26.725Z"
      },
      {
        "duration": 533,
        "start_time": "2022-07-31T22:52:28.044Z"
      },
      {
        "duration": 5,
        "start_time": "2022-07-31T22:52:29.637Z"
      },
      {
        "duration": 24,
        "start_time": "2022-07-31T22:52:30.973Z"
      },
      {
        "duration": 16,
        "start_time": "2022-07-31T22:52:34.494Z"
      },
      {
        "duration": 3,
        "start_time": "2022-07-31T22:52:38.596Z"
      },
      {
        "duration": 5,
        "start_time": "2022-07-31T22:52:39.846Z"
      },
      {
        "duration": 21,
        "start_time": "2022-07-31T22:52:46.930Z"
      },
      {
        "duration": 16,
        "start_time": "2022-07-31T22:52:49.980Z"
      },
      {
        "duration": 3,
        "start_time": "2022-07-31T22:52:53.234Z"
      },
      {
        "duration": 5,
        "start_time": "2022-07-31T22:52:53.829Z"
      },
      {
        "duration": 1717,
        "start_time": "2022-07-31T22:52:55.046Z"
      },
      {
        "duration": 3,
        "start_time": "2022-07-31T22:56:10.486Z"
      },
      {
        "duration": 6,
        "start_time": "2022-07-31T22:57:09.540Z"
      },
      {
        "duration": 1707,
        "start_time": "2022-07-31T22:57:59.966Z"
      },
      {
        "duration": 1689,
        "start_time": "2022-07-31T22:58:29.940Z"
      },
      {
        "duration": 1657,
        "start_time": "2022-07-31T22:58:56.952Z"
      },
      {
        "duration": 1890,
        "start_time": "2022-07-31T22:59:52.381Z"
      },
      {
        "duration": 3,
        "start_time": "2022-07-31T23:01:44.252Z"
      },
      {
        "duration": 5,
        "start_time": "2022-07-31T23:01:44.690Z"
      },
      {
        "duration": 1841,
        "start_time": "2022-07-31T23:01:47.003Z"
      },
      {
        "duration": 467,
        "start_time": "2022-07-31T23:02:53.443Z"
      },
      {
        "duration": 3,
        "start_time": "2022-07-31T23:03:28.948Z"
      },
      {
        "duration": 6,
        "start_time": "2022-07-31T23:03:40.470Z"
      },
      {
        "duration": 471,
        "start_time": "2022-07-31T23:03:47.698Z"
      },
      {
        "duration": 20,
        "start_time": "2022-07-31T23:04:23.098Z"
      },
      {
        "duration": 6,
        "start_time": "2022-07-31T23:04:38.307Z"
      },
      {
        "duration": 1815,
        "start_time": "2022-07-31T23:04:38.922Z"
      },
      {
        "duration": 0,
        "start_time": "2022-07-31T23:04:40.739Z"
      },
      {
        "duration": 3,
        "start_time": "2022-07-31T23:05:55.627Z"
      },
      {
        "duration": 5,
        "start_time": "2022-07-31T23:05:56.482Z"
      },
      {
        "duration": 1879,
        "start_time": "2022-07-31T23:05:57.136Z"
      },
      {
        "duration": 20,
        "start_time": "2022-07-31T23:06:02.977Z"
      },
      {
        "duration": 20,
        "start_time": "2022-07-31T23:06:05.856Z"
      },
      {
        "duration": 20,
        "start_time": "2022-07-31T23:06:09.907Z"
      },
      {
        "duration": 22,
        "start_time": "2022-07-31T23:06:18.544Z"
      },
      {
        "duration": 20,
        "start_time": "2022-07-31T23:06:21.401Z"
      },
      {
        "duration": 21,
        "start_time": "2022-07-31T23:06:23.100Z"
      },
      {
        "duration": 2,
        "start_time": "2022-07-31T23:06:28.237Z"
      },
      {
        "duration": 112,
        "start_time": "2022-07-31T23:06:28.241Z"
      },
      {
        "duration": 23,
        "start_time": "2022-07-31T23:06:28.355Z"
      },
      {
        "duration": 28,
        "start_time": "2022-07-31T23:06:28.380Z"
      },
      {
        "duration": 22,
        "start_time": "2022-07-31T23:06:28.410Z"
      },
      {
        "duration": 16,
        "start_time": "2022-07-31T23:06:28.434Z"
      },
      {
        "duration": 4,
        "start_time": "2022-07-31T23:06:28.453Z"
      },
      {
        "duration": 12,
        "start_time": "2022-07-31T23:06:28.458Z"
      },
      {
        "duration": 12,
        "start_time": "2022-07-31T23:06:28.472Z"
      },
      {
        "duration": 21,
        "start_time": "2022-07-31T23:06:28.485Z"
      },
      {
        "duration": 26,
        "start_time": "2022-07-31T23:06:28.510Z"
      },
      {
        "duration": 3,
        "start_time": "2022-07-31T23:06:28.538Z"
      },
      {
        "duration": 10,
        "start_time": "2022-07-31T23:06:28.543Z"
      },
      {
        "duration": 519,
        "start_time": "2022-07-31T23:06:28.555Z"
      },
      {
        "duration": 6,
        "start_time": "2022-07-31T23:06:29.076Z"
      },
      {
        "duration": 20,
        "start_time": "2022-07-31T23:06:29.084Z"
      },
      {
        "duration": 19,
        "start_time": "2022-07-31T23:06:29.106Z"
      },
      {
        "duration": 8,
        "start_time": "2022-07-31T23:06:29.127Z"
      },
      {
        "duration": 22,
        "start_time": "2022-07-31T23:06:29.137Z"
      },
      {
        "duration": 46,
        "start_time": "2022-07-31T23:06:29.161Z"
      },
      {
        "duration": 5,
        "start_time": "2022-07-31T23:06:29.209Z"
      },
      {
        "duration": 6,
        "start_time": "2022-07-31T23:06:29.217Z"
      },
      {
        "duration": 11,
        "start_time": "2022-07-31T23:06:29.225Z"
      },
      {
        "duration": 541,
        "start_time": "2022-07-31T23:06:29.238Z"
      },
      {
        "duration": 6,
        "start_time": "2022-07-31T23:06:29.782Z"
      },
      {
        "duration": 33,
        "start_time": "2022-07-31T23:06:29.789Z"
      },
      {
        "duration": 17,
        "start_time": "2022-07-31T23:06:29.824Z"
      },
      {
        "duration": 4,
        "start_time": "2022-07-31T23:06:29.843Z"
      },
      {
        "duration": 12,
        "start_time": "2022-07-31T23:06:29.850Z"
      },
      {
        "duration": 1796,
        "start_time": "2022-07-31T23:06:29.864Z"
      },
      {
        "duration": 0,
        "start_time": "2022-07-31T23:06:31.663Z"
      },
      {
        "duration": 0,
        "start_time": "2022-07-31T23:06:31.664Z"
      },
      {
        "duration": 0,
        "start_time": "2022-07-31T23:06:31.665Z"
      },
      {
        "duration": 0,
        "start_time": "2022-07-31T23:06:31.666Z"
      },
      {
        "duration": 0,
        "start_time": "2022-07-31T23:06:31.668Z"
      },
      {
        "duration": 0,
        "start_time": "2022-07-31T23:06:31.668Z"
      },
      {
        "duration": 0,
        "start_time": "2022-07-31T23:06:31.669Z"
      },
      {
        "duration": 0,
        "start_time": "2022-07-31T23:06:31.670Z"
      },
      {
        "duration": 0,
        "start_time": "2022-07-31T23:06:31.671Z"
      },
      {
        "duration": 0,
        "start_time": "2022-07-31T23:06:31.672Z"
      },
      {
        "duration": 0,
        "start_time": "2022-07-31T23:06:31.673Z"
      },
      {
        "duration": 0,
        "start_time": "2022-07-31T23:06:31.674Z"
      },
      {
        "duration": 0,
        "start_time": "2022-07-31T23:06:31.675Z"
      },
      {
        "duration": 0,
        "start_time": "2022-07-31T23:06:31.676Z"
      },
      {
        "duration": 0,
        "start_time": "2022-07-31T23:06:31.677Z"
      },
      {
        "duration": 0,
        "start_time": "2022-07-31T23:06:31.678Z"
      },
      {
        "duration": 22,
        "start_time": "2022-07-31T23:06:39.023Z"
      },
      {
        "duration": 4,
        "start_time": "2022-07-31T23:09:22.098Z"
      },
      {
        "duration": 6,
        "start_time": "2022-07-31T23:09:28.688Z"
      },
      {
        "duration": 1637,
        "start_time": "2022-07-31T23:09:37.025Z"
      },
      {
        "duration": 9,
        "start_time": "2022-07-31T23:10:18.945Z"
      },
      {
        "duration": 28,
        "start_time": "2022-07-31T23:10:26.362Z"
      },
      {
        "duration": 4,
        "start_time": "2022-07-31T23:10:32.809Z"
      },
      {
        "duration": 6,
        "start_time": "2022-07-31T23:10:38.073Z"
      },
      {
        "duration": 558,
        "start_time": "2022-07-31T23:10:43.170Z"
      },
      {
        "duration": 7,
        "start_time": "2022-07-31T23:10:50.841Z"
      },
      {
        "duration": 24,
        "start_time": "2022-07-31T23:10:56.378Z"
      },
      {
        "duration": 1161,
        "start_time": "2022-07-31T23:13:25.931Z"
      },
      {
        "duration": 17,
        "start_time": "2022-07-31T23:14:11.244Z"
      },
      {
        "duration": 3,
        "start_time": "2022-07-31T23:14:12.709Z"
      },
      {
        "duration": 6,
        "start_time": "2022-07-31T23:14:24.114Z"
      },
      {
        "duration": 1639,
        "start_time": "2022-07-31T23:14:28.652Z"
      },
      {
        "duration": 3,
        "start_time": "2022-07-31T23:14:40.643Z"
      },
      {
        "duration": 6,
        "start_time": "2022-07-31T23:14:41.274Z"
      },
      {
        "duration": 1738,
        "start_time": "2022-07-31T23:14:41.963Z"
      },
      {
        "duration": 17,
        "start_time": "2022-07-31T23:14:52.292Z"
      },
      {
        "duration": 3,
        "start_time": "2022-07-31T23:14:53.154Z"
      },
      {
        "duration": 5,
        "start_time": "2022-07-31T23:14:53.905Z"
      },
      {
        "duration": 1638,
        "start_time": "2022-07-31T23:14:57.546Z"
      },
      {
        "duration": 1660,
        "start_time": "2022-07-31T23:15:07.586Z"
      },
      {
        "duration": 1743,
        "start_time": "2022-07-31T23:15:28.155Z"
      },
      {
        "duration": 1674,
        "start_time": "2022-07-31T23:15:37.795Z"
      },
      {
        "duration": 346,
        "start_time": "2022-07-31T23:16:27.754Z"
      },
      {
        "duration": 1590,
        "start_time": "2022-07-31T23:16:39.027Z"
      },
      {
        "duration": 3,
        "start_time": "2022-07-31T23:24:03.856Z"
      },
      {
        "duration": 5,
        "start_time": "2022-07-31T23:24:04.513Z"
      },
      {
        "duration": 5,
        "start_time": "2022-07-31T23:24:07.697Z"
      },
      {
        "duration": 5,
        "start_time": "2022-07-31T23:24:10.737Z"
      },
      {
        "duration": 1603,
        "start_time": "2022-07-31T23:24:14.282Z"
      },
      {
        "duration": 1676,
        "start_time": "2022-07-31T23:25:19.244Z"
      },
      {
        "duration": 6,
        "start_time": "2022-07-31T23:26:00.617Z"
      },
      {
        "duration": 470,
        "start_time": "2022-07-31T23:28:15.963Z"
      },
      {
        "duration": 24,
        "start_time": "2022-07-31T23:28:23.343Z"
      },
      {
        "duration": 474,
        "start_time": "2022-07-31T23:31:12.657Z"
      },
      {
        "duration": 23,
        "start_time": "2022-07-31T23:31:24.513Z"
      },
      {
        "duration": 24,
        "start_time": "2022-07-31T23:31:32.370Z"
      },
      {
        "duration": 22,
        "start_time": "2022-07-31T23:31:33.753Z"
      },
      {
        "duration": 24,
        "start_time": "2022-07-31T23:31:34.991Z"
      },
      {
        "duration": 22,
        "start_time": "2022-07-31T23:31:36.240Z"
      },
      {
        "duration": 22,
        "start_time": "2022-07-31T23:31:37.791Z"
      },
      {
        "duration": 22,
        "start_time": "2022-07-31T23:31:39.235Z"
      },
      {
        "duration": 22,
        "start_time": "2022-07-31T23:31:40.935Z"
      },
      {
        "duration": 23,
        "start_time": "2022-07-31T23:31:42.456Z"
      },
      {
        "duration": 3,
        "start_time": "2022-07-31T23:31:47.804Z"
      },
      {
        "duration": 120,
        "start_time": "2022-07-31T23:31:47.809Z"
      },
      {
        "duration": 24,
        "start_time": "2022-07-31T23:31:47.931Z"
      },
      {
        "duration": 14,
        "start_time": "2022-07-31T23:31:47.957Z"
      },
      {
        "duration": 39,
        "start_time": "2022-07-31T23:31:47.973Z"
      },
      {
        "duration": 5,
        "start_time": "2022-07-31T23:31:48.014Z"
      },
      {
        "duration": 6,
        "start_time": "2022-07-31T23:31:48.020Z"
      },
      {
        "duration": 5,
        "start_time": "2022-07-31T23:31:48.027Z"
      },
      {
        "duration": 5,
        "start_time": "2022-07-31T23:31:48.034Z"
      },
      {
        "duration": 4,
        "start_time": "2022-07-31T23:31:48.040Z"
      },
      {
        "duration": 59,
        "start_time": "2022-07-31T23:31:48.053Z"
      },
      {
        "duration": 3,
        "start_time": "2022-07-31T23:31:48.114Z"
      },
      {
        "duration": 18,
        "start_time": "2022-07-31T23:31:48.119Z"
      },
      {
        "duration": 470,
        "start_time": "2022-07-31T23:31:48.139Z"
      },
      {
        "duration": 4,
        "start_time": "2022-07-31T23:31:48.611Z"
      },
      {
        "duration": 6,
        "start_time": "2022-07-31T23:31:48.617Z"
      },
      {
        "duration": 14,
        "start_time": "2022-07-31T23:31:48.625Z"
      },
      {
        "duration": 7,
        "start_time": "2022-07-31T23:31:48.641Z"
      },
      {
        "duration": 15,
        "start_time": "2022-07-31T23:31:48.650Z"
      },
      {
        "duration": 47,
        "start_time": "2022-07-31T23:31:48.666Z"
      },
      {
        "duration": 3,
        "start_time": "2022-07-31T23:31:48.715Z"
      },
      {
        "duration": 4,
        "start_time": "2022-07-31T23:31:48.720Z"
      },
      {
        "duration": 7,
        "start_time": "2022-07-31T23:31:48.726Z"
      },
      {
        "duration": 1651,
        "start_time": "2022-07-31T23:31:48.734Z"
      },
      {
        "duration": 0,
        "start_time": "2022-07-31T23:31:50.388Z"
      },
      {
        "duration": 0,
        "start_time": "2022-07-31T23:31:50.390Z"
      },
      {
        "duration": 0,
        "start_time": "2022-07-31T23:31:50.391Z"
      },
      {
        "duration": 0,
        "start_time": "2022-07-31T23:31:50.392Z"
      },
      {
        "duration": 0,
        "start_time": "2022-07-31T23:31:50.393Z"
      },
      {
        "duration": 0,
        "start_time": "2022-07-31T23:31:50.394Z"
      },
      {
        "duration": 0,
        "start_time": "2022-07-31T23:31:50.395Z"
      },
      {
        "duration": 0,
        "start_time": "2022-07-31T23:31:50.396Z"
      },
      {
        "duration": 0,
        "start_time": "2022-07-31T23:31:50.397Z"
      },
      {
        "duration": 0,
        "start_time": "2022-07-31T23:31:50.398Z"
      },
      {
        "duration": 0,
        "start_time": "2022-07-31T23:31:50.399Z"
      },
      {
        "duration": 0,
        "start_time": "2022-07-31T23:31:50.401Z"
      },
      {
        "duration": 0,
        "start_time": "2022-07-31T23:31:50.401Z"
      },
      {
        "duration": 0,
        "start_time": "2022-07-31T23:31:50.402Z"
      },
      {
        "duration": 0,
        "start_time": "2022-07-31T23:31:50.404Z"
      },
      {
        "duration": 0,
        "start_time": "2022-07-31T23:31:50.405Z"
      },
      {
        "duration": 0,
        "start_time": "2022-07-31T23:31:50.406Z"
      },
      {
        "duration": 0,
        "start_time": "2022-07-31T23:31:50.407Z"
      },
      {
        "duration": 0,
        "start_time": "2022-07-31T23:31:50.408Z"
      },
      {
        "duration": 0,
        "start_time": "2022-07-31T23:31:50.409Z"
      },
      {
        "duration": 0,
        "start_time": "2022-07-31T23:31:50.410Z"
      },
      {
        "duration": 0,
        "start_time": "2022-07-31T23:31:50.411Z"
      },
      {
        "duration": 0,
        "start_time": "2022-07-31T23:31:50.412Z"
      },
      {
        "duration": 0,
        "start_time": "2022-07-31T23:31:50.413Z"
      },
      {
        "duration": 0,
        "start_time": "2022-07-31T23:31:50.414Z"
      },
      {
        "duration": 0,
        "start_time": "2022-07-31T23:31:50.415Z"
      },
      {
        "duration": 0,
        "start_time": "2022-07-31T23:31:50.416Z"
      },
      {
        "duration": 0,
        "start_time": "2022-07-31T23:31:50.417Z"
      },
      {
        "duration": 0,
        "start_time": "2022-07-31T23:31:50.418Z"
      },
      {
        "duration": 0,
        "start_time": "2022-07-31T23:31:50.419Z"
      },
      {
        "duration": 528,
        "start_time": "2022-07-31T23:32:53.554Z"
      },
      {
        "duration": 5,
        "start_time": "2022-07-31T23:32:56.368Z"
      },
      {
        "duration": 24,
        "start_time": "2022-07-31T23:32:56.911Z"
      },
      {
        "duration": 15,
        "start_time": "2022-07-31T23:33:08.249Z"
      },
      {
        "duration": 3,
        "start_time": "2022-07-31T23:33:09.457Z"
      },
      {
        "duration": 5,
        "start_time": "2022-07-31T23:33:11.326Z"
      },
      {
        "duration": 1774,
        "start_time": "2022-07-31T23:34:04.272Z"
      },
      {
        "duration": 1599,
        "start_time": "2022-07-31T23:34:11.591Z"
      },
      {
        "duration": 69,
        "start_time": "2022-07-31T23:34:31.632Z"
      },
      {
        "duration": 1625,
        "start_time": "2022-07-31T23:36:48.367Z"
      },
      {
        "duration": 1722,
        "start_time": "2022-07-31T23:37:47.304Z"
      },
      {
        "duration": 3,
        "start_time": "2022-07-31T23:38:42.925Z"
      },
      {
        "duration": 106,
        "start_time": "2022-07-31T23:38:42.930Z"
      },
      {
        "duration": 22,
        "start_time": "2022-07-31T23:38:43.038Z"
      },
      {
        "duration": 24,
        "start_time": "2022-07-31T23:38:43.062Z"
      },
      {
        "duration": 17,
        "start_time": "2022-07-31T23:38:43.104Z"
      },
      {
        "duration": 5,
        "start_time": "2022-07-31T23:38:43.122Z"
      },
      {
        "duration": 4,
        "start_time": "2022-07-31T23:38:43.129Z"
      },
      {
        "duration": 6,
        "start_time": "2022-07-31T23:38:43.134Z"
      },
      {
        "duration": 5,
        "start_time": "2022-07-31T23:38:43.142Z"
      },
      {
        "duration": 11,
        "start_time": "2022-07-31T23:38:43.148Z"
      },
      {
        "duration": 57,
        "start_time": "2022-07-31T23:38:43.162Z"
      },
      {
        "duration": 3,
        "start_time": "2022-07-31T23:38:43.221Z"
      },
      {
        "duration": 10,
        "start_time": "2022-07-31T23:38:43.225Z"
      },
      {
        "duration": 499,
        "start_time": "2022-07-31T23:38:43.237Z"
      },
      {
        "duration": 4,
        "start_time": "2022-07-31T23:38:43.738Z"
      },
      {
        "duration": 6,
        "start_time": "2022-07-31T23:38:43.743Z"
      },
      {
        "duration": 14,
        "start_time": "2022-07-31T23:38:43.751Z"
      },
      {
        "duration": 5,
        "start_time": "2022-07-31T23:38:43.767Z"
      },
      {
        "duration": 37,
        "start_time": "2022-07-31T23:38:43.775Z"
      },
      {
        "duration": 22,
        "start_time": "2022-07-31T23:38:43.814Z"
      },
      {
        "duration": 3,
        "start_time": "2022-07-31T23:38:43.838Z"
      },
      {
        "duration": 10,
        "start_time": "2022-07-31T23:38:43.843Z"
      },
      {
        "duration": 12,
        "start_time": "2022-07-31T23:38:43.855Z"
      },
      {
        "duration": 518,
        "start_time": "2022-07-31T23:38:43.869Z"
      },
      {
        "duration": 4,
        "start_time": "2022-07-31T23:38:44.389Z"
      },
      {
        "duration": 27,
        "start_time": "2022-07-31T23:38:44.395Z"
      },
      {
        "duration": 16,
        "start_time": "2022-07-31T23:38:44.423Z"
      },
      {
        "duration": 2,
        "start_time": "2022-07-31T23:38:44.441Z"
      },
      {
        "duration": 6,
        "start_time": "2022-07-31T23:38:44.445Z"
      },
      {
        "duration": 1712,
        "start_time": "2022-07-31T23:38:44.452Z"
      },
      {
        "duration": 0,
        "start_time": "2022-07-31T23:38:46.166Z"
      },
      {
        "duration": 0,
        "start_time": "2022-07-31T23:38:46.167Z"
      },
      {
        "duration": 0,
        "start_time": "2022-07-31T23:38:46.168Z"
      },
      {
        "duration": 0,
        "start_time": "2022-07-31T23:38:46.169Z"
      },
      {
        "duration": 0,
        "start_time": "2022-07-31T23:38:46.170Z"
      },
      {
        "duration": 0,
        "start_time": "2022-07-31T23:38:46.172Z"
      },
      {
        "duration": 0,
        "start_time": "2022-07-31T23:38:46.173Z"
      },
      {
        "duration": 0,
        "start_time": "2022-07-31T23:38:46.174Z"
      },
      {
        "duration": 0,
        "start_time": "2022-07-31T23:38:46.174Z"
      },
      {
        "duration": 0,
        "start_time": "2022-07-31T23:38:46.176Z"
      },
      {
        "duration": 0,
        "start_time": "2022-07-31T23:38:46.177Z"
      },
      {
        "duration": 0,
        "start_time": "2022-07-31T23:38:46.178Z"
      },
      {
        "duration": 0,
        "start_time": "2022-07-31T23:38:46.179Z"
      },
      {
        "duration": 0,
        "start_time": "2022-07-31T23:38:46.180Z"
      },
      {
        "duration": 0,
        "start_time": "2022-07-31T23:38:46.181Z"
      },
      {
        "duration": 0,
        "start_time": "2022-07-31T23:38:46.182Z"
      },
      {
        "duration": 0,
        "start_time": "2022-07-31T23:38:46.184Z"
      },
      {
        "duration": 0,
        "start_time": "2022-07-31T23:38:46.185Z"
      },
      {
        "duration": 0,
        "start_time": "2022-07-31T23:38:46.186Z"
      },
      {
        "duration": 0,
        "start_time": "2022-07-31T23:38:46.187Z"
      },
      {
        "duration": 0,
        "start_time": "2022-07-31T23:38:46.188Z"
      },
      {
        "duration": 0,
        "start_time": "2022-07-31T23:38:46.190Z"
      },
      {
        "duration": 0,
        "start_time": "2022-07-31T23:38:46.191Z"
      },
      {
        "duration": 0,
        "start_time": "2022-07-31T23:38:46.193Z"
      },
      {
        "duration": 18,
        "start_time": "2022-07-31T23:40:51.622Z"
      },
      {
        "duration": 4,
        "start_time": "2022-07-31T23:40:53.205Z"
      },
      {
        "duration": 6,
        "start_time": "2022-07-31T23:40:53.988Z"
      },
      {
        "duration": 439,
        "start_time": "2022-07-31T23:40:54.765Z"
      },
      {
        "duration": 5,
        "start_time": "2022-07-31T23:40:55.398Z"
      },
      {
        "duration": 4,
        "start_time": "2022-07-31T23:40:56.085Z"
      },
      {
        "duration": 12,
        "start_time": "2022-07-31T23:40:57.246Z"
      },
      {
        "duration": 5,
        "start_time": "2022-07-31T23:40:58.605Z"
      },
      {
        "duration": 13,
        "start_time": "2022-07-31T23:41:01.646Z"
      },
      {
        "duration": 24,
        "start_time": "2022-07-31T23:41:03.027Z"
      },
      {
        "duration": 4,
        "start_time": "2022-07-31T23:41:03.709Z"
      },
      {
        "duration": 3,
        "start_time": "2022-07-31T23:41:04.276Z"
      },
      {
        "duration": 6,
        "start_time": "2022-07-31T23:41:04.885Z"
      },
      {
        "duration": 440,
        "start_time": "2022-07-31T23:41:05.445Z"
      },
      {
        "duration": 4,
        "start_time": "2022-07-31T23:41:05.956Z"
      },
      {
        "duration": 26,
        "start_time": "2022-07-31T23:41:06.655Z"
      },
      {
        "duration": 14,
        "start_time": "2022-07-31T23:41:08.169Z"
      },
      {
        "duration": 3,
        "start_time": "2022-07-31T23:41:09.054Z"
      },
      {
        "duration": 5,
        "start_time": "2022-07-31T23:41:11.069Z"
      },
      {
        "duration": 6,
        "start_time": "2022-07-31T23:41:39.957Z"
      },
      {
        "duration": 5,
        "start_time": "2022-07-31T23:41:44.660Z"
      },
      {
        "duration": 13,
        "start_time": "2022-07-31T23:42:17.637Z"
      },
      {
        "duration": 4,
        "start_time": "2022-07-31T23:43:14.644Z"
      },
      {
        "duration": 14,
        "start_time": "2022-07-31T23:43:15.715Z"
      },
      {
        "duration": 11,
        "start_time": "2022-07-31T23:45:58.096Z"
      },
      {
        "duration": 8,
        "start_time": "2022-07-31T23:46:01.256Z"
      },
      {
        "duration": 13,
        "start_time": "2022-07-31T23:46:07.650Z"
      },
      {
        "duration": 12,
        "start_time": "2022-07-31T23:53:58.260Z"
      },
      {
        "duration": 44,
        "start_time": "2022-07-31T23:54:09.435Z"
      },
      {
        "duration": 13,
        "start_time": "2022-07-31T23:54:15.900Z"
      },
      {
        "duration": 14,
        "start_time": "2022-07-31T23:54:30.603Z"
      },
      {
        "duration": 4,
        "start_time": "2022-07-31T23:55:44.658Z"
      },
      {
        "duration": 14,
        "start_time": "2022-07-31T23:56:21.529Z"
      },
      {
        "duration": 73,
        "start_time": "2022-07-31T23:58:03.729Z"
      },
      {
        "duration": 4,
        "start_time": "2022-07-31T23:58:04.148Z"
      },
      {
        "duration": 4,
        "start_time": "2022-07-31T23:58:10.074Z"
      },
      {
        "duration": 13,
        "start_time": "2022-07-31T23:58:12.087Z"
      },
      {
        "duration": 4,
        "start_time": "2022-07-31T23:58:39.324Z"
      },
      {
        "duration": 15,
        "start_time": "2022-07-31T23:58:47.865Z"
      },
      {
        "duration": 3,
        "start_time": "2022-07-31T23:58:48.920Z"
      },
      {
        "duration": 6,
        "start_time": "2022-07-31T23:58:50.286Z"
      },
      {
        "duration": 509,
        "start_time": "2022-07-31T23:58:51.552Z"
      },
      {
        "duration": 22,
        "start_time": "2022-07-31T23:58:54.086Z"
      },
      {
        "duration": 5,
        "start_time": "2022-08-01T00:01:02.365Z"
      },
      {
        "duration": 12,
        "start_time": "2022-08-01T00:01:02.735Z"
      },
      {
        "duration": 3,
        "start_time": "2022-08-01T00:01:03.174Z"
      },
      {
        "duration": 5,
        "start_time": "2022-08-01T00:01:03.702Z"
      },
      {
        "duration": 452,
        "start_time": "2022-08-01T00:01:04.294Z"
      },
      {
        "duration": 22,
        "start_time": "2022-08-01T00:01:05.079Z"
      },
      {
        "duration": 76,
        "start_time": "2022-08-01T00:01:06.460Z"
      },
      {
        "duration": 9,
        "start_time": "2022-08-01T00:01:07.253Z"
      },
      {
        "duration": 10,
        "start_time": "2022-08-01T00:01:13.303Z"
      },
      {
        "duration": 26,
        "start_time": "2022-08-01T00:01:14.077Z"
      },
      {
        "duration": 3,
        "start_time": "2022-08-01T00:01:14.605Z"
      },
      {
        "duration": 5,
        "start_time": "2022-08-01T00:01:15.382Z"
      },
      {
        "duration": 548,
        "start_time": "2022-08-01T00:01:16.197Z"
      },
      {
        "duration": 6,
        "start_time": "2022-08-01T00:01:16.953Z"
      },
      {
        "duration": 21,
        "start_time": "2022-08-01T00:01:17.677Z"
      },
      {
        "duration": 5,
        "start_time": "2022-08-01T00:01:58.944Z"
      },
      {
        "duration": 21,
        "start_time": "2022-08-01T00:02:00.614Z"
      },
      {
        "duration": 436,
        "start_time": "2022-08-01T00:02:03.725Z"
      },
      {
        "duration": 25,
        "start_time": "2022-08-01T00:02:04.229Z"
      },
      {
        "duration": 5,
        "start_time": "2022-08-01T00:02:04.709Z"
      },
      {
        "duration": 403,
        "start_time": "2022-08-01T00:02:18.661Z"
      },
      {
        "duration": 27,
        "start_time": "2022-08-01T00:02:25.869Z"
      },
      {
        "duration": 3,
        "start_time": "2022-08-01T00:02:26.782Z"
      },
      {
        "duration": 5,
        "start_time": "2022-08-01T00:02:27.253Z"
      },
      {
        "duration": 26,
        "start_time": "2022-08-01T00:02:27.764Z"
      },
      {
        "duration": 6,
        "start_time": "2022-08-01T00:02:28.293Z"
      },
      {
        "duration": 25,
        "start_time": "2022-08-01T00:02:41.174Z"
      },
      {
        "duration": 3,
        "start_time": "2022-08-01T00:03:05.747Z"
      },
      {
        "duration": 105,
        "start_time": "2022-08-01T00:03:05.784Z"
      },
      {
        "duration": 26,
        "start_time": "2022-08-01T00:03:05.891Z"
      },
      {
        "duration": 16,
        "start_time": "2022-08-01T00:03:05.918Z"
      },
      {
        "duration": 20,
        "start_time": "2022-08-01T00:03:05.935Z"
      },
      {
        "duration": 5,
        "start_time": "2022-08-01T00:03:05.957Z"
      },
      {
        "duration": 5,
        "start_time": "2022-08-01T00:03:05.964Z"
      },
      {
        "duration": 6,
        "start_time": "2022-08-01T00:03:06.005Z"
      },
      {
        "duration": 5,
        "start_time": "2022-08-01T00:03:06.012Z"
      },
      {
        "duration": 6,
        "start_time": "2022-08-01T00:03:06.019Z"
      },
      {
        "duration": 22,
        "start_time": "2022-08-01T00:03:06.026Z"
      },
      {
        "duration": 3,
        "start_time": "2022-08-01T00:03:06.050Z"
      },
      {
        "duration": 9,
        "start_time": "2022-08-01T00:03:06.054Z"
      },
      {
        "duration": 528,
        "start_time": "2022-08-01T00:03:06.065Z"
      },
      {
        "duration": 7,
        "start_time": "2022-08-01T00:03:06.596Z"
      },
      {
        "duration": 3,
        "start_time": "2022-08-01T00:03:06.605Z"
      },
      {
        "duration": 18,
        "start_time": "2022-08-01T00:03:06.610Z"
      },
      {
        "duration": 6,
        "start_time": "2022-08-01T00:03:06.630Z"
      },
      {
        "duration": 40,
        "start_time": "2022-08-01T00:03:06.637Z"
      },
      {
        "duration": 41,
        "start_time": "2022-08-01T00:03:06.679Z"
      },
      {
        "duration": 6,
        "start_time": "2022-08-01T00:03:06.721Z"
      },
      {
        "duration": 5,
        "start_time": "2022-08-01T00:03:06.728Z"
      },
      {
        "duration": 9,
        "start_time": "2022-08-01T00:03:06.734Z"
      },
      {
        "duration": 517,
        "start_time": "2022-08-01T00:03:06.745Z"
      },
      {
        "duration": 4,
        "start_time": "2022-08-01T00:03:07.264Z"
      },
      {
        "duration": 21,
        "start_time": "2022-08-01T00:03:07.270Z"
      },
      {
        "duration": 16,
        "start_time": "2022-08-01T00:03:07.304Z"
      },
      {
        "duration": 8,
        "start_time": "2022-08-01T00:03:07.321Z"
      },
      {
        "duration": 15,
        "start_time": "2022-08-01T00:03:07.330Z"
      },
      {
        "duration": 4,
        "start_time": "2022-08-01T00:03:07.347Z"
      },
      {
        "duration": 7,
        "start_time": "2022-08-01T00:03:07.352Z"
      },
      {
        "duration": 508,
        "start_time": "2022-08-01T00:03:07.360Z"
      },
      {
        "duration": 5,
        "start_time": "2022-08-01T00:03:07.869Z"
      },
      {
        "duration": 33,
        "start_time": "2022-08-01T00:03:07.876Z"
      },
      {
        "duration": 11,
        "start_time": "2022-08-01T00:03:07.911Z"
      },
      {
        "duration": 25,
        "start_time": "2022-08-01T00:03:07.923Z"
      },
      {
        "duration": 3,
        "start_time": "2022-08-01T00:03:07.950Z"
      },
      {
        "duration": 7,
        "start_time": "2022-08-01T00:03:07.955Z"
      },
      {
        "duration": 555,
        "start_time": "2022-08-01T00:03:07.963Z"
      },
      {
        "duration": 6,
        "start_time": "2022-08-01T00:03:08.519Z"
      },
      {
        "duration": 22,
        "start_time": "2022-08-01T00:03:08.527Z"
      },
      {
        "duration": 3,
        "start_time": "2022-08-01T00:03:08.552Z"
      },
      {
        "duration": 6,
        "start_time": "2022-08-01T00:03:08.556Z"
      },
      {
        "duration": 4,
        "start_time": "2022-08-01T00:03:08.563Z"
      },
      {
        "duration": 4,
        "start_time": "2022-08-01T00:03:08.569Z"
      },
      {
        "duration": 5,
        "start_time": "2022-08-01T00:03:08.574Z"
      },
      {
        "duration": 25,
        "start_time": "2022-08-01T00:03:08.580Z"
      },
      {
        "duration": 5,
        "start_time": "2022-08-01T00:03:08.607Z"
      },
      {
        "duration": 5,
        "start_time": "2022-08-01T00:03:08.613Z"
      },
      {
        "duration": 6,
        "start_time": "2022-08-01T00:03:08.619Z"
      },
      {
        "duration": 6,
        "start_time": "2022-08-01T00:03:08.627Z"
      },
      {
        "duration": 4,
        "start_time": "2022-08-01T00:03:08.635Z"
      },
      {
        "duration": 11,
        "start_time": "2022-08-01T00:03:08.641Z"
      },
      {
        "duration": 5,
        "start_time": "2022-08-01T00:03:08.653Z"
      },
      {
        "duration": 4,
        "start_time": "2022-08-01T00:03:08.660Z"
      },
      {
        "duration": 4,
        "start_time": "2022-08-01T00:03:08.665Z"
      },
      {
        "duration": 12,
        "start_time": "2022-08-01T00:03:15.933Z"
      },
      {
        "duration": 17,
        "start_time": "2022-08-01T00:03:18.613Z"
      },
      {
        "duration": 5,
        "start_time": "2022-08-01T00:03:20.772Z"
      },
      {
        "duration": 4,
        "start_time": "2022-08-01T00:03:21.708Z"
      },
      {
        "duration": 6,
        "start_time": "2022-08-01T00:03:22.148Z"
      },
      {
        "duration": 4,
        "start_time": "2022-08-01T00:03:22.596Z"
      },
      {
        "duration": 5,
        "start_time": "2022-08-01T00:03:23.088Z"
      },
      {
        "duration": 19,
        "start_time": "2022-08-01T00:03:23.880Z"
      },
      {
        "duration": 4,
        "start_time": "2022-08-01T00:03:24.451Z"
      },
      {
        "duration": 5,
        "start_time": "2022-08-01T00:03:24.956Z"
      },
      {
        "duration": 454,
        "start_time": "2022-08-01T00:03:25.395Z"
      },
      {
        "duration": 5,
        "start_time": "2022-08-01T00:03:25.963Z"
      },
      {
        "duration": 3,
        "start_time": "2022-08-01T00:03:26.445Z"
      },
      {
        "duration": 14,
        "start_time": "2022-08-01T00:03:26.789Z"
      },
      {
        "duration": 4,
        "start_time": "2022-08-01T00:03:27.428Z"
      },
      {
        "duration": 14,
        "start_time": "2022-08-01T00:03:27.697Z"
      },
      {
        "duration": 22,
        "start_time": "2022-08-01T00:03:28.572Z"
      },
      {
        "duration": 5,
        "start_time": "2022-08-01T00:03:29.044Z"
      },
      {
        "duration": 3,
        "start_time": "2022-08-01T00:03:29.437Z"
      },
      {
        "duration": 6,
        "start_time": "2022-08-01T00:03:29.789Z"
      },
      {
        "duration": 442,
        "start_time": "2022-08-01T00:03:30.204Z"
      },
      {
        "duration": 4,
        "start_time": "2022-08-01T00:03:30.648Z"
      },
      {
        "duration": 22,
        "start_time": "2022-08-01T00:03:30.983Z"
      },
      {
        "duration": 16,
        "start_time": "2022-08-01T00:03:33.788Z"
      },
      {
        "duration": 4,
        "start_time": "2022-08-01T00:03:34.828Z"
      },
      {
        "duration": 14,
        "start_time": "2022-08-01T00:03:35.293Z"
      },
      {
        "duration": 3,
        "start_time": "2022-08-01T00:03:35.828Z"
      },
      {
        "duration": 6,
        "start_time": "2022-08-01T00:03:36.573Z"
      },
      {
        "duration": 440,
        "start_time": "2022-08-01T00:03:37.053Z"
      },
      {
        "duration": 5,
        "start_time": "2022-08-01T00:03:37.619Z"
      },
      {
        "duration": 22,
        "start_time": "2022-08-01T00:03:38.294Z"
      },
      {
        "duration": 414,
        "start_time": "2022-08-01T00:03:46.293Z"
      },
      {
        "duration": 5,
        "start_time": "2022-08-01T00:04:00.744Z"
      },
      {
        "duration": 604,
        "start_time": "2022-08-01T00:04:12.974Z"
      },
      {
        "duration": 582,
        "start_time": "2022-08-01T00:04:19.005Z"
      },
      {
        "duration": 6,
        "start_time": "2022-08-01T00:04:42.567Z"
      },
      {
        "duration": 6,
        "start_time": "2022-08-01T00:05:04.094Z"
      },
      {
        "duration": 24,
        "start_time": "2022-08-01T00:05:09.444Z"
      },
      {
        "duration": 3,
        "start_time": "2022-08-01T00:05:14.428Z"
      },
      {
        "duration": 5,
        "start_time": "2022-08-01T00:05:15.867Z"
      },
      {
        "duration": 25,
        "start_time": "2022-08-01T00:05:17.355Z"
      },
      {
        "duration": 6,
        "start_time": "2022-08-01T00:05:22.875Z"
      },
      {
        "duration": 22,
        "start_time": "2022-08-01T00:05:25.900Z"
      },
      {
        "duration": 6,
        "start_time": "2022-08-01T00:06:17.228Z"
      },
      {
        "duration": 625,
        "start_time": "2022-08-01T00:07:33.754Z"
      },
      {
        "duration": 8,
        "start_time": "2022-08-01T00:07:43.675Z"
      },
      {
        "duration": 8,
        "start_time": "2022-08-01T00:08:25.900Z"
      },
      {
        "duration": 8,
        "start_time": "2022-08-01T00:10:06.706Z"
      },
      {
        "duration": 7,
        "start_time": "2022-08-01T00:10:15.161Z"
      },
      {
        "duration": 2,
        "start_time": "2022-08-01T00:10:18.520Z"
      },
      {
        "duration": 110,
        "start_time": "2022-08-01T00:10:18.526Z"
      },
      {
        "duration": 22,
        "start_time": "2022-08-01T00:10:18.638Z"
      },
      {
        "duration": 15,
        "start_time": "2022-08-01T00:10:18.661Z"
      },
      {
        "duration": 41,
        "start_time": "2022-08-01T00:10:18.679Z"
      },
      {
        "duration": 7,
        "start_time": "2022-08-01T00:10:18.722Z"
      },
      {
        "duration": 19,
        "start_time": "2022-08-01T00:10:18.731Z"
      },
      {
        "duration": 13,
        "start_time": "2022-08-01T00:10:18.751Z"
      },
      {
        "duration": 6,
        "start_time": "2022-08-01T00:10:18.765Z"
      },
      {
        "duration": 11,
        "start_time": "2022-08-01T00:10:18.772Z"
      },
      {
        "duration": 33,
        "start_time": "2022-08-01T00:10:18.786Z"
      },
      {
        "duration": 3,
        "start_time": "2022-08-01T00:10:18.821Z"
      },
      {
        "duration": 12,
        "start_time": "2022-08-01T00:10:18.826Z"
      },
      {
        "duration": 493,
        "start_time": "2022-08-01T00:10:18.840Z"
      },
      {
        "duration": 6,
        "start_time": "2022-08-01T00:10:19.335Z"
      },
      {
        "duration": 7,
        "start_time": "2022-08-01T00:10:19.343Z"
      },
      {
        "duration": 17,
        "start_time": "2022-08-01T00:10:19.352Z"
      },
      {
        "duration": 13,
        "start_time": "2022-08-01T00:10:19.370Z"
      },
      {
        "duration": 28,
        "start_time": "2022-08-01T00:10:19.385Z"
      },
      {
        "duration": 24,
        "start_time": "2022-08-01T00:10:19.415Z"
      },
      {
        "duration": 4,
        "start_time": "2022-08-01T00:10:19.442Z"
      },
      {
        "duration": 10,
        "start_time": "2022-08-01T00:10:19.448Z"
      },
      {
        "duration": 7,
        "start_time": "2022-08-01T00:10:19.459Z"
      },
      {
        "duration": 542,
        "start_time": "2022-08-01T00:10:19.468Z"
      },
      {
        "duration": 6,
        "start_time": "2022-08-01T00:10:20.012Z"
      },
      {
        "duration": 37,
        "start_time": "2022-08-01T00:10:20.020Z"
      },
      {
        "duration": 35,
        "start_time": "2022-08-01T00:10:20.059Z"
      },
      {
        "duration": 5,
        "start_time": "2022-08-01T00:10:20.096Z"
      },
      {
        "duration": 25,
        "start_time": "2022-08-01T00:10:20.105Z"
      },
      {
        "duration": 22,
        "start_time": "2022-08-01T00:10:20.132Z"
      },
      {
        "duration": 18,
        "start_time": "2022-08-01T00:10:20.156Z"
      },
      {
        "duration": 486,
        "start_time": "2022-08-01T00:10:20.176Z"
      },
      {
        "duration": 5,
        "start_time": "2022-08-01T00:10:20.664Z"
      },
      {
        "duration": 38,
        "start_time": "2022-08-01T00:10:20.671Z"
      },
      {
        "duration": 19,
        "start_time": "2022-08-01T00:10:20.711Z"
      },
      {
        "duration": 7,
        "start_time": "2022-08-01T00:10:20.732Z"
      },
      {
        "duration": 8,
        "start_time": "2022-08-01T00:10:20.741Z"
      },
      {
        "duration": 9,
        "start_time": "2022-08-01T00:10:20.751Z"
      },
      {
        "duration": 10,
        "start_time": "2022-08-01T00:10:20.761Z"
      },
      {
        "duration": 11,
        "start_time": "2022-08-01T00:10:20.772Z"
      },
      {
        "duration": 12,
        "start_time": "2022-08-01T00:10:20.785Z"
      },
      {
        "duration": 9,
        "start_time": "2022-08-01T00:10:20.798Z"
      },
      {
        "duration": 10,
        "start_time": "2022-08-01T00:10:20.809Z"
      },
      {
        "duration": 12,
        "start_time": "2022-08-01T00:10:20.820Z"
      },
      {
        "duration": 7,
        "start_time": "2022-08-01T00:10:20.834Z"
      },
      {
        "duration": 10,
        "start_time": "2022-08-01T00:10:20.842Z"
      },
      {
        "duration": 10,
        "start_time": "2022-08-01T00:10:20.853Z"
      },
      {
        "duration": 8,
        "start_time": "2022-08-01T00:10:20.865Z"
      },
      {
        "duration": 5,
        "start_time": "2022-08-01T00:10:20.875Z"
      },
      {
        "duration": 5,
        "start_time": "2022-08-01T00:10:20.881Z"
      },
      {
        "duration": 7,
        "start_time": "2022-08-01T00:10:27.154Z"
      },
      {
        "duration": 6,
        "start_time": "2022-08-01T00:11:55.409Z"
      },
      {
        "duration": 5,
        "start_time": "2022-08-01T00:12:03.474Z"
      },
      {
        "duration": 6,
        "start_time": "2022-08-01T00:12:24.665Z"
      },
      {
        "duration": 21,
        "start_time": "2022-08-01T00:13:28.825Z"
      },
      {
        "duration": 36,
        "start_time": "2022-08-01T00:13:37.296Z"
      },
      {
        "duration": 30,
        "start_time": "2022-08-01T00:14:40.017Z"
      },
      {
        "duration": 7,
        "start_time": "2022-08-01T00:15:16.722Z"
      },
      {
        "duration": 29,
        "start_time": "2022-08-01T00:15:17.388Z"
      },
      {
        "duration": 26,
        "start_time": "2022-08-01T00:16:05.876Z"
      },
      {
        "duration": 26,
        "start_time": "2022-08-01T00:18:11.769Z"
      },
      {
        "duration": 41,
        "start_time": "2022-08-01T00:21:59.767Z"
      },
      {
        "duration": 4,
        "start_time": "2022-08-01T00:22:11.232Z"
      },
      {
        "duration": 7,
        "start_time": "2022-08-01T00:22:16.166Z"
      },
      {
        "duration": 6198,
        "start_time": "2022-08-01T00:22:26.598Z"
      },
      {
        "duration": 11,
        "start_time": "2022-08-01T00:22:32.798Z"
      },
      {
        "duration": 23,
        "start_time": "2022-08-01T00:22:40.099Z"
      },
      {
        "duration": 8,
        "start_time": "2022-08-01T00:22:48.501Z"
      },
      {
        "duration": 458,
        "start_time": "2022-08-01T00:23:08.832Z"
      },
      {
        "duration": 6,
        "start_time": "2022-08-01T00:23:09.380Z"
      },
      {
        "duration": 21,
        "start_time": "2022-08-01T00:23:10.254Z"
      },
      {
        "duration": 6,
        "start_time": "2022-08-01T00:23:11.078Z"
      },
      {
        "duration": 34,
        "start_time": "2022-08-01T00:23:33.405Z"
      },
      {
        "duration": 3,
        "start_time": "2022-08-01T00:23:34.846Z"
      },
      {
        "duration": 6,
        "start_time": "2022-08-01T00:23:35.582Z"
      },
      {
        "duration": 471,
        "start_time": "2022-08-01T00:23:36.281Z"
      },
      {
        "duration": 6,
        "start_time": "2022-08-01T00:23:37.102Z"
      },
      {
        "duration": 21,
        "start_time": "2022-08-01T00:23:37.943Z"
      },
      {
        "duration": 7,
        "start_time": "2022-08-01T00:23:38.700Z"
      },
      {
        "duration": 8,
        "start_time": "2022-08-01T00:45:10.480Z"
      },
      {
        "duration": 26,
        "start_time": "2022-08-01T00:45:20.390Z"
      },
      {
        "duration": 7,
        "start_time": "2022-08-01T00:46:04.591Z"
      },
      {
        "duration": 22,
        "start_time": "2022-08-01T00:46:18.350Z"
      },
      {
        "duration": 23,
        "start_time": "2022-08-01T01:03:53.983Z"
      },
      {
        "duration": 4,
        "start_time": "2022-08-01T01:03:55.559Z"
      },
      {
        "duration": 3,
        "start_time": "2022-08-01T01:03:56.487Z"
      },
      {
        "duration": 6,
        "start_time": "2022-08-01T01:03:57.670Z"
      },
      {
        "duration": 440,
        "start_time": "2022-08-01T01:03:58.767Z"
      },
      {
        "duration": 5,
        "start_time": "2022-08-01T01:03:59.911Z"
      },
      {
        "duration": 21,
        "start_time": "2022-08-01T01:04:00.814Z"
      },
      {
        "duration": 16,
        "start_time": "2022-08-01T01:04:03.080Z"
      },
      {
        "duration": 5,
        "start_time": "2022-08-01T01:04:04.357Z"
      },
      {
        "duration": 13,
        "start_time": "2022-08-01T01:04:04.966Z"
      },
      {
        "duration": 3,
        "start_time": "2022-08-01T01:04:06.079Z"
      },
      {
        "duration": 14,
        "start_time": "2022-08-01T01:04:09.311Z"
      },
      {
        "duration": 4,
        "start_time": "2022-08-01T01:04:10.238Z"
      },
      {
        "duration": 6,
        "start_time": "2022-08-01T01:04:10.766Z"
      },
      {
        "duration": 459,
        "start_time": "2022-08-01T01:04:11.407Z"
      },
      {
        "duration": 5,
        "start_time": "2022-08-01T01:04:11.910Z"
      },
      {
        "duration": 24,
        "start_time": "2022-08-01T01:04:12.598Z"
      },
      {
        "duration": 21,
        "start_time": "2022-08-01T01:04:30.823Z"
      },
      {
        "duration": 6,
        "start_time": "2022-08-01T01:05:25.719Z"
      },
      {
        "duration": 6,
        "start_time": "2022-08-01T01:05:38.671Z"
      },
      {
        "duration": 5,
        "start_time": "2022-08-01T01:06:36.803Z"
      },
      {
        "duration": 4,
        "start_time": "2022-08-01T01:06:47.967Z"
      },
      {
        "duration": 22,
        "start_time": "2022-08-01T01:06:57.567Z"
      },
      {
        "duration": 6,
        "start_time": "2022-08-01T01:07:07.014Z"
      },
      {
        "duration": 6,
        "start_time": "2022-08-01T01:08:21.262Z"
      },
      {
        "duration": 14,
        "start_time": "2022-08-01T01:22:36.915Z"
      },
      {
        "duration": 16,
        "start_time": "2022-08-01T01:22:50.124Z"
      },
      {
        "duration": 31,
        "start_time": "2022-08-01T01:23:13.859Z"
      },
      {
        "duration": 14,
        "start_time": "2022-08-01T01:23:40.787Z"
      },
      {
        "duration": 14,
        "start_time": "2022-08-01T01:24:21.837Z"
      },
      {
        "duration": 19,
        "start_time": "2022-08-01T01:24:30.954Z"
      },
      {
        "duration": 29,
        "start_time": "2022-08-01T01:24:39.626Z"
      },
      {
        "duration": 746,
        "start_time": "2022-08-01T16:12:04.208Z"
      },
      {
        "duration": 356,
        "start_time": "2022-08-01T16:12:04.956Z"
      },
      {
        "duration": 21,
        "start_time": "2022-08-01T16:12:05.314Z"
      },
      {
        "duration": 17,
        "start_time": "2022-08-01T16:12:05.337Z"
      },
      {
        "duration": 17,
        "start_time": "2022-08-01T16:12:05.355Z"
      },
      {
        "duration": 9,
        "start_time": "2022-08-01T16:12:05.374Z"
      },
      {
        "duration": 10,
        "start_time": "2022-08-01T16:12:05.384Z"
      },
      {
        "duration": 7,
        "start_time": "2022-08-01T16:12:05.395Z"
      },
      {
        "duration": 5,
        "start_time": "2022-08-01T16:12:05.404Z"
      },
      {
        "duration": 5,
        "start_time": "2022-08-01T16:12:05.430Z"
      },
      {
        "duration": 24,
        "start_time": "2022-08-01T16:12:05.437Z"
      },
      {
        "duration": 2,
        "start_time": "2022-08-01T16:12:05.463Z"
      },
      {
        "duration": 7,
        "start_time": "2022-08-01T16:12:05.466Z"
      },
      {
        "duration": 445,
        "start_time": "2022-08-01T16:12:05.475Z"
      },
      {
        "duration": 10,
        "start_time": "2022-08-01T16:12:05.921Z"
      },
      {
        "duration": 4,
        "start_time": "2022-08-01T16:12:05.932Z"
      },
      {
        "duration": 16,
        "start_time": "2022-08-01T16:12:05.937Z"
      },
      {
        "duration": 8,
        "start_time": "2022-08-01T16:12:05.954Z"
      },
      {
        "duration": 12,
        "start_time": "2022-08-01T16:12:05.963Z"
      },
      {
        "duration": 23,
        "start_time": "2022-08-01T16:12:05.977Z"
      },
      {
        "duration": 8,
        "start_time": "2022-08-01T16:12:06.001Z"
      },
      {
        "duration": 21,
        "start_time": "2022-08-01T16:12:06.010Z"
      },
      {
        "duration": 5,
        "start_time": "2022-08-01T16:12:06.032Z"
      },
      {
        "duration": 463,
        "start_time": "2022-08-01T16:12:06.038Z"
      },
      {
        "duration": 3,
        "start_time": "2022-08-01T16:12:06.503Z"
      },
      {
        "duration": 23,
        "start_time": "2022-08-01T16:12:06.508Z"
      },
      {
        "duration": 13,
        "start_time": "2022-08-01T16:12:06.533Z"
      },
      {
        "duration": 3,
        "start_time": "2022-08-01T16:12:06.549Z"
      },
      {
        "duration": 11,
        "start_time": "2022-08-01T16:12:06.553Z"
      },
      {
        "duration": 3,
        "start_time": "2022-08-01T16:12:06.565Z"
      },
      {
        "duration": 6,
        "start_time": "2022-08-01T16:12:06.569Z"
      },
      {
        "duration": 473,
        "start_time": "2022-08-01T16:12:06.576Z"
      },
      {
        "duration": 4,
        "start_time": "2022-08-01T16:12:07.051Z"
      },
      {
        "duration": 21,
        "start_time": "2022-08-01T16:12:07.056Z"
      },
      {
        "duration": 6,
        "start_time": "2022-08-01T16:12:07.079Z"
      },
      {
        "duration": 27,
        "start_time": "2022-08-01T16:12:07.086Z"
      },
      {
        "duration": 49,
        "start_time": "2022-08-01T16:12:07.114Z"
      },
      {
        "duration": 3,
        "start_time": "2022-08-01T16:12:07.164Z"
      },
      {
        "duration": 8,
        "start_time": "2022-08-01T16:12:07.168Z"
      },
      {
        "duration": 5428,
        "start_time": "2022-08-01T16:12:07.177Z"
      },
      {
        "duration": 6,
        "start_time": "2022-08-01T16:12:12.606Z"
      },
      {
        "duration": 27,
        "start_time": "2022-08-01T16:12:12.613Z"
      },
      {
        "duration": 5,
        "start_time": "2022-08-01T16:12:12.641Z"
      },
      {
        "duration": 19,
        "start_time": "2022-08-01T16:12:12.647Z"
      },
      {
        "duration": 4,
        "start_time": "2022-08-01T16:12:12.668Z"
      },
      {
        "duration": 28,
        "start_time": "2022-08-01T16:12:12.673Z"
      },
      {
        "duration": 2,
        "start_time": "2022-08-01T16:12:12.703Z"
      },
      {
        "duration": 25,
        "start_time": "2022-08-01T16:12:12.706Z"
      },
      {
        "duration": 6,
        "start_time": "2022-08-01T16:12:12.733Z"
      },
      {
        "duration": 7,
        "start_time": "2022-08-01T16:12:12.740Z"
      },
      {
        "duration": 5,
        "start_time": "2022-08-01T16:12:12.749Z"
      },
      {
        "duration": 5,
        "start_time": "2022-08-01T16:12:12.755Z"
      },
      {
        "duration": 4,
        "start_time": "2022-08-01T16:12:12.761Z"
      },
      {
        "duration": 4,
        "start_time": "2022-08-01T16:12:12.767Z"
      },
      {
        "duration": 8,
        "start_time": "2022-08-01T16:12:12.772Z"
      },
      {
        "duration": 4,
        "start_time": "2022-08-01T16:12:12.781Z"
      },
      {
        "duration": 3,
        "start_time": "2022-08-01T16:12:12.787Z"
      },
      {
        "duration": 6,
        "start_time": "2022-08-01T16:12:12.792Z"
      },
      {
        "duration": 5,
        "start_time": "2022-08-01T16:12:12.800Z"
      },
      {
        "duration": 5,
        "start_time": "2022-08-01T16:12:12.806Z"
      },
      {
        "duration": 5,
        "start_time": "2022-08-01T16:12:12.812Z"
      },
      {
        "duration": 5,
        "start_time": "2022-08-01T16:12:20.476Z"
      },
      {
        "duration": 18,
        "start_time": "2022-08-01T16:12:23.628Z"
      },
      {
        "duration": 27,
        "start_time": "2022-08-01T16:12:38.925Z"
      },
      {
        "duration": 1282,
        "start_time": "2022-08-01T16:34:04.783Z"
      },
      {
        "duration": 8,
        "start_time": "2022-08-01T16:34:56.239Z"
      },
      {
        "duration": 23,
        "start_time": "2022-08-01T16:35:01.016Z"
      },
      {
        "duration": 24,
        "start_time": "2022-08-01T16:38:43.966Z"
      },
      {
        "duration": 2,
        "start_time": "2022-08-01T16:39:14.097Z"
      },
      {
        "duration": 45,
        "start_time": "2022-08-01T16:55:15.793Z"
      },
      {
        "duration": 24,
        "start_time": "2022-08-01T16:59:48.759Z"
      },
      {
        "duration": 21,
        "start_time": "2022-08-01T16:59:55.884Z"
      },
      {
        "duration": 4,
        "start_time": "2022-08-01T17:00:43.681Z"
      },
      {
        "duration": 20,
        "start_time": "2022-08-01T17:00:51.968Z"
      },
      {
        "duration": 2,
        "start_time": "2022-08-01T17:01:07.168Z"
      },
      {
        "duration": 90,
        "start_time": "2022-08-01T17:01:07.173Z"
      },
      {
        "duration": 19,
        "start_time": "2022-08-01T17:01:07.265Z"
      },
      {
        "duration": 13,
        "start_time": "2022-08-01T17:01:07.285Z"
      },
      {
        "duration": 32,
        "start_time": "2022-08-01T17:01:07.299Z"
      },
      {
        "duration": 5,
        "start_time": "2022-08-01T17:01:07.333Z"
      },
      {
        "duration": 4,
        "start_time": "2022-08-01T17:01:07.339Z"
      },
      {
        "duration": 6,
        "start_time": "2022-08-01T17:01:07.345Z"
      },
      {
        "duration": 4,
        "start_time": "2022-08-01T17:01:07.352Z"
      },
      {
        "duration": 4,
        "start_time": "2022-08-01T17:01:07.358Z"
      },
      {
        "duration": 21,
        "start_time": "2022-08-01T17:01:07.364Z"
      },
      {
        "duration": 3,
        "start_time": "2022-08-01T17:01:07.386Z"
      },
      {
        "duration": 45,
        "start_time": "2022-08-01T17:01:07.391Z"
      },
      {
        "duration": 491,
        "start_time": "2022-08-01T17:01:07.437Z"
      },
      {
        "duration": 4,
        "start_time": "2022-08-01T17:01:07.930Z"
      },
      {
        "duration": 8,
        "start_time": "2022-08-01T17:01:07.935Z"
      },
      {
        "duration": 14,
        "start_time": "2022-08-01T17:01:07.944Z"
      },
      {
        "duration": 6,
        "start_time": "2022-08-01T17:01:07.960Z"
      },
      {
        "duration": 13,
        "start_time": "2022-08-01T17:01:07.967Z"
      },
      {
        "duration": 21,
        "start_time": "2022-08-01T17:01:07.982Z"
      },
      {
        "duration": 3,
        "start_time": "2022-08-01T17:01:08.005Z"
      },
      {
        "duration": 23,
        "start_time": "2022-08-01T17:01:08.009Z"
      },
      {
        "duration": 7,
        "start_time": "2022-08-01T17:01:08.034Z"
      },
      {
        "duration": 475,
        "start_time": "2022-08-01T17:01:08.042Z"
      },
      {
        "duration": 3,
        "start_time": "2022-08-01T17:01:08.519Z"
      },
      {
        "duration": 19,
        "start_time": "2022-08-01T17:01:08.530Z"
      },
      {
        "duration": 13,
        "start_time": "2022-08-01T17:01:08.550Z"
      },
      {
        "duration": 3,
        "start_time": "2022-08-01T17:01:08.564Z"
      },
      {
        "duration": 10,
        "start_time": "2022-08-01T17:01:08.570Z"
      },
      {
        "duration": 3,
        "start_time": "2022-08-01T17:01:08.581Z"
      },
      {
        "duration": 9,
        "start_time": "2022-08-01T17:01:08.585Z"
      },
      {
        "duration": 509,
        "start_time": "2022-08-01T17:01:08.595Z"
      },
      {
        "duration": 4,
        "start_time": "2022-08-01T17:01:09.106Z"
      },
      {
        "duration": 29,
        "start_time": "2022-08-01T17:01:09.111Z"
      },
      {
        "duration": 5,
        "start_time": "2022-08-01T17:01:09.141Z"
      },
      {
        "duration": 30,
        "start_time": "2022-08-01T17:01:09.147Z"
      },
      {
        "duration": 54,
        "start_time": "2022-08-01T17:01:09.178Z"
      },
      {
        "duration": 3,
        "start_time": "2022-08-01T17:01:09.233Z"
      },
      {
        "duration": 9,
        "start_time": "2022-08-01T17:01:09.237Z"
      },
      {
        "duration": 5399,
        "start_time": "2022-08-01T17:01:09.248Z"
      },
      {
        "duration": 5,
        "start_time": "2022-08-01T17:01:14.649Z"
      },
      {
        "duration": 25,
        "start_time": "2022-08-01T17:01:14.655Z"
      },
      {
        "duration": 7,
        "start_time": "2022-08-01T17:01:14.682Z"
      },
      {
        "duration": 21,
        "start_time": "2022-08-01T17:01:14.691Z"
      },
      {
        "duration": 18,
        "start_time": "2022-08-01T17:01:14.714Z"
      },
      {
        "duration": 30,
        "start_time": "2022-08-01T17:01:14.733Z"
      },
      {
        "duration": 3,
        "start_time": "2022-08-01T17:01:14.764Z"
      },
      {
        "duration": 28,
        "start_time": "2022-08-01T17:01:14.768Z"
      },
      {
        "duration": 43,
        "start_time": "2022-08-01T17:01:14.798Z"
      },
      {
        "duration": 2,
        "start_time": "2022-08-01T17:01:14.842Z"
      },
      {
        "duration": 6,
        "start_time": "2022-08-01T17:01:14.846Z"
      },
      {
        "duration": 4,
        "start_time": "2022-08-01T17:01:14.854Z"
      },
      {
        "duration": 5,
        "start_time": "2022-08-01T17:01:14.860Z"
      },
      {
        "duration": 6,
        "start_time": "2022-08-01T17:01:14.866Z"
      },
      {
        "duration": 5,
        "start_time": "2022-08-01T17:01:14.873Z"
      },
      {
        "duration": 6,
        "start_time": "2022-08-01T17:01:14.880Z"
      },
      {
        "duration": 5,
        "start_time": "2022-08-01T17:01:14.887Z"
      },
      {
        "duration": 6,
        "start_time": "2022-08-01T17:01:14.894Z"
      },
      {
        "duration": 5,
        "start_time": "2022-08-01T17:01:14.902Z"
      },
      {
        "duration": 4,
        "start_time": "2022-08-01T17:01:14.908Z"
      },
      {
        "duration": 17,
        "start_time": "2022-08-01T17:01:14.914Z"
      },
      {
        "duration": 5,
        "start_time": "2022-08-01T17:01:14.933Z"
      },
      {
        "duration": 19,
        "start_time": "2022-08-01T17:02:09.687Z"
      },
      {
        "duration": 4,
        "start_time": "2022-08-01T17:04:59.103Z"
      },
      {
        "duration": 20,
        "start_time": "2022-08-01T17:05:02.607Z"
      },
      {
        "duration": 13,
        "start_time": "2022-08-01T17:05:41.720Z"
      },
      {
        "duration": 7,
        "start_time": "2022-08-01T17:05:55.695Z"
      },
      {
        "duration": 5,
        "start_time": "2022-08-01T17:06:00.071Z"
      },
      {
        "duration": 22,
        "start_time": "2022-08-01T17:07:25.343Z"
      },
      {
        "duration": 21,
        "start_time": "2022-08-01T17:07:56.168Z"
      },
      {
        "duration": 19,
        "start_time": "2022-08-01T17:08:39.782Z"
      },
      {
        "duration": 3,
        "start_time": "2022-08-01T17:08:51.421Z"
      },
      {
        "duration": 89,
        "start_time": "2022-08-01T17:08:51.427Z"
      },
      {
        "duration": 19,
        "start_time": "2022-08-01T17:08:51.518Z"
      },
      {
        "duration": 13,
        "start_time": "2022-08-01T17:08:51.538Z"
      },
      {
        "duration": 17,
        "start_time": "2022-08-01T17:08:51.553Z"
      },
      {
        "duration": 5,
        "start_time": "2022-08-01T17:08:51.572Z"
      },
      {
        "duration": 5,
        "start_time": "2022-08-01T17:08:51.578Z"
      },
      {
        "duration": 6,
        "start_time": "2022-08-01T17:08:51.585Z"
      },
      {
        "duration": 3,
        "start_time": "2022-08-01T17:08:51.593Z"
      },
      {
        "duration": 34,
        "start_time": "2022-08-01T17:08:51.598Z"
      },
      {
        "duration": 16,
        "start_time": "2022-08-01T17:08:51.634Z"
      },
      {
        "duration": 2,
        "start_time": "2022-08-01T17:08:51.652Z"
      },
      {
        "duration": 8,
        "start_time": "2022-08-01T17:08:51.656Z"
      },
      {
        "duration": 444,
        "start_time": "2022-08-01T17:08:51.665Z"
      },
      {
        "duration": 4,
        "start_time": "2022-08-01T17:08:52.110Z"
      },
      {
        "duration": 10,
        "start_time": "2022-08-01T17:08:52.115Z"
      },
      {
        "duration": 14,
        "start_time": "2022-08-01T17:08:52.126Z"
      },
      {
        "duration": 8,
        "start_time": "2022-08-01T17:08:52.141Z"
      },
      {
        "duration": 12,
        "start_time": "2022-08-01T17:08:52.150Z"
      },
      {
        "duration": 19,
        "start_time": "2022-08-01T17:08:52.164Z"
      },
      {
        "duration": 3,
        "start_time": "2022-08-01T17:08:52.184Z"
      },
      {
        "duration": 3,
        "start_time": "2022-08-01T17:08:52.189Z"
      },
      {
        "duration": 6,
        "start_time": "2022-08-01T17:08:52.193Z"
      },
      {
        "duration": 496,
        "start_time": "2022-08-01T17:08:52.200Z"
      },
      {
        "duration": 4,
        "start_time": "2022-08-01T17:08:52.698Z"
      },
      {
        "duration": 29,
        "start_time": "2022-08-01T17:08:52.703Z"
      },
      {
        "duration": 13,
        "start_time": "2022-08-01T17:08:52.733Z"
      },
      {
        "duration": 4,
        "start_time": "2022-08-01T17:08:52.748Z"
      },
      {
        "duration": 11,
        "start_time": "2022-08-01T17:08:52.753Z"
      },
      {
        "duration": 5,
        "start_time": "2022-08-01T17:08:52.766Z"
      },
      {
        "duration": 9,
        "start_time": "2022-08-01T17:08:52.772Z"
      },
      {
        "duration": 466,
        "start_time": "2022-08-01T17:08:52.783Z"
      },
      {
        "duration": 4,
        "start_time": "2022-08-01T17:08:53.251Z"
      },
      {
        "duration": 19,
        "start_time": "2022-08-01T17:08:53.257Z"
      },
      {
        "duration": 8,
        "start_time": "2022-08-01T17:08:53.277Z"
      },
      {
        "duration": 45,
        "start_time": "2022-08-01T17:08:53.287Z"
      },
      {
        "duration": 34,
        "start_time": "2022-08-01T17:08:53.333Z"
      },
      {
        "duration": 3,
        "start_time": "2022-08-01T17:08:53.368Z"
      },
      {
        "duration": 8,
        "start_time": "2022-08-01T17:08:53.372Z"
      },
      {
        "duration": 5313,
        "start_time": "2022-08-01T17:08:53.381Z"
      },
      {
        "duration": 5,
        "start_time": "2022-08-01T17:08:58.695Z"
      },
      {
        "duration": 20,
        "start_time": "2022-08-01T17:08:58.702Z"
      },
      {
        "duration": 11,
        "start_time": "2022-08-01T17:08:58.723Z"
      },
      {
        "duration": 20,
        "start_time": "2022-08-01T17:08:58.736Z"
      },
      {
        "duration": 4,
        "start_time": "2022-08-01T17:08:58.757Z"
      },
      {
        "duration": 28,
        "start_time": "2022-08-01T17:08:58.764Z"
      },
      {
        "duration": 2,
        "start_time": "2022-08-01T17:08:58.793Z"
      },
      {
        "duration": 43,
        "start_time": "2022-08-01T17:08:58.797Z"
      },
      {
        "duration": 18,
        "start_time": "2022-08-01T17:08:58.841Z"
      },
      {
        "duration": 17,
        "start_time": "2022-08-01T17:08:58.860Z"
      },
      {
        "duration": 2,
        "start_time": "2022-08-01T17:08:58.879Z"
      },
      {
        "duration": 4,
        "start_time": "2022-08-01T17:08:58.882Z"
      },
      {
        "duration": 4,
        "start_time": "2022-08-01T17:08:58.887Z"
      },
      {
        "duration": 3,
        "start_time": "2022-08-01T17:08:58.892Z"
      },
      {
        "duration": 5,
        "start_time": "2022-08-01T17:08:58.897Z"
      },
      {
        "duration": 3,
        "start_time": "2022-08-01T17:08:58.903Z"
      },
      {
        "duration": 2,
        "start_time": "2022-08-01T17:08:58.931Z"
      },
      {
        "duration": 5,
        "start_time": "2022-08-01T17:08:58.934Z"
      },
      {
        "duration": 7,
        "start_time": "2022-08-01T17:08:58.940Z"
      },
      {
        "duration": 6,
        "start_time": "2022-08-01T17:08:58.948Z"
      },
      {
        "duration": 6,
        "start_time": "2022-08-01T17:08:58.955Z"
      },
      {
        "duration": 5,
        "start_time": "2022-08-01T17:08:58.962Z"
      },
      {
        "duration": 24,
        "start_time": "2022-08-01T17:09:41.359Z"
      },
      {
        "duration": 9,
        "start_time": "2022-08-01T17:10:04.286Z"
      },
      {
        "duration": 7,
        "start_time": "2022-08-01T17:10:17.501Z"
      },
      {
        "duration": 5,
        "start_time": "2022-08-01T17:10:22.814Z"
      },
      {
        "duration": 11,
        "start_time": "2022-08-01T17:11:04.597Z"
      },
      {
        "duration": 9,
        "start_time": "2022-08-01T17:11:16.637Z"
      },
      {
        "duration": 25,
        "start_time": "2022-08-01T17:13:19.797Z"
      },
      {
        "duration": 9,
        "start_time": "2022-08-01T17:14:03.742Z"
      },
      {
        "duration": 10,
        "start_time": "2022-08-01T17:14:15.612Z"
      },
      {
        "duration": 9,
        "start_time": "2022-08-01T17:14:53.477Z"
      },
      {
        "duration": 9,
        "start_time": "2022-08-01T17:15:37.581Z"
      },
      {
        "duration": 7,
        "start_time": "2022-08-01T17:15:47.821Z"
      },
      {
        "duration": 6,
        "start_time": "2022-08-01T17:16:04.068Z"
      },
      {
        "duration": 6,
        "start_time": "2022-08-01T17:16:33.740Z"
      },
      {
        "duration": 10,
        "start_time": "2022-08-01T17:16:51.484Z"
      },
      {
        "duration": 22,
        "start_time": "2022-08-01T17:17:28.235Z"
      },
      {
        "duration": 20,
        "start_time": "2022-08-01T17:19:11.247Z"
      },
      {
        "duration": 24,
        "start_time": "2022-08-01T17:25:02.348Z"
      },
      {
        "duration": 31,
        "start_time": "2022-08-01T17:35:14.487Z"
      },
      {
        "duration": 28,
        "start_time": "2022-08-01T17:35:41.374Z"
      },
      {
        "duration": 14,
        "start_time": "2022-08-01T17:35:46.255Z"
      },
      {
        "duration": 10,
        "start_time": "2022-08-01T17:37:05.934Z"
      },
      {
        "duration": 8,
        "start_time": "2022-08-01T17:38:25.126Z"
      },
      {
        "duration": 4,
        "start_time": "2022-08-01T17:39:01.805Z"
      },
      {
        "duration": 12,
        "start_time": "2022-08-01T17:40:23.086Z"
      },
      {
        "duration": 4,
        "start_time": "2022-08-01T17:40:40.973Z"
      },
      {
        "duration": 11,
        "start_time": "2022-08-01T17:40:48.149Z"
      },
      {
        "duration": 5,
        "start_time": "2022-08-01T17:40:56.413Z"
      },
      {
        "duration": 4,
        "start_time": "2022-08-01T17:41:01.108Z"
      },
      {
        "duration": 3,
        "start_time": "2022-08-01T17:41:13.718Z"
      },
      {
        "duration": 5,
        "start_time": "2022-08-01T17:41:14.335Z"
      },
      {
        "duration": 7,
        "start_time": "2022-08-01T17:41:22.245Z"
      },
      {
        "duration": 14,
        "start_time": "2022-08-01T17:41:27.098Z"
      },
      {
        "duration": 5,
        "start_time": "2022-08-01T17:42:46.716Z"
      },
      {
        "duration": 11,
        "start_time": "2022-08-01T17:49:27.954Z"
      },
      {
        "duration": 12,
        "start_time": "2022-08-01T17:49:42.298Z"
      },
      {
        "duration": 3,
        "start_time": "2022-08-01T17:55:09.209Z"
      },
      {
        "duration": 4,
        "start_time": "2022-08-01T17:55:58.666Z"
      },
      {
        "duration": 5,
        "start_time": "2022-08-01T17:56:50.465Z"
      },
      {
        "duration": 29,
        "start_time": "2022-08-01T17:58:11.856Z"
      },
      {
        "duration": 19,
        "start_time": "2022-08-01T17:58:35.857Z"
      },
      {
        "duration": 19,
        "start_time": "2022-08-01T17:59:21.191Z"
      },
      {
        "duration": 13,
        "start_time": "2022-08-01T17:59:31.398Z"
      },
      {
        "duration": 22,
        "start_time": "2022-08-01T18:10:47.948Z"
      },
      {
        "duration": 178,
        "start_time": "2022-08-01T18:10:59.562Z"
      },
      {
        "duration": 136,
        "start_time": "2022-08-01T18:12:19.098Z"
      },
      {
        "duration": 146,
        "start_time": "2022-08-01T18:12:28.186Z"
      },
      {
        "duration": 231,
        "start_time": "2022-08-01T18:12:51.344Z"
      },
      {
        "duration": 177,
        "start_time": "2022-08-01T18:12:57.809Z"
      },
      {
        "duration": 12,
        "start_time": "2022-08-01T18:13:28.984Z"
      },
      {
        "duration": 14,
        "start_time": "2022-08-01T18:13:35.122Z"
      },
      {
        "duration": 146,
        "start_time": "2022-08-01T18:13:51.049Z"
      },
      {
        "duration": 140,
        "start_time": "2022-08-01T18:14:02.457Z"
      },
      {
        "duration": 141,
        "start_time": "2022-08-01T18:14:10.482Z"
      },
      {
        "duration": 144,
        "start_time": "2022-08-01T18:15:06.352Z"
      },
      {
        "duration": 192,
        "start_time": "2022-08-01T18:15:57.263Z"
      },
      {
        "duration": 134,
        "start_time": "2022-08-01T18:16:04.543Z"
      },
      {
        "duration": 146,
        "start_time": "2022-08-01T18:16:14.039Z"
      },
      {
        "duration": 154,
        "start_time": "2022-08-01T18:16:25.399Z"
      },
      {
        "duration": 171,
        "start_time": "2022-08-01T18:16:31.335Z"
      },
      {
        "duration": 4,
        "start_time": "2022-08-01T18:17:10.558Z"
      },
      {
        "duration": 142,
        "start_time": "2022-08-01T18:17:32.479Z"
      },
      {
        "duration": 43,
        "start_time": "2022-08-01T18:18:12.182Z"
      },
      {
        "duration": 8,
        "start_time": "2022-08-01T18:18:22.584Z"
      },
      {
        "duration": 171,
        "start_time": "2022-08-01T18:18:49.175Z"
      },
      {
        "duration": 1214,
        "start_time": "2022-08-01T18:19:18.301Z"
      },
      {
        "duration": 8,
        "start_time": "2022-08-01T18:19:27.391Z"
      },
      {
        "duration": 263,
        "start_time": "2022-08-01T18:19:39.581Z"
      },
      {
        "duration": 10,
        "start_time": "2022-08-01T18:20:07.589Z"
      },
      {
        "duration": 9,
        "start_time": "2022-08-01T18:20:42.870Z"
      },
      {
        "duration": 151,
        "start_time": "2022-08-01T18:20:43.373Z"
      },
      {
        "duration": 8,
        "start_time": "2022-08-01T18:20:44.070Z"
      },
      {
        "duration": 162,
        "start_time": "2022-08-01T18:20:45.004Z"
      },
      {
        "duration": 10,
        "start_time": "2022-08-01T18:20:45.544Z"
      },
      {
        "duration": 145,
        "start_time": "2022-08-01T18:20:46.109Z"
      },
      {
        "duration": 2,
        "start_time": "2022-08-01T18:20:46.715Z"
      },
      {
        "duration": 8,
        "start_time": "2022-08-01T18:21:28.461Z"
      },
      {
        "duration": 186,
        "start_time": "2022-08-01T18:22:17.747Z"
      },
      {
        "duration": 8,
        "start_time": "2022-08-01T18:25:35.555Z"
      },
      {
        "duration": 12,
        "start_time": "2022-08-01T18:26:30.460Z"
      },
      {
        "duration": 132,
        "start_time": "2022-08-01T18:26:43.819Z"
      },
      {
        "duration": 140,
        "start_time": "2022-08-01T18:49:26.076Z"
      },
      {
        "duration": 605,
        "start_time": "2022-08-01T18:53:54.146Z"
      },
      {
        "duration": 100,
        "start_time": "2022-08-01T18:53:56.545Z"
      },
      {
        "duration": 26,
        "start_time": "2022-08-01T18:54:01.030Z"
      },
      {
        "duration": 21,
        "start_time": "2022-08-01T18:54:02.125Z"
      },
      {
        "duration": 2,
        "start_time": "2022-08-01T18:54:06.673Z"
      },
      {
        "duration": 101,
        "start_time": "2022-08-01T18:54:06.679Z"
      },
      {
        "duration": 19,
        "start_time": "2022-08-01T18:54:06.782Z"
      },
      {
        "duration": 13,
        "start_time": "2022-08-01T18:54:06.802Z"
      },
      {
        "duration": 32,
        "start_time": "2022-08-01T18:54:06.817Z"
      },
      {
        "duration": 5,
        "start_time": "2022-08-01T18:54:06.850Z"
      },
      {
        "duration": 6,
        "start_time": "2022-08-01T18:54:06.857Z"
      },
      {
        "duration": 10,
        "start_time": "2022-08-01T18:54:06.864Z"
      },
      {
        "duration": 6,
        "start_time": "2022-08-01T18:54:06.875Z"
      },
      {
        "duration": 5,
        "start_time": "2022-08-01T18:54:06.882Z"
      },
      {
        "duration": 58,
        "start_time": "2022-08-01T18:54:06.889Z"
      },
      {
        "duration": 4,
        "start_time": "2022-08-01T18:54:06.949Z"
      },
      {
        "duration": 11,
        "start_time": "2022-08-01T18:54:06.954Z"
      },
      {
        "duration": 484,
        "start_time": "2022-08-01T18:54:06.967Z"
      },
      {
        "duration": 4,
        "start_time": "2022-08-01T18:54:07.453Z"
      },
      {
        "duration": 5,
        "start_time": "2022-08-01T18:54:07.458Z"
      },
      {
        "duration": 13,
        "start_time": "2022-08-01T18:54:07.465Z"
      },
      {
        "duration": 9,
        "start_time": "2022-08-01T18:54:07.479Z"
      },
      {
        "duration": 18,
        "start_time": "2022-08-01T18:54:07.490Z"
      },
      {
        "duration": 44,
        "start_time": "2022-08-01T18:54:07.509Z"
      },
      {
        "duration": 4,
        "start_time": "2022-08-01T18:54:07.554Z"
      },
      {
        "duration": 2,
        "start_time": "2022-08-01T18:54:07.561Z"
      },
      {
        "duration": 6,
        "start_time": "2022-08-01T18:54:07.565Z"
      },
      {
        "duration": 577,
        "start_time": "2022-08-01T18:54:07.573Z"
      },
      {
        "duration": 5,
        "start_time": "2022-08-01T18:54:08.151Z"
      },
      {
        "duration": 21,
        "start_time": "2022-08-01T18:54:08.157Z"
      },
      {
        "duration": 14,
        "start_time": "2022-08-01T18:54:08.179Z"
      },
      {
        "duration": 3,
        "start_time": "2022-08-01T18:54:08.195Z"
      },
      {
        "duration": 45,
        "start_time": "2022-08-01T18:54:08.199Z"
      },
      {
        "duration": 6,
        "start_time": "2022-08-01T18:54:08.246Z"
      },
      {
        "duration": 7,
        "start_time": "2022-08-01T18:54:08.253Z"
      },
      {
        "duration": 617,
        "start_time": "2022-08-01T18:54:08.261Z"
      },
      {
        "duration": 5,
        "start_time": "2022-08-01T18:54:08.880Z"
      },
      {
        "duration": 26,
        "start_time": "2022-08-01T18:54:08.887Z"
      },
      {
        "duration": 34,
        "start_time": "2022-08-01T18:54:08.915Z"
      },
      {
        "duration": 39,
        "start_time": "2022-08-01T18:54:08.950Z"
      },
      {
        "duration": 52,
        "start_time": "2022-08-01T18:54:08.991Z"
      },
      {
        "duration": 4,
        "start_time": "2022-08-01T18:54:09.048Z"
      },
      {
        "duration": 11,
        "start_time": "2022-08-01T18:54:09.054Z"
      },
      {
        "duration": 5725,
        "start_time": "2022-08-01T18:54:09.066Z"
      },
      {
        "duration": 6,
        "start_time": "2022-08-01T18:54:14.793Z"
      },
      {
        "duration": 42,
        "start_time": "2022-08-01T18:54:14.801Z"
      },
      {
        "duration": 6,
        "start_time": "2022-08-01T18:54:14.845Z"
      },
      {
        "duration": 25,
        "start_time": "2022-08-01T18:54:14.852Z"
      },
      {
        "duration": 5,
        "start_time": "2022-08-01T18:54:14.878Z"
      },
      {
        "duration": 31,
        "start_time": "2022-08-01T18:54:14.885Z"
      },
      {
        "duration": 6,
        "start_time": "2022-08-01T18:54:14.933Z"
      },
      {
        "duration": 39,
        "start_time": "2022-08-01T18:54:14.943Z"
      },
      {
        "duration": 28,
        "start_time": "2022-08-01T18:54:14.983Z"
      },
      {
        "duration": 29,
        "start_time": "2022-08-01T18:54:15.012Z"
      },
      {
        "duration": 28,
        "start_time": "2022-08-01T18:54:15.043Z"
      },
      {
        "duration": 3,
        "start_time": "2022-08-01T18:54:15.073Z"
      },
      {
        "duration": 19,
        "start_time": "2022-08-01T18:54:15.078Z"
      },
      {
        "duration": 13,
        "start_time": "2022-08-01T18:54:15.101Z"
      },
      {
        "duration": 22,
        "start_time": "2022-08-01T18:54:15.115Z"
      },
      {
        "duration": 39,
        "start_time": "2022-08-01T18:54:15.146Z"
      },
      {
        "duration": 26,
        "start_time": "2022-08-01T18:54:15.187Z"
      },
      {
        "duration": 30,
        "start_time": "2022-08-01T18:54:15.214Z"
      },
      {
        "duration": 12,
        "start_time": "2022-08-01T18:54:15.246Z"
      },
      {
        "duration": 200,
        "start_time": "2022-08-01T18:54:15.259Z"
      },
      {
        "duration": 8,
        "start_time": "2022-08-01T18:54:15.461Z"
      },
      {
        "duration": 176,
        "start_time": "2022-08-01T18:54:15.471Z"
      },
      {
        "duration": 9,
        "start_time": "2022-08-01T18:54:15.649Z"
      },
      {
        "duration": 163,
        "start_time": "2022-08-01T18:54:15.659Z"
      },
      {
        "duration": 21,
        "start_time": "2022-08-01T18:54:15.824Z"
      },
      {
        "duration": 140,
        "start_time": "2022-08-01T18:54:15.847Z"
      },
      {
        "duration": 8,
        "start_time": "2022-08-01T18:54:15.988Z"
      },
      {
        "duration": 148,
        "start_time": "2022-08-01T18:54:15.998Z"
      },
      {
        "duration": 2,
        "start_time": "2022-08-01T18:54:16.148Z"
      },
      {
        "duration": 5,
        "start_time": "2022-08-01T18:54:16.152Z"
      },
      {
        "duration": 4,
        "start_time": "2022-08-01T18:54:16.159Z"
      },
      {
        "duration": 11,
        "start_time": "2022-08-01T19:17:08.809Z"
      },
      {
        "duration": 12,
        "start_time": "2022-08-01T19:18:10.524Z"
      },
      {
        "duration": 9,
        "start_time": "2022-08-01T19:18:44.544Z"
      },
      {
        "duration": 8,
        "start_time": "2022-08-01T19:19:17.288Z"
      },
      {
        "duration": 8,
        "start_time": "2022-08-01T19:19:40.110Z"
      },
      {
        "duration": 71,
        "start_time": "2022-08-01T19:32:38.641Z"
      },
      {
        "duration": 9,
        "start_time": "2022-08-01T19:32:54.235Z"
      },
      {
        "duration": 490,
        "start_time": "2022-08-01T19:33:09.448Z"
      },
      {
        "duration": 127,
        "start_time": "2022-08-01T19:33:18.105Z"
      },
      {
        "duration": 116,
        "start_time": "2022-08-01T19:34:17.930Z"
      },
      {
        "duration": 232,
        "start_time": "2022-08-01T19:34:27.554Z"
      },
      {
        "duration": 126,
        "start_time": "2022-08-01T19:34:35.777Z"
      },
      {
        "duration": 28,
        "start_time": "2022-08-01T19:48:27.099Z"
      },
      {
        "duration": 121,
        "start_time": "2022-08-01T19:57:51.068Z"
      },
      {
        "duration": 156,
        "start_time": "2022-08-01T19:57:59.315Z"
      },
      {
        "duration": 33,
        "start_time": "2022-08-01T20:02:51.036Z"
      },
      {
        "duration": 1813,
        "start_time": "2022-08-01T20:03:20.901Z"
      },
      {
        "duration": 106,
        "start_time": "2022-08-01T20:03:33.513Z"
      },
      {
        "duration": 9,
        "start_time": "2022-08-01T20:05:05.831Z"
      },
      {
        "duration": 10,
        "start_time": "2022-08-01T20:05:11.791Z"
      },
      {
        "duration": 36,
        "start_time": "2022-08-01T20:05:41.431Z"
      },
      {
        "duration": 39,
        "start_time": "2022-08-01T20:05:45.295Z"
      },
      {
        "duration": 130,
        "start_time": "2022-08-01T20:09:05.644Z"
      },
      {
        "duration": 116,
        "start_time": "2022-08-01T20:09:41.031Z"
      },
      {
        "duration": 119,
        "start_time": "2022-08-01T20:11:53.402Z"
      },
      {
        "duration": 156,
        "start_time": "2022-08-01T20:12:17.643Z"
      },
      {
        "duration": 112,
        "start_time": "2022-08-01T20:12:23.874Z"
      },
      {
        "duration": 136,
        "start_time": "2022-08-01T20:12:34.406Z"
      },
      {
        "duration": 124,
        "start_time": "2022-08-01T20:12:54.002Z"
      },
      {
        "duration": 114,
        "start_time": "2022-08-01T20:13:05.281Z"
      },
      {
        "duration": 118,
        "start_time": "2022-08-01T20:13:11.707Z"
      },
      {
        "duration": 25,
        "start_time": "2022-08-01T20:16:02.473Z"
      },
      {
        "duration": 26,
        "start_time": "2022-08-01T20:16:22.652Z"
      },
      {
        "duration": 73,
        "start_time": "2022-08-01T20:16:55.287Z"
      },
      {
        "duration": 92,
        "start_time": "2022-08-01T20:17:10.552Z"
      },
      {
        "duration": 7,
        "start_time": "2022-08-01T20:25:28.698Z"
      },
      {
        "duration": 8,
        "start_time": "2022-08-01T20:25:49.868Z"
      },
      {
        "duration": 101,
        "start_time": "2022-08-01T20:25:59.565Z"
      },
      {
        "duration": 11,
        "start_time": "2022-08-01T20:27:14.927Z"
      },
      {
        "duration": 12,
        "start_time": "2022-08-01T20:27:33.682Z"
      },
      {
        "duration": 9,
        "start_time": "2022-08-01T20:28:28.035Z"
      },
      {
        "duration": 15,
        "start_time": "2022-08-01T20:29:09.333Z"
      },
      {
        "duration": 9,
        "start_time": "2022-08-01T20:30:10.299Z"
      },
      {
        "duration": 11,
        "start_time": "2022-08-01T20:30:52.498Z"
      },
      {
        "duration": 14,
        "start_time": "2022-08-01T20:31:03.396Z"
      },
      {
        "duration": 6,
        "start_time": "2022-08-01T20:31:27.726Z"
      },
      {
        "duration": 4,
        "start_time": "2022-08-01T20:33:58.271Z"
      },
      {
        "duration": 13,
        "start_time": "2022-08-01T20:37:39.902Z"
      },
      {
        "duration": 11,
        "start_time": "2022-08-01T20:38:16.373Z"
      },
      {
        "duration": 15,
        "start_time": "2022-08-01T20:39:23.027Z"
      },
      {
        "duration": 12,
        "start_time": "2022-08-01T20:39:30.670Z"
      },
      {
        "duration": 10,
        "start_time": "2022-08-01T20:39:58.347Z"
      },
      {
        "duration": 14,
        "start_time": "2022-08-01T20:40:10.805Z"
      },
      {
        "duration": 15,
        "start_time": "2022-08-01T20:40:18.007Z"
      },
      {
        "duration": 17,
        "start_time": "2022-08-01T20:40:35.726Z"
      },
      {
        "duration": 14,
        "start_time": "2022-08-01T20:41:12.847Z"
      },
      {
        "duration": 13,
        "start_time": "2022-08-01T20:41:40.093Z"
      },
      {
        "duration": 10,
        "start_time": "2022-08-01T20:41:45.286Z"
      },
      {
        "duration": 12,
        "start_time": "2022-08-01T20:41:52.750Z"
      },
      {
        "duration": 11,
        "start_time": "2022-08-01T20:42:09.771Z"
      },
      {
        "duration": 12,
        "start_time": "2022-08-01T20:42:40.859Z"
      },
      {
        "duration": 21,
        "start_time": "2022-08-01T20:43:16.131Z"
      },
      {
        "duration": 22,
        "start_time": "2022-08-01T20:43:21.367Z"
      },
      {
        "duration": 29,
        "start_time": "2022-08-01T20:43:39.972Z"
      },
      {
        "duration": 747,
        "start_time": "2022-08-02T13:47:54.144Z"
      },
      {
        "duration": 398,
        "start_time": "2022-08-02T13:47:54.893Z"
      },
      {
        "duration": 20,
        "start_time": "2022-08-02T13:47:55.293Z"
      },
      {
        "duration": 15,
        "start_time": "2022-08-02T13:47:55.315Z"
      },
      {
        "duration": 21,
        "start_time": "2022-08-02T13:47:55.333Z"
      },
      {
        "duration": 7,
        "start_time": "2022-08-02T13:47:55.356Z"
      },
      {
        "duration": 2,
        "start_time": "2022-08-02T13:47:55.365Z"
      },
      {
        "duration": 6,
        "start_time": "2022-08-02T13:47:55.369Z"
      },
      {
        "duration": 4,
        "start_time": "2022-08-02T13:47:55.376Z"
      },
      {
        "duration": 4,
        "start_time": "2022-08-02T13:47:55.381Z"
      },
      {
        "duration": 18,
        "start_time": "2022-08-02T13:47:55.386Z"
      },
      {
        "duration": 13,
        "start_time": "2022-08-02T13:47:55.432Z"
      },
      {
        "duration": 7,
        "start_time": "2022-08-02T13:47:55.446Z"
      },
      {
        "duration": 474,
        "start_time": "2022-08-02T13:47:55.455Z"
      },
      {
        "duration": 15,
        "start_time": "2022-08-02T13:47:55.931Z"
      },
      {
        "duration": 7,
        "start_time": "2022-08-02T13:47:55.948Z"
      },
      {
        "duration": 16,
        "start_time": "2022-08-02T13:47:55.957Z"
      },
      {
        "duration": 8,
        "start_time": "2022-08-02T13:47:55.975Z"
      },
      {
        "duration": 20,
        "start_time": "2022-08-02T13:47:55.985Z"
      },
      {
        "duration": 35,
        "start_time": "2022-08-02T13:47:56.007Z"
      },
      {
        "duration": 19,
        "start_time": "2022-08-02T13:47:56.044Z"
      },
      {
        "duration": 23,
        "start_time": "2022-08-02T13:47:56.065Z"
      },
      {
        "duration": 6,
        "start_time": "2022-08-02T13:47:56.090Z"
      },
      {
        "duration": 503,
        "start_time": "2022-08-02T13:47:56.097Z"
      },
      {
        "duration": 4,
        "start_time": "2022-08-02T13:47:56.602Z"
      },
      {
        "duration": 37,
        "start_time": "2022-08-02T13:47:56.607Z"
      },
      {
        "duration": 15,
        "start_time": "2022-08-02T13:47:56.646Z"
      },
      {
        "duration": 4,
        "start_time": "2022-08-02T13:47:56.663Z"
      },
      {
        "duration": 35,
        "start_time": "2022-08-02T13:47:56.669Z"
      },
      {
        "duration": 9,
        "start_time": "2022-08-02T13:47:56.706Z"
      },
      {
        "duration": 24,
        "start_time": "2022-08-02T13:47:56.716Z"
      },
      {
        "duration": 512,
        "start_time": "2022-08-02T13:47:56.743Z"
      },
      {
        "duration": 4,
        "start_time": "2022-08-02T13:47:57.257Z"
      },
      {
        "duration": 19,
        "start_time": "2022-08-02T13:47:57.263Z"
      },
      {
        "duration": 6,
        "start_time": "2022-08-02T13:47:57.284Z"
      },
      {
        "duration": 53,
        "start_time": "2022-08-02T13:47:57.291Z"
      },
      {
        "duration": 36,
        "start_time": "2022-08-02T13:47:57.345Z"
      },
      {
        "duration": 3,
        "start_time": "2022-08-02T13:47:57.382Z"
      },
      {
        "duration": 7,
        "start_time": "2022-08-02T13:47:57.387Z"
      },
      {
        "duration": 5750,
        "start_time": "2022-08-02T13:47:57.395Z"
      },
      {
        "duration": 6,
        "start_time": "2022-08-02T13:48:03.149Z"
      },
      {
        "duration": 24,
        "start_time": "2022-08-02T13:48:03.157Z"
      },
      {
        "duration": 11,
        "start_time": "2022-08-02T13:48:03.182Z"
      },
      {
        "duration": 22,
        "start_time": "2022-08-02T13:48:03.194Z"
      },
      {
        "duration": 26,
        "start_time": "2022-08-02T13:48:03.217Z"
      },
      {
        "duration": 27,
        "start_time": "2022-08-02T13:48:03.244Z"
      },
      {
        "duration": 2,
        "start_time": "2022-08-02T13:48:03.272Z"
      },
      {
        "duration": 26,
        "start_time": "2022-08-02T13:48:03.275Z"
      },
      {
        "duration": 39,
        "start_time": "2022-08-02T13:48:03.302Z"
      },
      {
        "duration": 15,
        "start_time": "2022-08-02T13:48:03.343Z"
      },
      {
        "duration": 29,
        "start_time": "2022-08-02T13:48:03.359Z"
      },
      {
        "duration": 2,
        "start_time": "2022-08-02T13:48:03.390Z"
      },
      {
        "duration": 15,
        "start_time": "2022-08-02T13:48:03.394Z"
      },
      {
        "duration": 13,
        "start_time": "2022-08-02T13:48:03.410Z"
      },
      {
        "duration": 7,
        "start_time": "2022-08-02T13:48:03.424Z"
      },
      {
        "duration": 41,
        "start_time": "2022-08-02T13:48:03.436Z"
      },
      {
        "duration": 20,
        "start_time": "2022-08-02T13:48:03.479Z"
      },
      {
        "duration": 13,
        "start_time": "2022-08-02T13:48:03.500Z"
      },
      {
        "duration": 174,
        "start_time": "2022-08-02T13:48:03.514Z"
      },
      {
        "duration": 170,
        "start_time": "2022-08-02T13:48:03.690Z"
      },
      {
        "duration": 185,
        "start_time": "2022-08-02T13:48:03.862Z"
      },
      {
        "duration": 134,
        "start_time": "2022-08-02T13:48:04.049Z"
      },
      {
        "duration": 136,
        "start_time": "2022-08-02T13:48:04.185Z"
      },
      {
        "duration": 2,
        "start_time": "2022-08-02T13:48:04.323Z"
      },
      {
        "duration": 131,
        "start_time": "2022-08-02T13:48:04.326Z"
      },
      {
        "duration": 129,
        "start_time": "2022-08-02T13:48:04.459Z"
      },
      {
        "duration": 116,
        "start_time": "2022-08-02T13:48:04.589Z"
      },
      {
        "duration": 39,
        "start_time": "2022-08-02T13:48:04.706Z"
      },
      {
        "duration": 174,
        "start_time": "2022-08-02T13:52:15.275Z"
      },
      {
        "duration": 246,
        "start_time": "2022-08-02T13:53:21.624Z"
      },
      {
        "duration": 1323,
        "start_time": "2022-08-02T13:55:27.129Z"
      },
      {
        "duration": 200,
        "start_time": "2022-08-02T13:55:38.744Z"
      },
      {
        "duration": 195,
        "start_time": "2022-08-02T13:58:21.125Z"
      },
      {
        "duration": 162,
        "start_time": "2022-08-02T13:59:21.635Z"
      },
      {
        "duration": 156,
        "start_time": "2022-08-02T13:59:35.696Z"
      },
      {
        "duration": 187,
        "start_time": "2022-08-02T13:59:53.242Z"
      },
      {
        "duration": 5,
        "start_time": "2022-08-02T14:10:14.943Z"
      },
      {
        "duration": 15,
        "start_time": "2022-08-02T14:10:57.744Z"
      },
      {
        "duration": 9,
        "start_time": "2022-08-02T14:11:27.878Z"
      },
      {
        "duration": 11,
        "start_time": "2022-08-02T14:11:33.565Z"
      },
      {
        "duration": 13,
        "start_time": "2022-08-02T14:12:15.127Z"
      },
      {
        "duration": 10,
        "start_time": "2022-08-02T14:12:25.661Z"
      },
      {
        "duration": 22,
        "start_time": "2022-08-02T14:16:05.928Z"
      },
      {
        "duration": 53,
        "start_time": "2022-08-02T14:17:21.461Z"
      },
      {
        "duration": 10,
        "start_time": "2022-08-02T14:19:01.451Z"
      },
      {
        "duration": 11,
        "start_time": "2022-08-02T14:19:15.794Z"
      },
      {
        "duration": 4,
        "start_time": "2022-08-02T14:21:01.653Z"
      },
      {
        "duration": 9,
        "start_time": "2022-08-02T14:21:13.587Z"
      },
      {
        "duration": 9,
        "start_time": "2022-08-02T14:21:16.958Z"
      },
      {
        "duration": 10,
        "start_time": "2022-08-02T14:21:32.268Z"
      },
      {
        "duration": 9,
        "start_time": "2022-08-02T14:21:54.343Z"
      },
      {
        "duration": 16,
        "start_time": "2022-08-02T14:25:11.134Z"
      },
      {
        "duration": 5,
        "start_time": "2022-08-02T14:26:01.065Z"
      },
      {
        "duration": 59,
        "start_time": "2022-08-02T14:28:58.526Z"
      },
      {
        "duration": 47,
        "start_time": "2022-08-02T14:32:34.147Z"
      },
      {
        "duration": 45,
        "start_time": "2022-08-02T14:33:24.624Z"
      },
      {
        "duration": 51,
        "start_time": "2022-08-02T14:36:07.751Z"
      },
      {
        "duration": 23,
        "start_time": "2022-08-02T14:36:42.182Z"
      },
      {
        "duration": 24,
        "start_time": "2022-08-02T14:37:58.038Z"
      },
      {
        "duration": 5,
        "start_time": "2022-08-02T14:42:40.173Z"
      },
      {
        "duration": 9,
        "start_time": "2022-08-02T14:45:22.935Z"
      },
      {
        "duration": 14,
        "start_time": "2022-08-02T14:45:46.470Z"
      },
      {
        "duration": 4,
        "start_time": "2022-08-02T14:47:12.623Z"
      },
      {
        "duration": 12,
        "start_time": "2022-08-02T14:47:16.557Z"
      },
      {
        "duration": 7,
        "start_time": "2022-08-02T14:47:49.152Z"
      },
      {
        "duration": 24,
        "start_time": "2022-08-02T14:54:55.038Z"
      },
      {
        "duration": 68,
        "start_time": "2022-08-02T14:55:28.370Z"
      },
      {
        "duration": 25,
        "start_time": "2022-08-02T14:55:40.127Z"
      },
      {
        "duration": 26,
        "start_time": "2022-08-02T14:56:36.830Z"
      },
      {
        "duration": 24,
        "start_time": "2022-08-02T14:56:41.451Z"
      },
      {
        "duration": 10,
        "start_time": "2022-08-02T14:56:50.865Z"
      },
      {
        "duration": 8,
        "start_time": "2022-08-02T14:56:51.836Z"
      },
      {
        "duration": 8,
        "start_time": "2022-08-02T14:57:00.785Z"
      },
      {
        "duration": 50,
        "start_time": "2022-08-02T14:57:02.333Z"
      },
      {
        "duration": 6,
        "start_time": "2022-08-02T14:57:15.287Z"
      },
      {
        "duration": 25,
        "start_time": "2022-08-02T14:58:06.825Z"
      },
      {
        "duration": 9,
        "start_time": "2022-08-02T14:58:26.746Z"
      },
      {
        "duration": 33,
        "start_time": "2022-08-02T14:59:06.251Z"
      },
      {
        "duration": 7,
        "start_time": "2022-08-02T14:59:13.074Z"
      },
      {
        "duration": 7,
        "start_time": "2022-08-02T15:01:07.423Z"
      },
      {
        "duration": 10,
        "start_time": "2022-08-02T15:01:42.677Z"
      },
      {
        "duration": 78,
        "start_time": "2022-08-02T15:03:42.723Z"
      },
      {
        "duration": 8,
        "start_time": "2022-08-02T15:05:35.521Z"
      },
      {
        "duration": 10,
        "start_time": "2022-08-02T15:06:36.126Z"
      },
      {
        "duration": 8,
        "start_time": "2022-08-02T15:08:10.918Z"
      },
      {
        "duration": 8,
        "start_time": "2022-08-02T15:08:42.923Z"
      },
      {
        "duration": 8,
        "start_time": "2022-08-02T15:08:48.766Z"
      },
      {
        "duration": 17,
        "start_time": "2022-08-02T15:14:28.044Z"
      },
      {
        "duration": 9,
        "start_time": "2022-08-02T15:14:33.914Z"
      },
      {
        "duration": 10,
        "start_time": "2022-08-02T15:14:40.221Z"
      },
      {
        "duration": 25,
        "start_time": "2022-08-02T15:14:51.524Z"
      },
      {
        "duration": 7,
        "start_time": "2022-08-02T15:15:02.221Z"
      },
      {
        "duration": 18,
        "start_time": "2022-08-02T15:15:22.869Z"
      },
      {
        "duration": 9,
        "start_time": "2022-08-02T15:15:28.668Z"
      },
      {
        "duration": 25,
        "start_time": "2022-08-02T15:15:36.229Z"
      },
      {
        "duration": 8,
        "start_time": "2022-08-02T15:15:41.125Z"
      },
      {
        "duration": 9,
        "start_time": "2022-08-02T15:16:24.224Z"
      },
      {
        "duration": 7,
        "start_time": "2022-08-02T15:17:00.516Z"
      },
      {
        "duration": 9,
        "start_time": "2022-08-02T15:17:12.435Z"
      },
      {
        "duration": 92,
        "start_time": "2022-08-02T15:22:29.025Z"
      },
      {
        "duration": 6,
        "start_time": "2022-08-02T15:26:20.512Z"
      },
      {
        "duration": 7,
        "start_time": "2022-08-02T15:26:37.921Z"
      },
      {
        "duration": 6,
        "start_time": "2022-08-02T15:27:17.406Z"
      },
      {
        "duration": 5,
        "start_time": "2022-08-02T15:27:18.306Z"
      },
      {
        "duration": 7,
        "start_time": "2022-08-02T15:27:42.831Z"
      },
      {
        "duration": 8,
        "start_time": "2022-08-02T15:27:46.607Z"
      },
      {
        "duration": 7,
        "start_time": "2022-08-02T15:27:59.819Z"
      },
      {
        "duration": 6,
        "start_time": "2022-08-02T15:28:40.528Z"
      },
      {
        "duration": 8,
        "start_time": "2022-08-02T15:29:04.308Z"
      },
      {
        "duration": 7,
        "start_time": "2022-08-02T15:30:31.464Z"
      },
      {
        "duration": 7,
        "start_time": "2022-08-02T15:30:57.519Z"
      },
      {
        "duration": 8,
        "start_time": "2022-08-02T15:31:11.781Z"
      },
      {
        "duration": 9,
        "start_time": "2022-08-02T15:31:30.214Z"
      },
      {
        "duration": 5,
        "start_time": "2022-08-02T15:37:11.365Z"
      },
      {
        "duration": 6,
        "start_time": "2022-08-02T15:37:23.124Z"
      },
      {
        "duration": 24,
        "start_time": "2022-08-02T15:37:32.660Z"
      },
      {
        "duration": 106,
        "start_time": "2022-08-02T15:37:58.037Z"
      },
      {
        "duration": 7,
        "start_time": "2022-08-02T15:38:28.854Z"
      },
      {
        "duration": 27,
        "start_time": "2022-08-02T15:38:35.379Z"
      },
      {
        "duration": 16,
        "start_time": "2022-08-02T15:38:58.758Z"
      },
      {
        "duration": 14,
        "start_time": "2022-08-02T15:39:17.877Z"
      },
      {
        "duration": 15,
        "start_time": "2022-08-02T15:39:38.083Z"
      },
      {
        "duration": 16,
        "start_time": "2022-08-02T15:39:42.019Z"
      },
      {
        "duration": 5,
        "start_time": "2022-08-02T15:41:25.923Z"
      },
      {
        "duration": 6,
        "start_time": "2022-08-02T15:41:47.122Z"
      },
      {
        "duration": 19,
        "start_time": "2022-08-02T15:41:59.816Z"
      },
      {
        "duration": 17,
        "start_time": "2022-08-02T15:42:45.747Z"
      },
      {
        "duration": 5,
        "start_time": "2022-08-02T15:43:12.754Z"
      },
      {
        "duration": 6,
        "start_time": "2022-08-02T15:44:09.249Z"
      },
      {
        "duration": 25,
        "start_time": "2022-08-02T15:44:48.419Z"
      },
      {
        "duration": 15,
        "start_time": "2022-08-02T15:45:12.470Z"
      },
      {
        "duration": 5,
        "start_time": "2022-08-02T16:01:11.229Z"
      },
      {
        "duration": 5,
        "start_time": "2022-08-02T16:42:37.430Z"
      },
      {
        "duration": 10,
        "start_time": "2022-08-02T16:43:26.358Z"
      },
      {
        "duration": 2,
        "start_time": "2022-08-02T16:43:35.262Z"
      },
      {
        "duration": 96,
        "start_time": "2022-08-02T16:43:35.266Z"
      },
      {
        "duration": 21,
        "start_time": "2022-08-02T16:43:35.364Z"
      },
      {
        "duration": 12,
        "start_time": "2022-08-02T16:43:35.387Z"
      },
      {
        "duration": 30,
        "start_time": "2022-08-02T16:43:35.402Z"
      },
      {
        "duration": 6,
        "start_time": "2022-08-02T16:43:35.433Z"
      },
      {
        "duration": 3,
        "start_time": "2022-08-02T16:43:35.441Z"
      },
      {
        "duration": 5,
        "start_time": "2022-08-02T16:43:35.446Z"
      },
      {
        "duration": 5,
        "start_time": "2022-08-02T16:43:35.453Z"
      },
      {
        "duration": 6,
        "start_time": "2022-08-02T16:43:35.460Z"
      },
      {
        "duration": 21,
        "start_time": "2022-08-02T16:43:35.467Z"
      },
      {
        "duration": 3,
        "start_time": "2022-08-02T16:43:35.490Z"
      },
      {
        "duration": 40,
        "start_time": "2022-08-02T16:43:35.494Z"
      },
      {
        "duration": 465,
        "start_time": "2022-08-02T16:43:35.536Z"
      },
      {
        "duration": 5,
        "start_time": "2022-08-02T16:43:36.003Z"
      },
      {
        "duration": 21,
        "start_time": "2022-08-02T16:43:36.010Z"
      },
      {
        "duration": 14,
        "start_time": "2022-08-02T16:43:36.034Z"
      },
      {
        "duration": 5,
        "start_time": "2022-08-02T16:43:36.050Z"
      },
      {
        "duration": 13,
        "start_time": "2022-08-02T16:43:36.057Z"
      },
      {
        "duration": 22,
        "start_time": "2022-08-02T16:43:36.072Z"
      },
      {
        "duration": 5,
        "start_time": "2022-08-02T16:43:36.130Z"
      },
      {
        "duration": 4,
        "start_time": "2022-08-02T16:43:36.137Z"
      },
      {
        "duration": 7,
        "start_time": "2022-08-02T16:43:36.143Z"
      },
      {
        "duration": 535,
        "start_time": "2022-08-02T16:43:36.152Z"
      },
      {
        "duration": 6,
        "start_time": "2022-08-02T16:43:36.689Z"
      },
      {
        "duration": 23,
        "start_time": "2022-08-02T16:43:36.696Z"
      },
      {
        "duration": 15,
        "start_time": "2022-08-02T16:43:36.732Z"
      },
      {
        "duration": 3,
        "start_time": "2022-08-02T16:43:36.752Z"
      },
      {
        "duration": 14,
        "start_time": "2022-08-02T16:43:36.757Z"
      },
      {
        "duration": 4,
        "start_time": "2022-08-02T16:43:36.772Z"
      },
      {
        "duration": 13,
        "start_time": "2022-08-02T16:43:36.777Z"
      },
      {
        "duration": 568,
        "start_time": "2022-08-02T16:43:36.792Z"
      },
      {
        "duration": 5,
        "start_time": "2022-08-02T16:43:37.361Z"
      },
      {
        "duration": 23,
        "start_time": "2022-08-02T16:43:37.368Z"
      },
      {
        "duration": 7,
        "start_time": "2022-08-02T16:43:37.393Z"
      },
      {
        "duration": 51,
        "start_time": "2022-08-02T16:43:37.402Z"
      },
      {
        "duration": 136,
        "start_time": "2022-08-02T16:43:37.455Z"
      },
      {
        "duration": 4,
        "start_time": "2022-08-02T16:43:37.593Z"
      },
      {
        "duration": 18,
        "start_time": "2022-08-02T16:43:37.599Z"
      },
      {
        "duration": 5715,
        "start_time": "2022-08-02T16:43:37.619Z"
      },
      {
        "duration": 5,
        "start_time": "2022-08-02T16:43:43.335Z"
      },
      {
        "duration": 22,
        "start_time": "2022-08-02T16:43:43.342Z"
      },
      {
        "duration": 7,
        "start_time": "2022-08-02T16:43:43.365Z"
      },
      {
        "duration": 21,
        "start_time": "2022-08-02T16:43:43.374Z"
      },
      {
        "duration": 5,
        "start_time": "2022-08-02T16:43:43.396Z"
      },
      {
        "duration": 49,
        "start_time": "2022-08-02T16:43:43.402Z"
      },
      {
        "duration": 2,
        "start_time": "2022-08-02T16:43:43.453Z"
      },
      {
        "duration": 26,
        "start_time": "2022-08-02T16:43:43.457Z"
      },
      {
        "duration": 19,
        "start_time": "2022-08-02T16:43:43.486Z"
      },
      {
        "duration": 36,
        "start_time": "2022-08-02T16:43:43.506Z"
      },
      {
        "duration": 24,
        "start_time": "2022-08-02T16:43:43.543Z"
      },
      {
        "duration": 3,
        "start_time": "2022-08-02T16:43:43.569Z"
      },
      {
        "duration": 6,
        "start_time": "2022-08-02T16:43:43.573Z"
      },
      {
        "duration": 9,
        "start_time": "2022-08-02T16:43:43.581Z"
      },
      {
        "duration": 4,
        "start_time": "2022-08-02T16:43:43.592Z"
      },
      {
        "duration": 55,
        "start_time": "2022-08-02T16:43:43.598Z"
      },
      {
        "duration": 18,
        "start_time": "2022-08-02T16:43:43.654Z"
      },
      {
        "duration": 12,
        "start_time": "2022-08-02T16:43:43.674Z"
      },
      {
        "duration": 170,
        "start_time": "2022-08-02T16:43:43.688Z"
      },
      {
        "duration": 161,
        "start_time": "2022-08-02T16:43:43.859Z"
      },
      {
        "duration": 164,
        "start_time": "2022-08-02T16:43:44.025Z"
      },
      {
        "duration": 143,
        "start_time": "2022-08-02T16:43:44.191Z"
      },
      {
        "duration": 133,
        "start_time": "2022-08-02T16:43:44.336Z"
      },
      {
        "duration": 2,
        "start_time": "2022-08-02T16:43:44.471Z"
      },
      {
        "duration": 163,
        "start_time": "2022-08-02T16:43:44.474Z"
      },
      {
        "duration": 123,
        "start_time": "2022-08-02T16:43:44.639Z"
      },
      {
        "duration": 124,
        "start_time": "2022-08-02T16:43:44.764Z"
      },
      {
        "duration": 70,
        "start_time": "2022-08-02T16:43:44.889Z"
      },
      {
        "duration": 303,
        "start_time": "2022-08-02T16:43:44.961Z"
      },
      {
        "duration": 321,
        "start_time": "2022-08-02T16:43:45.265Z"
      },
      {
        "duration": 167,
        "start_time": "2022-08-02T16:43:45.587Z"
      },
      {
        "duration": 8,
        "start_time": "2022-08-02T16:43:45.755Z"
      },
      {
        "duration": 6,
        "start_time": "2022-08-02T16:43:45.764Z"
      },
      {
        "duration": 10,
        "start_time": "2022-08-02T16:43:45.772Z"
      },
      {
        "duration": 7,
        "start_time": "2022-08-02T16:43:45.783Z"
      },
      {
        "duration": 9,
        "start_time": "2022-08-02T16:43:45.792Z"
      },
      {
        "duration": 9,
        "start_time": "2022-08-02T16:43:45.802Z"
      },
      {
        "duration": 9,
        "start_time": "2022-08-02T16:43:45.831Z"
      },
      {
        "duration": 6,
        "start_time": "2022-08-02T16:43:45.841Z"
      },
      {
        "duration": 7,
        "start_time": "2022-08-02T16:43:45.848Z"
      },
      {
        "duration": 6,
        "start_time": "2022-08-02T16:43:45.856Z"
      },
      {
        "duration": 5,
        "start_time": "2022-08-02T16:43:45.863Z"
      },
      {
        "duration": 6,
        "start_time": "2022-08-02T16:43:45.870Z"
      },
      {
        "duration": 6,
        "start_time": "2022-08-02T16:43:45.878Z"
      },
      {
        "duration": 46,
        "start_time": "2022-08-02T16:43:45.885Z"
      },
      {
        "duration": 6,
        "start_time": "2022-08-02T16:43:45.933Z"
      },
      {
        "duration": 8,
        "start_time": "2022-08-02T16:43:45.941Z"
      },
      {
        "duration": 9,
        "start_time": "2022-08-02T16:43:45.950Z"
      },
      {
        "duration": 10,
        "start_time": "2022-08-02T16:43:45.961Z"
      },
      {
        "duration": 0,
        "start_time": "2022-08-02T16:43:45.972Z"
      },
      {
        "duration": 0,
        "start_time": "2022-08-02T16:43:45.974Z"
      },
      {
        "duration": 0,
        "start_time": "2022-08-02T16:43:45.975Z"
      },
      {
        "duration": 0,
        "start_time": "2022-08-02T16:43:45.976Z"
      },
      {
        "duration": 10,
        "start_time": "2022-08-02T16:44:36.829Z"
      },
      {
        "duration": 17,
        "start_time": "2022-08-02T16:44:45.625Z"
      },
      {
        "duration": 7,
        "start_time": "2022-08-02T16:45:04.066Z"
      },
      {
        "duration": 5,
        "start_time": "2022-08-02T16:45:06.067Z"
      },
      {
        "duration": 6,
        "start_time": "2022-08-02T16:45:09.562Z"
      },
      {
        "duration": 5,
        "start_time": "2022-08-02T16:46:35.322Z"
      },
      {
        "duration": 8,
        "start_time": "2022-08-02T16:46:41.018Z"
      },
      {
        "duration": 17,
        "start_time": "2022-08-02T16:47:12.779Z"
      },
      {
        "duration": 7,
        "start_time": "2022-08-02T16:48:54.149Z"
      },
      {
        "duration": 5,
        "start_time": "2022-08-02T16:49:26.423Z"
      },
      {
        "duration": 6,
        "start_time": "2022-08-02T16:49:52.023Z"
      },
      {
        "duration": 5,
        "start_time": "2022-08-02T16:53:06.530Z"
      },
      {
        "duration": 9,
        "start_time": "2022-08-02T17:07:16.322Z"
      },
      {
        "duration": 9,
        "start_time": "2022-08-02T17:07:26.441Z"
      },
      {
        "duration": 8,
        "start_time": "2022-08-02T17:07:32.159Z"
      },
      {
        "duration": 8,
        "start_time": "2022-08-02T17:07:37.975Z"
      },
      {
        "duration": 8,
        "start_time": "2022-08-02T17:07:47.465Z"
      },
      {
        "duration": 11,
        "start_time": "2022-08-02T17:07:53.626Z"
      },
      {
        "duration": 8,
        "start_time": "2022-08-02T17:08:00.070Z"
      },
      {
        "duration": 6,
        "start_time": "2022-08-02T17:08:12.879Z"
      },
      {
        "duration": 5,
        "start_time": "2022-08-02T17:08:15.723Z"
      },
      {
        "duration": 7,
        "start_time": "2022-08-02T17:08:17.229Z"
      },
      {
        "duration": 7,
        "start_time": "2022-08-02T17:08:20.094Z"
      },
      {
        "duration": 7,
        "start_time": "2022-08-02T17:08:21.423Z"
      },
      {
        "duration": 7,
        "start_time": "2022-08-02T17:08:28.926Z"
      },
      {
        "duration": 7,
        "start_time": "2022-08-02T17:08:29.646Z"
      },
      {
        "duration": 7,
        "start_time": "2022-08-02T17:08:30.631Z"
      },
      {
        "duration": 7,
        "start_time": "2022-08-02T17:08:35.662Z"
      },
      {
        "duration": 17,
        "start_time": "2022-08-02T17:08:43.375Z"
      },
      {
        "duration": 7,
        "start_time": "2022-08-02T17:08:51.335Z"
      },
      {
        "duration": 5,
        "start_time": "2022-08-02T17:08:55.678Z"
      },
      {
        "duration": 6,
        "start_time": "2022-08-02T17:08:59.526Z"
      },
      {
        "duration": 7,
        "start_time": "2022-08-02T17:09:03.618Z"
      },
      {
        "duration": 16,
        "start_time": "2022-08-02T17:09:11.872Z"
      },
      {
        "duration": 6,
        "start_time": "2022-08-02T17:09:15.526Z"
      },
      {
        "duration": 6,
        "start_time": "2022-08-02T17:09:19.597Z"
      },
      {
        "duration": 157,
        "start_time": "2022-08-02T17:11:07.425Z"
      },
      {
        "duration": 142,
        "start_time": "2022-08-02T17:11:38.262Z"
      },
      {
        "duration": 222,
        "start_time": "2022-08-02T17:12:27.424Z"
      },
      {
        "duration": 115,
        "start_time": "2022-08-02T17:15:08.254Z"
      },
      {
        "duration": 130,
        "start_time": "2022-08-02T17:16:51.173Z"
      },
      {
        "duration": 234,
        "start_time": "2022-08-02T17:16:55.652Z"
      },
      {
        "duration": 343,
        "start_time": "2022-08-02T17:19:41.547Z"
      },
      {
        "duration": 127,
        "start_time": "2022-08-02T17:19:59.029Z"
      },
      {
        "duration": 141,
        "start_time": "2022-08-02T17:20:10.883Z"
      },
      {
        "duration": 391,
        "start_time": "2022-08-02T17:51:51.339Z"
      },
      {
        "duration": 1026,
        "start_time": "2022-08-02T17:53:08.395Z"
      },
      {
        "duration": 477,
        "start_time": "2022-08-02T17:53:19.762Z"
      },
      {
        "duration": 559,
        "start_time": "2022-08-02T17:54:05.242Z"
      },
      {
        "duration": 892,
        "start_time": "2022-08-02T17:54:23.177Z"
      },
      {
        "duration": 1168,
        "start_time": "2022-08-02T17:55:38.538Z"
      },
      {
        "duration": 1024,
        "start_time": "2022-08-02T17:55:49.546Z"
      },
      {
        "duration": 581,
        "start_time": "2022-08-02T17:56:03.169Z"
      },
      {
        "duration": 730,
        "start_time": "2022-08-02T17:56:31.840Z"
      },
      {
        "duration": 30,
        "start_time": "2022-08-02T18:06:21.078Z"
      },
      {
        "duration": 32,
        "start_time": "2022-08-02T18:06:34.052Z"
      },
      {
        "duration": 219,
        "start_time": "2022-08-02T18:07:32.428Z"
      },
      {
        "duration": 71,
        "start_time": "2022-08-02T18:07:52.236Z"
      },
      {
        "duration": 183,
        "start_time": "2022-08-02T18:08:05.195Z"
      },
      {
        "duration": 81,
        "start_time": "2022-08-02T18:08:29.763Z"
      },
      {
        "duration": 189,
        "start_time": "2022-08-02T18:08:48.529Z"
      },
      {
        "duration": 236,
        "start_time": "2022-08-02T18:09:07.475Z"
      },
      {
        "duration": 197,
        "start_time": "2022-08-02T18:09:22.591Z"
      },
      {
        "duration": 32,
        "start_time": "2022-08-02T18:10:01.037Z"
      },
      {
        "duration": 225,
        "start_time": "2022-08-02T18:10:08.929Z"
      },
      {
        "duration": 496,
        "start_time": "2022-08-02T18:10:22.629Z"
      },
      {
        "duration": 331,
        "start_time": "2022-08-02T18:10:31.306Z"
      },
      {
        "duration": 197,
        "start_time": "2022-08-02T18:10:40.934Z"
      },
      {
        "duration": 188,
        "start_time": "2022-08-02T18:11:20.676Z"
      },
      {
        "duration": 327,
        "start_time": "2022-08-02T18:11:43.830Z"
      },
      {
        "duration": 219,
        "start_time": "2022-08-02T18:11:57.188Z"
      },
      {
        "duration": 187,
        "start_time": "2022-08-02T18:12:08.130Z"
      },
      {
        "duration": 191,
        "start_time": "2022-08-02T18:14:04.092Z"
      },
      {
        "duration": 155,
        "start_time": "2022-08-02T18:15:50.753Z"
      },
      {
        "duration": 179,
        "start_time": "2022-08-02T18:16:12.374Z"
      },
      {
        "duration": 218,
        "start_time": "2022-08-02T18:16:21.929Z"
      },
      {
        "duration": 166,
        "start_time": "2022-08-02T18:16:33.280Z"
      },
      {
        "duration": 529,
        "start_time": "2022-08-02T18:51:16.244Z"
      },
      {
        "duration": 190,
        "start_time": "2022-08-02T18:51:36.760Z"
      },
      {
        "duration": 658,
        "start_time": "2022-08-02T18:55:05.877Z"
      },
      {
        "duration": 629,
        "start_time": "2022-08-02T18:56:14.633Z"
      },
      {
        "duration": 727,
        "start_time": "2022-08-02T18:56:29.061Z"
      },
      {
        "duration": 642,
        "start_time": "2022-08-02T18:59:46.044Z"
      },
      {
        "duration": 792,
        "start_time": "2022-08-02T19:00:37.781Z"
      },
      {
        "duration": 716,
        "start_time": "2022-08-02T19:00:46.629Z"
      },
      {
        "duration": 6,
        "start_time": "2022-08-02T19:01:00.933Z"
      },
      {
        "duration": 1032,
        "start_time": "2022-08-02T19:01:04.078Z"
      },
      {
        "duration": 17,
        "start_time": "2022-08-02T19:18:29.425Z"
      },
      {
        "duration": 811,
        "start_time": "2022-08-02T19:20:23.732Z"
      },
      {
        "duration": 748,
        "start_time": "2022-08-02T19:20:50.295Z"
      },
      {
        "duration": 882,
        "start_time": "2022-08-02T19:21:37.078Z"
      },
      {
        "duration": 6,
        "start_time": "2022-08-02T19:27:39.708Z"
      },
      {
        "duration": 6,
        "start_time": "2022-08-02T19:28:05.028Z"
      },
      {
        "duration": 25,
        "start_time": "2022-08-02T19:30:51.542Z"
      },
      {
        "duration": 13,
        "start_time": "2022-08-02T19:30:57.950Z"
      },
      {
        "duration": 16,
        "start_time": "2022-08-02T19:45:24.577Z"
      },
      {
        "duration": 77,
        "start_time": "2022-08-02T19:48:41.190Z"
      },
      {
        "duration": 8,
        "start_time": "2022-08-02T19:48:57.713Z"
      },
      {
        "duration": 14,
        "start_time": "2022-08-02T19:53:50.781Z"
      },
      {
        "duration": 25,
        "start_time": "2022-08-02T19:54:15.736Z"
      },
      {
        "duration": 1336,
        "start_time": "2022-08-02T19:55:56.233Z"
      },
      {
        "duration": 1213,
        "start_time": "2022-08-02T19:56:31.654Z"
      },
      {
        "duration": 215,
        "start_time": "2022-08-02T19:57:02.233Z"
      },
      {
        "duration": 315,
        "start_time": "2022-08-02T20:00:37.178Z"
      },
      {
        "duration": 4,
        "start_time": "2022-08-02T20:01:18.644Z"
      },
      {
        "duration": 23,
        "start_time": "2022-08-02T20:02:19.512Z"
      },
      {
        "duration": 24,
        "start_time": "2022-08-02T20:02:39.137Z"
      },
      {
        "duration": 4,
        "start_time": "2022-08-02T20:02:45.499Z"
      },
      {
        "duration": 18,
        "start_time": "2022-08-02T20:03:51.900Z"
      },
      {
        "duration": 24,
        "start_time": "2022-08-02T20:03:58.258Z"
      },
      {
        "duration": 34,
        "start_time": "2022-08-02T20:04:50.828Z"
      },
      {
        "duration": 25,
        "start_time": "2022-08-02T20:05:31.267Z"
      },
      {
        "duration": 127,
        "start_time": "2022-08-02T20:07:24.986Z"
      },
      {
        "duration": 7,
        "start_time": "2022-08-02T21:15:51.496Z"
      },
      {
        "duration": 27,
        "start_time": "2022-08-02T21:19:27.862Z"
      },
      {
        "duration": 26,
        "start_time": "2022-08-02T21:26:15.173Z"
      },
      {
        "duration": 119,
        "start_time": "2022-08-02T21:34:04.480Z"
      },
      {
        "duration": 14,
        "start_time": "2022-08-02T21:35:17.844Z"
      },
      {
        "duration": 6,
        "start_time": "2022-08-02T21:38:27.975Z"
      },
      {
        "duration": 6,
        "start_time": "2022-08-02T21:38:43.571Z"
      },
      {
        "duration": 15141,
        "start_time": "2022-08-02T22:57:23.380Z"
      },
      {
        "duration": 11,
        "start_time": "2022-08-02T23:07:18.433Z"
      },
      {
        "duration": 11,
        "start_time": "2022-08-02T23:08:45.135Z"
      },
      {
        "duration": 12,
        "start_time": "2022-08-02T23:08:57.190Z"
      },
      {
        "duration": 12,
        "start_time": "2022-08-02T23:09:54.791Z"
      },
      {
        "duration": 15,
        "start_time": "2022-08-02T23:10:05.132Z"
      },
      {
        "duration": 2357,
        "start_time": "2022-08-02T23:11:06.340Z"
      },
      {
        "duration": 13,
        "start_time": "2022-08-02T23:14:30.598Z"
      },
      {
        "duration": 2464,
        "start_time": "2022-08-02T23:14:35.329Z"
      },
      {
        "duration": 8,
        "start_time": "2022-08-02T23:22:16.978Z"
      },
      {
        "duration": 115,
        "start_time": "2022-08-02T23:31:33.195Z"
      },
      {
        "duration": 59,
        "start_time": "2022-08-02T23:31:40.802Z"
      },
      {
        "duration": 3,
        "start_time": "2022-08-02T23:33:12.531Z"
      },
      {
        "duration": 31,
        "start_time": "2022-08-02T23:33:18.474Z"
      },
      {
        "duration": 23,
        "start_time": "2022-08-02T23:34:36.059Z"
      },
      {
        "duration": 23,
        "start_time": "2022-08-02T23:35:40.632Z"
      },
      {
        "duration": 22,
        "start_time": "2022-08-02T23:36:10.068Z"
      },
      {
        "duration": 16,
        "start_time": "2022-08-02T23:57:19.732Z"
      },
      {
        "duration": 23,
        "start_time": "2022-08-02T23:57:41.235Z"
      },
      {
        "duration": 22,
        "start_time": "2022-08-02T23:57:44.898Z"
      },
      {
        "duration": 8,
        "start_time": "2022-08-02T23:58:06.897Z"
      },
      {
        "duration": 7,
        "start_time": "2022-08-03T00:00:22.135Z"
      },
      {
        "duration": 5,
        "start_time": "2022-08-03T00:00:35.095Z"
      },
      {
        "duration": 4,
        "start_time": "2022-08-03T00:00:45.760Z"
      },
      {
        "duration": 8,
        "start_time": "2022-08-03T00:01:04.026Z"
      },
      {
        "duration": 24,
        "start_time": "2022-08-03T00:32:17.719Z"
      },
      {
        "duration": 23,
        "start_time": "2022-08-03T00:32:32.487Z"
      },
      {
        "duration": 193,
        "start_time": "2022-08-03T00:39:00.427Z"
      },
      {
        "duration": 241,
        "start_time": "2022-08-03T00:42:10.496Z"
      },
      {
        "duration": 24,
        "start_time": "2022-08-03T00:46:14.880Z"
      },
      {
        "duration": 245,
        "start_time": "2022-08-03T00:46:26.192Z"
      },
      {
        "duration": 244,
        "start_time": "2022-08-03T00:51:02.862Z"
      },
      {
        "duration": 249,
        "start_time": "2022-08-03T00:51:29.526Z"
      },
      {
        "duration": 242,
        "start_time": "2022-08-03T01:20:48.611Z"
      },
      {
        "duration": 259,
        "start_time": "2022-08-03T01:21:43.450Z"
      },
      {
        "duration": 251,
        "start_time": "2022-08-03T01:22:04.663Z"
      },
      {
        "duration": 783,
        "start_time": "2022-08-03T01:23:14.540Z"
      },
      {
        "duration": 22,
        "start_time": "2022-08-03T01:23:52.523Z"
      },
      {
        "duration": 414,
        "start_time": "2022-08-03T01:27:24.457Z"
      },
      {
        "duration": 396,
        "start_time": "2022-08-03T01:27:39.073Z"
      },
      {
        "duration": 410,
        "start_time": "2022-08-03T01:27:46.673Z"
      },
      {
        "duration": 418,
        "start_time": "2022-08-03T01:27:52.865Z"
      },
      {
        "duration": 404,
        "start_time": "2022-08-03T01:28:00.049Z"
      },
      {
        "duration": 414,
        "start_time": "2022-08-03T01:28:10.864Z"
      },
      {
        "duration": 424,
        "start_time": "2022-08-03T01:30:46.817Z"
      },
      {
        "duration": 24,
        "start_time": "2022-08-03T01:34:17.975Z"
      },
      {
        "duration": 18,
        "start_time": "2022-08-03T01:34:33.816Z"
      },
      {
        "duration": 13,
        "start_time": "2022-08-03T01:35:24.274Z"
      },
      {
        "duration": 9,
        "start_time": "2022-08-03T01:38:16.385Z"
      },
      {
        "duration": 8,
        "start_time": "2022-08-03T01:38:40.934Z"
      },
      {
        "duration": 7,
        "start_time": "2022-08-03T01:38:55.063Z"
      },
      {
        "duration": 8,
        "start_time": "2022-08-03T01:39:04.142Z"
      },
      {
        "duration": 23,
        "start_time": "2022-08-03T01:39:32.619Z"
      },
      {
        "duration": 8,
        "start_time": "2022-08-03T01:40:46.718Z"
      },
      {
        "duration": 10,
        "start_time": "2022-08-03T01:40:55.820Z"
      },
      {
        "duration": 11,
        "start_time": "2022-08-03T01:53:03.722Z"
      },
      {
        "duration": 9,
        "start_time": "2022-08-03T01:53:52.274Z"
      },
      {
        "duration": 252,
        "start_time": "2022-08-03T01:58:18.826Z"
      },
      {
        "duration": 14,
        "start_time": "2022-08-03T01:59:28.953Z"
      },
      {
        "duration": 693,
        "start_time": "2022-08-03T02:05:00.126Z"
      },
      {
        "duration": 2436,
        "start_time": "2022-08-03T02:05:31.174Z"
      },
      {
        "duration": 2444,
        "start_time": "2022-08-03T02:08:58.662Z"
      },
      {
        "duration": 2451,
        "start_time": "2022-08-03T02:14:30.922Z"
      },
      {
        "duration": 2449,
        "start_time": "2022-08-03T02:15:11.882Z"
      },
      {
        "duration": 1964,
        "start_time": "2022-08-03T02:21:31.480Z"
      },
      {
        "duration": 3181,
        "start_time": "2022-08-03T02:22:52.880Z"
      },
      {
        "duration": 1952,
        "start_time": "2022-08-03T02:26:29.087Z"
      },
      {
        "duration": 4,
        "start_time": "2022-08-03T02:28:27.838Z"
      },
      {
        "duration": 1230,
        "start_time": "2022-08-03T02:34:29.914Z"
      },
      {
        "duration": 21,
        "start_time": "2022-08-03T02:34:50.814Z"
      },
      {
        "duration": 7,
        "start_time": "2022-08-03T02:35:05.913Z"
      },
      {
        "duration": 24,
        "start_time": "2022-08-03T02:36:18.172Z"
      },
      {
        "duration": 204,
        "start_time": "2022-08-03T02:36:26.674Z"
      },
      {
        "duration": 231,
        "start_time": "2022-08-03T02:36:46.055Z"
      },
      {
        "duration": 224,
        "start_time": "2022-08-03T02:37:20.013Z"
      },
      {
        "duration": 1807,
        "start_time": "2022-08-03T03:21:41.634Z"
      },
      {
        "duration": 35,
        "start_time": "2022-08-03T03:31:12.478Z"
      },
      {
        "duration": 16,
        "start_time": "2022-08-03T03:32:22.326Z"
      },
      {
        "duration": 22,
        "start_time": "2022-08-03T03:43:31.835Z"
      },
      {
        "duration": 18,
        "start_time": "2022-08-03T03:46:29.561Z"
      },
      {
        "duration": 5,
        "start_time": "2022-08-03T03:55:41.231Z"
      },
      {
        "duration": 221,
        "start_time": "2022-08-03T03:57:16.316Z"
      },
      {
        "duration": 844,
        "start_time": "2022-08-03T13:29:25.060Z"
      },
      {
        "duration": 808,
        "start_time": "2022-08-03T13:29:25.906Z"
      },
      {
        "duration": 27,
        "start_time": "2022-08-03T13:29:26.716Z"
      },
      {
        "duration": 20,
        "start_time": "2022-08-03T13:29:26.745Z"
      },
      {
        "duration": 19,
        "start_time": "2022-08-03T13:29:26.767Z"
      },
      {
        "duration": 6,
        "start_time": "2022-08-03T13:29:26.788Z"
      },
      {
        "duration": 4,
        "start_time": "2022-08-03T13:29:26.795Z"
      },
      {
        "duration": 10,
        "start_time": "2022-08-03T13:29:26.801Z"
      },
      {
        "duration": 6,
        "start_time": "2022-08-03T13:29:26.813Z"
      },
      {
        "duration": 7,
        "start_time": "2022-08-03T13:29:26.822Z"
      },
      {
        "duration": 54,
        "start_time": "2022-08-03T13:29:26.831Z"
      },
      {
        "duration": 4,
        "start_time": "2022-08-03T13:29:26.887Z"
      },
      {
        "duration": 11,
        "start_time": "2022-08-03T13:29:26.893Z"
      },
      {
        "duration": 517,
        "start_time": "2022-08-03T13:29:26.905Z"
      },
      {
        "duration": 5,
        "start_time": "2022-08-03T13:29:27.424Z"
      },
      {
        "duration": 6,
        "start_time": "2022-08-03T13:29:27.430Z"
      },
      {
        "duration": 17,
        "start_time": "2022-08-03T13:29:27.438Z"
      },
      {
        "duration": 5,
        "start_time": "2022-08-03T13:29:27.468Z"
      },
      {
        "duration": 15,
        "start_time": "2022-08-03T13:29:27.475Z"
      },
      {
        "duration": 28,
        "start_time": "2022-08-03T13:29:27.492Z"
      },
      {
        "duration": 4,
        "start_time": "2022-08-03T13:29:27.522Z"
      },
      {
        "duration": 4,
        "start_time": "2022-08-03T13:29:27.527Z"
      },
      {
        "duration": 38,
        "start_time": "2022-08-03T13:29:27.533Z"
      },
      {
        "duration": 542,
        "start_time": "2022-08-03T13:29:27.573Z"
      },
      {
        "duration": 5,
        "start_time": "2022-08-03T13:29:28.117Z"
      },
      {
        "duration": 27,
        "start_time": "2022-08-03T13:29:28.123Z"
      },
      {
        "duration": 26,
        "start_time": "2022-08-03T13:29:28.152Z"
      },
      {
        "duration": 3,
        "start_time": "2022-08-03T13:29:28.182Z"
      },
      {
        "duration": 14,
        "start_time": "2022-08-03T13:29:28.187Z"
      },
      {
        "duration": 3,
        "start_time": "2022-08-03T13:29:28.202Z"
      },
      {
        "duration": 7,
        "start_time": "2022-08-03T13:29:28.206Z"
      },
      {
        "duration": 540,
        "start_time": "2022-08-03T13:29:28.214Z"
      },
      {
        "duration": 12,
        "start_time": "2022-08-03T13:29:28.755Z"
      },
      {
        "duration": 22,
        "start_time": "2022-08-03T13:29:28.769Z"
      },
      {
        "duration": 8,
        "start_time": "2022-08-03T13:29:28.793Z"
      },
      {
        "duration": 33,
        "start_time": "2022-08-03T13:29:28.802Z"
      },
      {
        "duration": 65,
        "start_time": "2022-08-03T13:29:28.836Z"
      },
      {
        "duration": 2,
        "start_time": "2022-08-03T13:29:28.903Z"
      },
      {
        "duration": 11,
        "start_time": "2022-08-03T13:29:28.907Z"
      },
      {
        "duration": 6177,
        "start_time": "2022-08-03T13:29:28.920Z"
      },
      {
        "duration": 6,
        "start_time": "2022-08-03T13:29:35.099Z"
      },
      {
        "duration": 26,
        "start_time": "2022-08-03T13:29:35.106Z"
      },
      {
        "duration": 8,
        "start_time": "2022-08-03T13:29:35.134Z"
      },
      {
        "duration": 41,
        "start_time": "2022-08-03T13:29:35.144Z"
      },
      {
        "duration": 5,
        "start_time": "2022-08-03T13:29:35.186Z"
      },
      {
        "duration": 33,
        "start_time": "2022-08-03T13:29:35.193Z"
      },
      {
        "duration": 2,
        "start_time": "2022-08-03T13:29:35.228Z"
      },
      {
        "duration": 56,
        "start_time": "2022-08-03T13:29:35.231Z"
      },
      {
        "duration": 23,
        "start_time": "2022-08-03T13:29:35.289Z"
      },
      {
        "duration": 15,
        "start_time": "2022-08-03T13:29:35.314Z"
      },
      {
        "duration": 57,
        "start_time": "2022-08-03T13:29:35.331Z"
      },
      {
        "duration": 5,
        "start_time": "2022-08-03T13:29:35.390Z"
      },
      {
        "duration": 11,
        "start_time": "2022-08-03T13:29:35.397Z"
      },
      {
        "duration": 15,
        "start_time": "2022-08-03T13:29:35.410Z"
      },
      {
        "duration": 5,
        "start_time": "2022-08-03T13:29:35.427Z"
      },
      {
        "duration": 63,
        "start_time": "2022-08-03T13:29:35.434Z"
      },
      {
        "duration": 28,
        "start_time": "2022-08-03T13:29:35.499Z"
      },
      {
        "duration": 20,
        "start_time": "2022-08-03T13:29:35.529Z"
      },
      {
        "duration": 841,
        "start_time": "2022-08-03T13:29:35.569Z"
      },
      {
        "duration": 32,
        "start_time": "2022-08-03T13:29:36.412Z"
      },
      {
        "duration": 264,
        "start_time": "2022-08-03T13:29:36.446Z"
      },
      {
        "duration": 260,
        "start_time": "2022-08-03T13:29:36.712Z"
      },
      {
        "duration": 260,
        "start_time": "2022-08-03T13:29:36.974Z"
      },
      {
        "duration": 9,
        "start_time": "2022-08-03T13:29:37.236Z"
      },
      {
        "duration": 202,
        "start_time": "2022-08-03T13:29:37.247Z"
      },
      {
        "duration": 7,
        "start_time": "2022-08-03T13:29:37.451Z"
      },
      {
        "duration": 865,
        "start_time": "2022-08-03T13:29:37.467Z"
      },
      {
        "duration": 782,
        "start_time": "2022-08-03T13:29:38.334Z"
      },
      {
        "duration": 932,
        "start_time": "2022-08-03T13:29:39.118Z"
      },
      {
        "duration": 29,
        "start_time": "2022-08-03T13:29:40.051Z"
      },
      {
        "duration": 873,
        "start_time": "2022-08-03T13:29:40.082Z"
      },
      {
        "duration": 12,
        "start_time": "2022-08-03T13:29:40.957Z"
      },
      {
        "duration": 758,
        "start_time": "2022-08-03T13:29:40.971Z"
      },
      {
        "duration": 38,
        "start_time": "2022-08-03T13:29:41.731Z"
      },
      {
        "duration": 8,
        "start_time": "2022-08-03T13:29:41.771Z"
      },
      {
        "duration": 159,
        "start_time": "2022-08-03T13:29:41.780Z"
      },
      {
        "duration": 433,
        "start_time": "2022-08-03T13:29:41.940Z"
      },
      {
        "duration": 327,
        "start_time": "2022-08-03T13:29:42.375Z"
      },
      {
        "duration": 10,
        "start_time": "2022-08-03T13:29:42.703Z"
      },
      {
        "duration": 546,
        "start_time": "2022-08-03T13:29:42.715Z"
      },
      {
        "duration": 12,
        "start_time": "2022-08-03T13:29:43.264Z"
      },
      {
        "duration": 360,
        "start_time": "2022-08-03T13:29:43.283Z"
      },
      {
        "duration": 22,
        "start_time": "2022-08-03T13:29:43.646Z"
      },
      {
        "duration": 2405,
        "start_time": "2022-08-03T13:29:43.669Z"
      },
      {
        "duration": 287,
        "start_time": "2022-08-03T13:29:46.075Z"
      },
      {
        "duration": 293,
        "start_time": "2022-08-03T13:38:34.174Z"
      },
      {
        "duration": 315,
        "start_time": "2022-08-03T13:38:52.174Z"
      },
      {
        "duration": 12,
        "start_time": "2022-08-03T13:40:02.447Z"
      },
      {
        "duration": 312,
        "start_time": "2022-08-03T13:41:14.762Z"
      },
      {
        "duration": 342,
        "start_time": "2022-08-03T13:42:37.345Z"
      },
      {
        "duration": 324,
        "start_time": "2022-08-03T13:43:14.573Z"
      },
      {
        "duration": 344,
        "start_time": "2022-08-03T13:43:41.949Z"
      },
      {
        "duration": 297,
        "start_time": "2022-08-03T13:43:58.661Z"
      },
      {
        "duration": 11,
        "start_time": "2022-08-03T13:44:12.775Z"
      },
      {
        "duration": 298,
        "start_time": "2022-08-03T13:45:01.624Z"
      },
      {
        "duration": 304,
        "start_time": "2022-08-03T13:46:20.759Z"
      },
      {
        "duration": 308,
        "start_time": "2022-08-03T13:46:38.415Z"
      },
      {
        "duration": 381,
        "start_time": "2022-08-03T13:47:39.092Z"
      },
      {
        "duration": 33,
        "start_time": "2022-08-03T13:50:36.016Z"
      },
      {
        "duration": 29,
        "start_time": "2022-08-03T13:51:27.046Z"
      },
      {
        "duration": 411,
        "start_time": "2022-08-03T13:53:31.667Z"
      },
      {
        "duration": 43,
        "start_time": "2022-08-03T13:54:04.908Z"
      },
      {
        "duration": 42,
        "start_time": "2022-08-03T13:54:31.919Z"
      },
      {
        "duration": 44,
        "start_time": "2022-08-03T13:54:53.726Z"
      },
      {
        "duration": 325371,
        "start_time": "2022-08-03T13:56:51.041Z"
      },
      {
        "duration": 0,
        "start_time": "2022-08-03T14:02:16.417Z"
      },
      {
        "duration": 45,
        "start_time": "2022-08-03T14:02:30.184Z"
      },
      {
        "duration": 39,
        "start_time": "2022-08-03T14:05:32.663Z"
      },
      {
        "duration": 19,
        "start_time": "2022-08-03T14:07:11.248Z"
      },
      {
        "duration": 64,
        "start_time": "2022-08-03T14:11:04.341Z"
      },
      {
        "duration": 65,
        "start_time": "2022-08-03T14:12:03.743Z"
      },
      {
        "duration": 40,
        "start_time": "2022-08-03T14:12:17.061Z"
      },
      {
        "duration": 6,
        "start_time": "2022-08-03T14:15:17.835Z"
      },
      {
        "duration": 57,
        "start_time": "2022-08-03T14:16:04.044Z"
      },
      {
        "duration": 9,
        "start_time": "2022-08-03T14:16:33.732Z"
      },
      {
        "duration": 9,
        "start_time": "2022-08-03T14:43:19.462Z"
      },
      {
        "duration": 10,
        "start_time": "2022-08-03T14:43:47.487Z"
      },
      {
        "duration": 9,
        "start_time": "2022-08-03T14:44:11.067Z"
      },
      {
        "duration": 136,
        "start_time": "2022-08-03T14:47:26.640Z"
      },
      {
        "duration": 22,
        "start_time": "2022-08-03T14:47:37.101Z"
      },
      {
        "duration": 58,
        "start_time": "2022-08-03T14:47:56.582Z"
      },
      {
        "duration": 9,
        "start_time": "2022-08-03T14:48:10.241Z"
      },
      {
        "duration": 10,
        "start_time": "2022-08-03T14:48:27.981Z"
      },
      {
        "duration": 9,
        "start_time": "2022-08-03T14:48:59.139Z"
      },
      {
        "duration": 11,
        "start_time": "2022-08-03T14:49:55.669Z"
      },
      {
        "duration": 9,
        "start_time": "2022-08-03T14:50:22.669Z"
      },
      {
        "duration": 46,
        "start_time": "2022-08-03T15:00:16.341Z"
      },
      {
        "duration": 37,
        "start_time": "2022-08-03T15:00:44.382Z"
      },
      {
        "duration": 36,
        "start_time": "2022-08-03T15:01:14.138Z"
      },
      {
        "duration": 2503,
        "start_time": "2022-08-03T15:08:29.164Z"
      },
      {
        "duration": 2484,
        "start_time": "2022-08-03T15:09:32.395Z"
      },
      {
        "duration": 2547,
        "start_time": "2022-08-03T15:17:54.632Z"
      },
      {
        "duration": 2532,
        "start_time": "2022-08-03T15:18:33.735Z"
      },
      {
        "duration": 7247,
        "start_time": "2022-08-03T15:18:55.998Z"
      },
      {
        "duration": 2637,
        "start_time": "2022-08-03T15:25:46.476Z"
      },
      {
        "duration": 25,
        "start_time": "2022-08-03T15:28:15.378Z"
      },
      {
        "duration": 321,
        "start_time": "2022-08-03T15:28:22.347Z"
      },
      {
        "duration": 490,
        "start_time": "2022-08-03T15:29:18.594Z"
      },
      {
        "duration": 330,
        "start_time": "2022-08-03T15:30:03.031Z"
      },
      {
        "duration": 11,
        "start_time": "2022-08-03T15:30:33.450Z"
      },
      {
        "duration": 2432,
        "start_time": "2022-08-03T15:31:13.984Z"
      },
      {
        "duration": 17,
        "start_time": "2022-08-03T15:40:51.624Z"
      },
      {
        "duration": 3605,
        "start_time": "2022-08-03T15:41:47.624Z"
      },
      {
        "duration": 3572,
        "start_time": "2022-08-03T15:43:27.127Z"
      },
      {
        "duration": 2344,
        "start_time": "2022-08-03T15:43:52.085Z"
      },
      {
        "duration": 2426,
        "start_time": "2022-08-03T15:44:04.646Z"
      },
      {
        "duration": 16,
        "start_time": "2022-08-03T20:06:55.475Z"
      },
      {
        "duration": 2601,
        "start_time": "2022-08-03T20:08:04.549Z"
      },
      {
        "duration": 2507,
        "start_time": "2022-08-03T20:10:13.279Z"
      },
      {
        "duration": 76,
        "start_time": "2022-08-03T20:10:39.762Z"
      },
      {
        "duration": 190,
        "start_time": "2022-08-03T20:10:46.672Z"
      },
      {
        "duration": 204,
        "start_time": "2022-08-03T20:11:15.441Z"
      },
      {
        "duration": 318,
        "start_time": "2022-08-03T20:15:12.527Z"
      },
      {
        "duration": 3,
        "start_time": "2022-08-03T23:29:24.644Z"
      },
      {
        "duration": 235,
        "start_time": "2022-08-03T23:29:24.652Z"
      },
      {
        "duration": 23,
        "start_time": "2022-08-03T23:29:24.889Z"
      },
      {
        "duration": 159,
        "start_time": "2022-08-03T23:29:24.914Z"
      },
      {
        "duration": 60,
        "start_time": "2022-08-03T23:29:25.076Z"
      },
      {
        "duration": 56,
        "start_time": "2022-08-03T23:29:25.138Z"
      },
      {
        "duration": 90,
        "start_time": "2022-08-03T23:29:25.196Z"
      },
      {
        "duration": 30,
        "start_time": "2022-08-03T23:29:25.288Z"
      },
      {
        "duration": 23,
        "start_time": "2022-08-03T23:29:25.320Z"
      },
      {
        "duration": 29,
        "start_time": "2022-08-03T23:29:25.345Z"
      },
      {
        "duration": 38,
        "start_time": "2022-08-03T23:29:25.378Z"
      },
      {
        "duration": 25,
        "start_time": "2022-08-03T23:29:25.418Z"
      },
      {
        "duration": 39,
        "start_time": "2022-08-03T23:29:25.446Z"
      },
      {
        "duration": 548,
        "start_time": "2022-08-03T23:29:25.487Z"
      },
      {
        "duration": 5,
        "start_time": "2022-08-03T23:29:26.037Z"
      },
      {
        "duration": 10,
        "start_time": "2022-08-03T23:29:26.044Z"
      },
      {
        "duration": 20,
        "start_time": "2022-08-03T23:29:26.056Z"
      },
      {
        "duration": 13,
        "start_time": "2022-08-03T23:29:26.078Z"
      },
      {
        "duration": 20,
        "start_time": "2022-08-03T23:29:26.093Z"
      },
      {
        "duration": 26,
        "start_time": "2022-08-03T23:29:26.115Z"
      },
      {
        "duration": 26,
        "start_time": "2022-08-03T23:29:26.143Z"
      },
      {
        "duration": 3,
        "start_time": "2022-08-03T23:29:26.171Z"
      },
      {
        "duration": 12,
        "start_time": "2022-08-03T23:29:26.176Z"
      },
      {
        "duration": 622,
        "start_time": "2022-08-03T23:29:26.189Z"
      },
      {
        "duration": 5,
        "start_time": "2022-08-03T23:29:26.813Z"
      },
      {
        "duration": 26,
        "start_time": "2022-08-03T23:29:26.820Z"
      },
      {
        "duration": 33,
        "start_time": "2022-08-03T23:29:26.848Z"
      },
      {
        "duration": 6,
        "start_time": "2022-08-03T23:29:26.883Z"
      },
      {
        "duration": 15,
        "start_time": "2022-08-03T23:29:26.894Z"
      },
      {
        "duration": 10,
        "start_time": "2022-08-03T23:29:26.911Z"
      },
      {
        "duration": 8,
        "start_time": "2022-08-03T23:29:26.923Z"
      },
      {
        "duration": 569,
        "start_time": "2022-08-03T23:29:26.933Z"
      },
      {
        "duration": 5,
        "start_time": "2022-08-03T23:29:27.505Z"
      },
      {
        "duration": 23,
        "start_time": "2022-08-03T23:29:27.512Z"
      },
      {
        "duration": 8,
        "start_time": "2022-08-03T23:29:27.537Z"
      },
      {
        "duration": 52,
        "start_time": "2022-08-03T23:29:27.546Z"
      },
      {
        "duration": 69,
        "start_time": "2022-08-03T23:29:27.600Z"
      },
      {
        "duration": 4,
        "start_time": "2022-08-03T23:29:27.671Z"
      },
      {
        "duration": 9,
        "start_time": "2022-08-03T23:29:27.677Z"
      },
      {
        "duration": 6043,
        "start_time": "2022-08-03T23:29:27.688Z"
      },
      {
        "duration": 6,
        "start_time": "2022-08-03T23:29:33.733Z"
      },
      {
        "duration": 33,
        "start_time": "2022-08-03T23:29:33.741Z"
      },
      {
        "duration": 6,
        "start_time": "2022-08-03T23:29:33.776Z"
      },
      {
        "duration": 25,
        "start_time": "2022-08-03T23:29:33.784Z"
      },
      {
        "duration": 7,
        "start_time": "2022-08-03T23:29:33.811Z"
      },
      {
        "duration": 51,
        "start_time": "2022-08-03T23:29:33.820Z"
      },
      {
        "duration": 2,
        "start_time": "2022-08-03T23:29:33.872Z"
      },
      {
        "duration": 30,
        "start_time": "2022-08-03T23:29:33.876Z"
      },
      {
        "duration": 26,
        "start_time": "2022-08-03T23:29:33.907Z"
      },
      {
        "duration": 42,
        "start_time": "2022-08-03T23:29:33.934Z"
      },
      {
        "duration": 28,
        "start_time": "2022-08-03T23:29:33.978Z"
      },
      {
        "duration": 4,
        "start_time": "2022-08-03T23:29:34.008Z"
      },
      {
        "duration": 6,
        "start_time": "2022-08-03T23:29:34.014Z"
      },
      {
        "duration": 17,
        "start_time": "2022-08-03T23:29:34.022Z"
      },
      {
        "duration": 6,
        "start_time": "2022-08-03T23:29:34.068Z"
      },
      {
        "duration": 37,
        "start_time": "2022-08-03T23:29:34.076Z"
      },
      {
        "duration": 23,
        "start_time": "2022-08-03T23:29:34.115Z"
      },
      {
        "duration": 36,
        "start_time": "2022-08-03T23:29:34.139Z"
      },
      {
        "duration": 877,
        "start_time": "2022-08-03T23:29:34.177Z"
      },
      {
        "duration": 39,
        "start_time": "2022-08-03T23:29:35.056Z"
      },
      {
        "duration": 221,
        "start_time": "2022-08-03T23:29:35.097Z"
      },
      {
        "duration": 218,
        "start_time": "2022-08-03T23:29:35.319Z"
      },
      {
        "duration": 199,
        "start_time": "2022-08-03T23:29:35.538Z"
      },
      {
        "duration": 10,
        "start_time": "2022-08-03T23:29:35.739Z"
      },
      {
        "duration": 204,
        "start_time": "2022-08-03T23:29:35.750Z"
      },
      {
        "duration": 14,
        "start_time": "2022-08-03T23:29:35.956Z"
      },
      {
        "duration": 937,
        "start_time": "2022-08-03T23:29:35.972Z"
      },
      {
        "duration": 804,
        "start_time": "2022-08-03T23:29:36.912Z"
      },
      {
        "duration": 886,
        "start_time": "2022-08-03T23:29:37.719Z"
      },
      {
        "duration": 18,
        "start_time": "2022-08-03T23:29:38.607Z"
      },
      {
        "duration": 880,
        "start_time": "2022-08-03T23:29:38.627Z"
      },
      {
        "duration": 6,
        "start_time": "2022-08-03T23:29:39.509Z"
      },
      {
        "duration": 765,
        "start_time": "2022-08-03T23:29:39.516Z"
      },
      {
        "duration": 33,
        "start_time": "2022-08-03T23:29:40.284Z"
      },
      {
        "duration": 9,
        "start_time": "2022-08-03T23:29:40.319Z"
      },
      {
        "duration": 175,
        "start_time": "2022-08-03T23:29:40.330Z"
      },
      {
        "duration": 337,
        "start_time": "2022-08-03T23:29:40.507Z"
      },
      {
        "duration": 22,
        "start_time": "2022-08-03T23:29:40.846Z"
      },
      {
        "duration": 538,
        "start_time": "2022-08-03T23:29:40.870Z"
      },
      {
        "duration": 11,
        "start_time": "2022-08-03T23:29:41.410Z"
      },
      {
        "duration": 355,
        "start_time": "2022-08-03T23:29:41.423Z"
      },
      {
        "duration": 11,
        "start_time": "2022-08-03T23:29:41.780Z"
      },
      {
        "duration": 2318,
        "start_time": "2022-08-03T23:29:41.797Z"
      },
      {
        "duration": 3735,
        "start_time": "2022-08-03T23:29:44.116Z"
      },
      {
        "duration": 47,
        "start_time": "2022-08-03T23:29:47.853Z"
      },
      {
        "duration": 45,
        "start_time": "2022-08-03T23:29:47.902Z"
      },
      {
        "duration": 632,
        "start_time": "2022-08-03T23:54:24.923Z"
      },
      {
        "duration": 17,
        "start_time": "2022-08-03T23:54:45.655Z"
      },
      {
        "duration": 19,
        "start_time": "2022-08-03T23:55:33.608Z"
      },
      {
        "duration": 344,
        "start_time": "2022-08-03T23:56:00.963Z"
      },
      {
        "duration": 181,
        "start_time": "2022-08-04T00:01:21.221Z"
      },
      {
        "duration": 251,
        "start_time": "2022-08-04T00:01:54.132Z"
      },
      {
        "duration": 164,
        "start_time": "2022-08-04T00:02:10.773Z"
      },
      {
        "duration": 405,
        "start_time": "2022-08-04T00:02:21.820Z"
      },
      {
        "duration": 638,
        "start_time": "2022-08-04T00:02:45.465Z"
      },
      {
        "duration": 11,
        "start_time": "2022-08-04T00:05:50.183Z"
      },
      {
        "duration": 29,
        "start_time": "2022-08-04T00:21:33.466Z"
      },
      {
        "duration": 30,
        "start_time": "2022-08-04T00:24:29.960Z"
      },
      {
        "duration": 29,
        "start_time": "2022-08-04T00:45:51.145Z"
      },
      {
        "duration": 167,
        "start_time": "2022-08-04T00:51:21.054Z"
      },
      {
        "duration": 253,
        "start_time": "2022-08-04T00:51:33.153Z"
      },
      {
        "duration": 162,
        "start_time": "2022-08-04T00:51:41.897Z"
      },
      {
        "duration": 393,
        "start_time": "2022-08-04T00:51:53.365Z"
      },
      {
        "duration": 633,
        "start_time": "2022-08-04T00:52:03.195Z"
      },
      {
        "duration": 22,
        "start_time": "2022-08-04T00:52:40.672Z"
      },
      {
        "duration": 10,
        "start_time": "2022-08-04T00:55:17.940Z"
      },
      {
        "duration": 170,
        "start_time": "2022-08-04T00:56:11.469Z"
      },
      {
        "duration": 209,
        "start_time": "2022-08-04T00:57:08.365Z"
      },
      {
        "duration": 181,
        "start_time": "2022-08-04T01:03:33.634Z"
      },
      {
        "duration": 220,
        "start_time": "2022-08-04T01:03:54.889Z"
      },
      {
        "duration": 231,
        "start_time": "2022-08-04T01:04:21.362Z"
      },
      {
        "duration": 30,
        "start_time": "2022-08-04T01:56:56.538Z"
      },
      {
        "duration": 162,
        "start_time": "2022-08-04T01:57:07.738Z"
      },
      {
        "duration": 185,
        "start_time": "2022-08-04T02:00:23.137Z"
      },
      {
        "duration": 190,
        "start_time": "2022-08-04T02:00:35.470Z"
      },
      {
        "duration": 170,
        "start_time": "2022-08-04T02:00:42.573Z"
      },
      {
        "duration": 172,
        "start_time": "2022-08-04T02:00:49.880Z"
      },
      {
        "duration": 45,
        "start_time": "2022-08-04T02:12:03.428Z"
      },
      {
        "duration": 29,
        "start_time": "2022-08-04T02:14:16.327Z"
      },
      {
        "duration": 169,
        "start_time": "2022-08-04T02:15:52.927Z"
      },
      {
        "duration": 407,
        "start_time": "2022-08-04T02:16:12.323Z"
      },
      {
        "duration": 39,
        "start_time": "2022-08-04T02:17:28.802Z"
      },
      {
        "duration": 31,
        "start_time": "2022-08-04T02:18:46.334Z"
      },
      {
        "duration": 218,
        "start_time": "2022-08-04T02:19:01.124Z"
      },
      {
        "duration": 245,
        "start_time": "2022-08-04T02:20:36.433Z"
      },
      {
        "duration": 205,
        "start_time": "2022-08-04T02:22:07.425Z"
      },
      {
        "duration": 10,
        "start_time": "2022-08-04T02:23:27.571Z"
      },
      {
        "duration": 21,
        "start_time": "2022-08-04T02:24:40.457Z"
      },
      {
        "duration": 199,
        "start_time": "2022-08-04T02:26:34.727Z"
      },
      {
        "duration": 216,
        "start_time": "2022-08-04T02:28:03.717Z"
      },
      {
        "duration": 29,
        "start_time": "2022-08-04T02:34:49.329Z"
      },
      {
        "duration": 171,
        "start_time": "2022-08-04T02:36:25.580Z"
      },
      {
        "duration": 75,
        "start_time": "2022-08-04T02:37:13.595Z"
      },
      {
        "duration": 6,
        "start_time": "2022-08-04T02:49:49.855Z"
      },
      {
        "duration": 25,
        "start_time": "2022-08-04T02:49:51.958Z"
      },
      {
        "duration": 6,
        "start_time": "2022-08-04T02:49:57.622Z"
      },
      {
        "duration": 22,
        "start_time": "2022-08-04T02:50:02.796Z"
      },
      {
        "duration": 22,
        "start_time": "2022-08-04T02:51:59.757Z"
      },
      {
        "duration": 76,
        "start_time": "2022-08-04T02:53:15.238Z"
      },
      {
        "duration": 34,
        "start_time": "2022-08-04T02:56:11.422Z"
      },
      {
        "duration": 35,
        "start_time": "2022-08-04T02:56:19.817Z"
      },
      {
        "duration": 198,
        "start_time": "2022-08-04T02:58:02.172Z"
      },
      {
        "duration": 9,
        "start_time": "2022-08-04T03:09:41.021Z"
      },
      {
        "duration": 185,
        "start_time": "2022-08-04T03:09:51.031Z"
      },
      {
        "duration": 6,
        "start_time": "2022-08-04T03:13:28.688Z"
      },
      {
        "duration": 26,
        "start_time": "2022-08-04T03:16:13.734Z"
      },
      {
        "duration": 151,
        "start_time": "2022-08-04T03:16:24.365Z"
      },
      {
        "duration": 3,
        "start_time": "2022-08-04T03:27:38.527Z"
      },
      {
        "duration": 118,
        "start_time": "2022-08-04T03:27:38.534Z"
      },
      {
        "duration": 33,
        "start_time": "2022-08-04T03:27:38.654Z"
      },
      {
        "duration": 15,
        "start_time": "2022-08-04T03:27:38.688Z"
      },
      {
        "duration": 18,
        "start_time": "2022-08-04T03:27:38.705Z"
      },
      {
        "duration": 6,
        "start_time": "2022-08-04T03:27:38.725Z"
      },
      {
        "duration": 37,
        "start_time": "2022-08-04T03:27:38.733Z"
      },
      {
        "duration": 8,
        "start_time": "2022-08-04T03:27:38.772Z"
      },
      {
        "duration": 5,
        "start_time": "2022-08-04T03:27:38.782Z"
      },
      {
        "duration": 5,
        "start_time": "2022-08-04T03:27:38.789Z"
      },
      {
        "duration": 19,
        "start_time": "2022-08-04T03:27:38.796Z"
      },
      {
        "duration": 3,
        "start_time": "2022-08-04T03:27:38.817Z"
      },
      {
        "duration": 48,
        "start_time": "2022-08-04T03:27:38.821Z"
      },
      {
        "duration": 487,
        "start_time": "2022-08-04T03:27:38.871Z"
      },
      {
        "duration": 8,
        "start_time": "2022-08-04T03:27:39.359Z"
      },
      {
        "duration": 5,
        "start_time": "2022-08-04T03:27:39.369Z"
      },
      {
        "duration": 15,
        "start_time": "2022-08-04T03:27:39.375Z"
      },
      {
        "duration": 8,
        "start_time": "2022-08-04T03:27:39.391Z"
      },
      {
        "duration": 16,
        "start_time": "2022-08-04T03:27:39.401Z"
      },
      {
        "duration": 23,
        "start_time": "2022-08-04T03:27:39.419Z"
      },
      {
        "duration": 26,
        "start_time": "2022-08-04T03:27:39.444Z"
      },
      {
        "duration": 18,
        "start_time": "2022-08-04T03:27:39.471Z"
      },
      {
        "duration": 19,
        "start_time": "2022-08-04T03:27:39.491Z"
      },
      {
        "duration": 503,
        "start_time": "2022-08-04T03:27:39.511Z"
      },
      {
        "duration": 5,
        "start_time": "2022-08-04T03:27:40.015Z"
      },
      {
        "duration": 24,
        "start_time": "2022-08-04T03:27:40.022Z"
      },
      {
        "duration": 27,
        "start_time": "2022-08-04T03:27:40.048Z"
      },
      {
        "duration": 4,
        "start_time": "2022-08-04T03:27:40.077Z"
      },
      {
        "duration": 13,
        "start_time": "2022-08-04T03:27:40.084Z"
      },
      {
        "duration": 5,
        "start_time": "2022-08-04T03:27:40.098Z"
      },
      {
        "duration": 7,
        "start_time": "2022-08-04T03:27:40.104Z"
      },
      {
        "duration": 519,
        "start_time": "2022-08-04T03:27:40.112Z"
      },
      {
        "duration": 5,
        "start_time": "2022-08-04T03:27:40.633Z"
      },
      {
        "duration": 75,
        "start_time": "2022-08-04T03:27:40.639Z"
      },
      {
        "duration": 18,
        "start_time": "2022-08-04T03:27:40.716Z"
      },
      {
        "duration": 31,
        "start_time": "2022-08-04T03:27:40.736Z"
      },
      {
        "duration": 43,
        "start_time": "2022-08-04T03:27:40.769Z"
      },
      {
        "duration": 3,
        "start_time": "2022-08-04T03:27:40.814Z"
      },
      {
        "duration": 10,
        "start_time": "2022-08-04T03:27:40.819Z"
      },
      {
        "duration": 8612,
        "start_time": "2022-08-04T03:27:40.830Z"
      },
      {
        "duration": 7,
        "start_time": "2022-08-04T03:27:49.443Z"
      },
      {
        "duration": 30,
        "start_time": "2022-08-04T03:27:49.451Z"
      },
      {
        "duration": 8,
        "start_time": "2022-08-04T03:27:49.483Z"
      },
      {
        "duration": 32,
        "start_time": "2022-08-04T03:27:49.493Z"
      },
      {
        "duration": 8,
        "start_time": "2022-08-04T03:27:49.527Z"
      },
      {
        "duration": 43,
        "start_time": "2022-08-04T03:27:49.537Z"
      },
      {
        "duration": 24,
        "start_time": "2022-08-04T03:27:49.583Z"
      },
      {
        "duration": 20,
        "start_time": "2022-08-04T03:27:49.609Z"
      },
      {
        "duration": 14,
        "start_time": "2022-08-04T03:27:49.631Z"
      },
      {
        "duration": 26,
        "start_time": "2022-08-04T03:27:49.667Z"
      },
      {
        "duration": 4,
        "start_time": "2022-08-04T03:27:49.694Z"
      },
      {
        "duration": 7,
        "start_time": "2022-08-04T03:27:49.699Z"
      },
      {
        "duration": 12,
        "start_time": "2022-08-04T03:27:49.707Z"
      },
      {
        "duration": 5,
        "start_time": "2022-08-04T03:27:49.720Z"
      },
      {
        "duration": 60,
        "start_time": "2022-08-04T03:27:49.726Z"
      },
      {
        "duration": 21,
        "start_time": "2022-08-04T03:27:49.787Z"
      },
      {
        "duration": 14,
        "start_time": "2022-08-04T03:27:49.809Z"
      },
      {
        "duration": 773,
        "start_time": "2022-08-04T03:27:49.825Z"
      },
      {
        "duration": 30,
        "start_time": "2022-08-04T03:27:50.599Z"
      },
      {
        "duration": 212,
        "start_time": "2022-08-04T03:27:50.631Z"
      },
      {
        "duration": 171,
        "start_time": "2022-08-04T03:27:50.844Z"
      },
      {
        "duration": 176,
        "start_time": "2022-08-04T03:27:51.017Z"
      },
      {
        "duration": 9,
        "start_time": "2022-08-04T03:27:51.195Z"
      },
      {
        "duration": 187,
        "start_time": "2022-08-04T03:27:51.205Z"
      },
      {
        "duration": 7,
        "start_time": "2022-08-04T03:27:51.394Z"
      },
      {
        "duration": 831,
        "start_time": "2022-08-04T03:27:51.403Z"
      },
      {
        "duration": 713,
        "start_time": "2022-08-04T03:27:52.236Z"
      },
      {
        "duration": 805,
        "start_time": "2022-08-04T03:27:52.951Z"
      },
      {
        "duration": 11,
        "start_time": "2022-08-04T03:27:53.758Z"
      },
      {
        "duration": 750,
        "start_time": "2022-08-04T03:27:53.770Z"
      },
      {
        "duration": 6,
        "start_time": "2022-08-04T03:27:54.522Z"
      },
      {
        "duration": 667,
        "start_time": "2022-08-04T03:27:54.529Z"
      },
      {
        "duration": 25,
        "start_time": "2022-08-04T03:27:55.198Z"
      },
      {
        "duration": 8,
        "start_time": "2022-08-04T03:27:55.224Z"
      },
      {
        "duration": 145,
        "start_time": "2022-08-04T03:27:55.234Z"
      },
      {
        "duration": 27,
        "start_time": "2022-08-04T03:27:55.381Z"
      },
      {
        "duration": 179,
        "start_time": "2022-08-04T03:27:55.410Z"
      },
      {
        "duration": 242,
        "start_time": "2022-08-04T03:27:55.590Z"
      },
      {
        "duration": 163,
        "start_time": "2022-08-04T03:27:55.834Z"
      },
      {
        "duration": 350,
        "start_time": "2022-08-04T03:27:55.999Z"
      },
      {
        "duration": 616,
        "start_time": "2022-08-04T03:27:56.351Z"
      },
      {
        "duration": 3,
        "start_time": "2022-08-04T03:28:35.312Z"
      },
      {
        "duration": 93,
        "start_time": "2022-08-04T03:28:36.270Z"
      },
      {
        "duration": 21,
        "start_time": "2022-08-04T03:29:07.720Z"
      },
      {
        "duration": 3,
        "start_time": "2022-08-04T03:29:25.479Z"
      },
      {
        "duration": 93,
        "start_time": "2022-08-04T03:29:26.125Z"
      },
      {
        "duration": 23,
        "start_time": "2022-08-04T03:29:26.848Z"
      },
      {
        "duration": 15,
        "start_time": "2022-08-04T03:29:27.113Z"
      },
      {
        "duration": 18,
        "start_time": "2022-08-04T03:29:28.029Z"
      },
      {
        "duration": 6,
        "start_time": "2022-08-04T03:29:29.029Z"
      },
      {
        "duration": 4,
        "start_time": "2022-08-04T03:29:29.446Z"
      },
      {
        "duration": 6,
        "start_time": "2022-08-04T03:29:29.654Z"
      },
      {
        "duration": 5,
        "start_time": "2022-08-04T03:29:29.883Z"
      },
      {
        "duration": 4,
        "start_time": "2022-08-04T03:29:30.146Z"
      },
      {
        "duration": 20,
        "start_time": "2022-08-04T03:29:30.599Z"
      },
      {
        "duration": 4,
        "start_time": "2022-08-04T03:29:30.908Z"
      },
      {
        "duration": 5,
        "start_time": "2022-08-04T03:29:31.200Z"
      },
      {
        "duration": 473,
        "start_time": "2022-08-04T03:29:32.035Z"
      },
      {
        "duration": 5,
        "start_time": "2022-08-04T03:29:32.510Z"
      },
      {
        "duration": 6,
        "start_time": "2022-08-04T03:29:32.516Z"
      },
      {
        "duration": 15,
        "start_time": "2022-08-04T03:29:32.524Z"
      },
      {
        "duration": 5,
        "start_time": "2022-08-04T03:29:32.841Z"
      },
      {
        "duration": 14,
        "start_time": "2022-08-04T03:29:33.270Z"
      },
      {
        "duration": 23,
        "start_time": "2022-08-04T03:29:33.838Z"
      },
      {
        "duration": 4,
        "start_time": "2022-08-04T03:29:34.134Z"
      },
      {
        "duration": 3,
        "start_time": "2022-08-04T03:29:34.462Z"
      },
      {
        "duration": 6,
        "start_time": "2022-08-04T03:29:34.712Z"
      },
      {
        "duration": 556,
        "start_time": "2022-08-04T03:29:34.933Z"
      },
      {
        "duration": 6,
        "start_time": "2022-08-04T03:29:35.491Z"
      },
      {
        "duration": 32,
        "start_time": "2022-08-04T03:29:35.500Z"
      },
      {
        "duration": 15,
        "start_time": "2022-08-04T03:29:36.190Z"
      },
      {
        "duration": 5,
        "start_time": "2022-08-04T03:29:36.853Z"
      },
      {
        "duration": 13,
        "start_time": "2022-08-04T03:29:37.246Z"
      },
      {
        "duration": 3,
        "start_time": "2022-08-04T03:29:37.579Z"
      },
      {
        "duration": 6,
        "start_time": "2022-08-04T03:29:37.886Z"
      },
      {
        "duration": 482,
        "start_time": "2022-08-04T03:29:38.234Z"
      },
      {
        "duration": 5,
        "start_time": "2022-08-04T03:29:38.719Z"
      },
      {
        "duration": 24,
        "start_time": "2022-08-04T03:29:38.949Z"
      },
      {
        "duration": 7,
        "start_time": "2022-08-04T03:29:40.629Z"
      },
      {
        "duration": 30,
        "start_time": "2022-08-04T03:29:41.114Z"
      },
      {
        "duration": 49,
        "start_time": "2022-08-04T03:29:41.482Z"
      },
      {
        "duration": 3,
        "start_time": "2022-08-04T03:29:41.953Z"
      },
      {
        "duration": 7,
        "start_time": "2022-08-04T03:29:42.345Z"
      },
      {
        "duration": 5646,
        "start_time": "2022-08-04T03:29:42.774Z"
      },
      {
        "duration": 5,
        "start_time": "2022-08-04T03:29:48.423Z"
      },
      {
        "duration": 25,
        "start_time": "2022-08-04T03:29:48.430Z"
      },
      {
        "duration": 6,
        "start_time": "2022-08-04T03:29:48.467Z"
      },
      {
        "duration": 25,
        "start_time": "2022-08-04T03:29:48.475Z"
      },
      {
        "duration": 23,
        "start_time": "2022-08-04T03:30:05.088Z"
      },
      {
        "duration": 867,
        "start_time": "2022-08-11T00:02:38.077Z"
      },
      {
        "duration": 210,
        "start_time": "2022-08-11T00:02:38.946Z"
      },
      {
        "duration": 22,
        "start_time": "2022-08-11T00:02:39.158Z"
      },
      {
        "duration": 24,
        "start_time": "2022-08-11T00:02:39.182Z"
      },
      {
        "duration": 42,
        "start_time": "2022-08-11T00:02:39.213Z"
      },
      {
        "duration": 7,
        "start_time": "2022-08-11T00:02:39.257Z"
      },
      {
        "duration": 16,
        "start_time": "2022-08-11T00:02:39.266Z"
      },
      {
        "duration": 26,
        "start_time": "2022-08-11T00:02:39.284Z"
      },
      {
        "duration": 22,
        "start_time": "2022-08-11T00:02:39.314Z"
      },
      {
        "duration": 17,
        "start_time": "2022-08-11T00:02:39.339Z"
      },
      {
        "duration": 32,
        "start_time": "2022-08-11T00:02:39.358Z"
      },
      {
        "duration": 5,
        "start_time": "2022-08-11T00:02:39.391Z"
      },
      {
        "duration": 29,
        "start_time": "2022-08-11T00:02:39.397Z"
      },
      {
        "duration": 476,
        "start_time": "2022-08-11T00:02:39.428Z"
      },
      {
        "duration": 13,
        "start_time": "2022-08-11T00:02:39.906Z"
      },
      {
        "duration": 24,
        "start_time": "2022-08-11T00:02:39.920Z"
      },
      {
        "duration": 42,
        "start_time": "2022-08-11T00:02:39.945Z"
      },
      {
        "duration": 46,
        "start_time": "2022-08-11T00:02:39.989Z"
      },
      {
        "duration": 49,
        "start_time": "2022-08-11T00:02:40.037Z"
      },
      {
        "duration": 74,
        "start_time": "2022-08-11T00:02:40.088Z"
      },
      {
        "duration": 10,
        "start_time": "2022-08-11T00:02:40.164Z"
      },
      {
        "duration": 39,
        "start_time": "2022-08-11T00:02:40.176Z"
      },
      {
        "duration": 17,
        "start_time": "2022-08-11T00:02:40.218Z"
      },
      {
        "duration": 541,
        "start_time": "2022-08-11T00:02:40.237Z"
      },
      {
        "duration": 4,
        "start_time": "2022-08-11T00:02:40.780Z"
      },
      {
        "duration": 36,
        "start_time": "2022-08-11T00:02:40.786Z"
      },
      {
        "duration": 17,
        "start_time": "2022-08-11T00:02:40.823Z"
      },
      {
        "duration": 5,
        "start_time": "2022-08-11T00:02:40.844Z"
      },
      {
        "duration": 23,
        "start_time": "2022-08-11T00:02:40.851Z"
      },
      {
        "duration": 8,
        "start_time": "2022-08-11T00:02:40.876Z"
      },
      {
        "duration": 9,
        "start_time": "2022-08-11T00:02:40.885Z"
      },
      {
        "duration": 499,
        "start_time": "2022-08-11T00:02:40.895Z"
      },
      {
        "duration": 17,
        "start_time": "2022-08-11T00:02:41.396Z"
      },
      {
        "duration": 32,
        "start_time": "2022-08-11T00:02:41.415Z"
      },
      {
        "duration": 15,
        "start_time": "2022-08-11T00:02:41.449Z"
      },
      {
        "duration": 51,
        "start_time": "2022-08-11T00:02:41.466Z"
      },
      {
        "duration": 56,
        "start_time": "2022-08-11T00:02:41.519Z"
      },
      {
        "duration": 6,
        "start_time": "2022-08-11T00:02:41.576Z"
      },
      {
        "duration": 26,
        "start_time": "2022-08-11T00:02:41.583Z"
      },
      {
        "duration": 5665,
        "start_time": "2022-08-11T00:02:41.611Z"
      },
      {
        "duration": 6,
        "start_time": "2022-08-11T00:02:47.277Z"
      },
      {
        "duration": 33,
        "start_time": "2022-08-11T00:02:47.284Z"
      },
      {
        "duration": 9,
        "start_time": "2022-08-11T00:02:47.319Z"
      },
      {
        "duration": 22,
        "start_time": "2022-08-11T00:02:47.330Z"
      },
      {
        "duration": 4,
        "start_time": "2022-08-11T00:02:47.354Z"
      },
      {
        "duration": 46,
        "start_time": "2022-08-11T00:02:47.360Z"
      },
      {
        "duration": 24,
        "start_time": "2022-08-11T00:02:47.411Z"
      },
      {
        "duration": 19,
        "start_time": "2022-08-11T00:02:47.436Z"
      },
      {
        "duration": 13,
        "start_time": "2022-08-11T00:02:47.456Z"
      },
      {
        "duration": 48,
        "start_time": "2022-08-11T00:02:47.470Z"
      },
      {
        "duration": 4,
        "start_time": "2022-08-11T00:02:47.520Z"
      },
      {
        "duration": 12,
        "start_time": "2022-08-11T00:02:47.525Z"
      },
      {
        "duration": 13,
        "start_time": "2022-08-11T00:02:47.538Z"
      },
      {
        "duration": 5,
        "start_time": "2022-08-11T00:02:47.552Z"
      },
      {
        "duration": 52,
        "start_time": "2022-08-11T00:02:47.558Z"
      },
      {
        "duration": 20,
        "start_time": "2022-08-11T00:02:47.612Z"
      },
      {
        "duration": 14,
        "start_time": "2022-08-11T00:02:47.633Z"
      },
      {
        "duration": 769,
        "start_time": "2022-08-11T00:02:47.648Z"
      },
      {
        "duration": 29,
        "start_time": "2022-08-11T00:02:48.419Z"
      },
      {
        "duration": 198,
        "start_time": "2022-08-11T00:02:48.450Z"
      },
      {
        "duration": 176,
        "start_time": "2022-08-11T00:02:48.650Z"
      },
      {
        "duration": 252,
        "start_time": "2022-08-11T00:02:48.828Z"
      },
      {
        "duration": 29,
        "start_time": "2022-08-11T00:02:49.082Z"
      },
      {
        "duration": 154,
        "start_time": "2022-08-11T00:02:49.113Z"
      },
      {
        "duration": 8,
        "start_time": "2022-08-11T00:02:49.269Z"
      },
      {
        "duration": 779,
        "start_time": "2022-08-11T00:02:49.278Z"
      },
      {
        "duration": 719,
        "start_time": "2022-08-11T00:02:50.060Z"
      },
      {
        "duration": 944,
        "start_time": "2022-08-11T00:02:50.781Z"
      },
      {
        "duration": 6,
        "start_time": "2022-08-11T00:02:51.727Z"
      },
      {
        "duration": 781,
        "start_time": "2022-08-11T00:02:51.735Z"
      },
      {
        "duration": 6,
        "start_time": "2022-08-11T00:02:52.517Z"
      },
      {
        "duration": 634,
        "start_time": "2022-08-11T00:02:52.524Z"
      },
      {
        "duration": 24,
        "start_time": "2022-08-11T00:02:53.160Z"
      },
      {
        "duration": 15,
        "start_time": "2022-08-11T00:02:53.200Z"
      },
      {
        "duration": 126,
        "start_time": "2022-08-11T00:02:53.216Z"
      },
      {
        "duration": 26,
        "start_time": "2022-08-11T00:02:53.344Z"
      },
      {
        "duration": 267,
        "start_time": "2022-08-11T00:02:53.371Z"
      },
      {
        "duration": 276,
        "start_time": "2022-08-11T00:02:53.639Z"
      },
      {
        "duration": 149,
        "start_time": "2022-08-11T00:02:53.916Z"
      },
      {
        "duration": 347,
        "start_time": "2022-08-11T00:02:54.067Z"
      },
      {
        "duration": 527,
        "start_time": "2022-08-11T00:02:54.417Z"
      },
      {
        "duration": 873,
        "start_time": "2022-08-14T21:09:31.047Z"
      },
      {
        "duration": 197,
        "start_time": "2022-08-14T21:09:31.922Z"
      },
      {
        "duration": 26,
        "start_time": "2022-08-14T21:09:32.121Z"
      },
      {
        "duration": 17,
        "start_time": "2022-08-14T21:09:32.149Z"
      },
      {
        "duration": 21,
        "start_time": "2022-08-14T21:09:32.168Z"
      },
      {
        "duration": 20,
        "start_time": "2022-08-14T21:09:32.190Z"
      },
      {
        "duration": 11,
        "start_time": "2022-08-14T21:09:32.212Z"
      },
      {
        "duration": 8,
        "start_time": "2022-08-14T21:09:32.224Z"
      },
      {
        "duration": 7,
        "start_time": "2022-08-14T21:09:32.234Z"
      },
      {
        "duration": 6,
        "start_time": "2022-08-14T21:09:32.243Z"
      },
      {
        "duration": 26,
        "start_time": "2022-08-14T21:09:32.251Z"
      },
      {
        "duration": 3,
        "start_time": "2022-08-14T21:09:32.279Z"
      },
      {
        "duration": 23,
        "start_time": "2022-08-14T21:09:32.284Z"
      },
      {
        "duration": 559,
        "start_time": "2022-08-14T21:09:32.313Z"
      },
      {
        "duration": 5,
        "start_time": "2022-08-14T21:09:32.874Z"
      },
      {
        "duration": 26,
        "start_time": "2022-08-14T21:09:32.881Z"
      },
      {
        "duration": 27,
        "start_time": "2022-08-14T21:09:32.909Z"
      },
      {
        "duration": 10,
        "start_time": "2022-08-14T21:09:32.938Z"
      },
      {
        "duration": 15,
        "start_time": "2022-08-14T21:09:32.950Z"
      },
      {
        "duration": 28,
        "start_time": "2022-08-14T21:09:32.967Z"
      },
      {
        "duration": 10,
        "start_time": "2022-08-14T21:09:32.996Z"
      },
      {
        "duration": 13,
        "start_time": "2022-08-14T21:09:33.008Z"
      },
      {
        "duration": 7,
        "start_time": "2022-08-14T21:09:33.023Z"
      },
      {
        "duration": 551,
        "start_time": "2022-08-14T21:09:33.031Z"
      },
      {
        "duration": 15,
        "start_time": "2022-08-14T21:09:33.583Z"
      },
      {
        "duration": 27,
        "start_time": "2022-08-14T21:09:33.604Z"
      },
      {
        "duration": 20,
        "start_time": "2022-08-14T21:09:33.633Z"
      },
      {
        "duration": 4,
        "start_time": "2022-08-14T21:09:33.655Z"
      },
      {
        "duration": 14,
        "start_time": "2022-08-14T21:09:33.661Z"
      },
      {
        "duration": 7,
        "start_time": "2022-08-14T21:09:33.686Z"
      },
      {
        "duration": 24,
        "start_time": "2022-08-14T21:09:33.694Z"
      },
      {
        "duration": 553,
        "start_time": "2022-08-14T21:09:33.720Z"
      },
      {
        "duration": 5,
        "start_time": "2022-08-14T21:09:34.275Z"
      },
      {
        "duration": 30,
        "start_time": "2022-08-14T21:09:34.281Z"
      },
      {
        "duration": 15,
        "start_time": "2022-08-14T21:09:34.313Z"
      },
      {
        "duration": 66,
        "start_time": "2022-08-14T21:09:34.330Z"
      },
      {
        "duration": 46,
        "start_time": "2022-08-14T21:09:34.397Z"
      },
      {
        "duration": 3,
        "start_time": "2022-08-14T21:09:34.444Z"
      },
      {
        "duration": 20,
        "start_time": "2022-08-14T21:09:34.449Z"
      },
      {
        "duration": 6251,
        "start_time": "2022-08-14T21:09:34.471Z"
      },
      {
        "duration": 6,
        "start_time": "2022-08-14T21:09:40.727Z"
      },
      {
        "duration": 27,
        "start_time": "2022-08-14T21:09:40.735Z"
      },
      {
        "duration": 15,
        "start_time": "2022-08-14T21:09:40.763Z"
      },
      {
        "duration": 31,
        "start_time": "2022-08-14T21:09:40.787Z"
      },
      {
        "duration": 5,
        "start_time": "2022-08-14T21:09:40.820Z"
      },
      {
        "duration": 40,
        "start_time": "2022-08-14T21:09:40.827Z"
      },
      {
        "duration": 44,
        "start_time": "2022-08-14T21:09:40.869Z"
      },
      {
        "duration": 21,
        "start_time": "2022-08-14T21:09:40.915Z"
      },
      {
        "duration": 14,
        "start_time": "2022-08-14T21:09:40.938Z"
      },
      {
        "duration": 71,
        "start_time": "2022-08-14T21:09:40.953Z"
      },
      {
        "duration": 4,
        "start_time": "2022-08-14T21:09:41.025Z"
      },
      {
        "duration": 7,
        "start_time": "2022-08-14T21:09:41.030Z"
      },
      {
        "duration": 21,
        "start_time": "2022-08-14T21:09:41.039Z"
      },
      {
        "duration": 30,
        "start_time": "2022-08-14T21:09:41.062Z"
      },
      {
        "duration": 54,
        "start_time": "2022-08-14T21:09:41.097Z"
      },
      {
        "duration": 22,
        "start_time": "2022-08-14T21:09:41.153Z"
      },
      {
        "duration": 31,
        "start_time": "2022-08-14T21:09:41.177Z"
      },
      {
        "duration": 816,
        "start_time": "2022-08-14T21:09:41.210Z"
      },
      {
        "duration": 36,
        "start_time": "2022-08-14T21:09:42.028Z"
      },
      {
        "duration": 270,
        "start_time": "2022-08-14T21:09:42.066Z"
      },
      {
        "duration": 185,
        "start_time": "2022-08-14T21:09:42.337Z"
      },
      {
        "duration": 189,
        "start_time": "2022-08-14T21:09:42.524Z"
      },
      {
        "duration": 9,
        "start_time": "2022-08-14T21:09:42.715Z"
      },
      {
        "duration": 222,
        "start_time": "2022-08-14T21:09:42.725Z"
      },
      {
        "duration": 7,
        "start_time": "2022-08-14T21:09:42.948Z"
      },
      {
        "duration": 872,
        "start_time": "2022-08-14T21:09:42.957Z"
      },
      {
        "duration": 898,
        "start_time": "2022-08-14T21:09:43.831Z"
      },
      {
        "duration": 835,
        "start_time": "2022-08-14T21:09:44.731Z"
      },
      {
        "duration": 6,
        "start_time": "2022-08-14T21:09:45.567Z"
      },
      {
        "duration": 896,
        "start_time": "2022-08-14T21:09:45.575Z"
      },
      {
        "duration": 13,
        "start_time": "2022-08-14T21:09:46.475Z"
      },
      {
        "duration": 785,
        "start_time": "2022-08-14T21:09:46.494Z"
      },
      {
        "duration": 38,
        "start_time": "2022-08-14T21:09:47.282Z"
      },
      {
        "duration": 8,
        "start_time": "2022-08-14T21:09:47.321Z"
      },
      {
        "duration": 243,
        "start_time": "2022-08-14T21:09:47.331Z"
      },
      {
        "duration": 48,
        "start_time": "2022-08-14T21:09:47.576Z"
      },
      {
        "duration": 175,
        "start_time": "2022-08-14T21:09:47.627Z"
      },
      {
        "duration": 267,
        "start_time": "2022-08-14T21:09:47.807Z"
      },
      {
        "duration": 178,
        "start_time": "2022-08-14T21:09:48.076Z"
      },
      {
        "duration": 416,
        "start_time": "2022-08-14T21:09:48.256Z"
      },
      {
        "duration": 590,
        "start_time": "2022-08-14T21:09:48.674Z"
      },
      {
        "duration": 5,
        "start_time": "2022-08-14T21:11:52.154Z"
      },
      {
        "duration": 42,
        "start_time": "2022-08-21T00:13:01.223Z"
      },
      {
        "duration": 675,
        "start_time": "2022-08-21T00:13:09.421Z"
      },
      {
        "duration": 169,
        "start_time": "2022-08-21T00:13:10.098Z"
      },
      {
        "duration": 23,
        "start_time": "2022-08-21T00:13:10.269Z"
      },
      {
        "duration": 17,
        "start_time": "2022-08-21T00:13:10.294Z"
      },
      {
        "duration": 16,
        "start_time": "2022-08-21T00:13:10.313Z"
      },
      {
        "duration": 5,
        "start_time": "2022-08-21T00:13:10.330Z"
      },
      {
        "duration": 6,
        "start_time": "2022-08-21T00:13:10.337Z"
      },
      {
        "duration": 42,
        "start_time": "2022-08-21T00:13:10.344Z"
      },
      {
        "duration": 3,
        "start_time": "2022-08-21T00:13:10.387Z"
      },
      {
        "duration": 12,
        "start_time": "2022-08-21T00:13:10.392Z"
      },
      {
        "duration": 21,
        "start_time": "2022-08-21T00:13:10.406Z"
      },
      {
        "duration": 3,
        "start_time": "2022-08-21T00:13:10.429Z"
      },
      {
        "duration": 9,
        "start_time": "2022-08-21T00:13:10.433Z"
      },
      {
        "duration": 543,
        "start_time": "2022-08-21T00:13:10.445Z"
      },
      {
        "duration": 4,
        "start_time": "2022-08-21T00:13:10.990Z"
      },
      {
        "duration": 8,
        "start_time": "2022-08-21T00:13:10.995Z"
      },
      {
        "duration": 18,
        "start_time": "2022-08-21T00:13:11.004Z"
      },
      {
        "duration": 11,
        "start_time": "2022-08-21T00:13:11.023Z"
      },
      {
        "duration": 15,
        "start_time": "2022-08-21T00:13:11.035Z"
      },
      {
        "duration": 53,
        "start_time": "2022-08-21T00:13:11.052Z"
      },
      {
        "duration": 4,
        "start_time": "2022-08-21T00:13:11.107Z"
      },
      {
        "duration": 6,
        "start_time": "2022-08-21T00:13:11.112Z"
      },
      {
        "duration": 7,
        "start_time": "2022-08-21T00:13:11.120Z"
      },
      {
        "duration": 565,
        "start_time": "2022-08-21T00:13:11.129Z"
      },
      {
        "duration": 5,
        "start_time": "2022-08-21T00:13:11.696Z"
      },
      {
        "duration": 32,
        "start_time": "2022-08-21T00:13:11.703Z"
      },
      {
        "duration": 20,
        "start_time": "2022-08-21T00:13:11.737Z"
      },
      {
        "duration": 26,
        "start_time": "2022-08-21T00:13:11.759Z"
      },
      {
        "duration": 12,
        "start_time": "2022-08-21T00:13:11.787Z"
      },
      {
        "duration": 5,
        "start_time": "2022-08-21T00:13:11.801Z"
      },
      {
        "duration": 8,
        "start_time": "2022-08-21T00:13:11.808Z"
      },
      {
        "duration": 557,
        "start_time": "2022-08-21T00:13:11.818Z"
      },
      {
        "duration": 4,
        "start_time": "2022-08-21T00:13:12.377Z"
      },
      {
        "duration": 23,
        "start_time": "2022-08-21T00:13:12.385Z"
      },
      {
        "duration": 6,
        "start_time": "2022-08-21T00:13:12.410Z"
      },
      {
        "duration": 28,
        "start_time": "2022-08-21T00:13:12.418Z"
      },
      {
        "duration": 66,
        "start_time": "2022-08-21T00:13:12.448Z"
      },
      {
        "duration": 3,
        "start_time": "2022-08-21T00:13:12.515Z"
      },
      {
        "duration": 9,
        "start_time": "2022-08-21T00:13:12.519Z"
      },
      {
        "duration": 5569,
        "start_time": "2022-08-21T00:13:12.530Z"
      },
      {
        "duration": 6,
        "start_time": "2022-08-21T00:13:18.103Z"
      },
      {
        "duration": 24,
        "start_time": "2022-08-21T00:13:18.111Z"
      },
      {
        "duration": 7,
        "start_time": "2022-08-21T00:13:18.136Z"
      },
      {
        "duration": 41,
        "start_time": "2022-08-21T00:13:18.144Z"
      },
      {
        "duration": 5,
        "start_time": "2022-08-21T00:13:18.186Z"
      },
      {
        "duration": 25,
        "start_time": "2022-08-21T00:13:18.192Z"
      },
      {
        "duration": 25,
        "start_time": "2022-08-21T00:13:18.218Z"
      },
      {
        "duration": 55,
        "start_time": "2022-08-21T00:13:18.244Z"
      },
      {
        "duration": 15,
        "start_time": "2022-08-21T00:13:18.301Z"
      },
      {
        "duration": 27,
        "start_time": "2022-08-21T00:13:18.318Z"
      },
      {
        "duration": 3,
        "start_time": "2022-08-21T00:13:18.347Z"
      },
      {
        "duration": 36,
        "start_time": "2022-08-21T00:13:18.351Z"
      },
      {
        "duration": 12,
        "start_time": "2022-08-21T00:13:18.389Z"
      },
      {
        "duration": 5,
        "start_time": "2022-08-21T00:13:18.403Z"
      },
      {
        "duration": 33,
        "start_time": "2022-08-21T00:13:18.409Z"
      },
      {
        "duration": 56,
        "start_time": "2022-08-21T00:13:18.443Z"
      },
      {
        "duration": 15,
        "start_time": "2022-08-21T00:13:18.501Z"
      },
      {
        "duration": 751,
        "start_time": "2022-08-21T00:13:18.518Z"
      },
      {
        "duration": 38,
        "start_time": "2022-08-21T00:13:19.271Z"
      },
      {
        "duration": 193,
        "start_time": "2022-08-21T00:13:19.311Z"
      },
      {
        "duration": 217,
        "start_time": "2022-08-21T00:13:19.506Z"
      },
      {
        "duration": 165,
        "start_time": "2022-08-21T00:13:19.725Z"
      },
      {
        "duration": 9,
        "start_time": "2022-08-21T00:13:19.892Z"
      },
      {
        "duration": 173,
        "start_time": "2022-08-21T00:13:19.902Z"
      },
      {
        "duration": 10,
        "start_time": "2022-08-21T00:13:20.077Z"
      },
      {
        "duration": 763,
        "start_time": "2022-08-21T00:13:20.089Z"
      },
      {
        "duration": 658,
        "start_time": "2022-08-21T00:13:20.853Z"
      },
      {
        "duration": 842,
        "start_time": "2022-08-21T00:13:21.513Z"
      },
      {
        "duration": 7,
        "start_time": "2022-08-21T00:13:22.357Z"
      },
      {
        "duration": 808,
        "start_time": "2022-08-21T00:13:22.365Z"
      },
      {
        "duration": 14,
        "start_time": "2022-08-21T00:13:23.174Z"
      },
      {
        "duration": 644,
        "start_time": "2022-08-21T00:13:23.189Z"
      },
      {
        "duration": 26,
        "start_time": "2022-08-21T00:13:23.835Z"
      },
      {
        "duration": 8,
        "start_time": "2022-08-21T00:13:23.884Z"
      },
      {
        "duration": 241,
        "start_time": "2022-08-21T00:13:23.894Z"
      },
      {
        "duration": 26,
        "start_time": "2022-08-21T00:13:24.136Z"
      },
      {
        "duration": 170,
        "start_time": "2022-08-21T00:13:24.163Z"
      },
      {
        "duration": 260,
        "start_time": "2022-08-21T00:13:24.335Z"
      },
      {
        "duration": 165,
        "start_time": "2022-08-21T00:13:24.597Z"
      },
      {
        "duration": 347,
        "start_time": "2022-08-21T00:13:24.764Z"
      },
      {
        "duration": 550,
        "start_time": "2022-08-21T00:13:25.113Z"
      },
      {
        "duration": 24,
        "start_time": "2022-08-21T00:13:36.021Z"
      },
      {
        "duration": 14,
        "start_time": "2022-08-21T00:13:43.806Z"
      },
      {
        "duration": 678,
        "start_time": "2022-08-21T00:21:14.332Z"
      },
      {
        "duration": 784,
        "start_time": "2022-08-21T00:27:13.542Z"
      },
      {
        "duration": 319,
        "start_time": "2022-08-21T00:27:43.673Z"
      },
      {
        "duration": 708,
        "start_time": "2022-08-21T00:27:57.524Z"
      },
      {
        "duration": 844,
        "start_time": "2022-08-21T00:28:38.215Z"
      },
      {
        "duration": 656,
        "start_time": "2022-08-21T00:28:46.151Z"
      },
      {
        "duration": 328,
        "start_time": "2022-08-21T00:31:26.320Z"
      },
      {
        "duration": 316,
        "start_time": "2022-08-21T00:31:39.207Z"
      },
      {
        "duration": 900,
        "start_time": "2022-08-21T00:32:05.478Z"
      },
      {
        "duration": 683,
        "start_time": "2022-08-21T00:33:39.894Z"
      },
      {
        "duration": 679,
        "start_time": "2022-08-21T00:34:00.695Z"
      },
      {
        "duration": 308,
        "start_time": "2022-08-21T00:35:19.528Z"
      },
      {
        "duration": 833,
        "start_time": "2022-08-21T00:35:31.383Z"
      },
      {
        "duration": 726,
        "start_time": "2022-08-21T01:53:40.052Z"
      },
      {
        "duration": 351,
        "start_time": "2022-08-21T01:55:13.481Z"
      },
      {
        "duration": 315,
        "start_time": "2022-08-21T03:27:05.085Z"
      },
      {
        "duration": 46,
        "start_time": "2022-08-21T18:26:33.723Z"
      },
      {
        "duration": 550,
        "start_time": "2022-08-21T18:26:42.310Z"
      },
      {
        "duration": 152,
        "start_time": "2022-08-21T18:26:42.862Z"
      },
      {
        "duration": 22,
        "start_time": "2022-08-21T18:26:43.016Z"
      },
      {
        "duration": 16,
        "start_time": "2022-08-21T18:26:43.041Z"
      },
      {
        "duration": 15,
        "start_time": "2022-08-21T18:26:43.058Z"
      },
      {
        "duration": 5,
        "start_time": "2022-08-21T18:26:43.075Z"
      },
      {
        "duration": 4,
        "start_time": "2022-08-21T18:26:43.081Z"
      },
      {
        "duration": 6,
        "start_time": "2022-08-21T18:26:43.086Z"
      },
      {
        "duration": 3,
        "start_time": "2022-08-21T18:26:43.093Z"
      },
      {
        "duration": 7,
        "start_time": "2022-08-21T18:26:43.098Z"
      },
      {
        "duration": 18,
        "start_time": "2022-08-21T18:26:43.106Z"
      },
      {
        "duration": 31,
        "start_time": "2022-08-21T18:26:43.126Z"
      },
      {
        "duration": 4,
        "start_time": "2022-08-21T18:26:43.159Z"
      },
      {
        "duration": 460,
        "start_time": "2022-08-21T18:26:43.165Z"
      },
      {
        "duration": 4,
        "start_time": "2022-08-21T18:26:43.627Z"
      },
      {
        "duration": 7,
        "start_time": "2022-08-21T18:26:43.633Z"
      },
      {
        "duration": 22,
        "start_time": "2022-08-21T18:26:43.642Z"
      },
      {
        "duration": 13,
        "start_time": "2022-08-21T18:26:43.665Z"
      },
      {
        "duration": 17,
        "start_time": "2022-08-21T18:26:43.679Z"
      },
      {
        "duration": 20,
        "start_time": "2022-08-21T18:26:43.698Z"
      },
      {
        "duration": 4,
        "start_time": "2022-08-21T18:26:43.719Z"
      },
      {
        "duration": 11,
        "start_time": "2022-08-21T18:26:43.724Z"
      },
      {
        "duration": 9,
        "start_time": "2022-08-21T18:26:43.736Z"
      },
      {
        "duration": 487,
        "start_time": "2022-08-21T18:26:43.747Z"
      },
      {
        "duration": 4,
        "start_time": "2022-08-21T18:26:44.236Z"
      },
      {
        "duration": 26,
        "start_time": "2022-08-21T18:26:44.241Z"
      },
      {
        "duration": 15,
        "start_time": "2022-08-21T18:26:44.269Z"
      },
      {
        "duration": 3,
        "start_time": "2022-08-21T18:26:44.287Z"
      },
      {
        "duration": 15,
        "start_time": "2022-08-21T18:26:44.292Z"
      },
      {
        "duration": 2,
        "start_time": "2022-08-21T18:26:44.308Z"
      },
      {
        "duration": 7,
        "start_time": "2022-08-21T18:26:44.312Z"
      },
      {
        "duration": 490,
        "start_time": "2022-08-21T18:26:44.320Z"
      },
      {
        "duration": 3,
        "start_time": "2022-08-21T18:26:44.812Z"
      },
      {
        "duration": 26,
        "start_time": "2022-08-21T18:26:44.817Z"
      },
      {
        "duration": 9,
        "start_time": "2022-08-21T18:26:44.845Z"
      },
      {
        "duration": 28,
        "start_time": "2022-08-21T18:26:44.856Z"
      },
      {
        "duration": 36,
        "start_time": "2022-08-21T18:26:44.886Z"
      },
      {
        "duration": 3,
        "start_time": "2022-08-21T18:26:44.923Z"
      },
      {
        "duration": 24,
        "start_time": "2022-08-21T18:26:44.927Z"
      },
      {
        "duration": 5501,
        "start_time": "2022-08-21T18:26:44.952Z"
      },
      {
        "duration": 5,
        "start_time": "2022-08-21T18:26:50.455Z"
      },
      {
        "duration": 24,
        "start_time": "2022-08-21T18:26:50.462Z"
      },
      {
        "duration": 7,
        "start_time": "2022-08-21T18:26:50.487Z"
      },
      {
        "duration": 22,
        "start_time": "2022-08-21T18:26:50.495Z"
      },
      {
        "duration": 5,
        "start_time": "2022-08-21T18:26:50.518Z"
      },
      {
        "duration": 62,
        "start_time": "2022-08-21T18:26:50.524Z"
      },
      {
        "duration": 23,
        "start_time": "2022-08-21T18:26:50.588Z"
      },
      {
        "duration": 20,
        "start_time": "2022-08-21T18:26:50.612Z"
      },
      {
        "duration": 27,
        "start_time": "2022-08-21T18:26:50.634Z"
      },
      {
        "duration": 27,
        "start_time": "2022-08-21T18:26:50.662Z"
      },
      {
        "duration": 4,
        "start_time": "2022-08-21T18:26:50.691Z"
      },
      {
        "duration": 8,
        "start_time": "2022-08-21T18:26:50.696Z"
      },
      {
        "duration": 12,
        "start_time": "2022-08-21T18:26:50.706Z"
      },
      {
        "duration": 5,
        "start_time": "2022-08-21T18:26:50.720Z"
      },
      {
        "duration": 57,
        "start_time": "2022-08-21T18:26:50.726Z"
      },
      {
        "duration": 20,
        "start_time": "2022-08-21T18:26:50.784Z"
      },
      {
        "duration": 13,
        "start_time": "2022-08-21T18:26:50.805Z"
      },
      {
        "duration": 807,
        "start_time": "2022-08-21T18:26:50.820Z"
      },
      {
        "duration": 39,
        "start_time": "2022-08-21T18:26:51.628Z"
      },
      {
        "duration": 197,
        "start_time": "2022-08-21T18:26:51.669Z"
      },
      {
        "duration": 179,
        "start_time": "2022-08-21T18:26:51.868Z"
      },
      {
        "duration": 229,
        "start_time": "2022-08-21T18:26:52.049Z"
      },
      {
        "duration": 9,
        "start_time": "2022-08-21T18:26:52.280Z"
      },
      {
        "duration": 185,
        "start_time": "2022-08-21T18:26:52.290Z"
      },
      {
        "duration": 7,
        "start_time": "2022-08-21T18:26:52.477Z"
      },
      {
        "duration": 781,
        "start_time": "2022-08-21T18:26:52.485Z"
      },
      {
        "duration": 672,
        "start_time": "2022-08-21T18:26:53.268Z"
      },
      {
        "duration": 823,
        "start_time": "2022-08-21T18:26:53.943Z"
      },
      {
        "duration": 5,
        "start_time": "2022-08-21T18:26:54.768Z"
      },
      {
        "duration": 844,
        "start_time": "2022-08-21T18:26:54.774Z"
      },
      {
        "duration": 7,
        "start_time": "2022-08-21T18:26:55.619Z"
      },
      {
        "duration": 677,
        "start_time": "2022-08-21T18:26:55.627Z"
      },
      {
        "duration": 25,
        "start_time": "2022-08-21T18:26:56.306Z"
      },
      {
        "duration": 8,
        "start_time": "2022-08-21T18:26:56.333Z"
      },
      {
        "duration": 144,
        "start_time": "2022-08-21T18:26:56.342Z"
      },
      {
        "duration": 24,
        "start_time": "2022-08-21T18:26:56.488Z"
      },
      {
        "duration": 248,
        "start_time": "2022-08-21T18:26:56.514Z"
      },
      {
        "duration": 241,
        "start_time": "2022-08-21T18:26:56.764Z"
      },
      {
        "duration": 175,
        "start_time": "2022-08-21T18:26:57.006Z"
      },
      {
        "duration": 32,
        "start_time": "2022-08-21T18:26:57.182Z"
      },
      {
        "duration": 0,
        "start_time": "2022-08-21T18:26:57.216Z"
      },
      {
        "duration": 0,
        "start_time": "2022-08-21T18:26:57.217Z"
      },
      {
        "duration": 332,
        "start_time": "2022-08-21T18:27:17.137Z"
      },
      {
        "duration": 534,
        "start_time": "2022-08-21T18:27:22.106Z"
      },
      {
        "duration": 142,
        "start_time": "2022-08-21T18:27:53.882Z"
      },
      {
        "duration": 10,
        "start_time": "2022-08-21T18:29:52.137Z"
      },
      {
        "duration": 8,
        "start_time": "2022-08-21T18:29:57.417Z"
      },
      {
        "duration": 713,
        "start_time": "2022-08-29T23:38:36.376Z"
      },
      {
        "duration": 808,
        "start_time": "2022-08-29T23:38:37.091Z"
      },
      {
        "duration": 27,
        "start_time": "2022-08-29T23:38:37.901Z"
      },
      {
        "duration": 31,
        "start_time": "2022-08-29T23:38:37.930Z"
      },
      {
        "duration": 28,
        "start_time": "2022-08-29T23:38:37.963Z"
      },
      {
        "duration": 6,
        "start_time": "2022-08-29T23:38:37.993Z"
      },
      {
        "duration": 12,
        "start_time": "2022-08-29T23:38:38.001Z"
      },
      {
        "duration": 14,
        "start_time": "2022-08-29T23:38:38.014Z"
      },
      {
        "duration": 8,
        "start_time": "2022-08-29T23:38:38.030Z"
      },
      {
        "duration": 20,
        "start_time": "2022-08-29T23:38:38.041Z"
      },
      {
        "duration": 23,
        "start_time": "2022-08-29T23:38:38.063Z"
      },
      {
        "duration": 3,
        "start_time": "2022-08-29T23:38:38.091Z"
      },
      {
        "duration": 8,
        "start_time": "2022-08-29T23:38:38.096Z"
      },
      {
        "duration": 506,
        "start_time": "2022-08-29T23:38:38.106Z"
      },
      {
        "duration": 5,
        "start_time": "2022-08-29T23:38:38.614Z"
      },
      {
        "duration": 10,
        "start_time": "2022-08-29T23:38:38.621Z"
      },
      {
        "duration": 14,
        "start_time": "2022-08-29T23:38:38.632Z"
      },
      {
        "duration": 5,
        "start_time": "2022-08-29T23:38:38.648Z"
      },
      {
        "duration": 38,
        "start_time": "2022-08-29T23:38:38.655Z"
      },
      {
        "duration": 24,
        "start_time": "2022-08-29T23:38:38.694Z"
      },
      {
        "duration": 14,
        "start_time": "2022-08-29T23:38:38.720Z"
      },
      {
        "duration": 9,
        "start_time": "2022-08-29T23:38:38.736Z"
      },
      {
        "duration": 16,
        "start_time": "2022-08-29T23:38:38.747Z"
      },
      {
        "duration": 522,
        "start_time": "2022-08-29T23:38:38.765Z"
      },
      {
        "duration": 5,
        "start_time": "2022-08-29T23:38:39.288Z"
      },
      {
        "duration": 22,
        "start_time": "2022-08-29T23:38:39.294Z"
      },
      {
        "duration": 19,
        "start_time": "2022-08-29T23:38:39.318Z"
      },
      {
        "duration": 6,
        "start_time": "2022-08-29T23:38:39.342Z"
      },
      {
        "duration": 14,
        "start_time": "2022-08-29T23:38:39.350Z"
      },
      {
        "duration": 27,
        "start_time": "2022-08-29T23:38:39.366Z"
      },
      {
        "duration": 9,
        "start_time": "2022-08-29T23:38:39.395Z"
      },
      {
        "duration": 533,
        "start_time": "2022-08-29T23:38:39.406Z"
      },
      {
        "duration": 5,
        "start_time": "2022-08-29T23:38:39.940Z"
      },
      {
        "duration": 23,
        "start_time": "2022-08-29T23:38:39.947Z"
      },
      {
        "duration": 23,
        "start_time": "2022-08-29T23:38:39.972Z"
      },
      {
        "duration": 39,
        "start_time": "2022-08-29T23:38:39.997Z"
      },
      {
        "duration": 63,
        "start_time": "2022-08-29T23:38:40.038Z"
      },
      {
        "duration": 3,
        "start_time": "2022-08-29T23:38:40.103Z"
      },
      {
        "duration": 10,
        "start_time": "2022-08-29T23:38:40.107Z"
      },
      {
        "duration": 6165,
        "start_time": "2022-08-29T23:38:40.118Z"
      },
      {
        "duration": 8,
        "start_time": "2022-08-29T23:38:46.284Z"
      },
      {
        "duration": 22,
        "start_time": "2022-08-29T23:38:46.294Z"
      },
      {
        "duration": 10,
        "start_time": "2022-08-29T23:38:46.318Z"
      },
      {
        "duration": 52,
        "start_time": "2022-08-29T23:38:46.329Z"
      },
      {
        "duration": 5,
        "start_time": "2022-08-29T23:38:46.383Z"
      },
      {
        "duration": 32,
        "start_time": "2022-08-29T23:38:46.390Z"
      },
      {
        "duration": 25,
        "start_time": "2022-08-29T23:38:46.424Z"
      },
      {
        "duration": 42,
        "start_time": "2022-08-29T23:38:46.451Z"
      },
      {
        "duration": 17,
        "start_time": "2022-08-29T23:38:46.494Z"
      },
      {
        "duration": 32,
        "start_time": "2022-08-29T23:38:46.512Z"
      },
      {
        "duration": 4,
        "start_time": "2022-08-29T23:38:46.545Z"
      },
      {
        "duration": 6,
        "start_time": "2022-08-29T23:38:46.550Z"
      },
      {
        "duration": 39,
        "start_time": "2022-08-29T23:38:46.558Z"
      },
      {
        "duration": 7,
        "start_time": "2022-08-29T23:38:46.599Z"
      },
      {
        "duration": 34,
        "start_time": "2022-08-29T23:38:46.608Z"
      },
      {
        "duration": 23,
        "start_time": "2022-08-29T23:38:46.644Z"
      },
      {
        "duration": 15,
        "start_time": "2022-08-29T23:38:46.691Z"
      },
      {
        "duration": 886,
        "start_time": "2022-08-29T23:38:46.708Z"
      },
      {
        "duration": 36,
        "start_time": "2022-08-29T23:38:47.596Z"
      },
      {
        "duration": 224,
        "start_time": "2022-08-29T23:38:47.634Z"
      },
      {
        "duration": 223,
        "start_time": "2022-08-29T23:38:47.859Z"
      },
      {
        "duration": 260,
        "start_time": "2022-08-29T23:38:48.084Z"
      },
      {
        "duration": 10,
        "start_time": "2022-08-29T23:38:48.346Z"
      },
      {
        "duration": 199,
        "start_time": "2022-08-29T23:38:48.358Z"
      },
      {
        "duration": 7,
        "start_time": "2022-08-29T23:38:48.559Z"
      },
      {
        "duration": 873,
        "start_time": "2022-08-29T23:38:48.568Z"
      },
      {
        "duration": 772,
        "start_time": "2022-08-29T23:38:49.442Z"
      },
      {
        "duration": 935,
        "start_time": "2022-08-29T23:38:50.215Z"
      },
      {
        "duration": 6,
        "start_time": "2022-08-29T23:38:51.151Z"
      },
      {
        "duration": 912,
        "start_time": "2022-08-29T23:38:51.159Z"
      },
      {
        "duration": 6,
        "start_time": "2022-08-29T23:38:52.072Z"
      },
      {
        "duration": 758,
        "start_time": "2022-08-29T23:38:52.080Z"
      },
      {
        "duration": 27,
        "start_time": "2022-08-29T23:38:52.840Z"
      },
      {
        "duration": 9,
        "start_time": "2022-08-29T23:38:52.868Z"
      },
      {
        "duration": 155,
        "start_time": "2022-08-29T23:38:52.892Z"
      },
      {
        "duration": 44,
        "start_time": "2022-08-29T23:38:53.049Z"
      },
      {
        "duration": 77,
        "start_time": "2022-08-29T23:38:53.095Z"
      },
      {
        "duration": 0,
        "start_time": "2022-08-29T23:38:53.174Z"
      },
      {
        "duration": 0,
        "start_time": "2022-08-29T23:38:53.175Z"
      },
      {
        "duration": 0,
        "start_time": "2022-08-29T23:38:53.177Z"
      },
      {
        "duration": 0,
        "start_time": "2022-08-29T23:38:53.192Z"
      },
      {
        "duration": 0,
        "start_time": "2022-08-29T23:38:53.193Z"
      },
      {
        "duration": 24,
        "start_time": "2022-08-29T23:40:28.442Z"
      },
      {
        "duration": 23,
        "start_time": "2022-08-29T23:42:14.854Z"
      },
      {
        "duration": 708,
        "start_time": "2022-08-30T17:27:22.587Z"
      },
      {
        "duration": 161,
        "start_time": "2022-08-30T17:27:23.298Z"
      },
      {
        "duration": 23,
        "start_time": "2022-08-30T17:27:23.461Z"
      },
      {
        "duration": 17,
        "start_time": "2022-08-30T17:27:23.487Z"
      },
      {
        "duration": 17,
        "start_time": "2022-08-30T17:27:23.506Z"
      },
      {
        "duration": 30,
        "start_time": "2022-08-30T17:27:23.525Z"
      },
      {
        "duration": 22,
        "start_time": "2022-08-30T17:27:23.557Z"
      },
      {
        "duration": 12,
        "start_time": "2022-08-30T17:27:23.581Z"
      },
      {
        "duration": 7,
        "start_time": "2022-08-30T17:27:23.596Z"
      },
      {
        "duration": 8,
        "start_time": "2022-08-30T17:27:23.606Z"
      },
      {
        "duration": 34,
        "start_time": "2022-08-30T17:27:23.616Z"
      },
      {
        "duration": 4,
        "start_time": "2022-08-30T17:27:23.652Z"
      },
      {
        "duration": 24,
        "start_time": "2022-08-30T17:27:23.658Z"
      },
      {
        "duration": 496,
        "start_time": "2022-08-30T17:27:23.684Z"
      },
      {
        "duration": 5,
        "start_time": "2022-08-30T17:27:24.182Z"
      },
      {
        "duration": 22,
        "start_time": "2022-08-30T17:27:24.188Z"
      },
      {
        "duration": 28,
        "start_time": "2022-08-30T17:27:24.212Z"
      },
      {
        "duration": 33,
        "start_time": "2022-08-30T17:27:24.242Z"
      },
      {
        "duration": 16,
        "start_time": "2022-08-30T17:27:24.277Z"
      },
      {
        "duration": 36,
        "start_time": "2022-08-30T17:27:24.295Z"
      },
      {
        "duration": 5,
        "start_time": "2022-08-30T17:27:24.332Z"
      },
      {
        "duration": 15,
        "start_time": "2022-08-30T17:27:24.339Z"
      },
      {
        "duration": 17,
        "start_time": "2022-08-30T17:27:24.356Z"
      },
      {
        "duration": 613,
        "start_time": "2022-08-30T17:27:24.375Z"
      },
      {
        "duration": 5,
        "start_time": "2022-08-30T17:27:24.989Z"
      },
      {
        "duration": 27,
        "start_time": "2022-08-30T17:27:24.995Z"
      },
      {
        "duration": 37,
        "start_time": "2022-08-30T17:27:25.024Z"
      },
      {
        "duration": 4,
        "start_time": "2022-08-30T17:27:25.065Z"
      },
      {
        "duration": 53,
        "start_time": "2022-08-30T17:27:25.071Z"
      },
      {
        "duration": 21,
        "start_time": "2022-08-30T17:27:25.126Z"
      },
      {
        "duration": 13,
        "start_time": "2022-08-30T17:27:25.149Z"
      },
      {
        "duration": 513,
        "start_time": "2022-08-30T17:27:25.164Z"
      },
      {
        "duration": 8,
        "start_time": "2022-08-30T17:27:25.679Z"
      },
      {
        "duration": 23,
        "start_time": "2022-08-30T17:27:25.688Z"
      },
      {
        "duration": 14,
        "start_time": "2022-08-30T17:27:25.712Z"
      },
      {
        "duration": 35,
        "start_time": "2022-08-30T17:27:25.727Z"
      },
      {
        "duration": 57,
        "start_time": "2022-08-30T17:27:25.764Z"
      },
      {
        "duration": 3,
        "start_time": "2022-08-30T17:27:25.823Z"
      },
      {
        "duration": 18,
        "start_time": "2022-08-30T17:27:25.828Z"
      },
      {
        "duration": 6037,
        "start_time": "2022-08-30T17:27:25.848Z"
      },
      {
        "duration": 9,
        "start_time": "2022-08-30T17:27:31.887Z"
      },
      {
        "duration": 30,
        "start_time": "2022-08-30T17:27:31.899Z"
      },
      {
        "duration": 11,
        "start_time": "2022-08-30T17:27:31.931Z"
      },
      {
        "duration": 44,
        "start_time": "2022-08-30T17:27:31.944Z"
      },
      {
        "duration": 8,
        "start_time": "2022-08-30T17:27:31.990Z"
      },
      {
        "duration": 37,
        "start_time": "2022-08-30T17:27:31.999Z"
      },
      {
        "duration": 49,
        "start_time": "2022-08-30T17:27:32.038Z"
      },
      {
        "duration": 33,
        "start_time": "2022-08-30T17:27:32.089Z"
      },
      {
        "duration": 23,
        "start_time": "2022-08-30T17:27:32.124Z"
      },
      {
        "duration": 61,
        "start_time": "2022-08-30T17:27:32.149Z"
      },
      {
        "duration": 4,
        "start_time": "2022-08-30T17:27:32.212Z"
      },
      {
        "duration": 8,
        "start_time": "2022-08-30T17:27:32.218Z"
      },
      {
        "duration": 19,
        "start_time": "2022-08-30T17:27:32.228Z"
      },
      {
        "duration": 10,
        "start_time": "2022-08-30T17:27:32.249Z"
      },
      {
        "duration": 65,
        "start_time": "2022-08-30T17:27:32.261Z"
      },
      {
        "duration": 22,
        "start_time": "2022-08-30T17:27:32.328Z"
      },
      {
        "duration": 36,
        "start_time": "2022-08-30T17:27:32.351Z"
      },
      {
        "duration": 869,
        "start_time": "2022-08-30T17:27:32.389Z"
      },
      {
        "duration": 43,
        "start_time": "2022-08-30T17:27:33.259Z"
      },
      {
        "duration": 220,
        "start_time": "2022-08-30T17:27:33.304Z"
      },
      {
        "duration": 190,
        "start_time": "2022-08-30T17:27:33.526Z"
      },
      {
        "duration": 267,
        "start_time": "2022-08-30T17:27:33.718Z"
      },
      {
        "duration": 10,
        "start_time": "2022-08-30T17:27:33.987Z"
      },
      {
        "duration": 215,
        "start_time": "2022-08-30T17:27:33.998Z"
      },
      {
        "duration": 8,
        "start_time": "2022-08-30T17:27:34.215Z"
      },
      {
        "duration": 902,
        "start_time": "2022-08-30T17:27:34.225Z"
      },
      {
        "duration": 757,
        "start_time": "2022-08-30T17:27:35.129Z"
      },
      {
        "duration": 943,
        "start_time": "2022-08-30T17:27:35.887Z"
      },
      {
        "duration": 5,
        "start_time": "2022-08-30T17:27:36.832Z"
      },
      {
        "duration": 812,
        "start_time": "2022-08-30T17:27:36.839Z"
      },
      {
        "duration": 6,
        "start_time": "2022-08-30T17:27:37.653Z"
      },
      {
        "duration": 731,
        "start_time": "2022-08-30T17:27:37.661Z"
      },
      {
        "duration": 27,
        "start_time": "2022-08-30T17:27:38.393Z"
      },
      {
        "duration": 8,
        "start_time": "2022-08-30T17:27:38.422Z"
      },
      {
        "duration": 163,
        "start_time": "2022-08-30T17:27:38.432Z"
      },
      {
        "duration": 28,
        "start_time": "2022-08-30T17:27:38.597Z"
      },
      {
        "duration": 89,
        "start_time": "2022-08-30T17:27:38.626Z"
      },
      {
        "duration": 0,
        "start_time": "2022-08-30T17:27:38.717Z"
      },
      {
        "duration": 0,
        "start_time": "2022-08-30T17:27:38.718Z"
      },
      {
        "duration": 0,
        "start_time": "2022-08-30T17:27:38.719Z"
      },
      {
        "duration": 0,
        "start_time": "2022-08-30T17:27:38.720Z"
      },
      {
        "duration": 0,
        "start_time": "2022-08-30T17:27:38.721Z"
      },
      {
        "duration": 8,
        "start_time": "2022-08-30T17:30:12.140Z"
      },
      {
        "duration": 597,
        "start_time": "2022-09-04T01:05:21.261Z"
      },
      {
        "duration": 165,
        "start_time": "2022-09-04T01:05:21.860Z"
      },
      {
        "duration": 30,
        "start_time": "2022-09-04T01:05:22.026Z"
      },
      {
        "duration": 16,
        "start_time": "2022-09-04T01:05:22.059Z"
      },
      {
        "duration": 17,
        "start_time": "2022-09-04T01:05:22.077Z"
      },
      {
        "duration": 5,
        "start_time": "2022-09-04T01:05:22.096Z"
      },
      {
        "duration": 4,
        "start_time": "2022-09-04T01:05:22.102Z"
      },
      {
        "duration": 33,
        "start_time": "2022-09-04T01:05:22.107Z"
      },
      {
        "duration": 6,
        "start_time": "2022-09-04T01:05:22.142Z"
      },
      {
        "duration": 5,
        "start_time": "2022-09-04T01:05:22.151Z"
      },
      {
        "duration": 24,
        "start_time": "2022-09-04T01:05:22.157Z"
      },
      {
        "duration": 4,
        "start_time": "2022-09-04T01:05:22.182Z"
      },
      {
        "duration": 8,
        "start_time": "2022-09-04T01:05:22.187Z"
      },
      {
        "duration": 463,
        "start_time": "2022-09-04T01:05:22.197Z"
      },
      {
        "duration": 5,
        "start_time": "2022-09-04T01:05:22.661Z"
      },
      {
        "duration": 6,
        "start_time": "2022-09-04T01:05:22.667Z"
      },
      {
        "duration": 14,
        "start_time": "2022-09-04T01:05:22.675Z"
      },
      {
        "duration": 7,
        "start_time": "2022-09-04T01:05:22.691Z"
      },
      {
        "duration": 13,
        "start_time": "2022-09-04T01:05:22.700Z"
      },
      {
        "duration": 39,
        "start_time": "2022-09-04T01:05:22.715Z"
      },
      {
        "duration": 4,
        "start_time": "2022-09-04T01:05:22.756Z"
      },
      {
        "duration": 7,
        "start_time": "2022-09-04T01:05:22.761Z"
      },
      {
        "duration": 6,
        "start_time": "2022-09-04T01:05:22.770Z"
      },
      {
        "duration": 491,
        "start_time": "2022-09-04T01:05:22.778Z"
      },
      {
        "duration": 4,
        "start_time": "2022-09-04T01:05:23.271Z"
      },
      {
        "duration": 22,
        "start_time": "2022-09-04T01:05:23.277Z"
      },
      {
        "duration": 16,
        "start_time": "2022-09-04T01:05:23.301Z"
      },
      {
        "duration": 4,
        "start_time": "2022-09-04T01:05:23.340Z"
      },
      {
        "duration": 14,
        "start_time": "2022-09-04T01:05:23.345Z"
      },
      {
        "duration": 4,
        "start_time": "2022-09-04T01:05:23.361Z"
      },
      {
        "duration": 8,
        "start_time": "2022-09-04T01:05:23.367Z"
      },
      {
        "duration": 476,
        "start_time": "2022-09-04T01:05:23.377Z"
      },
      {
        "duration": 5,
        "start_time": "2022-09-04T01:05:23.854Z"
      },
      {
        "duration": 25,
        "start_time": "2022-09-04T01:05:23.860Z"
      },
      {
        "duration": 8,
        "start_time": "2022-09-04T01:05:23.886Z"
      },
      {
        "duration": 29,
        "start_time": "2022-09-04T01:05:23.895Z"
      },
      {
        "duration": 37,
        "start_time": "2022-09-04T01:05:23.938Z"
      },
      {
        "duration": 3,
        "start_time": "2022-09-04T01:05:23.977Z"
      },
      {
        "duration": 12,
        "start_time": "2022-09-04T01:05:23.981Z"
      },
      {
        "duration": 5551,
        "start_time": "2022-09-04T01:05:23.994Z"
      },
      {
        "duration": 6,
        "start_time": "2022-09-04T01:05:29.546Z"
      },
      {
        "duration": 22,
        "start_time": "2022-09-04T01:05:29.554Z"
      },
      {
        "duration": 8,
        "start_time": "2022-09-04T01:05:29.578Z"
      },
      {
        "duration": 25,
        "start_time": "2022-09-04T01:05:29.587Z"
      },
      {
        "duration": 4,
        "start_time": "2022-09-04T01:05:29.614Z"
      },
      {
        "duration": 45,
        "start_time": "2022-09-04T01:05:29.620Z"
      },
      {
        "duration": 26,
        "start_time": "2022-09-04T01:05:29.667Z"
      },
      {
        "duration": 44,
        "start_time": "2022-09-04T01:05:29.694Z"
      },
      {
        "duration": 14,
        "start_time": "2022-09-04T01:05:29.740Z"
      },
      {
        "duration": 27,
        "start_time": "2022-09-04T01:05:29.756Z"
      },
      {
        "duration": 3,
        "start_time": "2022-09-04T01:05:29.785Z"
      },
      {
        "duration": 7,
        "start_time": "2022-09-04T01:05:29.790Z"
      },
      {
        "duration": 17,
        "start_time": "2022-09-04T01:05:29.798Z"
      },
      {
        "duration": 4,
        "start_time": "2022-09-04T01:05:29.838Z"
      },
      {
        "duration": 34,
        "start_time": "2022-09-04T01:05:29.844Z"
      },
      {
        "duration": 21,
        "start_time": "2022-09-04T01:05:29.879Z"
      },
      {
        "duration": 13,
        "start_time": "2022-09-04T01:05:29.901Z"
      },
      {
        "duration": 744,
        "start_time": "2022-09-04T01:05:29.915Z"
      },
      {
        "duration": 29,
        "start_time": "2022-09-04T01:05:30.661Z"
      },
      {
        "duration": 200,
        "start_time": "2022-09-04T01:05:30.691Z"
      },
      {
        "duration": 164,
        "start_time": "2022-09-04T01:05:30.893Z"
      },
      {
        "duration": 228,
        "start_time": "2022-09-04T01:05:31.058Z"
      },
      {
        "duration": 7,
        "start_time": "2022-09-04T01:05:31.288Z"
      },
      {
        "duration": 167,
        "start_time": "2022-09-04T01:05:31.297Z"
      },
      {
        "duration": 6,
        "start_time": "2022-09-04T01:05:31.466Z"
      },
      {
        "duration": 717,
        "start_time": "2022-09-04T01:05:31.474Z"
      },
      {
        "duration": 664,
        "start_time": "2022-09-04T01:05:32.193Z"
      },
      {
        "duration": 801,
        "start_time": "2022-09-04T01:05:32.858Z"
      },
      {
        "duration": 7,
        "start_time": "2022-09-04T01:05:33.662Z"
      },
      {
        "duration": 762,
        "start_time": "2022-09-04T01:05:33.670Z"
      },
      {
        "duration": 7,
        "start_time": "2022-09-04T01:05:34.434Z"
      },
      {
        "duration": 690,
        "start_time": "2022-09-04T01:05:34.442Z"
      },
      {
        "duration": 27,
        "start_time": "2022-09-04T01:05:35.134Z"
      },
      {
        "duration": 8,
        "start_time": "2022-09-04T01:05:35.162Z"
      },
      {
        "duration": 161,
        "start_time": "2022-09-04T01:05:35.171Z"
      },
      {
        "duration": 28,
        "start_time": "2022-09-04T01:05:35.334Z"
      },
      {
        "duration": 85,
        "start_time": "2022-09-04T01:05:35.363Z"
      },
      {
        "duration": 0,
        "start_time": "2022-09-04T01:05:35.450Z"
      },
      {
        "duration": 0,
        "start_time": "2022-09-04T01:05:35.451Z"
      },
      {
        "duration": 0,
        "start_time": "2022-09-04T01:05:35.452Z"
      },
      {
        "duration": 0,
        "start_time": "2022-09-04T01:05:35.454Z"
      },
      {
        "duration": 0,
        "start_time": "2022-09-04T01:05:35.454Z"
      },
      {
        "duration": 26,
        "start_time": "2022-09-04T01:05:48.365Z"
      },
      {
        "duration": 8,
        "start_time": "2022-09-04T01:05:50.153Z"
      },
      {
        "duration": 249,
        "start_time": "2022-09-04T01:05:51.211Z"
      },
      {
        "duration": 243,
        "start_time": "2022-09-04T01:06:15.098Z"
      },
      {
        "duration": 139,
        "start_time": "2022-09-04T01:06:21.394Z"
      },
      {
        "duration": 569,
        "start_time": "2022-09-06T01:52:11.781Z"
      },
      {
        "duration": 157,
        "start_time": "2022-09-06T01:52:12.352Z"
      },
      {
        "duration": 25,
        "start_time": "2022-09-06T01:52:12.510Z"
      },
      {
        "duration": 17,
        "start_time": "2022-09-06T01:52:12.537Z"
      },
      {
        "duration": 20,
        "start_time": "2022-09-06T01:52:12.555Z"
      },
      {
        "duration": 5,
        "start_time": "2022-09-06T01:52:12.576Z"
      },
      {
        "duration": 3,
        "start_time": "2022-09-06T01:52:12.583Z"
      },
      {
        "duration": 8,
        "start_time": "2022-09-06T01:52:12.587Z"
      },
      {
        "duration": 5,
        "start_time": "2022-09-06T01:52:12.597Z"
      },
      {
        "duration": 5,
        "start_time": "2022-09-06T01:52:12.604Z"
      },
      {
        "duration": 19,
        "start_time": "2022-09-06T01:52:12.638Z"
      },
      {
        "duration": 4,
        "start_time": "2022-09-06T01:52:12.658Z"
      },
      {
        "duration": 9,
        "start_time": "2022-09-06T01:52:12.663Z"
      },
      {
        "duration": 459,
        "start_time": "2022-09-06T01:52:12.673Z"
      },
      {
        "duration": 6,
        "start_time": "2022-09-06T01:52:13.133Z"
      },
      {
        "duration": 4,
        "start_time": "2022-09-06T01:52:13.140Z"
      },
      {
        "duration": 15,
        "start_time": "2022-09-06T01:52:13.145Z"
      },
      {
        "duration": 9,
        "start_time": "2022-09-06T01:52:13.161Z"
      },
      {
        "duration": 14,
        "start_time": "2022-09-06T01:52:13.171Z"
      },
      {
        "duration": 19,
        "start_time": "2022-09-06T01:52:13.187Z"
      },
      {
        "duration": 3,
        "start_time": "2022-09-06T01:52:13.208Z"
      },
      {
        "duration": 27,
        "start_time": "2022-09-06T01:52:13.212Z"
      },
      {
        "duration": 7,
        "start_time": "2022-09-06T01:52:13.240Z"
      },
      {
        "duration": 543,
        "start_time": "2022-09-06T01:52:13.249Z"
      },
      {
        "duration": 4,
        "start_time": "2022-09-06T01:52:13.794Z"
      },
      {
        "duration": 20,
        "start_time": "2022-09-06T01:52:13.800Z"
      },
      {
        "duration": 28,
        "start_time": "2022-09-06T01:52:13.822Z"
      },
      {
        "duration": 4,
        "start_time": "2022-09-06T01:52:13.853Z"
      },
      {
        "duration": 12,
        "start_time": "2022-09-06T01:52:13.858Z"
      },
      {
        "duration": 11,
        "start_time": "2022-09-06T01:52:13.872Z"
      },
      {
        "duration": 26,
        "start_time": "2022-09-06T01:52:13.884Z"
      },
      {
        "duration": 480,
        "start_time": "2022-09-06T01:52:13.911Z"
      },
      {
        "duration": 4,
        "start_time": "2022-09-06T01:52:14.392Z"
      },
      {
        "duration": 23,
        "start_time": "2022-09-06T01:52:14.398Z"
      },
      {
        "duration": 16,
        "start_time": "2022-09-06T01:52:14.423Z"
      },
      {
        "duration": 28,
        "start_time": "2022-09-06T01:52:14.441Z"
      },
      {
        "duration": 37,
        "start_time": "2022-09-06T01:52:14.470Z"
      },
      {
        "duration": 2,
        "start_time": "2022-09-06T01:52:14.509Z"
      },
      {
        "duration": 28,
        "start_time": "2022-09-06T01:52:14.512Z"
      },
      {
        "duration": 5440,
        "start_time": "2022-09-06T01:52:14.542Z"
      },
      {
        "duration": 6,
        "start_time": "2022-09-06T01:52:19.983Z"
      },
      {
        "duration": 38,
        "start_time": "2022-09-06T01:52:19.990Z"
      },
      {
        "duration": 15,
        "start_time": "2022-09-06T01:52:20.030Z"
      },
      {
        "duration": 31,
        "start_time": "2022-09-06T01:52:20.046Z"
      },
      {
        "duration": 5,
        "start_time": "2022-09-06T01:52:20.079Z"
      },
      {
        "duration": 29,
        "start_time": "2022-09-06T01:52:20.085Z"
      },
      {
        "duration": 28,
        "start_time": "2022-09-06T01:52:20.116Z"
      },
      {
        "duration": 18,
        "start_time": "2022-09-06T01:52:20.145Z"
      },
      {
        "duration": 13,
        "start_time": "2022-09-06T01:52:20.165Z"
      },
      {
        "duration": 27,
        "start_time": "2022-09-06T01:52:20.180Z"
      },
      {
        "duration": 29,
        "start_time": "2022-09-06T01:52:20.209Z"
      },
      {
        "duration": 5,
        "start_time": "2022-09-06T01:52:20.240Z"
      },
      {
        "duration": 13,
        "start_time": "2022-09-06T01:52:20.246Z"
      },
      {
        "duration": 6,
        "start_time": "2022-09-06T01:52:20.261Z"
      },
      {
        "duration": 29,
        "start_time": "2022-09-06T01:52:20.269Z"
      },
      {
        "duration": 43,
        "start_time": "2022-09-06T01:52:20.300Z"
      },
      {
        "duration": 13,
        "start_time": "2022-09-06T01:52:20.345Z"
      },
      {
        "duration": 754,
        "start_time": "2022-09-06T01:52:20.359Z"
      },
      {
        "duration": 35,
        "start_time": "2022-09-06T01:52:21.114Z"
      },
      {
        "duration": 183,
        "start_time": "2022-09-06T01:52:21.150Z"
      },
      {
        "duration": 158,
        "start_time": "2022-09-06T01:52:21.334Z"
      },
      {
        "duration": 227,
        "start_time": "2022-09-06T01:52:21.493Z"
      },
      {
        "duration": 8,
        "start_time": "2022-09-06T01:52:21.722Z"
      },
      {
        "duration": 160,
        "start_time": "2022-09-06T01:52:21.738Z"
      },
      {
        "duration": 7,
        "start_time": "2022-09-06T01:52:21.899Z"
      },
      {
        "duration": 735,
        "start_time": "2022-09-06T01:52:21.907Z"
      },
      {
        "duration": 649,
        "start_time": "2022-09-06T01:52:22.644Z"
      },
      {
        "duration": 793,
        "start_time": "2022-09-06T01:52:23.294Z"
      },
      {
        "duration": 4,
        "start_time": "2022-09-06T01:52:24.089Z"
      },
      {
        "duration": 747,
        "start_time": "2022-09-06T01:52:24.095Z"
      },
      {
        "duration": 5,
        "start_time": "2022-09-06T01:52:24.844Z"
      },
      {
        "duration": 615,
        "start_time": "2022-09-06T01:52:24.851Z"
      },
      {
        "duration": 25,
        "start_time": "2022-09-06T01:52:25.468Z"
      },
      {
        "duration": 7,
        "start_time": "2022-09-06T01:52:25.495Z"
      },
      {
        "duration": 146,
        "start_time": "2022-09-06T01:52:25.504Z"
      },
      {
        "duration": 24,
        "start_time": "2022-09-06T01:52:25.652Z"
      },
      {
        "duration": 86,
        "start_time": "2022-09-06T01:52:25.678Z"
      },
      {
        "duration": 0,
        "start_time": "2022-09-06T01:52:25.765Z"
      },
      {
        "duration": 0,
        "start_time": "2022-09-06T01:52:25.766Z"
      },
      {
        "duration": 0,
        "start_time": "2022-09-06T01:52:25.767Z"
      },
      {
        "duration": 0,
        "start_time": "2022-09-06T01:52:25.768Z"
      },
      {
        "duration": 0,
        "start_time": "2022-09-06T01:52:25.769Z"
      },
      {
        "duration": 427,
        "start_time": "2022-09-06T01:52:34.398Z"
      },
      {
        "duration": 22,
        "start_time": "2022-09-06T01:53:00.832Z"
      },
      {
        "duration": 530,
        "start_time": "2022-09-06T02:06:54.694Z"
      }
    ],
    "kernelspec": {
      "display_name": "Python 3 (ipykernel)",
      "language": "python",
      "name": "python3"
    },
    "language_info": {
      "codemirror_mode": {
        "name": "ipython",
        "version": 3
      },
      "file_extension": ".py",
      "mimetype": "text/x-python",
      "name": "python",
      "nbconvert_exporter": "python",
      "pygments_lexer": "ipython3",
      "version": "3.9.5"
    },
    "toc": {
      "base_numbering": 1,
      "nav_menu": {},
      "number_sections": true,
      "sideBar": true,
      "skip_h1_title": false,
      "title_cell": "Table of Contents",
      "title_sidebar": "Contents",
      "toc_cell": false,
      "toc_position": {
        "height": "calc(100% - 180px)",
        "left": "10px",
        "top": "150px",
        "width": "270.521px"
      },
      "toc_section_display": true,
      "toc_window_display": true
    },
    "colab": {
      "provenance": []
    }
  },
  "nbformat": 4,
  "nbformat_minor": 0
}